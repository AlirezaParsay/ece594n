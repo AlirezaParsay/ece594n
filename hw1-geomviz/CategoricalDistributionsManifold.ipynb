{
 "cells": [
  {
   "cell_type": "markdown",
   "metadata": {},
   "source": [
    "# Manifolds for Categorical Distribution\n"
   ]
  },
  {
   "cell_type": "markdown",
   "metadata": {},
   "source": [
    "### What is a Categorical Distribution?\n",
    "A Categorical distribution describes the results of a random variable that can take on one of $K$ categories where $K \\in \\mathbb{Z}_+$. \n",
    "\n",
    "Examples:\n",
    "- Coin Flipping ($K=2$) - Two possible results: head and tail.\n",
    "- Die Rolling ($K=6$) - Six possible results: 1, 2, 3, 4, 5, and 6.\n"
   ]
  },
  {
   "cell_type": "markdown",
   "metadata": {},
   "source": [
    "### Probability 101\n",
    "Fundamental Axioms of Probability\n",
    "- A probability is always a real number that falls in the open interval $[0,1]$\n",
    "- $P(\\Omega) = 1$ where $\\Omega$ is the whole sample space containing all possible outcomes\n",
    "\n",
    "Examples:\n",
    "- Given the probability of head in a coin flip $P(H)$ would mean that the probability of tail is $P(T)=1-P(H)$. Only one value is needed to describe a two-outcome random variable."
   ]
  },
  {
   "cell_type": "markdown",
   "metadata": {},
   "source": [
    "### Mathematical Definition"
   ]
  }
 ],
 "metadata": {
  "language_info": {
   "name": "python"
  },
  "orig_nbformat": 4
 },
 "nbformat": 4,
 "nbformat_minor": 2
}
