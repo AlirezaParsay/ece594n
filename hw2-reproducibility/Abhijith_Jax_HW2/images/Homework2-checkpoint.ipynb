{
 "cells": [
  {
   "cell_type": "markdown",
   "id": "91fc18c1",
   "metadata": {},
   "source": [
    "<h1><center>Homework 2: Reproducibility</center></h1>\n",
    "\n",
    "\n",
    "<h3><center>by Abhijith Atreya & Jax Burd</center></h3>\n",
    "\n",
    "<center>UCSB ECE 194N/594N</center>\n",
    "\n",
    "<center>Nina Miolane</center>\n",
    "\n",
    "\n",
    "\n",
    "-------------------------------------------------------------------------------------------------------------------------------\n",
    "\n"
   ]
  },
  {
   "cell_type": "markdown",
   "id": "0c65acc8",
   "metadata": {},
   "source": [
    "# Introduction\n",
    "\n",
    "Jax started the homework a bit earlier and ended up running into a number of headaches to be reported below. Because of this, our group's approach was to try and reproduce the figures from the given paper separately and give eachother help where possible. Turns out even though both of us are ECE grad students, we could only get through so much of the provided code and source data.\n",
    "\n",
    "--------------------------------------------------------------------------------------------------------------------------"
   ]
  },
  {
   "cell_type": "markdown",
   "id": "5d712b7b",
   "metadata": {},
   "source": [
    "# Jax's Analysis\n",
    "\n",
    "### Useful Background:\n",
    "- MS ECE student\n",
    "- Vaguely familiar with Machine Learning\n",
    "- Highschool level understanding of biology\n",
    "- Research papers and I are **not** friends\n",
    "\n",
    "### Initial Approach:\n",
    "1. Read the paper (at least the first 16 pages)\n",
    "2. Understand Figure 1\n",
    "3. Download the source data\n",
    "4. Use given code to recreate figures\n",
    "\n",
    "### Actual Process:\n",
    "\n",
    "### 1. Reading the Paper\n",
    "This was probably the hardest part for me. Sitting down and actively reading the paper for complete understanding was exhaustive and ended up taking up way too much time. I'm already a slow reader, but it doesn't help when every other word clearly from a biology background pops up and I have to look it up. To be honest, I'm not sure how much of when I looked up then I retained and can recite to you know.\n",
    "\n",
    "Other than the terminology being hard to get through, I actually found the **figures themselves** hard to understand. Again it would help if I had the necessary background konwledge, but as a newbie looking at the figures for the first time I thought there was *alot* going on. Firstly, I went back and forth many times to piece together parts of the figures to what they're suppose to be representing. There's only 7 figures total in the paper, each taking about from half of to an entire page, but all of them are comprised of many other **sub-figures**. If you showd me those figures without the rest of the paper I'd be completely lost.\n",
    "\n",
    "It wasn't until **page 4** of the paper that I saw the hyperlink saying \"see data and code availability\" that I felt a bit better about this homework. In total I spent over 3 hours spread across a couple evenings to get through reading the entire paper, still only coming away with a baseline understanding of the authors attempted methods and results.\n",
    "\n",
    "### 2. Data and Code Availability\n",
    "Next was going through each of the provided links in the paper under the **Resource Availability** section. I looked through the main three resources 1) Source Data 2) Code and 3) Scripts. They were so nicely linked I thought things were going to \n",
    "\n",
    "\n",
    "\n"
   ]
  },
  {
   "cell_type": "markdown",
   "id": "c22e3fd5",
   "metadata": {},
   "source": [
    "## Homework Guidelines\n",
    "1. Read the research paper.\n",
    "\n",
    "\n",
    "2. Download the data and the code.\n",
    "\n",
    "3. Try reproducing the figures of the paper using their published data and code.\n",
    "4. Create a new folder in this folder with the name of your team. In this new folder:\n",
    "    - Add the Jupyter notebook that represents your analysis' report.\n",
    "    - Make sure to indicate which teammate did which part of the work.\n",
    "    - You can submit code to this repository anytime until the deadline.\n",
    "5. The Jupyter notebook should indicate whether it was easy to reproduce the results.\n",
    "    - Record the time it took you to do tasks.\n",
    "    - If you do not get the same figures as the paper, this is fine.\n",
    "    - Present in class on Tuesday 05/03/2022 (5 min per team)."
   ]
  },
  {
   "cell_type": "markdown",
   "id": "ea41f4ef",
   "metadata": {},
   "source": [
    "### Bulk Download \n",
    "\n",
    "    - [https://open.quiltdata.com/b/allencell/packages/aics/integrated_transcriptomics_structural_organization_hipsc_cm]"
   ]
  },
  {
   "cell_type": "markdown",
   "id": "943ba5d1",
   "metadata": {},
   "source": [
    "## 7 Different Figures:\n",
    " - **Figure 1.** hiPSC-derived cardiomyocytes as a model system for studying the relationship between transcript abundance and cellular organization [page 3]\n",
    " \n",
    " \n",
    " - **Figure 2.** Classification and quantification of local patterns of alpha-actinin-2 organization using a deep-learning algorithm [page 6]\n",
    " \n",
    " \n",
    " - **Figure 3.** Quantification of global alignment of alpha-actinin-2 organization using Haralick correlation [page 8]\n",
    " \n",
    " \n",
    " - **Figure 4.** Workflow for establishing the combined organizational score [page 10]\n",
    " \n",
    " \n",
    " - **Figure 5.** Quantifying cardiomyocyte organization at scale across datasets and timepoints using a single metric combining multiple cell features [page 12]\n",
    " \n",
    " \n",
    " - **Figure 6.** Measurement of correlation between combined organizational score and transcript abundance enables identification of genes that correlate with cell organization, timepoint, or both [page 13]\n",
    " \n",
    "\n",
    "\n"
   ]
  },
  {
   "cell_type": "markdown",
   "id": "a8b5c3a9",
   "metadata": {},
   "source": [
    "## Jackie's Process:\n",
    "My Background: \n",
    "- MS/BS Computer Engineering student\n",
    "- Little Machine Learning background\n",
    "- Highschool level understanding of Biology\n",
    "\n",
    "List of Struggles in chronological order:\n",
    "1. Understanding the paper\n",
    "    - 3+ hours to get through the paper\n",
    "    - Lots of time googling things\n",
    "    - Had to keep re-reading the paper and going back and forth to understand the figures\n",
    "    \n",
    "2. Understanding their code availbility package\n",
    "    - page (???) gives the source data, code, and figure processing tool links\n",
    "    - 3 links was odd\n",
    "    - Data:\n",
    "        - struggles importing quilt (quilt v quilt3)\n",
    "        - requires an older python (had to make a new environment)\n",
    "        - could not install quilt through anaconda but had to \"pip install\"\n",
    "        - \" Not all of these data were used in the manuscript, but all of the data used in the manuscript are included here.\"\n",
    "        - \n",
    "    - Source Code:\n",
    "        - wasn't sure how to reference data from the code in this repo\n",
    "        - fish_morphology_code folder within fish_morphology_code repo....confusing\n",
    "        - setup.py was attempted but I kept getting warnings\n",
    "    - AllenCellModeling:\n",
    "        - ended up having to look at the requirements.txt on how to how to start setting up the libraries\n",
    "        \n"
   ]
  },
  {
   "cell_type": "markdown",
   "id": "271c8f72",
   "metadata": {},
   "source": [
    "## Abhijith's Analysis\n",
    "Explain which figures you attempted to recreate here...\n",
    ".\n",
    "\n",
    ".\n",
    "\n",
    ".\n",
    "\n",
    "."
   ]
  },
  {
   "cell_type": "code",
   "execution_count": null,
   "id": "3af67996",
   "metadata": {},
   "outputs": [],
   "source": []
  }
 ],
 "metadata": {
  "kernelspec": {
   "display_name": "Python 3 (ipykernel)",
   "language": "python",
   "name": "python3"
  },
  "language_info": {
   "codemirror_mode": {
    "name": "ipython",
    "version": 3
   },
   "file_extension": ".py",
   "mimetype": "text/x-python",
   "name": "python",
   "nbconvert_exporter": "python",
   "pygments_lexer": "ipython3",
   "version": "3.10.4"
  }
 },
 "nbformat": 4,
 "nbformat_minor": 5
}
