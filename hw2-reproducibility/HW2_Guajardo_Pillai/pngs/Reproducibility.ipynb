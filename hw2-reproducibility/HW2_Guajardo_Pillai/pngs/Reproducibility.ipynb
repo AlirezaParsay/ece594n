{
 "cells": [
  {
   "cell_type": "markdown",
   "id": "6e0d6a7a",
   "metadata": {
    "slideshow": {
     "slide_type": "slide"
    }
   },
   "source": [
    "\n",
    "  # <center> HW 2: Reproducibility <center>\n",
    "    \n",
    "<br>\n",
    "    \n",
    "<center> Ryan Guajardo and Swetha Pillai <center>"
   ]
  },
  {
   "cell_type": "markdown",
   "id": "09a76fd5",
   "metadata": {
    "slideshow": {
     "slide_type": "slide"
    }
   },
   "source": [
    "# <center> Brief Overview<center>\n",
    "### <center> Can we define cell state just by looking at MYH6/7? <center>\n",
    "     Workflow...   \n",
    "    1. We have some cells.\n",
    "    2. We want to characterize how gene expression is related to organization within the cell.\n",
    "        - Cells tend towards organization as they mature, D18 vs. D32\n",
    "    3. We classify the organization of a cell with a linear model, Ridge Regression. \n",
    "        - Combined Organizational Score: COS, 11 features, 1-5.\n",
    "        - Ground truth being 2 experts manually deciding cell organization.\n",
    "    4. We then look at MYH6/7, attempt to make a connection to cell organization. \n",
    "<center> <img src=\"img2.png\" width='300'/> </center>\n",
    " \n",
    "    "
   ]
  },
  {
   "cell_type": "markdown",
   "id": "292bfb06",
   "metadata": {
    "slideshow": {
     "slide_type": "slide"
    }
   },
   "source": [
    "# <center> Our Results <center>\n",
    "#### <center>72 Manuscript Figures<center>"
   ]
  },
  {
   "cell_type": "markdown",
   "id": "eb976467",
   "metadata": {
    "slideshow": {
     "slide_type": "subslide"
    }
   },
   "source": [
    "<center> <img src=\"fig_2f_heatmap_rankby_Fraction cell area organized z-disks.png\" width='700'/> </center>"
   ]
  },
  {
   "cell_type": "markdown",
   "id": "f2af650c",
   "metadata": {
    "slideshow": {
     "slide_type": "notes"
    }
   },
   "source": [
    "In the previous slide, the figure shows the quantitative feature map and different characteristics of the cell."
   ]
  },
  {
   "cell_type": "markdown",
   "id": "fec29f9f",
   "metadata": {
    "slideshow": {
     "slide_type": "subslide"
    }
   },
   "source": [
    "<center> <img src=\"fig_3g_regular_stripes_vs_global_alignment.png\" width='1000'/> </center>"
   ]
  },
  {
   "cell_type": "markdown",
   "id": "4bbbd4c9",
   "metadata": {
    "slideshow": {
     "slide_type": "notes"
    }
   },
   "source": [
    "In the previous slide, the legend is inaccurate and does not resemble the one from the paper."
   ]
  },
  {
   "cell_type": "markdown",
   "id": "d457f609",
   "metadata": {
    "slideshow": {
     "slide_type": "subslide"
    }
   },
   "source": [
    "<center> <img src=\"fig_4b_linear_model_feature_importances.png\" width='1200'/> </center>"
   ]
  },
  {
   "cell_type": "markdown",
   "id": "d204623e",
   "metadata": {
    "slideshow": {
     "slide_type": "notes"
    }
   },
   "source": [
    "In the previous slide, the figure shows the weight coefficients of the regression model for the each feature. From studying this further, we learned about the multicollinearity of ridge regression. Multiple models are trained to combat the multicollinear data where linearly independent features are strongly correlated. This is why there are multiple coefficients per feature."
   ]
  },
  {
   "cell_type": "markdown",
   "id": "61536a60",
   "metadata": {
    "slideshow": {
     "slide_type": "subslide"
    }
   },
   "source": [
    "<center> <img src=\"fig4d_linear_model_distplot_grouped_by_human_score.png\" width='1000'/> </center>"
   ]
  },
  {
   "cell_type": "markdown",
   "id": "81901ebd",
   "metadata": {
    "slideshow": {
     "slide_type": "notes"
    }
   },
   "source": [
    "In the previous slide, the legend is cut off and does not resemble the one from the paper."
   ]
  },
  {
   "cell_type": "markdown",
   "id": "9733ce6b",
   "metadata": {
    "slideshow": {
     "slide_type": "subslide"
    }
   },
   "source": [
    "<center> <img src=\"supp_fig2i_expert_by_day18_32.png\" width='1200'/> </center>"
   ]
  },
  {
   "cell_type": "markdown",
   "id": "0a04df7e",
   "metadata": {
    "slideshow": {
     "slide_type": "notes"
    }
   },
   "source": [
    "In the previous slide, the figure shows a good representation of the distribution of the data, in which we are able to see the cell counts per score for each cell group age. The score with respect to this paper is the level of cell organization."
   ]
  },
  {
   "cell_type": "markdown",
   "id": "4bd1eea0",
   "metadata": {
    "slideshow": {
     "slide_type": "subslide"
    }
   },
   "source": [
    "<center> <img src=\"supp_fig4c_linear_model_pred_vs_true.png\" width='1000'/> </center>"
   ]
  },
  {
   "cell_type": "markdown",
   "id": "adf39dfb",
   "metadata": {
    "slideshow": {
     "slide_type": "notes"
    }
   },
   "source": [
    "In the previous slide, the figure shows the ground truth label against the predicted label for each cell age group. Ideally, we would want to see most points along the diagonal of this plot, indicating that the predicted label matches the ground truth label and a correct inference was made. This scatterplot isn't necessarily the best visualization for seeing the correctness of the model. Rather a confusion matrix is better at showing this."
   ]
  },
  {
   "cell_type": "markdown",
   "id": "39b49d73",
   "metadata": {
    "slideshow": {
     "slide_type": "slide"
    }
   },
   "source": [
    "## <center> Irreproducible Figures / Workflow <center>\n",
    "<!-- ### <center>1. Workflow Related <center>\n",
    "###  <center>2. Irreproducible Figures <center> -->\n",
    "    "
   ]
  },
  {
   "cell_type": "markdown",
   "id": "0429888c",
   "metadata": {
    "slideshow": {
     "slide_type": "subslide"
    }
   },
   "source": [
    "## <center>Workflow A-C <center>\n",
    "    \n",
    "For this to be considered reproducible we would ideally be able to pass new images into this pipeline and get cell contours, extract cell features, and get predictions from their code.\n",
    "<br>\n",
    "    \n",
    "All of the code to accomplish this workflow is provided, however understanding the way that code functions is not. \n",
    "<center> <img src=\"paper1.jpg\" width='800'/> </center>"
   ]
  },
  {
   "cell_type": "markdown",
   "id": "eb971841",
   "metadata": {
    "slideshow": {
     "slide_type": "subslide"
    }
   },
   "source": [
    "## <center>Workflow D-G<center>\n",
    "<center> <img src=\"paper2.jpg\" width='1000'/> </center>"
   ]
  },
  {
   "cell_type": "markdown",
   "id": "5eaf41af",
   "metadata": {
    "slideshow": {
     "slide_type": "subslide"
    }
   },
   "source": [
    "## <center>Figures Consisting of Multiple Overlaid Images<center>\n",
    "Quilt package contains 10 images in one tiff file. \n",
    "<br>\n",
    "    \n",
    "It wasn’t immediately clear to me how they were able to assemble these images into the figures we see here. \n",
    "<br>\n",
    "    \n",
    "Could be my lack of python knowledge.\n",
    "<center> <img src=\"img1.png\" width='500'/> </center>"
   ]
  },
  {
   "cell_type": "markdown",
   "id": "2a067899",
   "metadata": {
    "slideshow": {
     "slide_type": "notes"
    }
   },
   "source": [
    "In the previous slide, this workflow or end-to-end pipeline would have been beneficial to see. Most all of what we were able to reproduce were plots of the data itself. However, a major part of this paper was the machine learning task. The training, scoring, segmenting, and predicting of the model was a crucial part and was what we were most interested in. Had we been able to understand this, we would be able to pass in some data and produce predictions. None of the published code allows us to accomplish this. We tried manipulating the files to achieve this to no avail."
   ]
  },
  {
   "cell_type": "markdown",
   "id": "a62643f1",
   "metadata": {
    "slideshow": {
     "slide_type": "slide"
    }
   },
   "source": [
    "# <center> Drawbacks <center>\n",
    "\n",
    "- poor documentation\n",
    "    - no docstrings or comments -> super confusing\n",
    "- many nested files and functions -> too much back and forth\n",
    "- can get plots for provided dataframes only.\n",
    "    - no cell images, contours, COS + contours, MYH6/7\n",
    "- no legend for some images\n",
    "- have file path but can't read in single image from Quilt\n",
    "    - corrupted images?\n",
    "    - each image is actually 10 images, what kind of preprocessing is required to use them? \n",
    "\n",
    "- how to predict on new data\n",
    "\n",
    "- dataframes already filled with predicted labels"
   ]
  },
  {
   "cell_type": "markdown",
   "id": "83e4421d",
   "metadata": {
    "slideshow": {
     "slide_type": "notes"
    }
   },
   "source": [
    "We found .tiff files that show cell images stitched together. Although they lack labels, legends, or any sort of documentation, it was cool to see. We tried to retrieve the .tiff files for a long time via Quilt, but it seems like Quilt only supports full package imports and not individual images, which is very annoying."
   ]
  },
  {
   "cell_type": "markdown",
   "id": "4edc359a",
   "metadata": {
    "slideshow": {
     "slide_type": "slide"
    }
   },
   "source": [
    "# <center> Time Spent <center>\n",
    "- reading the paper: 2-3 hours\n",
    "- sifting through files: 1-2 hours\n",
    "- running the notebook to produce plots: 30 min\n",
    "- further exploration + reproducing non-manuscript \"cell image\" figures: 8 hours"
   ]
  },
  {
   "cell_type": "markdown",
   "id": "58863610",
   "metadata": {
    "slideshow": {
     "slide_type": "slide"
    }
   },
   "source": [
    "# <center> Conclusion <center>\n",
    "    \n",
    "- very easy to produce the plots from the notebook\n",
    "- could not reproduce cell images\n",
    "- could not reproduce segmentation images\n",
    "- could not carry out model predictions\n",
    "    \n",
    "Rating: 6/10 :(\n",
    "    <br>\n",
    "    <br>\n",
    "    ...i.e. hard to reproduce\n",
    "    \n",
    "- could have file outlining ML workflow\n",
    "- could have file showing how to produce cell images\n",
    "- could have a proper README/documentation"
   ]
  }
 ],
 "metadata": {
  "celltoolbar": "Slideshow",
  "kernelspec": {
   "display_name": "Python 3 (ipykernel)",
   "language": "python",
   "name": "python3"
  },
  "language_info": {
   "codemirror_mode": {
    "name": "ipython",
    "version": 3
   },
   "file_extension": ".py",
   "mimetype": "text/x-python",
   "name": "python",
   "nbconvert_exporter": "python",
   "pygments_lexer": "ipython3",
   "version": "3.9.7"
  }
 },
 "nbformat": 4,
 "nbformat_minor": 5
}
