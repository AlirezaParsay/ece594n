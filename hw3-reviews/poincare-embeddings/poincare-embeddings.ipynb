{
 "cells": [
  {
   "cell_type": "markdown",
   "metadata": {},
   "source": [
    "# Poincaré Embeddings for Learning Hierarchical Representations\n"
   ]
  },
  {
   "cell_type": "markdown",
   "metadata": {},
   "source": [
    "\n",
    "## I. Introduction\n",
    "\n"
   ]
  },
  {
   "cell_type": "markdown",
   "metadata": {},
   "source": [
    "\n",
    "    Set the context. What problem is this paper trying to solve? Why is this important?\n",
    "    Brief literature review: Identify 3+ related papers/models and briefly explain how they relate to one another (1 - 2 sentences per paper).\n"
   ]
  },
  {
   "cell_type": "markdown",
   "metadata": {},
   "source": [
    "Many machine learning algorithms first transform the feature space (*the sampled data of our dataset*) into a **\"latent space\"**  to **encode** pertitent information whilist often **reducing the dimensionality**, therefore reducing computational cost and memory usage, while **maintaining most of the important features** of the data.\n",
    "\n",
    "Ideally, in this latent space more similar inputs should \"closer\" together. More dissimilar inputs should be \"farther\" apart. \n",
    "\n"
   ]
  },
  {
   "cell_type": "markdown",
   "metadata": {},
   "source": [
    "![title](assets/word2vecEmbedding.png)"
   ]
  },
  {
   "cell_type": "markdown",
   "metadata": {},
   "source": [
    "This paper proposes a new method of embedding data such that both similarity and hierarchy can be preserverd while also reducing the dimensionality. This is accomplished by using "
   ]
  },
  {
   "cell_type": "markdown",
   "metadata": {},
   "source": []
  },
  {
   "cell_type": "markdown",
   "metadata": {},
   "source": [
    "## II. Background & Model"
   ]
  },
  {
   "cell_type": "markdown",
   "metadata": {},
   "source": [
    "Introduce and explain the model and any necessary mathematical background. Use LaTeX for equations."
   ]
  },
  {
   "cell_type": "markdown",
   "metadata": {},
   "source": [
    "## III. Implementation\n"
   ]
  },
  {
   "cell_type": "markdown",
   "metadata": {},
   "source": [
    "Implement the model (for the manifold used for the paper). All code should be documented."
   ]
  },
  {
   "cell_type": "markdown",
   "metadata": {},
   "source": [
    "## IV. Demonstration & Analysis"
   ]
  },
  {
   "cell_type": "markdown",
   "metadata": {},
   "source": [
    "Demonstrate the model on a dataset and analyze the results, using visualizations when possible. The exact analyses you perform are up to you, but some general suggestions include:\n",
    "\n",
    "    Comparing the results to conventional algorithms already implemented in libraries such as scikit-learn. For example, if your model is Geodesic PCA, compare your results to conventional PCA run on the same dataset.\n",
    "    Demonstrating the effects of different hyperparameter choices\n",
    "    Analyzing computational cost\n",
    "Demonstrate the model on a dataset and analyze the results, using visualizations when possible. The exact analyses you perform are up to you, but some general suggestions include:\n",
    "\n",
    "    Comparing the results to conventional algorithms already implemented in libraries such as scikit-learn. For example, if your model is Geodesic PCA, compare your results to conventional PCA run on the same dataset.\n",
    "    Demonstrating the effects of different hyperparameter choices\n",
    "    Analyzing computational cost\n"
   ]
  },
  {
   "cell_type": "markdown",
   "metadata": {},
   "source": [
    "Examples: \n",
    "\n",
    "    You can find here learning algorithms already coded in Geomstats, that can help for inspiration.\n",
    "    You can find here notebooks that use some of these learning algorithms.\n",
    "    You can find here examples of implementations of geometric learning research paper, for an international challenge. Some were contributed by master students!\n"
   ]
  },
  {
   "cell_type": "markdown",
   "metadata": {},
   "source": [
    "## V. Citations\n"
   ]
  },
  {
   "cell_type": "markdown",
   "metadata": {},
   "source": [
    "Nickel, Maximillian and Douwe Kiela (2017). “Poincaré Embeddings for Learning Hierarchical Representations”. In: Advances in Neural Information Processing Systems 30. Ed. by I Guyon, U V Luxburg, S Bengio, H Wallach, R Fergus, et al. Curran Associates, Inc."
   ]
  }
 ],
 "metadata": {
  "interpreter": {
   "hash": "31f2aee4e71d21fbe5cf8b01ff0e069b9275f58929596ceb00d14d90e3e16cd6"
  },
  "kernelspec": {
   "display_name": "Python 3.8.10 64-bit",
   "name": "python3"
  },
  "language_info": {
   "name": "python",
   "version": "3.8.10"
  },
  "orig_nbformat": 4
 },
 "nbformat": 4,
 "nbformat_minor": 2
}
