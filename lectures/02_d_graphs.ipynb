{
 "cells": [
  {
   "cell_type": "markdown",
   "id": "83fc4529",
   "metadata": {
    "slideshow": {
     "slide_type": "slide"
    }
   },
   "source": [
    "# 02 Computational Representations of (Biomedical) Shapes\n",
    "\n",
    "## D) Graphs as Articulated Objects\n",
    "\n",
    "$\\color{#003660}{\\text{Nina Miolane - Assistant Professor}}$ @ BioShape Lab @ UCSB ECE\n",
    "\n",
    "<center><img src=\"figs/02_five_ais.png\" width=1500px alt=\"default\"/></center>\n",
    "<center>Five types of adolescent scoliosis</center>\n"
   ]
  },
  {
   "cell_type": "markdown",
   "id": "fd3c6f41",
   "metadata": {
    "slideshow": {
     "slide_type": "slide"
    }
   },
   "source": [
    "# Outline: Geometric Learning for BioShape Analysis\n",
    "\n",
    "- **Unit 1 (Geometry - Math!)**: Differential Geometry for Engineers\n",
    "- **Unit 2 (Shapes): Computational Representations of Biomedical Shapes**\n",
    "- **Unit 3 (Machine Learning)**: Geometric Machine Learning for Shape Analysis\n",
    "- **Unit 4 (Deep Learning)**: Geometric Deep Learning for Shape Analysis\n",
    "\n",
    "<center><img src=\"figs/00_bioshape.jpg\" width=500px alt=\"default\"/></center>\n",
    "\n",
    "Examples and applications will be taken from cutting-edge research in the **biomedical field**."
   ]
  },
  {
   "cell_type": "markdown",
   "id": "d9995986",
   "metadata": {
    "slideshow": {
     "slide_type": "slide"
    }
   },
   "source": [
    "# Outline\n",
    "\n",
    "- **Unit 2 (Shapes): Computational Representations of Biomedical Shapes**\n",
    "  - A) Shapes of landmarks\n",
    "  - B) Shapes of curves\n",
    "  - C) Shapes of surfaces\n",
    "  - **D) Graphs as Articulated Models**\n",
    "    - Motivation: Body Shapes and Pathologies\n",
    "    - Theory: Graphs as Articulated Models\n",
    "    - Application: A New Classification of Scoliosis?\n",
    "  - E) Deformations"
   ]
  },
  {
   "cell_type": "markdown",
   "id": "cbde5ab2",
   "metadata": {
    "slideshow": {
     "slide_type": "slide"
    }
   },
   "source": [
    "# Body Shapes and Anatomical Conditions\n",
    "\n",
    "The shape of our bodies tells a lot about us, e.g. about our anatomical conditions.\n",
    "\n",
    "$\\color{#047C91}{\\text{Example}}$:\n",
    "- The shape of our spine shows if we have a scoliosis.\n",
    "\n",
    "\n",
    "<center><img src=\"figs/02_five_ais.png\" width=1500px alt=\"default\"/></center>"
   ]
  },
  {
   "cell_type": "markdown",
   "id": "1a12f689",
   "metadata": {
    "slideshow": {
     "slide_type": "slide"
    }
   },
   "source": [
    "# Body Shapes and Neurological Conditions\n",
    "\n",
    "The shape of our bodies can also tell us about neurological conditions.\n",
    "\n",
    "$\\color{#047C91}{\\text{Example}}$:\n",
    "- Our gait, i.e. the shape of our body as we walk, gives insights on Alzheimer's disease.\n",
    "\n",
    "_Gait disorders are more prevalent in dementia than in normal aging and are related to the severity of cognitive decline. Dementia-related gait changes (DRGC) mainly include decrease in walking speed provoked by a decrease in stride length and an increase in support phase._\n",
    "\n",
    "<center><img src=\"figs/02_alz.webp\" width=500px alt=\"default\"/></center>"
   ]
  },
  {
   "cell_type": "markdown",
   "id": "047fb1d5",
   "metadata": {
    "slideshow": {
     "slide_type": "slide"
    }
   },
   "source": [
    "## Motivation: Shape of Scoliosis\n",
    "\n",
    "$\\color{#EF5645}{\\text{Question for today}}$: AIS, Adolescent Idiopatic Scoliosis, is classically split into 5 categories, or \"types\" of scoliosis. This classification was established before the democratization of CT imaging, using clinicians intuitions and observations. \n",
    "- Does this classification make sense? Do we see these types of variations in the data?\n",
    "\n",
    "<center><img src=\"figs/02_five_ais.png\" width=1100px alt=\"default\"/></center>"
   ]
  },
  {
   "cell_type": "markdown",
   "id": "55c37f8b",
   "metadata": {
    "slideshow": {
     "slide_type": "slide"
    }
   },
   "source": [
    "## Data: From CT Scans\n",
    "\n",
    "![SegmentLocal](figs/TA.gif \"segment\")"
   ]
  },
  {
   "cell_type": "markdown",
   "id": "77e77829",
   "metadata": {
    "slideshow": {
     "slide_type": "slide"
    }
   },
   "source": [
    "- 307 scoliotic patients from St Justine Hospital\n",
    "- **Raw**: CT Scans\n",
    "- **Preprocessing**: Put anatomical landmarks\n",
    "- 5 groups: Type I, ..., Type V scoliosis.\n",
    "\n",
    "$\\rightarrow$ What is the best way of representing the spine data? \n",
    "\n",
    "Keeping a representation of the spine as a set of landmarks does not use the facts that \n",
    "- the spine is an articulated object, \n",
    "- that AIS is an articulation issue.\n",
    "\n",
    "<center><img src=\"figs/02_five_ais.png\" width=900px alt=\"default\"/></center>"
   ]
  },
  {
   "cell_type": "markdown",
   "id": "2f9c1c9c",
   "metadata": {
    "cell_style": "split",
    "slideshow": {
     "slide_type": "skip"
    }
   },
   "source": [
    "<center><img src=\"figs/02_Rt.png\" width=100px alt=\"default\"/></center>"
   ]
  },
  {
   "cell_type": "markdown",
   "id": "21531eff",
   "metadata": {
    "cell_style": "split",
    "slideshow": {
     "slide_type": "skip"
    }
   },
   "source": []
  },
  {
   "cell_type": "markdown",
   "id": "8ed74da8",
   "metadata": {
    "slideshow": {
     "slide_type": "slide"
    }
   },
   "source": [
    "# Theory: Graphs and Articulated Model"
   ]
  },
  {
   "cell_type": "markdown",
   "id": "a334d35f",
   "metadata": {
    "slideshow": {
     "slide_type": "slide"
    }
   },
   "source": [
    "## What is a Graph?\n",
    "\n",
    "$\\color{#EF5645}{\\text{Definition}}$: A graph is a pair $G = (V, E)$, where V is a set whose elements are called vertices, and E is a set of paired vertices, whose elements are called edges. The vertices x and y of an edge {x, y} are called the endpoints of the edge.\n",
    "\n",
    "<center><img src=\"figs/02_graph_poses.png\" width=800px alt=\"default\"/></center>\n"
   ]
  },
  {
   "cell_type": "markdown",
   "id": "1eb38ce7",
   "metadata": {
    "slideshow": {
     "slide_type": "slide"
    }
   },
   "source": [
    "## Graphs as Articulated Models\n",
    "\n",
    "$\\color{#EF5645}{\\text{Recall}}$: $SE(3) = SO(3) \\times \\mathbb{R}^3$ is the Lie group of rigid-body transformations in 3D, i. e. the group of 3D rotations SO(3) and the group of 3D translations $\\mathbb{R}^3$. \n",
    "\n",
    "$\\color{#EF5645}{\\text{Definition}}$: An articulated model is a graph, for which each of $E$ has a value in $SE(3)$, i.e. the edge represents the rigid-body transformation (rotation and translation) from one node element to the other.\n",
    " \n",
    "$\\color{#047C91}{\\text{Example}}$:\n",
    "- Humans have 26 vertebrae: \n",
    "  - a spine shape is an element of $SE(3)^{25} = SE(3) \\times ... \\times SE(3)$ 25 times.\n",
    "- In pratice, we perform vertebra-to-vertebra alignment: similar to Procrustes analysis!"
   ]
  },
  {
   "cell_type": "markdown",
   "id": "30fef88c",
   "metadata": {
    "cell_style": "split"
   },
   "source": [
    "<center><img src=\"figs/02_Rt.png\" width=300px alt=\"default\"/></center>"
   ]
  },
  {
   "cell_type": "markdown",
   "id": "e50174d7",
   "metadata": {
    "cell_style": "split"
   },
   "source": [
    "<center><img src=\"figs/02_one_spine.png\" width=230px alt=\"default\"/></center>"
   ]
  },
  {
   "cell_type": "markdown",
   "id": "b0b1b4f6",
   "metadata": {
    "slideshow": {
     "slide_type": "slide"
    }
   },
   "source": [
    "## Riemannian Metric to Compute on the Articulated Model\n",
    "\n",
    "$\\color{#6D7D33}{\\text{Property}}$: The Lie group $SE(3)$ comes with a canonical Riemannian metric, called the left-invariant canonical metric.\n",
    "\n",
    "$\\color{#6D7D33}{\\text{Corollary}}$: This provides a Riemannian metric on any product manifold $SE(3) \\times ... \\times SE(3)$, called the product Riemannian metric of each of the metrics defined on each piece $SE(3)$."
   ]
  },
  {
   "cell_type": "code",
   "execution_count": 2,
   "id": "0922a50a",
   "metadata": {
    "slideshow": {
     "slide_type": "slide"
    }
   },
   "outputs": [
    {
     "name": "stderr",
     "output_type": "stream",
     "text": [
      "INFO: Using numpy backend\n"
     ]
    }
   ],
   "source": [
    "from geomstats.geometry.special_euclidean import SpecialEuclidean\n",
    "from geomstats.geometry.product_manifold import ProductManifold"
   ]
  },
  {
   "cell_type": "code",
   "execution_count": 6,
   "id": "acd98dcf",
   "metadata": {},
   "outputs": [
    {
     "name": "stdout",
     "output_type": "stream",
     "text": [
      "SpecialEuclideanMatrixCannonicalLeftMetric\n",
      "ProductRiemannianMetric\n"
     ]
    }
   ],
   "source": [
    "se3 = SpecialEuclidean(n=3)\n",
    "print(se3.metric.__class__.__name__)\n",
    "\n",
    "n_vertebrae = 25\n",
    "spine_space = ProductManifold([se3, ] * n_vertebrae)\n",
    "print(spine_space.metric.__class__.__name__)"
   ]
  },
  {
   "cell_type": "markdown",
   "id": "984ee9b6",
   "metadata": {
    "slideshow": {
     "slide_type": "slide"
    }
   },
   "source": [
    "We are equipped with a Riemannian metric on the space of spines. \n",
    "\n",
    "This tool gives us all the elementary operations we need: exp, log, geodesics, distance. \n",
    "\n",
    "We can use it to perform statistics and learning!\n",
    "\n",
    "<center><img src=\"figs/01_tools.jpeg\" width=400px alt=\"default\"/></center>\n",
    "\n"
   ]
  },
  {
   "cell_type": "markdown",
   "id": "d79b3f53",
   "metadata": {
    "slideshow": {
     "slide_type": "slide"
    }
   },
   "source": [
    "# Application: New Classification of Scoliosis?"
   ]
  },
  {
   "cell_type": "markdown",
   "id": "cf57d4cb",
   "metadata": {
    "slideshow": {
     "slide_type": "slide"
    }
   },
   "source": [
    "$\\color{#EF5645}{\\text{Question for today}}$: AIS, Adolescent Idiopatic Scoliosis, is classically split into 5 categories, or \"types\" of scoliosis - a classification that was established before the democratization of CT imaging. \n",
    "- Does this classification make sense? Do we see these types of variations in the data?\n",
    "\n",
    "<center><img src=\"figs/02_five_ais.png\" width=1400px alt=\"default\"/></center>"
   ]
  },
  {
   "cell_type": "markdown",
   "id": "a46b2440",
   "metadata": {
    "slideshow": {
     "slide_type": "slide"
    }
   },
   "source": [
    "\n",
    "\n",
    "We use the Riemannian metric to perform an generalization of Principal Component Analysis on the (curved) spine space.\n",
    "\n",
    "<center><img src=\"figs/02_pca.jpg\" width=500px alt=\"default\"/></center>\n"
   ]
  },
  {
   "cell_type": "markdown",
   "id": "99a25376",
   "metadata": {
    "slideshow": {
     "slide_type": "slide"
    }
   },
   "source": [
    "We visualize the first four principal components: they have anatomical meanings that entail components of scoliosis $\\rightarrow$ another classification could make sense!\n",
    "- Principal component 1: Growth\n",
    "- Principal component 2: Double thoraco-lumbar curve -- Type II or III\n",
    "- Principal component 3: Simple thoracic curve -- Type I or III\n",
    "- Principal component 4: Development of lumbar lordosis -- Type IV\n",
    "\n",
    "![SegmentLocal](figs/pca_pa.gif \"segment\")"
   ]
  },
  {
   "cell_type": "markdown",
   "id": "3d2d2762",
   "metadata": {
    "slideshow": {
     "slide_type": "slide"
    }
   },
   "source": [
    "# Outline\n",
    "\n",
    "- **Unit 2 (Shapes): Computational Representations of Biomedical Shapes**\n",
    "  - A) Shapes of landmarks\n",
    "  - B) Shapes of curves\n",
    "  - C) Shapes of surfaces\n",
    "  - **D) Graphs as Articulated Models**\n",
    "    - Motivation: Shapes of Bodies\n",
    "    - Theory: Graphs as Articulated Models\n",
    "    - Application: A New Classification of Scoliosis?\n",
    "  - E) Deformations\n",
    "  \n",
    "References:\n",
    "- Boisvert et al. Principal Spine Shape Deformation Modes Using Riemannian Geometry and Articulated Models. (2006)"
   ]
  },
  {
   "cell_type": "code",
   "execution_count": null,
   "id": "695396d8",
   "metadata": {},
   "outputs": [],
   "source": []
  }
 ],
 "metadata": {
  "celltoolbar": "Slideshow",
  "kernelspec": {
   "display_name": "Python 3 (ipykernel)",
   "language": "python",
   "name": "python3"
  },
  "language_info": {
   "codemirror_mode": {
    "name": "ipython",
    "version": 3
   },
   "file_extension": ".py",
   "mimetype": "text/x-python",
   "name": "python",
   "nbconvert_exporter": "python",
   "pygments_lexer": "ipython3",
   "version": "3.9.9"
  }
 },
 "nbformat": 4,
 "nbformat_minor": 5
}
