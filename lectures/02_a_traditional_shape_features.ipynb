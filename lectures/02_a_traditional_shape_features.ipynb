{
 "cells": [
  {
   "cell_type": "markdown",
   "id": "83fc4529",
   "metadata": {
    "slideshow": {
     "slide_type": "slide"
    }
   },
   "source": [
    "# 02 Computational Representations of (Biomedical) Shapes\n",
    "\n",
    "## A) Traditional Shape Features\n",
    "\n",
    "$\\color{#003660}{\\text{Nina Miolane - Assistant Professor}}$ @ BioShape Lab @ UCSB ECE\n",
    "- Zhang, Lu. (2004). Review of shape representation and description techniques.\n",
    "\n",
    "<center><img src=\"figs/01_manifold_definitions1.png\" width=1000px alt=\"default\"/></center>\n"
   ]
  },
  {
   "cell_type": "markdown",
   "id": "ae22476b",
   "metadata": {
    "slideshow": {
     "slide_type": "slide"
    }
   },
   "source": [
    "# Contour-based versus Region-based\n",
    "\n",
    "$\\color{#EF5645}{\\text{Contour-based shape descriptors}}$ are extracted from the contour (boundary) of the shape only.\n",
    "\n",
    "$\\color{#047C91}{\\text{Example}}$: The perimeter of a shape is a contour-based shape descriptor.\n",
    "\n",
    "$\\color{#EF5645}{\\text{Region-based shape descriptors}}$ are extracted from the whole shape region, i.e. from all the pixels from this region.\n",
    "\n",
    "$\\color{#047C91}{\\text{Example}}$: The area of a shape is a region-based shape descriptor.\n"
   ]
  },
  {
   "cell_type": "markdown",
   "id": "4a3b3479",
   "metadata": {
    "slideshow": {
     "slide_type": "slide"
    }
   },
   "source": [
    "# Global versus Structural\n",
    "\n",
    "$\\color{#EF5645}{\\text{Global descriptors}}$ do not divide shape into sub-parts, usually a single feature derived from the shape. \n",
    "- Measures of shape similarity are usually a metric distances between the acquired features.\n",
    "\n",
    "\n",
    "$\\color{#EF5645}{\\text{Structural descriptors}}$ break the shape boundary into sub-parts (sub-segments of the boundary, or sub-regions). The final representation is usually a string or a graph (or tree).\n",
    "- tMeasures of shape similarity are done by string matching or graph matching."
   ]
  },
  {
   "cell_type": "markdown",
   "id": "479e51df",
   "metadata": {
    "slideshow": {
     "slide_type": "slide"
    }
   },
   "source": [
    "<center><img src=\"figs/02_shape_descriptors.png\" width=800px alt=\"default\"/></center>"
   ]
  },
  {
   "cell_type": "markdown",
   "id": "1f4b7295",
   "metadata": {
    "slideshow": {
     "slide_type": "slide"
    }
   },
   "source": [
    "# Outline\n",
    "\n",
    "You will learn:\n",
    "\n",
    "1. Global contour-based shape descriptors\n",
    "2. Structural contour-based shape descriptors\n",
    "3. Global region-based shape descriptors\n",
    "4. Structural region-based shape descriptors"
   ]
  },
  {
   "cell_type": "markdown",
   "id": "b8c78a22",
   "metadata": {
    "slideshow": {
     "slide_type": "slide"
    }
   },
   "source": [
    "# 1. Global Contour-based shape descriptors\n",
    "\n",
    "$\\color{#EF5645}{\\text{Contour-based shape descriptors}}$ are extracted from the contour (boundary) of the shape only.\n",
    "\n",
    "$\\color{#EF5645}{\\text{Global descriptors}}$ do not divide shape into sub-parts, usually a single feature derived from the shape. \n",
    "\n",
    "- Simple shape descriptors\n",
    "- "
   ]
  },
  {
   "cell_type": "markdown",
   "id": "9fed7665",
   "metadata": {
    "slideshow": {
     "slide_type": "slide"
    }
   },
   "source": [
    "## Simple Shape Descriptors\n",
    "\n",
    "Common simple global descriptors are:\n",
    "- perimeter\n",
    "- circularity: perimeter^2 / area\n",
    "- eccentricity (length of major axis/length of minor axis)\n",
    "- major axis orientation, and \n",
    "- bending energy,\n",
    "- convexity, \n",
    "- ratio of principle axis, \n",
    "- circular variance and elliptic variance."
   ]
  },
  {
   "cell_type": "markdown",
   "id": "98758474",
   "metadata": {
    "slideshow": {
     "slide_type": "slide"
    }
   },
   "source": [
    "$\\color{#EF5645}{\\text{Remark}}$: Only discriminate shapes with large differences\n",
    "- DO: use as filters to eliminate false hits or combined with other shape descriptors.\n",
    "- DO NOT: use as standalone shape descriptors. \n",
    "\n",
    "$\\color{#047C91}{\\text{Example}}$: \n",
    "- Eccentricity $\\simeq$ 1in Fig. 2(a) (a = b)\n",
    "  - but it does not correctly describe the shape, because perceptually it is an elongated shape. \n",
    "  - $\\rightarrow$ circularity is a better descriptor. \n",
    "- The two shapes in Fig. 2(b) and (c) have the same circularity (a =2b), \n",
    "  - but they are very different shapes\n",
    "  - $\\rightarrow$ eccentricity is a better descriptor. \n",
    "\n",
    "<center><img src=\"figs/02_simple_descriptors.png\" width=800px alt=\"default\"/></center>"
   ]
  },
  {
   "cell_type": "code",
   "execution_count": null,
   "id": "5046f019",
   "metadata": {},
   "outputs": [],
   "source": []
  }
 ],
 "metadata": {
  "celltoolbar": "Slideshow",
  "kernelspec": {
   "display_name": "Python 3 (ipykernel)",
   "language": "python",
   "name": "python3"
  },
  "language_info": {
   "codemirror_mode": {
    "name": "ipython",
    "version": 3
   },
   "file_extension": ".py",
   "mimetype": "text/x-python",
   "name": "python",
   "nbconvert_exporter": "python",
   "pygments_lexer": "ipython3",
   "version": "3.9.9"
  }
 },
 "nbformat": 4,
 "nbformat_minor": 5
}
