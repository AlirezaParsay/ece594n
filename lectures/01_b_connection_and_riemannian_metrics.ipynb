{
 "cells": [
  {
   "cell_type": "markdown",
   "id": "83fc4529",
   "metadata": {
    "slideshow": {
     "slide_type": "slide"
    }
   },
   "source": [
    "# 01 Differential Geometry for Engineers\n",
    "\n",
    "## B) Affine Connection and Riemannian Metrics\n",
    "\n",
    "$\\color{#003660}{\\text{Nina Miolane - Assistant Professor}}$ @ BioShape Lab @ UCSB ECE\n",
    "- Texts and illustrations by Adele Myers @ BioShape Lab.\n",
    "- Textbook: Guigui, Miolane, Pennec, 2022. Introduction to Riemannian Geometry and Geometric Statistics.\n",
    "\n",
    "<center><img src=\"figs/01_manifold_definitions1.png\" width=1000px alt=\"default\"/></center>"
   ]
  },
  {
   "cell_type": "raw",
   "id": "1e3814f9",
   "metadata": {
    "slideshow": {
     "slide_type": "notes"
    }
   },
   "source": [
    "In this course, we will introduce the concepts of connection and Riemannian metrics. \n",
    "\n",
    "A connection is a mathematical operator that tells you how much a vector will change when you move it along a manifold in the direction of another vector. The symbol for connection is $\\nabla$, and $\\nabla_{\\vec{u}} \\vec{v}$ denotes the connection between $u$ and $v$, or how much vector $\\vec{v}$ would change if you moved it an infinitesimal distance in the direction of vector $\\vec{u}$."
   ]
  },
  {
   "cell_type": "markdown",
   "id": "1f4b7295",
   "metadata": {
    "slideshow": {
     "slide_type": "slide"
    }
   },
   "source": [
    "# Outline\n",
    "\n",
    "You will learn:\n",
    "\n",
    "1. What is a connection?\n",
    "2. Why do we care about connection?\n",
    "3. How can we implement connection?\n",
    "4. What is a Riemannian metric?\n",
    "5. Why do we care about Riemannian metrics?\n",
    "6. How can we implement Riemannian metrics?\n",
    "7. Curvature"
   ]
  },
  {
   "cell_type": "markdown",
   "id": "ce1ed5df",
   "metadata": {
    "slideshow": {
     "slide_type": "slide"
    }
   },
   "source": [
    "# 1. What is a Connection?\n",
    "\n",
    "$\\textbf{Intuition:}$ A connection is an operator denoted $\\nabla$ that:\n",
    "- tells you how much a vector will change when you move it along a manifold in the direction of another vector\n",
    "\n",
    "$\\nabla_{\\vec{u}} \\vec{v}$ denotes how much the tangent vector $v$ should change when it is moved into the directino of $u$."
   ]
  },
  {
   "cell_type": "markdown",
   "id": "cfbd4db3",
   "metadata": {
    "slideshow": {
     "slide_type": "slide"
    }
   },
   "source": [
    "## 1.1 Precise Mathematical Definition\n",
    "\n",
    "Let $M$ be a smooth manifold. A connection on $M$ is an $\\mathbb{R}$-bilinear map $\\nabla: \\Gamma(T M) \\times \\Gamma(T M) \\rightarrow \\Gamma(T M)$ that verifies for all $X, Y \\in \\Gamma(T M), \\forall f \\in C^{\\mathrm{inf}}(M)$ :\n",
    "1. (linearity of the $1^{s t}$ argument): $\\nabla_{f X} Y=f \\nabla_{X} Y$\n",
    "2. (Leibniz rule in $2^{n d}$ argument): $\\nabla_{X}(f Y)=X(f) Y+f \\nabla_{X} Y$"
   ]
  },
  {
   "cell_type": "markdown",
   "id": "695454ef",
   "metadata": {
    "slideshow": {
     "slide_type": "slide"
    }
   },
   "source": [
    "## 1.2 \"Layman's terms\" Definition\n",
    "\n",
    "Let's dissect the map.\n",
    "- \" $\\nabla$ :\" this part is saying that it is the connection which is performing the transformation.\n",
    "- \" $T M$ \" : the tangent bundle of the manifold M. A tangent bundle is the collection of all tangent spaces on the manifold M. A tangent bundle is itself also a manifold.\n",
    "- $\\Gamma(T M)^{\\prime \\prime}: T M$ is a collection of all of the tangent spaces on the manifold $M$. Each tangent space is a collection of vectors, and there is one tangent space for each point on $M$. $\\Gamma$ is the symbol for a vector field. A vector field has one vector stemming from each point on a space. Therefore, $\\Gamma(T M)$ is a vector field where each point takes one vector from the tangent space at that point.\n",
    "\n",
    "Putting all of this together, $\\nabla: \\Gamma(T M) \\times \\Gamma(T M) \\rightarrow \\Gamma(T M)$ is simply saying that the connection is a transformation which takes two arguments, both of which are vector fields of the tangent bundle of a manifold, and the result of\n",
    "the transformation is another vector field of the tangent bundle."
   ]
  },
  {
   "cell_type": "markdown",
   "id": "4e3d11eb",
   "metadata": {
    "slideshow": {
     "slide_type": "slide"
    }
   },
   "source": [
    "## 1.3 Christoffel Symbols: Coordinates of a Connection\n",
    "\n",
    "In local coordinates (PUT BETTER DESCRIPTION OF LOCAL COORDINATES HERE IN PARENTHESES), the connection can be described mathematically using Christoffel Symbols:\n",
    "$$\n",
    "\\nabla_{\\partial_{i}} \\partial_{j}=\\Gamma_{i j}^{k} \\partial_{k}\n",
    "$$\n",
    "where $\\partial_{i}, \\partial_{j}$ are basis vectors at some point $p$ on the manifold, and $\\Gamma$ is called a christoffel symbol.`"
   ]
  },
  {
   "cell_type": "markdown",
   "id": "b4d2b6f9",
   "metadata": {
    "slideshow": {
     "slide_type": "slide"
    }
   },
   "source": [
    "What does a Christoffel Symbol represent?\n",
    "The best way to gain intuition of what a christoffel symbol represents is through an example.\n",
    "$$\n",
    "\\nabla_{\\partial_{x}} \\partial_{z}=\\Gamma_{x z}^{x} \\partial_{x}+\\Gamma_{x z}^{y} \\partial_{y}+\\Gamma_{x z}^{z} \\partial_{z}\n",
    "$$ change. \n",
    "\n",
    "$\\color{#047C91}{\\text{Example}}$: $\\Gamma_{x z}^{y}$ tells us the rate of change (in the $\\partial_{y}$ direction) of $\\partial_{z}$ when we move $\\partial_{z}$ in the direction of $\\partial_{x}$.\n",
    "\n",
    "The ability to represent the connection in this way is  \n",
    "essential\n",
    "  because christoffel symbols are something we can actually compute. Up until now, we have presented somewhat abstract formulae with no actual method for computation. Now, with christoffel symbols, we can compute actual values for the connection. This is not something we have the tools to do at this point in our tutorial. We will go over how to calculate christoffel symbols in the RiemannainMetric tutorial.\n"
   ]
  },
  {
   "cell_type": "markdown",
   "id": "cd6a884f",
   "metadata": {
    "slideshow": {
     "slide_type": "slide"
    }
   },
   "source": [
    "# 2. Why do we care about connections?\n",
    "\n",
    "Consider a single vector $\\vec{a}$ on a manifold.\n",
    "(show picture of a vector a on a manifold vectors in the same tangent space) be trivial. \n",
    "\n",
    "If you moved vector a to a different point in cartesian coordinates, the vector itself would not change.\n",
    "(picture: show a vector moving from one point to another in cartesian coordinates, with nothing changing. show the set of basis vectors at each point)\n",
    "after this transformation.\n",
    "\n",
    "(show picture of a vector moving from one point to another on a manifold. show different basis vectors at each point.) the vector $\\vec{a}$ will change if it is moved an infinitesimally small distance in the direction of $\\vec{b}$.\n",
    "\n",
    "\n",
    "Of course, the connection is importnat becasue it tells you how much a vector will change when you move it along a manifold. However, it is also important for another, more mathematically profound, reason than this. The connection is especially important because it defines how to evaluate whether two vectors on a manifold are parallel (NOTE TO SELF: I am not sure if this wording is exactly correct). To understand what this means, we will have to introduce two new concepts:  \n",
    "parallel vector fields\n",
    " , which will allow us to introduce the notion of  \n",
    "parallel transport\n",
    " ."
   ]
  },
  {
   "cell_type": "code",
   "execution_count": null,
   "id": "e28c8552",
   "metadata": {
    "slideshow": {
     "slide_type": "slide"
    }
   },
   "outputs": [],
   "source": [
    "A connection is importnt because it defines:\n",
    "    - parallelism and parallel transport\n",
    "    - geodesics"
   ]
  },
  {
   "cell_type": "markdown",
   "id": "1d6b8a87",
   "metadata": {
    "slideshow": {
     "slide_type": "slide"
    }
   },
   "source": [
    "# Parallelism on manifolds\n",
    "\n",
    "Precise Definition of a Parallel vector field :\n",
    "Let $M$ be a smooth manifold and $\\nabla$ a connection on $M$. For any curve $\\gamma:[a, b] \\rightarrow M$ in $M$, a vector fied $X$ is parallel (Question: parallel to what? the curve?) if\n",
    "$$\n",
    "\\nabla_{\\dot{\\gamma}(t)} X(t)=0\n",
    "$$\n",
    "\n",
    "What does this mean?: This definition simply means that a parallel vector field is a vector field (set of vectors) that dos not change (with respect to the tangent vectors $\\gamma(t)$ if you move the vector along a line tangent to the curve $\\gamma$. In other words, a vector field $X(t)$ is said to be parallel to $\\gamma(t)$ if its orientation with respect to $\\gamma(t)$ (the tangent vector at some point $t$ does not change as a vector $x \\in X(t)$ moves along the curve $\\gamma(t)$.\n",
    "\n",
    "$\\color{#047C91}{\\text{Example}}$: Consider the curve $\\gamma$ with tangent vectors $\\dot{\\gamma} .$ Now consider a vector $x \\in X(t)$. Because $X(t)$ is parallel to $\\dot \\gamma(t)$, .. will not change as you move along the curve $\\gamma$ (show three pictures of $x$ moving along gamma and not changing orientation with respect to tangent vectors.)\n"
   ]
  },
  {
   "cell_type": "markdown",
   "id": "f6731097",
   "metadata": {
    "slideshow": {
     "slide_type": "slide"
    }
   },
   "source": [
    "# Parallel transport\n",
    "\n",
    "The parallel transport, denoted $X(s)=\\prod_{\\gamma, t}^{s}$ tells us what a vector $x \\in X(t)$ will look like at $\\gamma(s)$ (the point s on the curve Igamma) if $x$ starts at point $\\gamma(t)$ and is then transported along the curve to another point $\\gamma(s)$.\n",
    "\n",
    "$\\color{#047C91}{\\text{Example}}$: Consider a vector u that starts at point $\\gamma(a)$. Then $\\prod_{\\gamma, a}^{b} \\vec{u}=\\overrightarrow{u^{\\prime}}$ tells us what $\\vec{u}$ would look like at point $\\gamma(b)$. In other words, the parallel transport tells us what a vector would look like if it was transported from one tangent space $\\left(T_{\\gamma(a)} M\\right)$ to another tangent space $\\left(T_{\\gamma(b)} M\\right)$"
   ]
  },
  {
   "cell_type": "markdown",
   "id": "2df7a4d9",
   "metadata": {
    "slideshow": {
     "slide_type": "slide"
    }
   },
   "source": [
    "(picture: first picture is of u at gamma(a). next picture shows a dotted line where u used to be, and a dotted line along gamma from a to b. at point b, show vector u', which has the same orintation to gamma dot (b) as u had to gamma dot a. maybe include angle that shows taht the angels are the same.)\n",
    "\n",
    "\n",
    "Thus, in the same way that the connection tells us how to transport a vector an infinitesimally small distance along a manifold, the parallel transport tells us how we can transport a vector over larger distances along a manifold."
   ]
  },
  {
   "cell_type": "markdown",
   "id": "12ebd63c",
   "metadata": {
    "slideshow": {
     "slide_type": "slide"
    }
   },
   "source": [
    "# Geodesics\n",
    "\n",
    "Let $M$ be a smooth manifold endowed with a connection $\\nabla$. A curve $\\gamma:[a, b] \\rightarrow M$ is said to be autoparallel and is called a geodesic of $(M, \\nabla)$ if it satisfies for all $t \\in[a, b]$\n",
    "$$\n",
    "\\nabla_{\\dot{\\gamma}}(t) \\dot{\\gamma}(t)=0 \\text {. }\n",
    "$$\n",
    "Note that $\\nabla_{\\dot{\\gamma}} \\dot{\\gamma}$ can be interpreted as the covariant acceleration of $\\gamma$, so that equation (8) constrains geodesics to be zero acceleration curves. The flow of the geodesic equation is called geodesic flow, and is a fundamental example of dynamical system, that generalizes straight lines from Euclidean spaces.\n",
    "\n",
    "The geodesic equation can be written in local coordinates like the parallel transport equation. A geodesic curve $\\gamma$ satisfies for all times $t \\in[a, b]$\n",
    "$$\n",
    "\\ddot{\\gamma}^{k}(t)+\\Gamma_{i j}^{k} \\dot{\\gamma}^{i}(t) \\dot{\\gamma}^{j}(t)=0 .\n",
    "$$"
   ]
  },
  {
   "cell_type": "markdown",
   "id": "731a4907",
   "metadata": {
    "slideshow": {
     "slide_type": "slide"
    }
   },
   "source": [
    "# Exponential Map\n",
    "\n",
    "Definition 3.6 (Exponential map). Let $\\nabla$ be a connection on a smooth manifold $M$. The $\\operatorname{map}(x, v) \\mapsto \\gamma_{x, v}(1)$ defined on the open set $\\left\\{(x, v) \\in T M, 1 \\in I_{x, v}\\right\\}$ and with values in $M$ is called the exponential map of $\\nabla$. We say that $M$ is geodesically complete if the exponential map is defined on the whole of $T M$.\n",
    "\n",
    "For any $x \\in M$, we write the exponential map at $x \\operatorname{Exp}_{x}: v \\in T_{x} M \\mapsto \\gamma_{x, v}(1)$. The following properties of the exponential map can be proved."
   ]
  },
  {
   "cell_type": "markdown",
   "id": "0d533397",
   "metadata": {
    "slideshow": {
     "slide_type": "slide"
    }
   },
   "source": [
    "# Logarithm Map\n",
    "\n",
    "TBD"
   ]
  },
  {
   "cell_type": "markdown",
   "id": "26b0d767",
   "metadata": {
    "slideshow": {
     "slide_type": "slide"
    }
   },
   "source": [
    "# 3. How can we implement connections?\n",
    "\n",
    "In Geomstats, the `Connection` class describes different types of manifolds and implements methods that:\n",
    "- establish the properties of the connection. \n",
    "\n",
    "Example of some of the methods that the `Connection` class implements are:\n",
    "\n",
    "1) christoffels:\n",
    "2) geodesic_equation:\n",
    "3) parallel_transport:"
   ]
  },
  {
   "cell_type": "markdown",
   "id": "b890fb7a",
   "metadata": {
    "slideshow": {
     "slide_type": "slide"
    }
   },
   "source": [
    "Run the code below to see the contents of the `Connection` class."
   ]
  },
  {
   "cell_type": "code",
   "execution_count": null,
   "id": "9dfe3690",
   "metadata": {
    "slideshow": {
     "slide_type": "-"
    }
   },
   "outputs": [],
   "source": [
    "import inspect\n",
    "\n",
    "from geomstats.geometry.connection import Connection\n",
    "for line in inspect.getsourcelines(Connection)[0]:\n",
    "    line = line.replace('\\n','')\n",
    "    print(line)"
   ]
  },
  {
   "cell_type": "markdown",
   "id": "61d074e0",
   "metadata": {},
   "source": [
    "## Remark\n",
    "\n",
    "Note that although we introduced many notions in this paragraph, there were no examples. Indeed a connection or its Christoffel symbols are rarely explicit, except when the connection is compatible with a metric. We explain this notion of compatibility in the next paragraph, and will give several examples of geodesics and parallel transports."
   ]
  },
  {
   "cell_type": "markdown",
   "id": "1c6ef99d",
   "metadata": {
    "slideshow": {
     "slide_type": "slide"
    }
   },
   "source": [
    "# 4. What is a Riemannian metric?\n",
    "\n",
    "We now introduce a new structure on a differentiable manifold: the Riemannian metric, that allows to define the length of a curve, a distance function, a volume form, etc. Note that this additional structure may not be canonical, raising the thorny question of choosing the metric for the applications."
   ]
  },
  {
   "cell_type": "markdown",
   "id": "449e9769",
   "metadata": {
    "slideshow": {
     "slide_type": "slide"
    }
   },
   "source": [
    "## 4.1 Precise mathematical definition\n",
    "\n",
    "Let $M$ be a smooth $d$-dimensional manifold. A Riemannian metric on $M$ (or $T M$ ) is a family $\\left(\\langle\\cdot, \\cdot\\rangle_{p}\\right)_{p \\in M}$ of inner products on each tangent space $T_{p} M$, such that $\\langle\\cdot, \\cdot\\rangle_{p}$ depends smoothly on $p$. More formally, for any chart $\\varphi, U$, and frame $\\left(X_{1}, \\ldots, X_{n}\\right)$ on $U$, the maps\n",
    "$$\n",
    "p \\mapsto\\left\\langle X_{i}(p), X_{j}(p)\\right\\rangle_{p} \\quad 1 \\leq i, j \\leq n\n",
    "$$\n",
    "are smooth. A pair $(M,\\langle\\cdot, \\cdot\\rangle)$ is called a Riemannian manifold.\n",
    "\n",
    "A metric is often written $g=\\left(g_{p}\\right)_{p \\in M}$, where $g_{p}$ is the symmetric, positive definite (SPD) matrix representing the inner-product in a chart, that is\n",
    "$$\n",
    "g_{i j}(p)=\\left\\langle\\left(\\partial_{i}\\right)_{p},\\left(\\partial_{j}\\right)_{p}\\right\\rangle_{p}\n",
    "$$"
   ]
  },
  {
   "cell_type": "markdown",
   "id": "a75c6a96",
   "metadata": {
    "slideshow": {
     "slide_type": "slide"
    }
   },
   "source": [
    "## 4.2 \"Layman's terms\" Definition\n",
    "\n",
    "TBD"
   ]
  },
  {
   "cell_type": "markdown",
   "id": "70f65f8e",
   "metadata": {
    "slideshow": {
     "slide_type": "slide"
    }
   },
   "source": [
    "## 4.3 Levi-Civita Connection\n",
    "\n",
    "Theorem 3.2. Let $(M, g)$ be a Riemannian manifold. There is a unique connection on $M$ that verifies for all $X, Y, Z \\in \\Gamma(T M)$\n",
    "1. (Torsion-free) $\\nabla_{X} Y-\\nabla_{Y} X=[X, Y]$\n",
    "2. $\\left(\\right.$ Compatibility) $X(\\langle X, Y\\rangle)=\\left\\langle\\nabla_{X} Y, Z\\right\\rangle+\\left\\langle Y, \\nabla_{X} Z\\right\\rangle$\n",
    "This connection is called the Levi-Civita connection and is determined by the Koszul formula:\n",
    "$$\n",
    "\\begin{aligned}\n",
    "2\\left\\langle\\nabla_{X} Y, Z\\right\\rangle=X &(\\langle Y, Z\\rangle)+Y(\\langle X, Z\\rangle)-Z(\\langle X, Y\\rangle) \\\\\n",
    "&-\\langle Y,[X, Z]\\rangle-\\langle X,[Y, Z]\\rangle-\\langle Z,[Y, X]\\rangle\n",
    "\\end{aligned}\n",
    "$$\n",
    "The notion of compatibility is thus detailed in equations (10) and (11). The former is quite general but ensures unicity of the Levi-Civita connection, it is called the zerotorsion condition. The latter can be understood as a Leibniz rule where $\\langle Y, Z\\rangle$ is seen as a product and the derivative is $\\nabla_{X}$. More precisely, this condition means that the metric is parallel with respect to the connection."
   ]
  },
  {
   "cell_type": "markdown",
   "id": "ee44903f",
   "metadata": {
    "slideshow": {
     "slide_type": "slide"
    }
   },
   "source": [
    "## 4.4 Christoffel Symbols of Levi-Civita Connection\n",
    "\n",
    "Writing $\\left(g^{i j}\\right)_{i j}=\\left(g_{i j}\\right)_{i j}^{-1}$ for the inverse of the metric matrix, we obtain\n",
    "$$\n",
    "\\Gamma_{i j}^{k}=\\frac{1}{2} g^{l k}\\left(\\partial_{i} g_{j l}+\\partial_{j} g_{l i}-\\partial_{l} g_{i j}\\right)\n",
    "$$\n",
    "Thus the Christoffel symbols can be computed from the metric $g$. This formula is rarely used by mathematicians for computations \"by hand\", but we shall use it in geomstats to implement pull back metrics."
   ]
  },
  {
   "cell_type": "markdown",
   "id": "11aa2d25",
   "metadata": {
    "slideshow": {
     "slide_type": "slide"
    }
   },
   "source": [
    "## 4.5 Riemannian Exp and Log Maps\n",
    "\n",
    "Definition 3.7 (Exp and Log maps). We call Riemannian exponential the exponential map of the Levi-Civita connection.\n",
    "\n",
    "he Riemannian logarithm is defined as the inverse of the Exp map on the injectivity domain Inj(x) ⊆ TxM , where the Exp map is injective,"
   ]
  },
  {
   "cell_type": "markdown",
   "id": "3c1c586a",
   "metadata": {
    "slideshow": {
     "slide_type": "slide"
    }
   },
   "source": [
    "## 4.6 Length\n",
    "\n",
    "For a $C^{1}$-curve $\\gamma:[a, b] \\rightarrow M$, we now define its length $L$ and total energy $E$ (also called action integral in physics) by:\n",
    "$$\n",
    "L(\\gamma)=\\int_{a}^{b}\\|\\dot{\\gamma}(t)\\| d t, \\quad E(\\gamma)=\\int_{a}^{b}\\|\\dot{\\gamma}(t)\\|^{2} d t\n",
    "$$\n",
    "Note that the length does not depend on the parametrization of the curve, while the energy does. Indeed, moving along a path from $a$ to $b$ does not require the same energy if the speed is increased, but the length remains the same. This finally leads to the definition of distance.\n",
    "\n",
    "Definition $3.8$ (Riemannian distance). Let $(M, g)$ be a Riemannian manifold, and $x, y \\in M$. The Riemannian distance between $x$ and $y$ is the lower bound of the lengths of all piecewise smooth curves joining $x$ to $y$ :\n",
    "$$\n",
    "d(x, y)=\\inf \\left\\{L(\\gamma) \\mid \\gamma: I \\rightarrow M \\text { piecewise } C^{1}, \\gamma(0)=x, \\gamma(1)=y\\right\\}\n",
    "$$\n",
    "We say that $\\gamma$ is minimizing if $L(\\gamma)=d(x, y)$."
   ]
  },
  {
   "cell_type": "markdown",
   "id": "0a62d02b",
   "metadata": {
    "slideshow": {
     "slide_type": "slide"
    }
   },
   "source": [
    "## 4.7 Riemannian Distance\n",
    "\n",
    "Definition $3.8$ (Riemannian distance). Let $(M, g)$ be a Riemannian manifold, and $x, y \\in M$. The Riemannian distance between $x$ and $y$ is the lower bound of the lengths of all piecewise smooth curves joining $x$ to $y$ :\n",
    "$$\n",
    "d(x, y)=\\inf \\left\\{L(\\gamma) \\mid \\gamma: I \\rightarrow M \\text { piecewise } C^{1}, \\gamma(0)=x, \\gamma(1)=y\\right\\}\n",
    "$$\n",
    "We say that $\\gamma$ is minimizing if $L(\\gamma)=d(x, y)$.\n",
    "If $M$ is connected, this distance function is indeed a distance, and the induced topology coincides with that of $M$ (Paulin 2014, Proposition 3.13). We say that a curve $\\gamma:[a, b] \\rightarrow M$ is parametrized by (or resp. proportional to) arc-length if $L(\\gamma)=b-a$ (resp. $\\exists \\lambda>0, L(\\gamma)=\\lambda(b-a))$. We now see that the geodesics of $(M, g)$ are the minimizing curves, and further minimize the total energy (Paulin 2014, Proposition 3.14)."
   ]
  },
  {
   "cell_type": "markdown",
   "id": "538cb19c",
   "metadata": {
    "slideshow": {
     "slide_type": "slide"
    }
   },
   "source": [
    "## 4.8 Geodesics\n",
    "\n",
    "Theorem 3.3. Let $(M, g)$ be a Riemannian manifold, and $\\gamma:[a, b] \\rightarrow M$ a $C^{1}$ curve. The following assertions are equivalent\n",
    "- $\\gamma$ is a geodesic;\n",
    "- $\\gamma$ is parametrized with constant velocity and locally minimizing;\n",
    "- $\\gamma$ is locally energy minimizing.\n",
    "In particular, as for any $(x, v) \\in T M$, the curve $\\gamma: t \\in \\operatorname{Inj}(x) \\mapsto \\operatorname{Exp}_{x}(t v)$ is a geodesic, it is locally length-minimizing, so that for any $y \\in \\operatorname{Exp}_{x}(\\operatorname{Inj}(x)), d(x, y)=$ $L(\\gamma)=\\|v\\|$. By definition, $v=\\log _{x}(y)$, so that\n",
    "$$\n",
    "d(x, y)=\\left\\|\\log _{x}(y)\\right\\|\n",
    "$$"
   ]
  },
  {
   "cell_type": "markdown",
   "id": "a5c383e0",
   "metadata": {
    "slideshow": {
     "slide_type": "slide"
    }
   },
   "source": [
    "# 5. Why do we care about Riemannian metrics?"
   ]
  },
  {
   "cell_type": "markdown",
   "id": "1daf867a",
   "metadata": {},
   "source": [
    "TBD."
   ]
  },
  {
   "cell_type": "markdown",
   "id": "756f2b02",
   "metadata": {
    "slideshow": {
     "slide_type": "slide"
    }
   },
   "source": [
    "# 6. How can we compute Riemannian metrics?\n",
    "\n",
    "In Geomstats, the `RiemannianMetric` class implements methods that establish the properties of the Riemannian metric. \n",
    "\n",
    "Example of some of the methods that the `RiemannianMetric` class implements are:\n",
    "\n",
    "1) christoffels:\n",
    "2) dist:\n",
    "3) inner_product:"
   ]
  },
  {
   "cell_type": "markdown",
   "id": "5dd12d1c",
   "metadata": {
    "slideshow": {
     "slide_type": "slide"
    }
   },
   "source": [
    "Run the code below to see the contents of the `RiemannianMetric` class."
   ]
  },
  {
   "cell_type": "code",
   "execution_count": 1,
   "id": "30d3abf9",
   "metadata": {},
   "outputs": [
    {
     "name": "stderr",
     "output_type": "stream",
     "text": [
      "INFO: Using numpy backend\n"
     ]
    },
    {
     "name": "stdout",
     "output_type": "stream",
     "text": [
      "class RiemannianMetric(Connection, ABC):\n",
      "    \"\"\"Class for Riemannian and pseudo-Riemannian metrics.\n",
      "\n",
      "    The associated Levi-Civita connection on the tangent bundle.\n",
      "\n",
      "    Parameters\n",
      "    ----------\n",
      "    dim : int\n",
      "        Dimension of the manifold.\n",
      "    shape : tuple of int\n",
      "        Shape of one element of the manifold.\n",
      "        Optional, default : (dim, ).\n",
      "    signature : tuple\n",
      "        Signature of the metric.\n",
      "        Optional, default: None.\n",
      "    default_point_type : str, {'vector', 'matrix'}\n",
      "        Point type.\n",
      "        Optional, default: 'vector'.\n",
      "    \"\"\"\n",
      "\n",
      "    def __init__(self, dim, shape=None, signature=None, default_point_type=None):\n",
      "        super(RiemannianMetric, self).__init__(\n",
      "            dim=dim, shape=shape, default_point_type=default_point_type\n",
      "        )\n",
      "        if signature is None:\n",
      "            signature = (dim, 0)\n",
      "        self.signature = signature\n",
      "\n",
      "    def metric_matrix(self, base_point=None):\n",
      "        \"\"\"Metric matrix at the tangent space at a base point.\n",
      "\n",
      "        Parameters\n",
      "        ----------\n",
      "        base_point : array-like, shape=[..., dim]\n",
      "            Base point.\n",
      "            Optional, default: None.\n",
      "\n",
      "        Returns\n",
      "        -------\n",
      "        mat : array-like, shape=[..., dim, dim]\n",
      "            Inner-product matrix.\n",
      "        \"\"\"\n",
      "        raise NotImplementedError(\n",
      "            \"The computation of the metric matrix\" \" is not implemented.\"\n",
      "        )\n",
      "\n",
      "    def cometric_matrix(self, base_point=None):\n",
      "        \"\"\"Inner co-product matrix at the cotangent space at a base point.\n",
      "\n",
      "        This represents the cometric matrix, i.e. the inverse of the\n",
      "        metric matrix.\n",
      "\n",
      "        Parameters\n",
      "        ----------\n",
      "        base_point : array-like, shape=[..., dim]\n",
      "            Base point.\n",
      "            Optional, default: None.\n",
      "\n",
      "        Returns\n",
      "        -------\n",
      "        mat : array-like, shape=[..., dim, dim]\n",
      "            Inverse of inner-product matrix.\n",
      "        \"\"\"\n",
      "        metric_matrix = self.metric_matrix(base_point)\n",
      "        cometric_matrix = gs.linalg.inv(metric_matrix)\n",
      "        return cometric_matrix\n",
      "\n",
      "    def inner_product_derivative_matrix(self, base_point=None):\n",
      "        \"\"\"Compute derivative of the inner prod matrix at base point.\n",
      "\n",
      "        Parameters\n",
      "        ----------\n",
      "        base_point : array-like, shape=[..., dim]\n",
      "            Base point.\n",
      "            Optional, default: None.\n",
      "\n",
      "        Returns\n",
      "        -------\n",
      "        mat : array-like, shape=[..., dim, dim]\n",
      "            Derivative of inverse of inner-product matrix.\n",
      "        \"\"\"\n",
      "        metric_derivative = gs.autodiff.jacobian(self.metric_matrix)\n",
      "        return metric_derivative(base_point)\n",
      "\n",
      "    def christoffels(self, base_point):\n",
      "        r\"\"\"Compute Christoffel symbols of the Levi-Civita connection.\n",
      "\n",
      "        The Koszul formula defining the Levi-Civita connection gives the\n",
      "        expression of the Christoffel symbols with respect to the metric:\n",
      "        :math:`\\Gamma^k_{ij}(p) = \\frac{1}{2} g^{lk}(\n",
      "            \\partial_i g_{jl} + \\partial_j g_{li} - \\partial_l g_{ij})`,\n",
      "        where:\n",
      "        - :math:`p` represents the base point, and\n",
      "        - :math:`g` represents the Riemannian metric tensor.\n",
      "\n",
      "        Parameters\n",
      "        ----------\n",
      "        base_point: array-like, shape=[..., dim]\n",
      "            Base point.\n",
      "\n",
      "        Returns\n",
      "        -------\n",
      "        christoffels: array-like, shape=[..., dim, dim, dim]\n",
      "            Christoffel symbols.\n",
      "        \"\"\"\n",
      "        cometric_mat_at_point = self.cometric_matrix(base_point)\n",
      "        metric_derivative_at_point = self.inner_product_derivative_matrix(base_point)\n",
      "        term_1 = gs.einsum(\n",
      "            \"...lk,...jli->...kij\", cometric_mat_at_point, metric_derivative_at_point\n",
      "        )\n",
      "        term_2 = gs.einsum(\n",
      "            \"...lk,...lij->...kij\", cometric_mat_at_point, metric_derivative_at_point\n",
      "        )\n",
      "        term_3 = -gs.einsum(\n",
      "            \"...lk,...ijl->...kij\", cometric_mat_at_point, metric_derivative_at_point\n",
      "        )\n",
      "\n",
      "        christoffels = 0.5 * (term_1 + term_2 + term_3)\n",
      "        return christoffels\n",
      "\n",
      "    def inner_product(self, tangent_vec_a, tangent_vec_b, base_point):\n",
      "        \"\"\"Inner product between two tangent vectors at a base point.\n",
      "\n",
      "        Parameters\n",
      "        ----------\n",
      "        tangent_vec_a: array-like, shape=[..., dim]\n",
      "            Tangent vector at base point.\n",
      "        tangent_vec_b: array-like, shape=[..., dim]\n",
      "            Tangent vector at base point.\n",
      "        base_point: array-like, shape=[..., dim]\n",
      "            Base point.\n",
      "            Optional, default: None.\n",
      "\n",
      "        Returns\n",
      "        -------\n",
      "        inner_product : array-like, shape=[...,]\n",
      "            Inner-product.\n",
      "        \"\"\"\n",
      "        inner_prod_mat = self.metric_matrix(base_point)\n",
      "        aux = gs.einsum(\"...j,...jk->...k\", tangent_vec_a, inner_prod_mat)\n",
      "        inner_prod = gs.einsum(\"...k,...k->...\", aux, tangent_vec_b)\n",
      "        return inner_prod\n",
      "\n",
      "    def inner_coproduct(self, cotangent_vec_a, cotangent_vec_b, base_point):\n",
      "        \"\"\"Compute inner coproduct between two cotangent vectors at base point.\n",
      "\n",
      "        This is the inner product associated to the cometric matrix.\n",
      "\n",
      "        Parameters\n",
      "        ----------\n",
      "        cotangent_vec_a : array-like, shape=[..., dim]\n",
      "            Cotangent vector at `base_point`.\n",
      "        cotangent_vet_b : array-like, shape=[..., dim]\n",
      "            Cotangent vector at `base_point`.\n",
      "        base_point : array-like, shape=[..., dim]\n",
      "            Point on the manifold.\n",
      "\n",
      "        Returns\n",
      "        -------\n",
      "        inner_coproduct : float\n",
      "            Inner coproduct between the two cotangent vectors.\n",
      "        \"\"\"\n",
      "        vector_2 = gs.einsum(\n",
      "            \"...ij,...j->...i\", self.cometric_matrix(base_point), cotangent_vec_b\n",
      "        )\n",
      "        inner_coproduct = gs.einsum(\"...i,...i->...\", cotangent_vec_a, vector_2)\n",
      "        return inner_coproduct\n",
      "\n",
      "    def hamiltonian(self, state):\n",
      "        r\"\"\"Compute the hamiltonian energy associated to the cometric.\n",
      "\n",
      "        The Hamiltonian at state :math: `(q, p)` is defined by\n",
      "        .. math:\n",
      "                H(q, p) = \\frac{1}{2} <p, p>_q\n",
      "        where :math: `<\\cdot, \\cdot>_q` is the cometric at :math: `q`.\n",
      "\n",
      "        Parameters\n",
      "        ----------\n",
      "        state : tuple of arrays\n",
      "            Position and momentum variables. The position is a point on the\n",
      "            manifold, while the momentum is cotangent vector.\n",
      "\n",
      "        Returns\n",
      "        -------\n",
      "        energy : float\n",
      "            Hamiltonian energy at `state`.\n",
      "        \"\"\"\n",
      "        position, momentum = state\n",
      "        return 1.0 / 2 * self.inner_coproduct(momentum, momentum, position)\n",
      "\n",
      "    def squared_norm(self, vector, base_point=None):\n",
      "        \"\"\"Compute the square of the norm of a vector.\n",
      "\n",
      "        Squared norm of a vector associated to the inner product\n",
      "        at the tangent space at a base point.\n",
      "\n",
      "        Parameters\n",
      "        ----------\n",
      "        vector : array-like, shape=[..., dim]\n",
      "            Vector.\n",
      "        base_point : array-like, shape=[..., dim]\n",
      "            Base point.\n",
      "            Optional, default: None.\n",
      "\n",
      "        Returns\n",
      "        -------\n",
      "        sq_norm : array-like, shape=[...,]\n",
      "            Squared norm.\n",
      "        \"\"\"\n",
      "        sq_norm = self.inner_product(vector, vector, base_point)\n",
      "        return sq_norm\n",
      "\n",
      "    def norm(self, vector, base_point=None):\n",
      "        \"\"\"Compute norm of a vector.\n",
      "\n",
      "        Norm of a vector associated to the inner product\n",
      "        at the tangent space at a base point.\n",
      "\n",
      "        Note: This only works for positive-definite\n",
      "        Riemannian metrics and inner products.\n",
      "\n",
      "        Parameters\n",
      "        ----------\n",
      "        vector : array-like, shape=[..., dim]\n",
      "            Vector.\n",
      "        base_point : array-like, shape=[..., dim]\n",
      "            Base point.\n",
      "            Optional, default: None.\n",
      "\n",
      "        Returns\n",
      "        -------\n",
      "        norm : array-like, shape=[...,]\n",
      "            Norm.\n",
      "        \"\"\"\n",
      "        sq_norm = self.squared_norm(vector, base_point)\n",
      "        norm = gs.sqrt(sq_norm)\n",
      "        return norm\n",
      "\n",
      "    def squared_dist(self, point_a, point_b, **kwargs):\n",
      "        \"\"\"Squared geodesic distance between two points.\n",
      "\n",
      "        Parameters\n",
      "        ----------\n",
      "        point_a : array-like, shape=[..., dim]\n",
      "            Point.\n",
      "        point_b : array-like, shape=[..., dim]\n",
      "            Point.\n",
      "\n",
      "        Returns\n",
      "        -------\n",
      "        sq_dist : array-like, shape=[...,]\n",
      "            Squared distance.\n",
      "        \"\"\"\n",
      "        log = self.log(point=point_b, base_point=point_a, **kwargs)\n",
      "\n",
      "        sq_dist = self.squared_norm(vector=log, base_point=point_a)\n",
      "        return sq_dist\n",
      "\n",
      "    def dist(self, point_a, point_b, **kwargs):\n",
      "        \"\"\"Geodesic distance between two points.\n",
      "\n",
      "        Note: It only works for positive definite\n",
      "        Riemannian metrics.\n",
      "\n",
      "        Parameters\n",
      "        ----------\n",
      "        point_a : array-like, shape=[..., dim]\n",
      "            Point.\n",
      "        point_b : array-like, shape=[..., dim]\n",
      "            Point.\n",
      "\n",
      "        Returns\n",
      "        -------\n",
      "        dist : array-like, shape=[...,]\n",
      "            Distance.\n",
      "        \"\"\"\n",
      "        sq_dist = self.squared_dist(point_a, point_b, **kwargs)\n",
      "        dist = gs.sqrt(sq_dist)\n",
      "        return dist\n",
      "\n",
      "    def dist_broadcast(self, point_a, point_b):\n",
      "        \"\"\"Compute the geodesic distance between points.\n",
      "\n",
      "        If n_samples_a == n_samples_b then dist is the element-wise\n",
      "        distance result of a point in points_a with the point from\n",
      "        points_b of the same index. If n_samples_a not equal to\n",
      "        n_samples_b then dist is the result of applying geodesic\n",
      "        distance for each point from points_a to all points from\n",
      "        points_b.\n",
      "\n",
      "        Parameters\n",
      "        ----------\n",
      "        point_a : array-like, shape=[n_samples_a, dim]\n",
      "            Set of points in the Poincare ball.\n",
      "        point_b : array-like, shape=[n_samples_b, dim]\n",
      "            Second set of points in the Poincare ball.\n",
      "\n",
      "        Returns\n",
      "        -------\n",
      "        dist : array-like,\n",
      "            shape=[n_samples_a, dim] or [n_samples_a, n_samples_b, dim]\n",
      "            Geodesic distance between the two points.\n",
      "        \"\"\"\n",
      "        ndim = len(self.shape)\n",
      "\n",
      "        if point_a.shape[-ndim:] != point_b.shape[-ndim:]:\n",
      "            raise ValueError(\"Manifold dimensions not equal\")\n",
      "\n",
      "        if ndim in (point_a.ndim, point_b.ndim) or (point_a.shape == point_b.shape):\n",
      "            return self.dist(point_a, point_b)\n",
      "\n",
      "        n_samples = point_a.shape[0] * point_b.shape[0]\n",
      "        point_a_broadcast, point_b_broadcast = gs.broadcast_arrays(\n",
      "            point_a[:, None], point_b[None, ...]\n",
      "        )\n",
      "\n",
      "        point_a_flatten = gs.reshape(\n",
      "            point_a_broadcast, (n_samples,) + point_a.shape[-ndim:]\n",
      "        )\n",
      "        point_b_flatten = gs.reshape(\n",
      "            point_b_broadcast, (n_samples,) + point_a.shape[-ndim:]\n",
      "        )\n",
      "\n",
      "        dist = self.dist(point_a_flatten, point_b_flatten)\n",
      "        dist = gs.reshape(dist, (point_a.shape[0], point_b.shape[0]))\n",
      "        dist = gs.squeeze(dist)\n",
      "        return dist\n",
      "\n",
      "    def dist_pairwise(self, points, n_jobs=1, **joblib_kwargs):\n",
      "        \"\"\"Compute the pairwise distance between points.\n",
      "\n",
      "        Parameters\n",
      "        ----------\n",
      "        points : array-like, shape=[n_samples, dim]\n",
      "            Set of points in the manifold.\n",
      "        n_jobs : int\n",
      "            Number of jobs to run in parallel, using joblib. Note that a\n",
      "            higher number of jobs may not be beneficial when one computation\n",
      "            of a geodesic distance is cheap.\n",
      "            Optional. Default: 1.\n",
      "        **joblib_kwargs : dict\n",
      "            Keyword arguments to joblib.Parallel\n",
      "\n",
      "        Returns\n",
      "        -------\n",
      "        dist : array-like, shape=[n_samples, n_samples]\n",
      "            Pairwise distance matrix between all the points.\n",
      "\n",
      "        See Also\n",
      "        --------\n",
      "        `joblib documentations <https://joblib.readthedocs.io/en/latest/>`_\n",
      "        \"\"\"\n",
      "        n_samples = points.shape[0]\n",
      "        rows, cols = gs.triu_indices(n_samples)\n",
      "\n",
      "        @joblib.delayed\n",
      "        @joblib.wrap_non_picklable_objects\n",
      "        def pickable_dist(x, y):\n",
      "            \"\"\"Wrap distance function to make it pickable.\"\"\"\n",
      "            return self.dist(x, y)\n",
      "\n",
      "        pool = joblib.Parallel(n_jobs=n_jobs, **joblib_kwargs)\n",
      "        out = pool(pickable_dist(points[i], points[j]) for i, j in zip(rows, cols))\n",
      "\n",
      "        pairwise_dist = geometry.symmetric_matrices.SymmetricMatrices.from_vector(\n",
      "            gs.array(out)\n",
      "        )\n",
      "        return pairwise_dist\n",
      "\n",
      "    def diameter(self, points):\n",
      "        \"\"\"Give the distance between two farthest points.\n",
      "\n",
      "        Distance between the two points that are farthest away from each other\n",
      "        in points.\n",
      "\n",
      "        Parameters\n",
      "        ----------\n",
      "        points : array-like, shape=[..., dim]\n",
      "            Points.\n",
      "\n",
      "        Returns\n",
      "        -------\n",
      "        diameter : float\n",
      "            Distance between two farthest points.\n",
      "        \"\"\"\n",
      "        diameter = 0.0\n",
      "        n_points = points.shape[0]\n",
      "\n",
      "        for i in range(n_points - 1):\n",
      "            dist_to_neighbors = self.dist(points[i, :], points[i + 1 :, :])\n",
      "            dist_to_farthest_neighbor = gs.amax(dist_to_neighbors)\n",
      "            diameter = gs.maximum(diameter, dist_to_farthest_neighbor)\n",
      "\n",
      "        return diameter\n",
      "\n",
      "    def closest_neighbor_index(self, point, neighbors):\n",
      "        \"\"\"Closest neighbor of point among neighbors.\n",
      "\n",
      "        Parameters\n",
      "        ----------\n",
      "        point : array-like, shape=[..., dim]\n",
      "            Point.\n",
      "        neighbors : array-like, shape=[..., dim]\n",
      "            Neighbors.\n",
      "\n",
      "        Returns\n",
      "        -------\n",
      "        closest_neighbor_index : int\n",
      "            Index of closest neighbor.\n",
      "        \"\"\"\n",
      "        dist = self.dist(point, neighbors)\n",
      "        closest_neighbor_index = gs.argmin(dist)\n",
      "\n",
      "        return closest_neighbor_index\n",
      "\n",
      "    def normal_basis(self, basis, base_point=None):\n",
      "        \"\"\"Normalize the basis with respect to the metric.\n",
      "\n",
      "        This corresponds to a renormalization of each basis vector.\n",
      "\n",
      "        Parameters\n",
      "        ----------\n",
      "        basis : array-like, shape=[dim, dim]\n",
      "            Matrix of a metric.\n",
      "        base_point\n",
      "\n",
      "        Returns\n",
      "        -------\n",
      "        basis : array-like, shape=[dim, n, n]\n",
      "            Normal basis.\n",
      "        \"\"\"\n",
      "        norms = self.squared_norm(basis, base_point)\n",
      "\n",
      "        return gs.einsum(\"i, ikl->ikl\", 1.0 / gs.sqrt(norms), basis)\n",
      "\n",
      "    def sectional_curvature(self, tangent_vec_a, tangent_vec_b, base_point=None):\n",
      "        r\"\"\"Compute the sectional curvature.\n",
      "\n",
      "        For two orthonormal tangent vectors :math:`x,y` at a base point,\n",
      "        the sectional curvature is defined by :math:`<R(x, y)x, y> =\n",
      "        <R_x(y), y>`. For non-orthonormal vectors vectors, it is\n",
      "        :math:`<R(x, y)x, y> / \\\\|x \\\\wedge y\\\\|^2`.\n",
      "\n",
      "        Parameters\n",
      "        ----------\n",
      "        tangent_vec_a : array-like, shape=[..., n, n]\n",
      "            Tangent vector at `base_point`.\n",
      "        tangent_vec_b : array-like, shape=[..., n, n]\n",
      "            Tangent vector at `base_point`.\n",
      "        base_point : array-like, shape=[..., n, n]\n",
      "            Point in the group. Optional, default is the identity\n",
      "\n",
      "        Returns\n",
      "        -------\n",
      "        sectional_curvature : array-like, shape=[...,]\n",
      "            Sectional curvature at `base_point`.\n",
      "\n",
      "        See Also\n",
      "        --------\n",
      "        https://en.wikipedia.org/wiki/Sectional_curvature\n",
      "        \"\"\"\n",
      "        curvature = self.curvature(\n",
      "            tangent_vec_a, tangent_vec_b, tangent_vec_a, base_point\n",
      "        )\n",
      "        sectional = self.inner_product(curvature, tangent_vec_b, base_point)\n",
      "        norm_a = self.squared_norm(tangent_vec_a, base_point)\n",
      "        norm_b = self.squared_norm(tangent_vec_b, base_point)\n",
      "        inner_ab = self.inner_product(tangent_vec_a, tangent_vec_b, base_point)\n",
      "        normalization_factor = norm_a * norm_b - inner_ab**2\n",
      "\n",
      "        condition = gs.isclose(normalization_factor, 0.0)\n",
      "        normalization_factor = gs.where(condition, EPSILON, normalization_factor)\n",
      "        return gs.where(~condition, sectional / normalization_factor, 0.0)\n"
     ]
    }
   ],
   "source": [
    "import inspect\n",
    "\n",
    "from geomstats.geometry.riemannian_metric import RiemannianMetric\n",
    "for line in inspect.getsourcelines(RiemannianMetric)[0]:\n",
    "    line = line.replace('\\n','');print(line)"
   ]
  },
  {
   "cell_type": "markdown",
   "id": "79d6bdc7",
   "metadata": {},
   "source": [
    "# 7. Curvature\n",
    "\n",
    "n a Euclidean space, a constant field is parallel along any curve. In a Riemannian manifold in general, parallel transport depends on the curve followed, and there may not exist fields that are parallel along all curves, not even localy. One can investigate the effect of parallel transport along small closed curves. Consider a point x ∈ M and the closed curves whose tangent velocities at that point span a subspace of dimension two. They introduce a deviation of parallel transport from the identity map of the tangent space at that point, and this deviation can be shown to depend only on a basis of this plane. This is due to the commuting properties of the covariant derivative, i.e. the difference between evaluating ∇X after ∇Y and vice-versa. This difference is not sufficient however to define a tensor. The following lemma gives a sufficient condition for a map to define a tensor on a manifold (Lafontaine, Gallot, et al. 2004, Proposition 1.114)."
   ]
  },
  {
   "cell_type": "markdown",
   "id": "d6e1af3a",
   "metadata": {
    "slideshow": {
     "slide_type": "slide"
    }
   },
   "source": [
    "## 7.1 Precise mathematical definition\n",
    "\n",
    "Definition 3.10 (Curvature tensor). Let $(M, \\nabla)$ be a manifold equipped with a connection. The curvature tensor of $(M, \\nabla)$ is defined as the map from $\\Gamma(T M)^{3}$ to $\\Gamma(T M)$ by\n",
    "$$\n",
    "R(X, Y) Z=\\nabla_{X} \\nabla_{Y} Z-\\nabla_{Y} \\nabla_{X} Z-\\nabla_{[X, Y]} Z\n",
    "$$\n",
    "The curvature tensor of a Riemannian manifold is the curvature of its Levi-Civita connection.\n",
    "\n",
    "In the above definition, the arguments $X, Y, Z$ are vector fields, but the tensoriality Lemma $3.1$ allows to write at any $x \\in M, R_{x}$ as a map defined on tangent vectors $u, v, w \\in T_{x} M$."
   ]
  },
  {
   "cell_type": "markdown",
   "id": "e190b950",
   "metadata": {
    "slideshow": {
     "slide_type": "slide"
    }
   },
   "source": [
    "## 7.2 \"Layman's term\" definition\n",
    "\n",
    "<center><img src=\"figs/01_curvature.png\" width=400px alt=\"default\"/></center>\n",
    "\n",
    "Drawing of the distortion of geodesics compared to Euclidean tangent vectors. Arrows represent tangent vectors, thin black lines represent geodesics and we use the notation $x_{v}=\\operatorname{Exp}_{x}(v)$. Curvature modifies the geodesic distance $d$ compared with the distance between $r v$ and $r w$ in $T_{x} M$ (adapted from Paulin 2014, Section 3.6.3)"
   ]
  },
  {
   "cell_type": "markdown",
   "id": "d27f338f",
   "metadata": {
    "slideshow": {
     "slide_type": "slide"
    }
   },
   "source": [
    "## 7.3 The Euclidean space\n",
    "\n",
    "In a Euclidean space Rd with the canonical inner-product, the connection coincides with the directional derivative, which commutes. Therefore R = 0."
   ]
  },
  {
   "cell_type": "markdown",
   "id": "6687dd7f",
   "metadata": {
    "slideshow": {
     "slide_type": "slide"
    }
   },
   "source": [
    "## 7.4 Sectional curvature\n",
    "\n",
    "These allow to define the sectional curvature for any $x \\in M$ and $u, v \\in T_{x} M$ such that $u, v$ are not collinear\n",
    "$$\n",
    "\\kappa_{x}(u, v)=\\frac{\\left\\langle R_{x}(u, v) v, u\\right\\rangle}{\\|u\\|^{2}\\|v\\|^{2}-\\langle u, v\\rangle^{2}}\n",
    "$$\n",
    "From the above properties, the value of $\\kappa_{x}$ in fact only depends on the plane spanned by $(u, v)$, i.e. for any non-vanishing linear combination $\\alpha u+\\beta v, \\kappa(\\alpha u+\\beta v, v)=\\kappa(u, v)$. \n",
    "\n",
    "\n",
    "Theorem 3.5. The sectional curvature determines the curvature tensor."
   ]
  },
  {
   "cell_type": "markdown",
   "id": "83fe3ac3",
   "metadata": {
    "slideshow": {
     "slide_type": "slide"
    }
   },
   "source": [
    "# Outline\n",
    "\n",
    "\n",
    "1. What is a connection?\n",
    "2. Why do we care about connection?\n",
    "3. How can we implement connection?\n",
    "4. What is a Riemannian metric?\n",
    "5. Why do we care about Riemannian metrics?\n",
    "6. How can we implement Riemannian metrics?\n",
    "7. Curvature\n",
    "\n",
    "Questions?"
   ]
  }
 ],
 "metadata": {
  "celltoolbar": "Slideshow",
  "kernelspec": {
   "display_name": "Python 3 (ipykernel)",
   "language": "python",
   "name": "python3"
  },
  "language_info": {
   "codemirror_mode": {
    "name": "ipython",
    "version": 3
   },
   "file_extension": ".py",
   "mimetype": "text/x-python",
   "name": "python",
   "nbconvert_exporter": "python",
   "pygments_lexer": "ipython3",
   "version": "3.9.9"
  }
 },
 "nbformat": 4,
 "nbformat_minor": 5
}
