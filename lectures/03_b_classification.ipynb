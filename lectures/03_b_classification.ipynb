{
 "cells": [
  {
   "cell_type": "markdown",
   "id": "83fc4529",
   "metadata": {
    "slideshow": {
     "slide_type": "slide"
    }
   },
   "source": [
    "###### 03 Geometric Machine Learning for Shape Analysis\n",
    "\n",
    "## A) Classification on Manifolds and Shape Spaces\n",
    "\n",
    "$\\color{#003660}{\\text{Nina Miolane - Assistant Professor}}$ @ BioShape Lab @ UCSB ECE\n"
   ]
  },
  {
   "cell_type": "markdown",
   "id": "6336f276",
   "metadata": {
    "cell_style": "center"
   },
   "source": [
    "<center><img src=\"figs/03_frechetmean.png\" width=250px alt=\"default\"/></center>"
   ]
  },
  {
   "cell_type": "markdown",
   "id": "4f49707b",
   "metadata": {
    "slideshow": {
     "slide_type": "slide"
    }
   },
   "source": [
    "# This Unit\n",
    "\n",
    "- **Unit 1 (Geometry - Math!)**: Differential Geometry for Engineers\n",
    "- **Unit 2 (Shapes)**: Computational Representations of Biomedical Shapes\n",
    "- **Unit 3 (Machine Learning)**: **Geometric Machine Learning for Shape Analysis**\n",
    "  - A) Mean and Covariance\n",
    "  - **B) Supervised Learning: Classification**\n",
    "    - Motivation: Classification of Schizophrenia\n",
    "    - Tangent Machine Learning: Tangent Classifications\n",
    "    - Metric Machine Learning: Minimum distance to mean\n",
    "  - C) Supervised Learning: Regression\n",
    "  - D) Unsupervised Learning: Clustering\n",
    "  - E) Unsupervised Learning: Dimension Reduction\n",
    "- **Unit 4 (Deep Learning)**: Geometric Deep Learning for Shape Analysis\n",
    "\n",
    "$\\rightarrow$ We explain the machine learning algorithms and statistics used in these real-world scenarios.\n",
    "\n",
    "<center><img src=\"figs/00_bioshape.jpg\" width=350px alt=\"default\"/></center>\n"
   ]
  },
  {
   "cell_type": "markdown",
   "id": "55f194a7",
   "metadata": {
    "slideshow": {
     "slide_type": "slide"
    }
   },
   "source": [
    "# Overview of Machine Learning (ML)\n",
    "\n",
    "Machine Learning is divided into two principal categories of algorithms: supervised and unsupervised learning algorithms. Both learn from data.\n",
    "\n",
    "$\\color{#EF5645}{\\text{Definition}}$: Supervised learning refers to the task of learning a function that maps an input $x$ to an output $y$ based on example input-output pairs. We say that the model is:\n",
    "- a classification if the outputs are categorical,\n",
    "- a regression if the outputs are quantitative.\n",
    "\n",
    "$\\color{#047C91}{\\text{Exercise}}$: Regression or Classification?\n",
    "- Learning a function that takes a cancer cell shape as input and outputs the type of drug that has been given to this cell.\n",
    "- Learning a function that takes a brain shape as input and outputs the age of the subject."
   ]
  },
  {
   "cell_type": "markdown",
   "id": "134a4187",
   "metadata": {
    "slideshow": {
     "slide_type": "slide"
    }
   },
   "source": [
    "# Recall: Classification\n",
    "\n",
    "Goal: Given X, predict y (categorical).\n",
    "\n",
    "Do this in two phases:\n",
    "- Training time\n",
    "- Testing / Prediction time"
   ]
  },
  {
   "cell_type": "markdown",
   "id": "b49df37a",
   "metadata": {
    "slideshow": {
     "slide_type": "slide"
    }
   },
   "source": [
    "# Motivation: Classification of Schizophrenia"
   ]
  },
  {
   "cell_type": "markdown",
   "id": "885feaff",
   "metadata": {
    "slideshow": {
     "slide_type": "skip"
    }
   },
   "source": [
    "https://docs.google.com/presentation/d/19jSZkBc6VapBvM4e8mdkJmvwLI45h1lr_qF-ICWnG-c/edit#slide=id.g5f5b9a4556_0_294\n",
    "    \n",
    "    \n",
    "https://docs.google.com/presentation/d/1bytt22z6IiBtMNER_ECRe2vN9UiLk0Xn_Vh0fcwopug/edit#slide=id.g5f813788fb_0_79\n",
    "\n",
    "\n",
    "https://docs.google.com/presentation/d/1owh_z33vBAay5eGHEtjotU33FmY17b6qOi3cOcjYuG0/edit#slide=id.g5f813788fb_0_85"
   ]
  },
  {
   "cell_type": "markdown",
   "id": "ef214734",
   "metadata": {
    "slideshow": {
     "slide_type": "slide"
    }
   },
   "source": [
    "## Brain Shapes: White Matter\n",
    "\n",
    "White matter is referd to as the \"highway of the brain\", it transports the information.\n",
    "\n",
    "$\\color{#EF5645}{\\text{What is White Matter}}$: \n",
    "- White matter makes up the bulk of the deep parts of the brain. \n",
    "- Unlike gray matter, which peaks in development when we are 11 or 12 years old, white matter keeps developing well into our 20s (and perhaps, in more subtle ways, into our 50s).\n",
    "- White matter consists of bundles of axons, or tracts, which are the long, slender projections of nerve cells."
   ]
  },
  {
   "cell_type": "markdown",
   "id": "39eb7764",
   "metadata": {
    "cell_style": "split",
    "slideshow": {
     "slide_type": "slide"
    }
   },
   "source": [
    "<center><img src=\"figs/03_subway_brain.jpeg\" width=400px alt=\"default\"/></center>"
   ]
  },
  {
   "cell_type": "markdown",
   "id": "1fbf7353",
   "metadata": {
    "cell_style": "split"
   },
   "source": [
    "<center><img src=\"figs/03_white_tracks.jpeg\" width=400px alt=\"default\"/></center>"
   ]
  },
  {
   "cell_type": "markdown",
   "id": "329ebae6",
   "metadata": {
    "slideshow": {
     "slide_type": "slide"
    }
   },
   "source": [
    "## Structural Connectome vs Functional Connectomes\n",
    "\n",
    "Assume that the brain is divided into N brain areas.\n",
    "\n",
    "<center><img src=\"figs/03_parcellation.png\" width=200px alt=\"default\"/></center>\n",
    "\n",
    "$\\color{#EF5645}{\\text{Definition}}$:\n",
    "- The structural connectome refers to how the areas are \"structurally\" connected, i.e. how many fiber tracks link two areas.\n",
    "- The functional connectome refers to how the areas are \"functionally\" connected, i.e. whether one area co-activates with another area.\n",
    "\n",
    "We use the functional connectomes in what follows, but they are correlated with the structural connectome, i.e. the shape of the white fiber tracks."
   ]
  },
  {
   "cell_type": "markdown",
   "id": "f833908b",
   "metadata": {
    "slideshow": {
     "slide_type": "slide"
    }
   },
   "source": [
    "$\\color{#EF5645}{\\text{Question}}$: Given functional connectomes of several subjects, can we predict which subject has Schizophrenia?\n",
    "\n",
    "$\\color{#EF5645}{\\text{Our answer}}$: We will use this example to illustrate classification on manifold:\n",
    "- input: X = one connectome: we will see that it is a SPD matrix, i.e. an element of SPD manifold\n",
    "- output: Y is either 0 (healthy control) or 1 (schizophrenia)\n",
    "\n",
    "$\\rightarrow$ Classification."
   ]
  },
  {
   "cell_type": "markdown",
   "id": "403782ef",
   "metadata": {
    "slideshow": {
     "slide_type": "slide"
    }
   },
   "source": [
    "# Data\n",
    "\n",
    "We have:\n",
    "- 86 connectomes.\n",
    "- Among them, 46 are from healthy controls and 40 from schizophrenic patients."
   ]
  },
  {
   "cell_type": "code",
   "execution_count": 8,
   "id": "59cd9956",
   "metadata": {},
   "outputs": [],
   "source": [
    "import numpy as np\n",
    "import matplotlib.pyplot as plt"
   ]
  },
  {
   "cell_type": "code",
   "execution_count": 19,
   "id": "ee78b767",
   "metadata": {},
   "outputs": [
    {
     "name": "stdout",
     "output_type": "stream",
     "text": [
      "There are 86 connectomes:46 healthy controls and 40 schizophrenic patients.\n"
     ]
    }
   ],
   "source": [
    "import geomstats.datasets.utils as data_utils\n",
    "\n",
    "data, patient_ids, labels = data_utils.load_connectomes()\n",
    "print(f\"There are {len(data)} connectomes:\"\n",
    "      f\"{sum(labels==0)} healthy controls and {sum(labels==1)} schizophrenic patients.\")"
   ]
  },
  {
   "cell_type": "markdown",
   "id": "a62b0bd6",
   "metadata": {
    "slideshow": {
     "slide_type": "slide"
    }
   },
   "source": [
    "Plot two first connectomes: they are 28 x 28 matrices, that look symmetric."
   ]
  },
  {
   "cell_type": "code",
   "execution_count": 14,
   "id": "89100639",
   "metadata": {},
   "outputs": [
    {
     "data": {
      "image/png": "[encoded data removed]",
      "text/plain": [
       "<Figure size 576x288 with 2 Axes>"
      ]
     },
     "metadata": {
      "needs_background": "light"
     },
     "output_type": "display_data"
    }
   ],
   "source": [
    "labels_str = [\"Healthy\", \"Schizophrenic\"]\n",
    "\n",
    "fig = plt.figure(figsize=(8, 4))\n",
    "\n",
    "ax = fig.add_subplot(121)\n",
    "imgplot = ax.imshow(data[0]); ax.set_title(labels_str[labels[0]])\n",
    "\n",
    "ax = fig.add_subplot(122)\n",
    "imgplot = ax.imshow(data[1]); ax.set_title(labels_str[labels[1]])\n",
    "\n",
    "plt.show()"
   ]
  },
  {
   "cell_type": "markdown",
   "id": "eead164f",
   "metadata": {
    "slideshow": {
     "slide_type": "slide"
    }
   },
   "source": [
    "We verify that the connectomes in `data` belong to the manifold of SPD matrices."
   ]
  },
  {
   "cell_type": "code",
   "execution_count": 21,
   "id": "27ee472d",
   "metadata": {},
   "outputs": [
    {
     "data": {
      "text/plain": [
       "array([ True,  True,  True,  True,  True,  True,  True,  True,  True,\n",
       "        True,  True,  True,  True,  True,  True,  True,  True,  True,\n",
       "        True,  True,  True,  True,  True,  True,  True,  True,  True,\n",
       "        True,  True,  True,  True,  True,  True,  True,  True,  True,\n",
       "        True,  True,  True,  True,  True,  True,  True,  True,  True,\n",
       "        True,  True,  True,  True,  True,  True,  True,  True,  True,\n",
       "        True,  True,  True,  True,  True,  True,  True,  True,  True,\n",
       "        True,  True,  True,  True,  True,  True,  True,  True,  True,\n",
       "        True,  True,  True,  True,  True,  True,  True,  True,  True,\n",
       "        True,  True,  True,  True,  True])"
      ]
     },
     "execution_count": 21,
     "metadata": {},
     "output_type": "execute_result"
    }
   ],
   "source": [
    "from geomstats.geometry.spd_matrices import SPDMatrices\n",
    "\n",
    "spd_manifold = SPDMatrices(n=28)\n",
    "spd_manifold.belongs(data)"
   ]
  },
  {
   "cell_type": "markdown",
   "id": "6e6dcbad",
   "metadata": {
    "slideshow": {
     "slide_type": "slide"
    }
   },
   "source": [
    "## Classification Method 1: Tangent Machine Learning"
   ]
  },
  {
   "cell_type": "markdown",
   "id": "178c1e98",
   "metadata": {
    "slideshow": {
     "slide_type": "slide"
    }
   },
   "source": [
    "### Recall: \"Trick\": Tangent Space at the Fréchet Mean\n",
    "\n",
    "The Fréchet mean gives us a way of transforming our non-linear data into vectors!\n",
    "- Compute the Fréchet mean $\\bar{x}$ of the data points\n",
    "- Consider the tangent space $T_\\bar{x}M$of the manifold $M$ at $\\bar{x}$\n",
    "- Compute the Logarithms of the data points $x_i$ at $\\bar{x}$\n",
    "\n",
    "$\\rightarrow$ Get a dataset on a vector space, and apply classical machine learning on it.\n",
    "\n",
    "$\\rightarrow$ This is done using `ToTangentSpace`: which automatically computes the `FrechetMean` and project the data on the corresponding tangent space. We can then use any machine learning's classification algorithm available in `scikit-learn`."
   ]
  },
  {
   "cell_type": "markdown",
   "id": "47c6fd2e",
   "metadata": {
    "slideshow": {
     "slide_type": "slide"
    }
   },
   "source": [
    "$\\color{#047C91}{\\text{Example}}$: Use \"logistic regression\", which is a classifier."
   ]
  },
  {
   "cell_type": "code",
   "execution_count": 31,
   "id": "9e0a6432",
   "metadata": {},
   "outputs": [],
   "source": [
    "from geomstats.learning.preprocessing import ToTangentSpace\n",
    "from sklearn.pipeline import Pipeline\n",
    "from sklearn.linear_model import LogisticRegression\n",
    "\n",
    "lr_pipeline = Pipeline(\n",
    "    steps=[\n",
    "        (\"trick_tangent_space\", ToTangentSpace(geometry=spd_manifold.metric)),\n",
    "        (\"classifier\", LogisticRegression(C=2)),\n",
    "    ]\n",
    ")"
   ]
  },
  {
   "cell_type": "markdown",
   "id": "9dfbab7d",
   "metadata": {
    "slideshow": {
     "slide_type": "slide"
    }
   },
   "source": [
    "We classify connectomes, and we evaluate the model with cross validation. "
   ]
  },
  {
   "cell_type": "code",
   "execution_count": 37,
   "id": "818e1ff8",
   "metadata": {
    "slideshow": {
     "slide_type": "slide"
    }
   },
   "outputs": [],
   "source": [
    "from sklearn.model_selection import train_test_split\n",
    "\n",
    "\n",
    "X = data; y = labels\n",
    "X_train, X_test, y_train, y_test = train_test_split(X, y, random_state=0)"
   ]
  },
  {
   "cell_type": "code",
   "execution_count": 43,
   "id": "e790f68c",
   "metadata": {
    "slideshow": {
     "slide_type": "slide"
    }
   },
   "outputs": [
    {
     "name": "stdout",
     "output_type": "stream",
     "text": [
      "We get an accuracy of 0.73.\n"
     ]
    }
   ],
   "source": [
    "lr_pipeline.fit(X_train, y_train)"
   ]
  },
  {
   "cell_type": "markdown",
   "id": "71e468be",
   "metadata": {},
   "source": [
    "We compute its accuracy on a test set."
   ]
  },
  {
   "cell_type": "code",
   "execution_count": null,
   "id": "62d762a8",
   "metadata": {},
   "outputs": [],
   "source": [
    "print(f\"We get an accuracy of {lr_pipeline.score(X_test, y_test):.2f}.\")"
   ]
  },
  {
   "cell_type": "markdown",
   "id": "e9ddef1b",
   "metadata": {
    "slideshow": {
     "slide_type": "slide"
    }
   },
   "source": [
    "We can use it to make new predictions."
   ]
  },
  {
   "cell_type": "code",
   "execution_count": 48,
   "id": "8ec70c23",
   "metadata": {
    "scrolled": false
   },
   "outputs": [
    {
     "data": {
      "text/plain": [
       "['Healthy', 'Schizophrenic']"
      ]
     },
     "execution_count": 48,
     "metadata": {},
     "output_type": "execute_result"
    }
   ],
   "source": [
    "[labels_str[i] for i in lr_pipeline.predict(X_test[:2])]"
   ]
  },
  {
   "cell_type": "markdown",
   "id": "afdcc4f2",
   "metadata": {
    "slideshow": {
     "slide_type": "slide"
    }
   },
   "source": [
    "$\\color{#047C91}{\\text{Example}}$: Use \"SVC\" which stands for Support Vector Classifier, which is another classifier."
   ]
  },
  {
   "cell_type": "code",
   "execution_count": 50,
   "id": "173d0dbd",
   "metadata": {},
   "outputs": [],
   "source": [
    "from sklearn.svm import SVC\n",
    "\n",
    "svc_pipeline = Pipeline(\n",
    "    steps=[\n",
    "        (\"trick_tangent_space\", ToTangentSpace(geometry=spd_manifold.metric)),\n",
    "        (\"classifier\", SVC(C=1.)),\n",
    "    ]\n",
    ")"
   ]
  },
  {
   "cell_type": "code",
   "execution_count": 51,
   "id": "fa173528",
   "metadata": {
    "slideshow": {
     "slide_type": "slide"
    }
   },
   "outputs": [
    {
     "name": "stdout",
     "output_type": "stream",
     "text": [
      "We get an accuracy of 0.55.\n"
     ]
    }
   ],
   "source": [
    "svc_pipeline.fit(X_train, y_train)\n",
    "\n",
    "print(f\"We get an accuracy of {svc_pipeline.score(X_test, y_test):.2f}.\")"
   ]
  },
  {
   "cell_type": "markdown",
   "id": "584c86ca",
   "metadata": {
    "slideshow": {
     "slide_type": "slide"
    }
   },
   "source": [
    "## Classification Method 2: Minimum Distance to Mean\n",
    "\n",
    "- Training: Compute the mean of each class\n",
    "- Testing: Give label of the class whose mean is the closest to the new data point.\n",
    "\n",
    "$\\color{#047C91}{\\text{Exercise}}$: What is the tool we need to be able to apply this method?\n",
    "\n",
    "<center><img src=\"figs/03_mdm.png\" width=400px alt=\"default\"/></center>\n",
    "\n",
    "\n"
   ]
  },
  {
   "cell_type": "code",
   "execution_count": 56,
   "id": "bf73b556",
   "metadata": {
    "slideshow": {
     "slide_type": "slide"
    }
   },
   "outputs": [],
   "source": [
    "from geomstats.learning.mdm import RiemannianMinimumDistanceToMeanClassifier\n",
    "\n",
    "mdm = RiemannianMinimumDistanceToMeanClassifier(riemannian_metric=spd_manifold.metric, n_classes=2)\n",
    "\n",
    "mdm.fit(X_train, y_train)"
   ]
  },
  {
   "cell_type": "code",
   "execution_count": 58,
   "id": "b5695bf8",
   "metadata": {
    "slideshow": {
     "slide_type": "slide"
    }
   },
   "outputs": [
    {
     "data": {
      "text/plain": [
       "0.8181818181818182"
      ]
     },
     "execution_count": 58,
     "metadata": {},
     "output_type": "execute_result"
    }
   ],
   "source": [
    "mdm.predict(X_test)\n",
    "mdm.score(X_test, y_test)"
   ]
  },
  {
   "cell_type": "markdown",
   "id": "8f7442a9",
   "metadata": {
    "slideshow": {
     "slide_type": "slide"
    }
   },
   "source": [
    "# This Unit\n",
    "\n",
    "- **Unit 1 (Geometry - Math!)**: Differential Geometry for Engineers\n",
    "- **Unit 2 (Shapes)**: Computational Representations of Biomedical Shapes\n",
    "- **Unit 3 (Machine Learning)**: **Geometric Machine Learning for Shape Analysis**\n",
    "  - A) Mean and Covariance\n",
    "  - **B) Supervised Learning: Classification**\n",
    "    - Motivation: Classification of Schizophrenia\n",
    "    - Tangent Machine Learning: Tangent Classifications\n",
    "    - Metric Machine Learning: Minimum distance to mean\n",
    "  - C) Supervised Learning: Regression\n",
    "  - D) Unsupervised Learning: Clustering\n",
    "  - E) Unsupervised Learning: Dimension Reduction\n",
    "- **Unit 4 (Deep Learning)**: Geometric Deep Learning for Shape Analysis\n",
    "\n",
    "$\\rightarrow$ We explain the machine learning algorithms and statistics used in these real-world scenarios.\n",
    "\n",
    "<center><img src=\"figs/00_bioshape.jpg\" width=350px alt=\"default\"/></center>\n"
   ]
  },
  {
   "cell_type": "code",
   "execution_count": null,
   "id": "6e4ea668",
   "metadata": {},
   "outputs": [],
   "source": []
  }
 ],
 "metadata": {
  "celltoolbar": "Slideshow",
  "kernelspec": {
   "display_name": "Python 3 (ipykernel)",
   "language": "python",
   "name": "python3"
  },
  "language_info": {
   "codemirror_mode": {
    "name": "ipython",
    "version": 3
   },
   "file_extension": ".py",
   "mimetype": "text/x-python",
   "name": "python",
   "nbconvert_exporter": "python",
   "pygments_lexer": "ipython3",
   "version": "3.9.9"
  }
 },
 "nbformat": 4,
 "nbformat_minor": 5
}
