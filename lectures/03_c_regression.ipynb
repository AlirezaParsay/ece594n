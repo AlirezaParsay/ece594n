{
 "cells": [
  {
   "cell_type": "markdown",
   "id": "83fc4529",
   "metadata": {
    "slideshow": {
     "slide_type": "slide"
    }
   },
   "source": [
    "###### 03 Geometric Machine Learning for Shape Analysis\n",
    "\n",
    "## C) Supervised Learning: Regression\n",
    "\n",
    "$\\color{#003660}{\\text{Nina Miolane - Assistant Professor}}$ @ BioShape Lab @ UCSB ECE\n"
   ]
  },
  {
   "cell_type": "markdown",
   "id": "6336f276",
   "metadata": {
    "cell_style": "center"
   },
   "source": [
    "<center><img src=\"figs/03_ratyz.png\" width=350px alt=\"default\"/></center>"
   ]
  },
  {
   "cell_type": "markdown",
   "id": "4f49707b",
   "metadata": {
    "slideshow": {
     "slide_type": "slide"
    }
   },
   "source": [
    "# This Unit\n",
    "\n",
    "- **Unit 1 (Geometry - Math!)**: Differential Geometry for Engineers\n",
    "- **Unit 2 (Shapes)**: Computational Representations of Biomedical Shapes\n",
    "- **Unit 3 (Machine Learning)**: **Geometric Machine Learning for Shape Analysis**\n",
    "  - A) Mean and Covariance\n",
    "  - B) Supervised Learning: Classification\n",
    "  - **C) Supervised Learning: Regression**\n",
    "    - Motivation: Regression on rats skulls\n",
    "    - Tangent Machine Learning: Tangent linear regression\n",
    "    - Geometric Machine Learning: Geodesic regression\n",
    "  - D) Unsupervised Learning: Clustering\n",
    "  - E) Unsupervised Learning: Dimension Reduction\n",
    "- **Unit 4 (Deep Learning)**: Geometric Deep Learning for Shape Analysis\n",
    "\n",
    "$\\rightarrow$ We explain the machine learning algorithms and statistics used in these real-world scenarios.\n",
    "\n",
    "<center><img src=\"figs/00_bioshape.jpg\" width=350px alt=\"default\"/></center>\n"
   ]
  },
  {
   "cell_type": "markdown",
   "id": "55f194a7",
   "metadata": {
    "slideshow": {
     "slide_type": "slide"
    }
   },
   "source": [
    "# Overview of Machine Learning (ML)\n",
    "\n",
    "Machine Learning is divided into two principal categories of algorithms: supervised and unsupervised learning algorithms. Both learn from data.\n",
    "\n",
    "$\\color{#EF5645}{\\text{Definition}}$: **Supervised learning** refers to the task of learning a function that maps an input $x$ to an output $y$ based on example input-output pairs. We say that the model is:\n",
    "- a classification if the outputs are categorical,\n",
    "- a regression if the outputs are quantitative.\n",
    "\n",
    "<center><img src=\"figs/03_sl2.png\" width=900px alt=\"default\"/></center>\n",
    "<center>Supervised Learning</center>"
   ]
  },
  {
   "cell_type": "markdown",
   "id": "134a4187",
   "metadata": {
    "slideshow": {
     "slide_type": "slide"
    }
   },
   "source": [
    "# Regression\n",
    "\n",
    "\n",
    "\n",
    "$\\color{#EF5645}{\\text{Given data}}$:\n",
    "- $(X_1, ..., X_n)$:\n",
    "  - inputs, e.g. ages of the rats, in days.\n",
    "- $(y_1, ..., y_n)$: \n",
    "  - outputs, e.g. rat skull shapes.\n",
    "\n",
    "\n",
    "\n",
    "<center><img src=\"figs/03_linear_regression.png\" width=350px alt=\"default\"/></center>\n",
    "<center>Inputs: $X_1, ..., X_n \\in \\mathbb{R}$. Outputs $y_1, ..., y_n \\in \\mathbb{R}$.</center>\n",
    "\n",
    "$\\rightarrow \\color{#EF5645}{\\text{Goal}}$: Build $f$ that predicts the rat skull shape corresponding to a new time $X_\\text{new}$.\n"
   ]
  },
  {
   "cell_type": "markdown",
   "id": "70d842fe",
   "metadata": {
    "slideshow": {
     "slide_type": "slide"
    }
   },
   "source": [
    "## Method\n",
    "\n",
    "1. Set-up\n",
    "- $\\color{#EF5645}{\\text{Decide on the model:}}$ Function $f_\\theta$, that outputs $\\hat y = f_\\theta(X)$: prediction for $y$.\n",
    "  - $X$: input, e.g. time\n",
    "  - $y$: true output (ground truth), e.g. true rat skull at this time\n",
    "  - $\\hat y = f_\\theta(X)$: model output, e.g. model's predicted skull.\n",
    "- $\\color{#EF5645}{\\text{Decide on a loss function:}}$ $L(y, \\hat y)$ that evaluates if the model is right or wrong.\n",
    "\n",
    "\n",
    "$\\color{#047C91}{\\text{Example}}$: \n",
    "- The model $f_\\theta(X) = \\theta_0 + \\theta_1 X$ has parameters $\\theta=(\\theta_0, \\theta_1)$.\n",
    "- The loss function $L(y, \\hat y) = d^2(y, \\hat y)$ with $d$ is a notion of distance on shape spaces.\n",
    "  - e.g. $L(y, \\hat y)= |y - \\hat y |^2 = |y - \\theta_0 - \\theta_1 X |^2$: least-squares.\n"
   ]
  },
  {
   "cell_type": "markdown",
   "id": "e5f90e4b",
   "metadata": {
    "slideshow": {
     "slide_type": "slide"
    }
   },
   "source": [
    "2. $\\color{#EF5645}{\\text{Split dataset into train / test sets:}}$ \n",
    "   - Train $(X_1, y_1), ..., (X_{n_\\text{train}}, y_{n_\\text{train}})$: build the algorithm\n",
    "   - Test $(X_{n_\\text{train}+1}, y_{n_\\text{train}+1}), ..., (X_n, y_n)$: assess its performances.\n",
    "   \n",
    "3. $\\color{#EF5645}{\\text{Train:}}$ Build the algorithm\n",
    "   - Also called: \"Fitting the model's parameters $\\theta$.\"\n",
    "   - Find $\\theta^*$ such that the model predicts the train set best: \n",
    "   $$\\theta^* = \\text{argmin}_\\theta \\sum_{i=1}^{n_\\text{train}} L(y_i, f_\\theta(X_i))$$\n",
    "   \n",
    "4. $\\color{#EF5645}{\\text{Test:}}$ Assess its performances: \n",
    "   - Loss on test set: $\\sum_{i=n_\\text{train}+1}^{n} L(y_i, f_{\\theta^*}(X_i))$"
   ]
  },
  {
   "cell_type": "markdown",
   "id": "b49df37a",
   "metadata": {
    "slideshow": {
     "slide_type": "slide"
    }
   },
   "source": [
    "# Motivation: Regression of Rat Skulls Shapes"
   ]
  },
  {
   "cell_type": "markdown",
   "id": "ef214734",
   "metadata": {
    "slideshow": {
     "slide_type": "slide"
    }
   },
   "source": [
    "## Rat Skulls\n",
    "\n",
    "We are interested in modeling the evolution of rat skulls shapes, in order to (later) evaluate if new rats have morphological issues at development.\n",
    "\n",
    "<center><img src=\"figs/03_ratyz.png\" width=400px alt=\"default\"/></center>\n",
    "\n",
    "<center>8 landmarks on a rat's skull.</center>"
   ]
  },
  {
   "cell_type": "markdown",
   "id": "f833908b",
   "metadata": {
    "slideshow": {
     "slide_type": "slide"
    }
   },
   "source": [
    "$\\color{#EF5645}{\\text{Question}}$: Given skulls of a rat at different time points, can we predict what is the shape of the skull of that rat at another time?\n",
    "\n",
    "$\\color{#EF5645}{\\text{Our answer}}$: Regression on manifold:\n",
    "- input: X = time in days: is a real number.\n",
    "- output: y is a skull shape, represented in Kendall shape spaces, with 8 landmarks.\n"
   ]
  },
  {
   "cell_type": "markdown",
   "id": "403782ef",
   "metadata": {
    "slideshow": {
     "slide_type": "slide"
    }
   },
   "source": [
    "# Data\n",
    "\n",
    "- Vilmann’s rat calvaria (skulls excluding the lower jaw) from X-ray images.\n",
    "  - 8 landmarks in 2D for each shape.\n",
    "- 18 individuals, out of which we extract the 1st one.\n",
    "- 8 time points: at ages of 7, 14, 21, 30, 40, 60, 90, and 150 days."
   ]
  },
  {
   "cell_type": "code",
   "execution_count": 1,
   "id": "59cd9956",
   "metadata": {},
   "outputs": [],
   "source": [
    "import numpy as np\n",
    "import matplotlib.pyplot as plt\n",
    "\n",
    "import os\n",
    "os.environ[\"GEOMSTATS_BACKEND\"] = \"autograd\""
   ]
  },
  {
   "cell_type": "code",
   "execution_count": 3,
   "id": "ee78b767",
   "metadata": {},
   "outputs": [
    {
     "name": "stdout",
     "output_type": "stream",
     "text": [
      "The data of the first rat has shape (n_times, n_landmarks, dim)=(8, 8, 2).\n"
     ]
    }
   ],
   "source": [
    "import geomstats.datasets.utils as data_utils\n",
    "\n",
    "data = np.load(\"03_rat_skulls.npy\")\n",
    "data_first = data[:8]\n",
    "print(f\"The data of the first rat has shape (n_times, n_landmarks, dim)={data_first.shape}.\")"
   ]
  },
  {
   "cell_type": "code",
   "execution_count": 4,
   "id": "28abeb5e",
   "metadata": {
    "slideshow": {
     "slide_type": "slide"
    }
   },
   "outputs": [
    {
     "data": {
      "image/png": "[encoded data removed]",
      "text/plain": [
       "<Figure size 576x576 with 1 Axes>"
      ]
     },
     "metadata": {
      "needs_background": "light"
     },
     "output_type": "display_data"
    }
   ],
   "source": [
    "fig = plt.figure(figsize=(8, 8))\n",
    "ax = fig.add_subplot(111)\n",
    "points = data_first.reshape(-1, 2)\n",
    "plt_plot, = plt.plot(\n",
    "    points[:, 0], points[:, 1], 'o', markersize=10)\n",
    "ax.set_title(\"Rat skull measurements: 8 landmarks at 8 time points.\");"
   ]
  },
  {
   "cell_type": "markdown",
   "id": "6e6dcbad",
   "metadata": {
    "slideshow": {
     "slide_type": "slide"
    }
   },
   "source": [
    "## Regression Method 1: Tangent Machine Learning"
   ]
  },
  {
   "cell_type": "markdown",
   "id": "178c1e98",
   "metadata": {
    "slideshow": {
     "slide_type": "slide"
    }
   },
   "source": [
    "### Recall: \"Trick\": Tangent Space at the Fréchet Mean\n",
    "\n",
    "The Fréchet mean gives us a way of transforming our non-linear data into vectors!\n",
    "1. Compute the Fréchet mean $\\bar{x}$ of the data points\n",
    "2. Consider the tangent space $T_\\bar{x}M$of the manifold $M$ at $\\bar{x}$\n",
    "3. Compute the Logarithms of the data points at $\\bar{x}$\n",
    "\n",
    "$\\rightarrow$ Get a dataset on a vector space, and apply classical machine learning on it.\n",
    "\n",
    "$\\color{#EF5645}{\\text{In practice}}$: \n",
    "- Either use `FrechetMean` and `metric.log` methods.\n",
    "- Or the function `ToTangentSpace` does both."
   ]
  },
  {
   "cell_type": "markdown",
   "id": "47c6fd2e",
   "metadata": {
    "slideshow": {
     "slide_type": "slide"
    }
   },
   "source": [
    "1. Set-up\n",
    "\n",
    "- $\\color{#EF5645}{\\text{Decide on the model:}}$ Function $f_\\theta$, that outputs $\\hat y = f_\\theta(X)$: prediction for $y$.\n",
    "- $\\color{#EF5645}{\\text{Decide on a loss function:}}$ $L(y, \\hat y)$ that evaluates if the model is right or wrong.\n",
    "\n",
    "$\\color{#047C91}{\\text{Example}}$: \n",
    "- Use `ToTangentSpace` (do it manually here, with `FrechetMean`, `metric.log`)\n",
    "- Use any regressor from `scikit-learn`, e.g. `LinearRegression`.\n",
    "  - `LinearRegression` comes with its loss function."
   ]
  },
  {
   "cell_type": "code",
   "execution_count": 5,
   "id": "9e0a6432",
   "metadata": {},
   "outputs": [],
   "source": [
    "from pre_shape_autodiff import PreShapeSpace, KendallShapeMetric\n",
    "from geomstats.learning.frechet_mean import FrechetMean\n",
    "\n",
    "from sklearn.linear_model import LinearRegression\n",
    "\n",
    "preshape = PreShapeSpace(k_landmarks=8, m_ambient=2)\n",
    "kendall_metric = KendallShapeMetric(k_landmarks=8, m_ambient=2)\n",
    "\n",
    "mean = FrechetMean(metric=kendall_metric, point_type=\"matrix\")\n",
    "lr = LinearRegression()"
   ]
  },
  {
   "cell_type": "markdown",
   "id": "9dfbab7d",
   "metadata": {
    "slideshow": {
     "slide_type": "slide"
    }
   },
   "source": [
    "2. $\\color{#EF5645}{\\text{Split dataset into train / test sets:}}$ \n",
    "   - Train $(X_1, y_1), ..., (X_{n_\\text{train}}, y_{n_\\text{train}})$: build the algorithm\n",
    "   - Test $(X_{n_\\text{train}+1}, y_{n_\\text{train}+1}), ..., (X_n, y_n)$: assess its performances."
   ]
  },
  {
   "cell_type": "code",
   "execution_count": 6,
   "id": "818e1ff8",
   "metadata": {
    "slideshow": {
     "slide_type": "-"
    }
   },
   "outputs": [
    {
     "name": "stdout",
     "output_type": "stream",
     "text": [
      "The dataset has 8 skulls.\n",
      "The train set has 6 skulls.\n",
      "The test set has 2 skulls.\n"
     ]
    }
   ],
   "source": [
    "from sklearn.model_selection import train_test_split\n",
    "\n",
    "X = np.linspace(0., 1., 8); X = np.atleast_2d(X).T\n",
    "y = preshape.projection(data_first)\n",
    "X_train, X_test, y_train, y_test = train_test_split(X, y)\n",
    "\n",
    "print(f\"The dataset has {len(X)} skulls.\")\n",
    "print(f\"The train set has {len(X_train)} skulls.\")\n",
    "print(f\"The test set has {len(X_test)} skulls.\")"
   ]
  },
  {
   "cell_type": "markdown",
   "id": "c68ec9a3",
   "metadata": {
    "slideshow": {
     "slide_type": "slide"
    }
   },
   "source": [
    "3. $\\color{#EF5645}{\\text{Train:}}$ Build the algorithm\n",
    "   - Also called: \"Fitting the model's parameters $\\theta$.\"\n",
    "   - Find $\\theta^*$ such that the model predicts the train set best: \n",
    "   $$\\theta^* = \\text{argmin}_\\theta \\sum_{i=1}^{n_\\text{train}} L(y_i, f_\\theta(X_i))$$"
   ]
  },
  {
   "cell_type": "code",
   "execution_count": 7,
   "id": "ecbb8b02",
   "metadata": {},
   "outputs": [],
   "source": [
    "from geomstats.learning.frechet_mean import FrechetMean\n",
    "\n",
    "mean.fit(y_train)\n",
    "\n",
    "tangent_y_train = kendall_metric.log(y_train, base_point=mean.estimate_)\n",
    "tangent_y_test = kendall_metric.log(y_test, base_point=mean.estimate_)"
   ]
  },
  {
   "cell_type": "code",
   "execution_count": 8,
   "id": "e790f68c",
   "metadata": {
    "slideshow": {
     "slide_type": "-"
    }
   },
   "outputs": [
    {
     "data": {
      "text/plain": [
       "LinearRegression()"
      ]
     },
     "execution_count": 8,
     "metadata": {},
     "output_type": "execute_result"
    }
   ],
   "source": [
    "lr.fit(X_train, tangent_y_train.reshape((6, -1)))"
   ]
  },
  {
   "cell_type": "markdown",
   "id": "4ed6c699",
   "metadata": {
    "slideshow": {
     "slide_type": "slide"
    }
   },
   "source": [
    "4. $\\color{#EF5645}{\\text{Test:}}$ Assess its performances: \n",
    "   - Loss on test set: $\\sum_{i=n_\\text{train}+1}^{n} L(y_i, f_{\\theta^*}(X_i))$"
   ]
  },
  {
   "cell_type": "code",
   "execution_count": 9,
   "id": "62d762a8",
   "metadata": {},
   "outputs": [
    {
     "name": "stdout",
     "output_type": "stream",
     "text": [
      "(2, 8, 2)\n",
      "We get a score of -0.92.\n"
     ]
    }
   ],
   "source": [
    "print(tangent_y_test.shape)\n",
    "score = lr.score(X_test, tangent_y_test.reshape((2, -1)))\n",
    "print(f\"We get a score of {score:.2f}.\")"
   ]
  },
  {
   "cell_type": "markdown",
   "id": "7b2fe28e",
   "metadata": {},
   "source": [
    "Best possible score is 1, and the score can be negative because it can be arbitrarily bad."
   ]
  },
  {
   "cell_type": "markdown",
   "id": "e9ddef1b",
   "metadata": {
    "slideshow": {
     "slide_type": "slide"
    }
   },
   "source": [
    "Recall our question.\n",
    "\n",
    "$\\color{#EF5645}{\\text{Question}}$: Given skulls of a rat through time, can we predict what is the shape of the skull of that rat at another time?\n",
    "\n",
    "We can use the fitted model to make new predictions."
   ]
  },
  {
   "cell_type": "code",
   "execution_count": 10,
   "id": "8ec70c23",
   "metadata": {
    "scrolled": false
   },
   "outputs": [
    {
     "data": {
      "image/png": "[encoded data removed]",
      "text/plain": [
       "<Figure size 432x432 with 1 Axes>"
      ]
     },
     "metadata": {
      "needs_background": "light"
     },
     "output_type": "display_data"
    }
   ],
   "source": [
    "tangent_skull = lr.predict(np.array([[4.5]]))\n",
    "\n",
    "fig = plt.figure(figsize=(6, 6)); ax = fig.add_subplot(111)\n",
    "points = kendall_metric.exp(tangent_skull.reshape(-1, 2), base_point=mean.estimate_)\n",
    "plt_plot, = plt.plot(points[:, 0], points[:, 1], 'o', markersize=10)\n",
    "ax.set_title(\"Rat skull measurements: 8 landmarks at 8 time points.\");"
   ]
  },
  {
   "cell_type": "markdown",
   "id": "afdcc4f2",
   "metadata": {
    "slideshow": {
     "slide_type": "slide"
    }
   },
   "source": [
    "$\\color{#EF5645}{\\text{Remark}}$: We can use any regressor available in `scikit-learn`: not necessarily the `LinearRegression` regressor.\n",
    "\n",
    "$\\color{#047C91}{\\text{Example}}$: Re-run with `RandomForestRegressor`."
   ]
  },
  {
   "cell_type": "code",
   "execution_count": 11,
   "id": "d1380b69",
   "metadata": {},
   "outputs": [
    {
     "name": "stdout",
     "output_type": "stream",
     "text": [
      "R^2 score: -1.90.\n"
     ]
    }
   ],
   "source": [
    "from sklearn.ensemble import RandomForestRegressor\n",
    "    \n",
    "rfr = RandomForestRegressor()\n",
    "\n",
    "rfr.fit(X_train, tangent_y_train.reshape((6, -1)))\n",
    "\n",
    "score = rfr.score(X_test, tangent_y_test.reshape((2, -1)))\n",
    "\n",
    "print(f\"R^2 score: {score:.2f}.\")"
   ]
  },
  {
   "cell_type": "code",
   "execution_count": 12,
   "id": "31dc9287",
   "metadata": {
    "slideshow": {
     "slide_type": "slide"
    }
   },
   "outputs": [
    {
     "data": {
      "image/png": "[encoded data removed]",
      "text/plain": [
       "<Figure size 576x576 with 1 Axes>"
      ]
     },
     "metadata": {
      "needs_background": "light"
     },
     "output_type": "display_data"
    }
   ],
   "source": [
    "tangent_skull =  rfr.predict(np.array([[4.5]]))\n",
    "\n",
    "fig = plt.figure(figsize=(8, 8))\n",
    "ax = fig.add_subplot(111)\n",
    "points = kendall_metric.exp(tangent_skull.reshape(-1, 2), base_point=mean.estimate_)\n",
    "plt_plot, = plt.plot(\n",
    "    points[:, 0], points[:, 1], 'o', markersize=10)\n",
    "ax.set_title(\"Rat skull predicted at time 4.5 days.\");"
   ]
  },
  {
   "cell_type": "markdown",
   "id": "b4b1e6ba",
   "metadata": {
    "slideshow": {
     "slide_type": "slide"
    }
   },
   "source": [
    "## Regression Method 2: Geodesic Regression\n",
    "\n",
    "$\\color{#EF5645}{\\text{Previous subsection}}$: Regression Method 1:\n",
    "- \"Project\" data on the tangent space at the FrechetMean: `ToTangentSpace`.\n",
    "- Apply any traditional regression algorithm: \n",
    "  - e.g. `LinearRegression` or `RandomForestRegressor`.\n",
    "\n",
    "$\\color{#EF5645}{\\text{This subsection}}$: Regression Method 2:\n",
    "- Keep data on the manifold"
   ]
  },
  {
   "cell_type": "markdown",
   "id": "0ef191fb",
   "metadata": {
    "slideshow": {
     "slide_type": "slide"
    }
   },
   "source": [
    "## Method: Translate the Model\n",
    "\n",
    "1. Set-up\n",
    "- $\\color{#EF5645}{\\text{Decide on the model:}}$ Function $f_\\theta$, that outputs $\\hat y = f_\\theta(X)$: prediction for $y$.\n",
    "- $\\color{#EF5645}{\\text{Decide on a loss function:}}$ $L(y, \\hat y)$ that evaluates if the model is right or wrong.\n",
    "\n",
    "\n",
    "The linear regression model with $\\theta_0, \\theta_1 \\in \\mathbb{R}^m$:\n",
    "\n",
    "$$f_\\theta(X) = \\theta_0 + \\theta_1 X \\in \\mathbb{R}^m$$ \n",
    "\n",
    "Becomes: a geodesic regression model with $\\theta_0 \\in M$ and $\\theta_1 \\in T_{\\theta_0}M$:\n",
    "\n",
    "$$f_\\theta(X) = \\text{Exp}_{\\theta_0}\\left( \\theta_1 X \\right) \\in M,$$\n",
    "where Exp is the Riemannian exponential."
   ]
  },
  {
   "cell_type": "markdown",
   "id": "fee5d185",
   "metadata": {
    "slideshow": {
     "slide_type": "slide"
    }
   },
   "source": [
    "## Method: Translate the Loss Function\n",
    "\n",
    "1. Set-up\n",
    "- $\\color{#EF5645}{\\text{Decide on the model:}}$ Function $f_\\theta$, that outputs $\\hat y = f_\\theta(X)$: prediction for $y$.\n",
    "- $\\color{#EF5645}{\\text{Decide on a loss function:}}$ $L(y, \\hat y)$ that evaluates if the model is right or wrong.\n",
    "\n",
    "\n",
    "The loss function using the square Euclidean distance.\n",
    "$$L(y, \\hat y)= |y - \\hat y |^2 = |y - \\theta_0 - \\theta_1 X |^2$$\n",
    "now uses the square geodesic distance on $M$:\n",
    "$$L(y, \\hat y)= d_M(y, \\hat y )^2 = d_M(y, \\text{Exp}_{\\theta_0}\\left( \\theta_1 X \\right)  )^2.$$\n"
   ]
  },
  {
   "cell_type": "markdown",
   "id": "e882c64b",
   "metadata": {
    "slideshow": {
     "slide_type": "slide"
    }
   },
   "source": [
    "<center><img src=\"figs/03_regressions.png\" width=900px alt=\"default\"/></center>\n"
   ]
  },
  {
   "cell_type": "markdown",
   "id": "4602582a",
   "metadata": {
    "slideshow": {
     "slide_type": "slide"
    }
   },
   "source": [
    "1. Set-up\n",
    "- $\\color{#EF5645}{\\text{Decide on the model:}}$ Function $f_\\theta$, that outputs $\\hat y = f_\\theta(X)$: prediction for $y$.\n",
    "- $\\color{#EF5645}{\\text{Decide on a loss function:}}$ $L(y, \\hat y)$ that evaluates if the model is right or wrong.\n",
    "  - `GeodesicRegression` comes with its loss function."
   ]
  },
  {
   "cell_type": "code",
   "execution_count": 13,
   "id": "bf73b556",
   "metadata": {
    "slideshow": {
     "slide_type": "-"
    }
   },
   "outputs": [],
   "source": [
    "from geomstats.learning.geodesic_regression import GeodesicRegression\n",
    "\n",
    "gr = GeodesicRegression(\n",
    "    space=preshape, metric=kendall_metric, \n",
    "    center_X=False, method=\"riemannian\", initialization=\"warm_start\")\n",
    "\n",
    "# Warm-start\n",
    "gr.intercept_ = y_train[0]  # theta0\n",
    "gr.coef_ = kendall_metric.log(y_train[-1], y_train[0]) # theta1"
   ]
  },
  {
   "cell_type": "markdown",
   "id": "e6c0a89d",
   "metadata": {},
   "source": [
    "Looking inside `GeodesicRegression`:\n",
    "- https://github.com/geomstats/geomstats/blob/master/geomstats/learning/geodesic_regression.py"
   ]
  },
  {
   "cell_type": "markdown",
   "id": "a093ffb8",
   "metadata": {
    "slideshow": {
     "slide_type": "slide"
    }
   },
   "source": [
    "3. $\\color{#EF5645}{\\text{Train:}}$ Build the algorithm\n",
    "   - Also called: \"Fitting the model's parameters $\\theta$.\"\n"
   ]
  },
  {
   "cell_type": "code",
   "execution_count": 14,
   "id": "a1cee1a3",
   "metadata": {
    "scrolled": false
   },
   "outputs": [
    {
     "data": {
      "text/plain": [
       "GeodesicRegression(center_X=False, initialization='warm_start',\n",
       "                   method='riemannian',\n",
       "                   metric=<pre_shape_autodiff.KendallShapeMetric object at 0x1400a8130>,\n",
       "                   space=<pre_shape_autodiff.PreShapeSpace object at 0x1400d6d30>)"
      ]
     },
     "execution_count": 14,
     "metadata": {},
     "output_type": "execute_result"
    }
   ],
   "source": [
    "gr.fit(np.squeeze(X_train), y_train)"
   ]
  },
  {
   "cell_type": "markdown",
   "id": "08a6d211",
   "metadata": {},
   "source": [
    "Looking inside `GeodesicRegression`:\n",
    "- https://github.com/geomstats/geomstats/blob/master/geomstats/learning/geodesic_regression.py"
   ]
  },
  {
   "cell_type": "markdown",
   "id": "1ce16a8f",
   "metadata": {
    "slideshow": {
     "slide_type": "slide"
    }
   },
   "source": [
    "4. $\\color{#EF5645}{\\text{Test:}}$ Assess its performances: \n",
    "   - Loss on test set: $\\sum_{i=n_\\text{train}+1}^{n} L(y_i, f_{\\theta^*}(X_i))$"
   ]
  },
  {
   "cell_type": "code",
   "execution_count": 15,
   "id": "b5695bf8",
   "metadata": {
    "slideshow": {
     "slide_type": "-"
    }
   },
   "outputs": [
    {
     "name": "stdout",
     "output_type": "stream",
     "text": [
      "R^2: 0.7472292798226752\n"
     ]
    }
   ],
   "source": [
    "print('R^2:', gr.score(np.squeeze(X_test), y_test))"
   ]
  },
  {
   "cell_type": "markdown",
   "id": "cd2cea85",
   "metadata": {},
   "source": [
    "In this case, computing with the data on the manifold directly gives much better results."
   ]
  },
  {
   "cell_type": "markdown",
   "id": "37b57035",
   "metadata": {},
   "source": [
    "Looking inside `GeodesicRegression`:\n",
    "- https://github.com/geomstats/geomstats/blob/master/geomstats/learning/geodesic_regression.py"
   ]
  },
  {
   "cell_type": "markdown",
   "id": "552389c1",
   "metadata": {
    "slideshow": {
     "slide_type": "slide"
    }
   },
   "source": [
    "Recall our question.\n",
    "\n",
    "$\\color{#EF5645}{\\text{Question}}$: Given skulls of a rat through time, can we predict what is the shape of the skull of that rat at another time?\n",
    "\n",
    "We can use the fitted model to make new predictions."
   ]
  },
  {
   "cell_type": "code",
   "execution_count": 16,
   "id": "71f9da7b",
   "metadata": {},
   "outputs": [
    {
     "data": {
      "image/png": "[encoded data removed]",
      "text/plain": [
       "<Figure size 432x432 with 1 Axes>"
      ]
     },
     "metadata": {
      "needs_background": "light"
     },
     "output_type": "display_data"
    }
   ],
   "source": [
    "skull =  gr.predict(np.array([4.5]))\n",
    "fig = plt.figure(figsize=(6, 6)); ax = fig.add_subplot(111)\n",
    "points = skull.reshape(-1, 2); plt_plot, = plt.plot(points[:, 0], points[:, 1], 'o', markersize=10)\n",
    "ax.set_title(\"Rat skull predicted at time 4.5 days.\");"
   ]
  },
  {
   "cell_type": "markdown",
   "id": "8f7442a9",
   "metadata": {
    "slideshow": {
     "slide_type": "slide"
    }
   },
   "source": [
    "# This Unit\n",
    "\n",
    "- **Unit 1 (Geometry - Math!)**: Differential Geometry for Engineers\n",
    "- **Unit 2 (Shapes)**: Computational Representations of Biomedical Shapes\n",
    "- **Unit 3 (Machine Learning)**: **Geometric Machine Learning for Shape Analysis**\n",
    "  - A) Mean and Covariance\n",
    "  - B) Supervised Learning: Classification\n",
    "  - **C) Supervised Learning: Regression**\n",
    "    - Motivation: Regression on aging rats skulls\n",
    "    - Tangent Machine Learning: Tangent linear regression\n",
    "    - Geometric Machine Learning: Geodesic regression\n",
    "  - D) Unsupervised Learning: Clustering\n",
    "  - E) Unsupervised Learning: Dimension Reduction\n",
    "- **Unit 4 (Deep Learning)**: Geometric Deep Learning for Shape Analysis\n",
    "\n",
    "$\\rightarrow$ We explain the machine learning algorithms and statistics used in these real-world scenarios.\n",
    "\n",
    "<center><img src=\"figs/00_bioshape.jpg\" width=350px alt=\"default\"/></center>\n"
   ]
  }
 ],
 "metadata": {
  "celltoolbar": "Slideshow",
  "kernelspec": {
   "display_name": "Python 3 (ipykernel)",
   "language": "python",
   "name": "python3"
  },
  "language_info": {
   "codemirror_mode": {
    "name": "ipython",
    "version": 3
   },
   "file_extension": ".py",
   "mimetype": "text/x-python",
   "name": "python",
   "nbconvert_exporter": "python",
   "pygments_lexer": "ipython3",
   "version": "3.9.9"
  }
 },
 "nbformat": 4,
 "nbformat_minor": 5
}
