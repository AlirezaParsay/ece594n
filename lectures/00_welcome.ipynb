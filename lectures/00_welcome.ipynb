{
 "cells": [
  {
   "cell_type": "markdown",
   "metadata": {
    "slideshow": {
     "slide_type": "slide"
    }
   },
   "source": [
    "##### Welcome to ECE 594n\n",
    "\n",
    "### Geometric Machine Learning for Biomedical Imaging and Shape Analysis\n",
    "\n",
    "\n",
    "$\\color{#003660}{\\text{Nina Miolane - Assistant Professor}}$ \n",
    "\n",
    "BioShape Lab @ UCSB ECE"
   ]
  },
  {
   "cell_type": "markdown",
   "metadata": {},
   "source": [
    "<center><img src=\"figs/00_bioshape.jpg\" width=650px alt=\"default\"/></center>\n"
   ]
  },
  {
   "cell_type": "markdown",
   "metadata": {
    "slideshow": {
     "slide_type": "slide"
    }
   },
   "source": [
    "# Outline: Welcome\n",
    "\n",
    "- [Syllabus](#sec-syllabus)\n",
    "\n",
    "- [Real-World Applications](#sec-ece)\n",
    "\n",
    "- [Outline](#sec-outline)"
   ]
  },
  {
   "cell_type": "markdown",
   "metadata": {
    "slideshow": {
     "slide_type": "slide"
    }
   },
   "source": [
    "# Outline: Welcome\n",
    "\n",
    "- **[Syllabus](#sec-syllabus)**\n",
    "\n",
    "- [Real-World Applications](#sec-ece)\n",
    "\n",
    "- [Outline](#sec-outline)"
   ]
  },
  {
   "cell_type": "markdown",
   "metadata": {
    "slideshow": {
     "slide_type": "slide"
    }
   },
   "source": [
    "# Instructor: Nina Miolane (me)"
   ]
  },
  {
   "cell_type": "markdown",
   "metadata": {
    "cell_style": "split"
   },
   "source": [
    "<img src=\"figs/00_nina.jpg\" width=200px alt=\"default\"/>"
   ]
  },
  {
   "cell_type": "markdown",
   "metadata": {
    "cell_style": "split"
   },
   "source": [
    "<img src=\"figs/00_brains.jpg\" width=200px alt=\"default\"/>"
   ]
  },
  {
   "cell_type": "markdown",
   "metadata": {},
   "source": [
    "$\\color{#047C91}{\\text{Research}}$: Exploring the geometries of life: \n",
    "- how proteins, cells, organs adopt specific shapes to function, \n",
    "- and how pathologies arise from abnormal shapes.\n",
    "\n",
    "$\\color{#047C91}{\\text{Office Hours}}$: Fridays 3 - 4 PM https://ucsb.zoom.us/my/nmiolane"
   ]
  },
  {
   "cell_type": "markdown",
   "metadata": {
    "slideshow": {
     "slide_type": "slide"
    }
   },
   "source": [
    "# Classes"
   ]
  },
  {
   "cell_type": "markdown",
   "metadata": {
    "cell_style": "center",
    "slideshow": {
     "slide_type": "-"
    }
   },
   "source": [
    "$\\color{#EF5645}{\\text{Classes}}$:\n",
    "- Location TBD, Tue and Thu 04:00 PM - 5:30 PM (slides: [ECE 594n's GitHub](https://github.com/bioshape-lab/ece594n))"
   ]
  },
  {
   "cell_type": "markdown",
   "metadata": {},
   "source": [
    "\n",
    "Notes:\n",
    "- You are required to attend/watch all the lectures.\n",
    "- Do not enroll in other courses whose schedule is conflicting with this class. \n",
    "- If you cannot attend/watch all lectures, please drop this class.\n"
   ]
  },
  {
   "cell_type": "markdown",
   "metadata": {
    "slideshow": {
     "slide_type": "slide"
    }
   },
   "source": [
    "# Textbook\n",
    "\n",
    "The textbook is considered supplementary to classes:\n",
    "-\n",
    "\n",
    "\n",
    "$\\color{#EF5645}{\\text{Remarks}}$:\n",
    "- Freely available online.\n",
    "- We will not cover all topics in the book. \n",
    "- We will cover a few topics not in the book."
   ]
  },
  {
   "cell_type": "markdown",
   "metadata": {
    "slideshow": {
     "slide_type": "slide"
    }
   },
   "source": [
    "# Python and Jupyter Notebooks\n",
    "\n",
    "We will use:\n",
    "- Python version 3.7 or higher as our programming language,\n",
    "- Jupyter notebooks to run Python interactively in a web browser.\n",
    "\n",
    "You should download Anaconda which will install everything you need to run Python 3.7+ and Jupyter notebooks:\n",
    "- Anaconda: https://www.anaconda.com/download\n",
    "\n",
    "We will share resources to get used to Python, if you are not."
   ]
  },
  {
   "cell_type": "markdown",
   "metadata": {
    "slideshow": {
     "slide_type": "slide"
    }
   },
   "source": [
    "# Grading\n"
   ]
  },
  {
   "cell_type": "markdown",
   "metadata": {
    "slideshow": {
     "slide_type": "slide"
    }
   },
   "source": [
    "# Outline: Welcome\n",
    "\n",
    "- [Syllabus](#sec-syllabus)\n",
    "\n",
    "- **[Real-World Applications](#sec-ece)**\n",
    "\n",
    "- [Outline](#sec-outline)"
   ]
  },
  {
   "cell_type": "markdown",
   "metadata": {
    "slideshow": {
     "slide_type": "slide"
    }
   },
   "source": [
    "# Outline: Welcome\n",
    "\n",
    "- [Syllabus](#sec-syllabus)\n",
    "\n",
    "- [Real-World Applications](#sec-ece)\n",
    "\n",
    "- **[Outline](#sec-outline)**"
   ]
  },
  {
   "cell_type": "markdown",
   "metadata": {
    "slideshow": {
     "slide_type": "slide"
    }
   },
   "source": [
    "# Outline\n",
    "\n"
   ]
  },
  {
   "cell_type": "markdown",
   "metadata": {
    "slideshow": {
     "slide_type": "slide"
    }
   },
   "source": [
    "# Questions?"
   ]
  }
 ],
 "metadata": {
  "celltoolbar": "Slideshow",
  "kernelspec": {
   "display_name": "Python 3 (ipykernel)",
   "language": "python",
   "name": "python3"
  },
  "language_info": {
   "codemirror_mode": {
    "name": "ipython",
    "version": 3
   },
   "file_extension": ".py",
   "mimetype": "text/x-python",
   "name": "python",
   "nbconvert_exporter": "python",
   "pygments_lexer": "ipython3",
   "version": "3.9.9"
  }
 },
 "nbformat": 4,
 "nbformat_minor": 2
}
