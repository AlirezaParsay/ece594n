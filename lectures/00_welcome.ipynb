{
 "cells": [
  {
   "cell_type": "markdown",
   "metadata": {
    "slideshow": {
     "slide_type": "slide"
    }
   },
   "source": [
    "##### Welcome to ECE 594n\n",
    "\n",
    "### Geometric Machine Learning for Biomedical Imaging and Shape Analysis\n",
    "\n",
    "\n",
    "$\\color{#003660}{\\text{Nina Miolane - Assistant Professor}}$ \n",
    "\n",
    "BioShape Lab @ UCSB ECE"
   ]
  },
  {
   "cell_type": "markdown",
   "metadata": {},
   "source": [
    "<center><img src=\"figs/00_bioshape.jpg\" width=650px alt=\"default\"/></center>\n"
   ]
  },
  {
   "cell_type": "markdown",
   "metadata": {
    "slideshow": {
     "slide_type": "slide"
    }
   },
   "source": [
    "# Instructor: Nina Miolane (me)"
   ]
  },
  {
   "cell_type": "markdown",
   "metadata": {
    "cell_style": "split"
   },
   "source": [
    "<img src=\"figs/00_nina.jpg\" width=200px alt=\"default\"/>"
   ]
  },
  {
   "cell_type": "markdown",
   "metadata": {
    "cell_style": "split"
   },
   "source": [
    "<img src=\"figs/00_brains.jpg\" width=200px alt=\"default\"/>"
   ]
  },
  {
   "cell_type": "markdown",
   "metadata": {},
   "source": [
    "$\\color{#047C91}{\\text{Research}}$: Exploring the geometries of life: \n",
    "- how proteins, cells, organs adopt specific shapes to function, \n",
    "- and how pathologies arise from abnormal shapes.\n",
    "\n",
    "$\\color{#047C91}{\\text{Office Hours}}$: Fridays 3 - 4 PM (starting week 3)\n",
    "\n",
    "https://ucsb.zoom.us/my/nmiolane "
   ]
  },
  {
   "cell_type": "markdown",
   "metadata": {
    "slideshow": {
     "slide_type": "slide"
    }
   },
   "source": [
    "# Classes"
   ]
  },
  {
   "cell_type": "markdown",
   "metadata": {
    "cell_style": "center",
    "slideshow": {
     "slide_type": "-"
    }
   },
   "source": [
    "\n",
    "- Phelps 1431, Tue and Thu 04:00 PM - 5:50 PM (remote next week)\n",
    "- Slides: [ECE 594n's GitHub](https://github.com/bioshape-lab/ece594n)"
   ]
  },
  {
   "cell_type": "markdown",
   "metadata": {},
   "source": [
    "Notes:\n",
    "- Do not enroll in other courses whose schedule is conflicting with this class. \n",
    "- If you cannot attend/watch all lectures, please drop this class.\n"
   ]
  },
  {
   "cell_type": "markdown",
   "metadata": {
    "slideshow": {
     "slide_type": "slide"
    }
   },
   "source": [
    "# Slack\n",
    "\n",
    "Join the class Slack workspace via this link:\n",
    "\n",
    "https://join.slack.com/t/ucsbece594n/shared_invite/zt-15rs9b4k2-chv_p0c9I6NfKbPNVfb~pw\n",
    "\n",
    "- Slack is our prefered communication channel.\n",
    "- Do not email me, write on slack instead."
   ]
  },
  {
   "cell_type": "markdown",
   "metadata": {
    "slideshow": {
     "slide_type": "slide"
    }
   },
   "source": [
    "# Python and Jupyter Notebooks\n",
    "\n",
    "We will use:\n",
    "- Python version 3.7 or higher as our programming language,\n",
    "- Jupyter notebooks to run Python interactively in a web browser.\n",
    "\n",
    "You should download Anaconda which will install everything you need to run Python 3.7+ and Jupyter notebooks:\n",
    "- Anaconda: https://www.anaconda.com/download"
   ]
  },
  {
   "cell_type": "markdown",
   "metadata": {
    "slideshow": {
     "slide_type": "slide"
    }
   },
   "source": [
    "# DataCamp: Learn Python\n",
    "\n",
    "Join the group with your @ucsb.edu address [via this link](https://www.datacamp.com/groups/shared_links/11e534b5d9eb74d03754278bffca47ef91322a6a3cd3f3180cbfe980e25ec930).\n",
    "\n",
    "\n",
    "If you are not familiar with Python, we recommend these assignments:\n",
    "- Introduction to Python\n",
    "- Intermediate Python\n",
    "- Biological Imaging in Python\n",
    "- Image Processing in Python\n",
    "\n",
    "None of these are graded. These assignments are here to help you learn Python if you need to."
   ]
  },
  {
   "cell_type": "markdown",
   "metadata": {
    "slideshow": {
     "slide_type": "slide"
    }
   },
   "source": [
    "# Outline\n",
    "\n",
    "- **Unit 1 (Geometry - Math!)**: Differential Geometry for Engineers\n",
    "- **Unit 2 (Shapes)**: Computational Representations of Biomedical Shapes\n",
    "- **Unit 3 (Machine Learning)**: Geometric Machine Learning for Shape Analysis\n",
    "- **Unit 4 (Deep Learning)**: Geometric Deep Learning for Shape Analysis\n",
    "\n",
    "<center><img src=\"figs/00_bioshape.jpg\" width=350px alt=\"default\"/></center>\n",
    "\n",
    "Examples and applications will be taken from cutting-edge research in the **biomedical field**."
   ]
  },
  {
   "cell_type": "markdown",
   "metadata": {
    "slideshow": {
     "slide_type": "slide"
    }
   },
   "source": [
    "# Resources\n",
    "\n",
    "- **Unit 1**: Guigui, Miolane, Pennec (2022). Introduction to Riemannian Geometry and Geometric Statistics. Ch. 1 - 4.\n",
    "- **Unit 2**: See references in corresponding lecture notes.\n",
    "- **Unit 3**: Guigui, Miolane, Pennec (2022). Introduction to Riemannian Geometry and Geometric Statistics. Ch. 5.\n",
    "- **Unit 4**: Bronstein et al. Geometric Deep Learning: Grids, Groups, Graphs, Geodesics, and Gauges.\n",
    " \n",
    "<center><img src=\"figs/00_book.jpeg\" width=550px alt=\"default\"/></center>"
   ]
  },
  {
   "cell_type": "markdown",
   "metadata": {
    "slideshow": {
     "slide_type": "slide"
    }
   },
   "source": [
    "# Computational Resources\n",
    "\n",
    "- Miolane et al (2020). Geomstats: a Python package for Geometry in Machine Learning.\n",
    "  - https://github.com/geomstats/geomstats\n",
    "- Fey, Lenssen (2019). Fast Graph Representation Learning with PyTorch Geometric.\n",
    "  - https://github.com/pyg-team/pytorch_geometric\n",
    "- Myers (2022). Tutorials of Riemannian Geometry and Geometric Statistics.\n",
    "  - https://github.com/geomstats/geomstats/tree/master/notebooks\n",
    "  \n",
    " <center><img src=\"figs/00_github.png\" width=350px alt=\"default\"/></center>"
   ]
  },
  {
   "cell_type": "markdown",
   "metadata": {
    "slideshow": {
     "slide_type": "slide"
    }
   },
   "source": [
    "# Grading\n",
    "\n",
    "- **Geometry** $\\color{#EF5645}{\\text{(20%)}}$: Visualizing differential geometry with Geomstats\n",
    "- **Shapes** $\\color{#EF5645}{\\text{(20%)}}$: Reproducing the findings of a research paper (DDB)\n",
    "- **Final project** $\\color{#EF5645}{\\text{(20%)}}$: Geometric Learning for Biomedical Shape Analysis\n",
    "- **Machine Learning** $\\color{#EF5645}{\\text{(40%)}}$: Review of Geometric Learning\n",
    "- **Extra-credits**:\n",
    "  - Tackle Geomstats GitHub issues (up to +10%)\n",
    "    \n",
    "<center><img src=\"figs/00_aplus.png\" width=300px alt=\"default\"/></center>"
   ]
  },
  {
   "cell_type": "markdown",
   "metadata": {
    "slideshow": {
     "slide_type": "slide"
    }
   },
   "source": [
    "# Geometry: Visualizations (Math!)\n",
    "\n",
    "$\\color{#EF5645}{\\text{Goal}}$: Get intuition on Differential Geometry by visualizing manifolds.\n",
    "\n",
    "- Deadline: Thursday 04/21/2022.\n",
    "- Team of 2-3 students.\n",
    "\n",
    "Steps:\n",
    "- Read guidelines in the [`geomviz` folder](https://github.com/bioshape-lab/ece594n/tree/main/geomviz), we will explain them in class in ~2 weeks.\n",
    "- Register your team on the README.md of the [`geomviz` folder](https://github.com/bioshape-lab/ece594n/tree/main/geomviz).\n",
    "- Submit your visualization as a Jupyter notebook to the [`geomviz` folder](https://github.com/bioshape-lab/ece594n/tree/main/geomviz) by Thursday 04/21/2022.\n",
    "- Present in class on Thursday 04/21/2022 (5 min per team)."
   ]
  },
  {
   "cell_type": "markdown",
   "metadata": {
    "slideshow": {
     "slide_type": "slide"
    }
   },
   "source": [
    "# Shapes: Reproducing the findings of a research paper\n",
    "\n",
    "$\\color{#EF5645}{\\text{Goal}}$: Determine if it is easy to reproduce the findings of a research paper on biomedical shape analysis.\n",
    "\n",
    "- Deadline: Tuesday 05/03/2022.\n",
    "- Teams of 2-3 students.\n",
    "- Paper: Cell states beyond transcriptomics (https://pubmed.ncbi.nlm.nih.gov/34043964/).\n",
    "\n",
    "Steps:\n",
    "- Read guidelines in the README.md of the [`reproducibility` folder](https://github.com/bioshape-lab/ece594n/blob/main/reproducibility/README.md).\n",
    "- Try reproducing the figures of the paper using their published data and code.\n",
    "- Write report (1 page per student) on whether it was easy to reproduce the results.\n",
    "- Present in class on Thursday 05/03/2022 (5 min per team)."
   ]
  },
  {
   "cell_type": "markdown",
   "metadata": {
    "slideshow": {
     "slide_type": "slide"
    }
   },
   "source": [
    "# Final project: Geometric Learning for Biomedical Shape Analysis\n",
    "\n",
    "$\\color{#EF5645}{\\text{Goal}}$: Put your skills in practice to tackle a project of your choice: perform geometric machine learning analysis on a biomedical dataset.\n",
    "\n",
    "- Deadline: Tuesday 05/31/2022 and Thursday 06/02/2022\n",
    "- Presentations in class: Tuesday 05/31/2022 and Thursday 06/02/2022\n",
    "- Teams of 2-3 students.\n",
    "\n",
    "Steps:\n",
    "- Read guidelines in the README.md of the [`projects` folder](https://github.com/bioshape-lab/ece594n/blob/main/projects/README.md).\n",
    "- Register your team on the README.md of the `projects` folder.\n",
    "- Submit your project as a Jupyter notebook in the `projects` folder.\n",
    "- Present your work in class: 5 min per student, i.e. 10 min or 15 min presentations per team."
   ]
  },
  {
   "cell_type": "markdown",
   "metadata": {
    "slideshow": {
     "slide_type": "slide"
    }
   },
   "source": [
    "# Machine Learning: Review of Geometric Learning\n",
    "\n",
    "$\\color{#EF5645}{\\text{Goal}}$: Review the published papers in Geometric Machine Learning\n",
    "\n",
    "- Deadline: Tuesday 06/07/2022\n",
    "- Teams of 1 student.\n",
    "\n",
    "Steps:\n",
    "- Read guidelines in the README.md of the [`reviews` folder](https://github.com/bioshape-lab/ece594n/tree/main/reviews).\n",
    "- Register on the README.md of the `reviews` folder starting April 15th.\n",
    "- Send your review (2 pages) as a zip file from overleaf to Nina."
   ]
  },
  {
   "cell_type": "markdown",
   "metadata": {
    "slideshow": {
     "slide_type": "slide"
    }
   },
   "source": [
    "# Extra-Credits: Tackle Geomstats GitHub Issues\n",
    "\n",
    "\n",
    "\n",
    "- Deadline: Tuesday 06/07/2022\n",
    "\n",
    "<center><img src=\"figs/00_geomstats.png\" width=1100px alt=\"default\"/></center>\n"
   ]
  },
  {
   "cell_type": "markdown",
   "metadata": {
    "slideshow": {
     "slide_type": "slide"
    }
   },
   "source": [
    "# Questions?"
   ]
  }
 ],
 "metadata": {
  "celltoolbar": "Slideshow",
  "kernelspec": {
   "display_name": "Python 3 (ipykernel)",
   "language": "python",
   "name": "python3"
  },
  "language_info": {
   "codemirror_mode": {
    "name": "ipython",
    "version": 3
   },
   "file_extension": ".py",
   "mimetype": "text/x-python",
   "name": "python",
   "nbconvert_exporter": "python",
   "pygments_lexer": "ipython3",
   "version": "3.9.9"
  }
 },
 "nbformat": 4,
 "nbformat_minor": 2
}
