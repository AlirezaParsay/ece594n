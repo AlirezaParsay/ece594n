{
 "cells": [
  {
   "cell_type": "markdown",
   "id": "83fc4529",
   "metadata": {
    "slideshow": {
     "slide_type": "slide"
    }
   },
   "source": [
    "# 02 Computational Representations of Biomedical Shapes\n",
    "\n",
    "## A) Shapes of Landmarks\n",
    "\n",
    "$\\color{#003660}{\\text{Nina Miolane - Assistant Professor}}$ @ BioShape Lab @ UCSB ECE\n",
    "\n",
    "<center><img src=\"figs/01_optic_nerves.png\" width=600px alt=\"default\"/></center>\n",
    "<center>Comparison of optic nerve heads in monkeys with and without glaucoma.</center>\n"
   ]
  },
  {
   "cell_type": "markdown",
   "id": "fd3c6f41",
   "metadata": {
    "slideshow": {
     "slide_type": "slide"
    }
   },
   "source": [
    "# Outline of ECE 594n\n",
    "\n",
    "- Unit 1 (Geometry): Differential Geometry for Engineers\n",
    "- **Unit 2 (Shapes): Computational Representations of Biomedical Shapes**\n",
    "- Unit 3 (Machine Learning): Geometric Machine Learning for Shapes\n",
    "\n",
    "<center><img src=\"figs/hero_brain_mris_3360x960_417KB.jpg\" width=1400px alt=\"default\"/></center>\n",
    "\n",
    "Examples taken from cutting-edge research in the **biomedical field**."
   ]
  },
  {
   "cell_type": "markdown",
   "id": "59605e29",
   "metadata": {
    "slideshow": {
     "slide_type": "slide"
    }
   },
   "source": [
    "# Outline\n",
    "\n",
    "- **Unit 2 (Shapes): Computational Representations of Biomedical Shapes**\n",
    "  - **A) Shapes of landmarks**\n",
    "    - Motivation: Shape of Glaucoma\n",
    "    - Practice: Procrustes Analysis and Group Actions\n",
    "    - Theory: Kendall Shape Spaces\n",
    "    - Application: Innovation in Pelvis Surgery\n",
    "  - B) Shapes of curves\n",
    "  - C) Shapes of surfaces\n",
    "  - D) Deformations"
   ]
  },
  {
   "cell_type": "markdown",
   "id": "5c6c17ac",
   "metadata": {
    "slideshow": {
     "slide_type": "slide"
    }
   },
   "source": [
    "# Motivation: Shape of Glaucoma"
   ]
  },
  {
   "cell_type": "markdown",
   "id": "e07c209a",
   "metadata": {
    "slideshow": {
     "slide_type": "slide"
    }
   },
   "source": [
    "\n",
    "\n",
    "$\\color{#EF5645}{\\text{Question}}$: Find shape markers of glaucoma that could lead to automatic diagnosis?\n",
    "\n",
    "Data - Patrangenaru and Ellingson (2015):\n",
    "- 22 3D images of monkeys’ eyes (11 monkeys):\n",
    "  - one eye normal without glaucoma.\n",
    "  - one eye with glaucoma.\n",
    "  \n",
    "\n",
    "<center><img src=\"figs/01_optic_nerves.png\" width=500px alt=\"default\"/></center>\n",
    "<center>Optic nerve heads without and with glaucoma.</center>\n",
    "\n",
    "$\\rightarrow$ On each 3D image, 5 anatomical \"landmarks\" are recorded.\n"
   ]
  },
  {
   "cell_type": "markdown",
   "id": "7abb2f20",
   "metadata": {
    "slideshow": {
     "slide_type": "slide"
    }
   },
   "source": [
    "$\\color{#EF5645}{\\text{Definition}}$: _Anatomical landmarks_ are defined as biologically meaningful loci that can be unambiguously defined and repeatedly located with a high degree of accuracy and precision.\n",
    "\n",
    "$\\color{#047C91}{\\text{Example}}$: In the glaucoma dataset:\n",
    "- 1st landmark: superior aspect of the retina,\n",
    "- 2nd landmark: side of the retina closest to the temporal bone of the skull,\n",
    "- 3rd landmark: nose side of the retina,\n",
    "- 4th landmark: inferior point,\n",
    "- 5th landmark: optical nerve head deepest point."
   ]
  },
  {
   "cell_type": "markdown",
   "id": "adf69a5a",
   "metadata": {
    "slideshow": {
     "slide_type": "slide"
    }
   },
   "source": [
    "Let's see how anatomical landmarks are represented in the computer.\n",
    "\n",
    "$\\color{#EF5645}{\\text{Definition}}$: A set $X$ of $k$ landmarks in $m$ dimensions can be described by an element in $\\mathbb{R}^{k \\times m}$, i.e., by a matrix of $k$ rows and $m$ columns.\n",
    "\n",
    "$\\color{#047C91}{\\text{Example}}$: Consider the dataset of optical nerves. What is the number of landmarks $k$? What is the dimension $m$?"
   ]
  },
  {
   "cell_type": "code",
   "execution_count": 16,
   "id": "c5ba0a64",
   "metadata": {
    "scrolled": true,
    "slideshow": {
     "slide_type": "-"
    }
   },
   "outputs": [
    {
     "name": "stdout",
     "output_type": "stream",
     "text": [
      "(22, 5, 3)\n"
     ]
    }
   ],
   "source": [
    "import geomstats.datasets.utils as data_utils\n",
    "\n",
    "nerves, labels, monkeys = data_utils.load_optical_nerves()\n",
    "print(nerves.shape)"
   ]
  },
  {
   "cell_type": "markdown",
   "id": "6d5c19c0",
   "metadata": {
    "slideshow": {
     "slide_type": "slide"
    }
   },
   "source": [
    "### From Landmarks to Shapes of Landmarks\n",
    "\n",
    "$\\color{#EF5645}{\\text{Definition}}$: Two sets $X_0$ and $X_1$ of $k$ landmarks are said to _have the same shape_ if one set can be obtained by translating, rotating, or re-scaling the other.\n",
    "\n",
    "$\\rightarrow$ We do not want to do machine learning on the _objects_ $X$'s directly, because: \n",
    "- translations/rotations/scalings do not contain the biological information.\n",
    "\n",
    "$\\rightarrow$ Instead, we want to do machine learning on the _shapes of the objects_ $X$'s."
   ]
  },
  {
   "cell_type": "markdown",
   "id": "ff586483",
   "metadata": {
    "slideshow": {
     "slide_type": "slide"
    }
   },
   "source": [
    "# Practice: \n",
    "\n",
    "# Procrustes Analysis and Group Actions"
   ]
  },
  {
   "cell_type": "markdown",
   "id": "53209768",
   "metadata": {
    "slideshow": {
     "slide_type": "slide"
    }
   },
   "source": [
    "### Procrustes in the Greek Mythology\n",
    "\n",
    "Procrustes was a robber who killed his victims in a most cruel and unusual way. \n",
    "\n",
    "He made them lie on an iron bed and would force them to fit the bed:\n",
    "- by cutting off the parts that hung off the ends, or \n",
    "- by stretching those people who were too short.\n",
    "\n",
    "<center><img src=\"figs/02_greek.png\" width=500px alt=\"default\"/></center>"
   ]
  },
  {
   "cell_type": "markdown",
   "id": "0f438340",
   "metadata": {
    "slideshow": {
     "slide_type": "slide"
    }
   },
   "source": [
    "### Procrustes in Geometric Learning\n",
    "\n",
    "$\\color{#EF5645}{\\text{Definition}}$: _Procrustes Analysis_ is a general method to perform machine learning on shapes of objects defined by sets of landmarks $X_0, ..., X_n$.\n",
    "\n",
    "1. Superimpose objects $X_0, ..., X_n$: translate, rotate, possibly scale.\n",
    "\n",
    "$\\rightarrow$ Introduce \"group actions\".\n",
    "\n",
    "\n",
    "<center><img src=\"figs/02_procrustes.png\" width=900px alt=\"default\"/></center>\n",
    "\n",
    "2. Perform machine learning on superimposed objects (shapes).\n",
    "\n"
   ]
  },
  {
   "cell_type": "markdown",
   "id": "28b28bcb",
   "metadata": {
    "slideshow": {
     "slide_type": "slide"
    }
   },
   "source": [
    "### Group Actions\n",
    "\n",
    "Consider the space of $k$ landmarks in $m$ dimensions: $\\mathbb{R}^{k\\times m}$.\n",
    "\n",
    "$\\color{#EF5645}{\\text{Definition}}$: A _group action_ of a (Lie) group of transformations $G$ on $\\mathbb{R}^{k \\times m}$ is a function $*: G \\times \\mathbb{R}^{k \\times m} \\rightarrow \\mathbb{R}^{k \\times m}$, such that:\n",
    "$$\\forall g, h \\in G, \\forall X \\in \\mathbb{R}^{k \\times m}, \\quad g *(h * X)=(g h) * X,$$\n",
    "$$\\forall X \\in \\mathbb{R}^{k \\times m}, \\quad e *X=X.$$\n",
    "\n",
    "$\\color{#047C91}{\\text{Example}}$: We will see how these groups can act on $\\mathbb{R}^{k\\times m}$:\n",
    "  - the group of translations $\\mathbb{R}^m$, \n",
    "  - the group of rotations $SO(m)$,\n",
    "  - or the group of scalings $\\mathbb{R}_+^*$.\n"
   ]
  },
  {
   "cell_type": "markdown",
   "id": "18e33f91",
   "metadata": {
    "slideshow": {
     "slide_type": "slide"
    }
   },
   "source": [
    "### Action of translations on $\\mathbb{R}^{k \\times m}$\n",
    "\n",
    "$\\color{#EF5645}{\\text{Definition}}$: Translating one set of $k$ landmarks $X=\\begin{bmatrix} x_1 \\\\ ... \\\\ x_k \\end{bmatrix}$ by a translation of vector $t \\in \\mathbb{R}^m$ is performed through the operation:\n",
    "$$t * X = \\begin{bmatrix} x_1 + t\\\\ ... \\\\ x_k + t \\end{bmatrix}.$$\n",
    "This defines an action of the group of translations $\\mathbb{R}^m$ on the space $\\mathbb{R}^{k \\times m}$."
   ]
  },
  {
   "cell_type": "markdown",
   "id": "54f7b98f",
   "metadata": {
    "slideshow": {
     "slide_type": "slide"
    }
   },
   "source": [
    "$\\color{#EF5645}{\\text{Definition}}$: Denote $x_l$ the $l$-th landmark of a set of landmarks $X$.\n",
    "- The _barycenter $\\bar X$_ of a set of landmarks is $\\bar X = \\frac{1}{k} \\sum_{l=1}^k x_l$. \n",
    "\n",
    "$\\color{#EF5645}{\\text{Definition}}$: We say that a set of landmarks is centered if its barycenter is at $0$.\n",
    "\n",
    "$\\color{#047C91}{\\text{Example}}$: We can use the action of translations to center a set $X$ of landmarks: we translate it by minus the coordinates of its barycenter."
   ]
  },
  {
   "cell_type": "code",
   "execution_count": 17,
   "id": "2b9c1240",
   "metadata": {
    "slideshow": {
     "slide_type": "slide"
    }
   },
   "outputs": [
    {
     "name": "stdout",
     "output_type": "stream",
     "text": [
      "One nerve:\n",
      " [[2580.   1060.     60.31]\n",
      " [1360.   2660.    -78.4 ]\n",
      " [3800.   2660.   -132.68]\n",
      " [2580.   4260.    126.65]\n",
      " [2180.   2820.   -542.77]]\n",
      "Translated nerve:\n",
      " [[   80.    -1632.      173.688]\n",
      " [-1140.      -32.       34.978]\n",
      " [ 1300.      -32.      -19.302]\n",
      " [   80.     1568.      240.028]\n",
      " [ -320.      128.     -429.392]]\n",
      "Barycenter of translated nerve:\n",
      "\n",
      "[0. 0. 0.]\n"
     ]
    }
   ],
   "source": [
    "import numpy as np\n",
    "\n",
    "one_nerve = nerves[0]; print(\"One nerve:\\n\", one_nerve);\n",
    "barycenter = np.mean(one_nerve, axis=0);\n",
    "translated = one_nerve - barycenter\n",
    "print(\"Translated nerve:\\n\", translated)\n",
    "print(\"Barycenter of translated nerve:\\n\")\n",
    "print(np.mean(translated, axis=0))"
   ]
  },
  {
   "cell_type": "markdown",
   "id": "1f502dc2",
   "metadata": {
    "slideshow": {
     "slide_type": "slide"
    }
   },
   "source": [
    "### Action of scalings on $\\mathbb{R}^{k \\times m}$\n",
    "\n",
    "$\\color{#EF5645}{\\text{Definition}}$: Scaling a centered set of $k$ landmarks $X=\\begin{bmatrix} x_1 \\\\ ... \\\\ x_k \\end{bmatrix}$ by a factor $\\alpha \\in \\mathbb{R}^*_+$ is performed through the operation:\n",
    "$$\\alpha X = \\begin{bmatrix} \\alpha x_1 \\\\ ... \\\\ \\alpha x_k\\end{bmatrix}.$$\n",
    "\n",
    "This defines an action of the group of scalings $\\mathbb{R}_+^*$ on the space $\\mathbb{R}^{k \\times m}$.|"
   ]
  },
  {
   "cell_type": "markdown",
   "id": "297d8ead",
   "metadata": {
    "slideshow": {
     "slide_type": "slide"
    }
   },
   "source": [
    "$\\color{#EF5645}{\\text{Definition}}$: Denote $x_l$ the $l$-th landmark of a _centered_ set of landmarks $X$.\n",
    "- The _size $s$_ of a *centered* set of landmarks is $s = \\sqrt{\\sum_{l=1}^k ||x_l||^2}$. \n",
    "\n",
    "\n",
    "$\\color{#047C91}{\\text{Example}}$: We can use the action of scalings to rescale a set $X$ of landmarks to size 1: we rescale it by the inverse of its size."
   ]
  },
  {
   "cell_type": "code",
   "execution_count": 4,
   "id": "d9813877",
   "metadata": {},
   "outputs": [
    {
     "name": "stdout",
     "output_type": "stream",
     "text": [
      "Original size 2918.738508239476\n",
      "Size after rescaling: 1.0\n"
     ]
    }
   ],
   "source": [
    "import numpy as np\n",
    "\n",
    "size = np.sqrt(np.sum(translated**2)); print(\"Original size\", size)\n",
    "rescaled = 1 / size * translated;\n",
    "print(\"Size after rescaling:\", np.sqrt(np.sum(rescaled**2)))"
   ]
  },
  {
   "cell_type": "markdown",
   "id": "ee769220",
   "metadata": {
    "slideshow": {
     "slide_type": "slide"
    }
   },
   "source": [
    "### Action of rotations on $\\mathbb{R}^{k \\times m}$\n",
    "\n",
    "$\\color{#EF5645}{\\text{Definition}}$: Rotating a centered set of $k$ landmarks $X=\\begin{bmatrix} x_1 \\\\ ... \\\\ x_k \\end{bmatrix}$ by a rotation with matrix $R \\in SO(m)$ is performed through the operation:\n",
    "$$R \\ast X = \\begin{bmatrix} x_1.R^T \\\\ ... \\\\ x_k.R^T \\end{bmatrix},$$\n",
    "where $T$ denotes the transpose.\n",
    "\n",
    "This defines an action of the group of rotations $SO(m)$ on the space $\\mathbb{R}^{k \\times m}$."
   ]
  },
  {
   "cell_type": "code",
   "execution_count": 5,
   "id": "07fa6024",
   "metadata": {
    "slideshow": {
     "slide_type": "slide"
    }
   },
   "outputs": [],
   "source": [
    "import math as m\n",
    "import numpy as np\n",
    "\n",
    "theta = np.pi / 6\n",
    "rotation = np.array([[ m.cos(theta), -m.sin(theta), 0 ],\n",
    "                     [ m.sin(theta), m.cos(theta) , 0 ],\n",
    "                     [ 0           , 0            , 1 ]])\n",
    "\n",
    "rotated = rescaled @ rotation.T"
   ]
  },
  {
   "cell_type": "code",
   "execution_count": 10,
   "id": "dcc49505",
   "metadata": {
    "slideshow": {
     "slide_type": "slide"
    }
   },
   "outputs": [],
   "source": [
    "import matplotlib.colors as colors\n",
    "import matplotlib.patches as mpatches\n",
    "import matplotlib.pyplot as plt\n",
    "\n",
    "from mpl_toolkits.mplot3d import Axes3D\n",
    "from mpl_toolkits.mplot3d.art3d import Poly3DCollection\n",
    "\n",
    "label_to_str = {0: \"Normal nerve\", 1: \"Glaucoma nerve\"}\n",
    "label_to_color = {\n",
    "    0: (102 / 255, 178 / 255, 255 / 255, 1.0),\n",
    "    1: (255 / 255, 178 / 255, 102 / 255, 1.0),\n",
    "}"
   ]
  },
  {
   "cell_type": "code",
   "execution_count": 11,
   "id": "249c62ea",
   "metadata": {
    "slideshow": {
     "slide_type": "slide"
    }
   },
   "outputs": [
    {
     "data": {
      "image/png": "[encoded data removed]",
      "text/plain": [
       "<Figure size 640x480 with 1 Axes>"
      ]
     },
     "metadata": {},
     "output_type": "display_data"
    }
   ],
   "source": [
    "fig = plt.figure(); ax = fig.add_subplot(111, projection=\"3d\"); \n",
    "ax.set_xlim((-1,1)); ax.set_ylim((-1, 1)); ax.set_zlim((-2, 2))\n",
    "\n",
    "for label, nerve in enumerate([rescaled, rotated]):\n",
    "    x = nerve[:, 0]; y = nerve[:, 1]; z = nerve[:, 2]\n",
    "    verts = [list(zip(x, y, z))]\n",
    "\n",
    "    poly = Poly3DCollection(verts, alpha=0.5)\n",
    "    color = label_to_color[int(label)]\n",
    "    poly.set_color(colors.rgb2hex(color))\n",
    "    poly.set_edgecolor(\"k\")\n",
    "    ax.add_collection3d(poly)\n",
    "\n",
    "patch_0 = mpatches.Patch(color=label_to_color[0], label=label_to_str[0], alpha=0.5); patch_1 = mpatches.Patch(color=label_to_color[1], label=label_to_str[1], alpha=0.5)\n",
    "plt.legend(handles=[patch_0, patch_1], prop={\"size\": 14}); plt.show()"
   ]
  },
  {
   "cell_type": "markdown",
   "id": "137fea14",
   "metadata": {
    "slideshow": {
     "slide_type": "slide"
    }
   },
   "source": [
    "### Procrustes in Geometric Learning (Continued)\n",
    "\n",
    "$\\color{#EF5645}{\\text{Definition}}$: _Procrustes Analysis_ is a general method to perform machine learning on shapes of objects defined by sets of landmarks $X_0, ..., X_n$.\n",
    "\n",
    "1. Superimpose objects $X_0, ..., X_n$: translate, rotate, possibly scale.  \n",
    "\n",
    "\n",
    "<center><img src=\"figs/02_procrustes.png\" width=900px alt=\"default\"/></center>\n",
    "\n",
    "2. Perform machine learning on superimposed objects (shapes)."
   ]
  },
  {
   "cell_type": "markdown",
   "id": "8f47e2e0",
   "metadata": {},
   "source": [
    "### 1. Superimpose objects $X_0, ..., X_n$: translate, rotate, possibly scale.\n",
    "\n",
    "\n",
    "$\\color{#EF5645}{\\text{Theory}}$: Fix a $X_0$. For each $i=1, ..., n$: \n",
    "- Find $g_i \\in G$, such that: $g_i = \\text{argmin}_{g \\in G} ||X_0 - g \\ast X_i||^2,$ where:\n",
    "  - $G$ represents the group of rotations, translations, and/or scalings.\n",
    "  - $g \\ast X$ represents the \"action\" of g on the landmark set $X$.\n",
    "- Use this $g_i$ to superimpose $X_i$ onto $X_0$ by computing $g_i \\ast X_i$."
   ]
  },
  {
   "cell_type": "markdown",
   "id": "b89aa1df",
   "metadata": {
    "slideshow": {
     "slide_type": "slide"
    }
   },
   "source": [
    "$\\color{#EF5645}{\\text{Practice}}$:\n",
    "- Projection: Superimposing with translations and rescalings amounts to \"project\" the $X$'s in a \"pre-shape space\".\n",
    "  - $X$ is translated such that its barycenter is at 0.\n",
    "  - $X$ is re-scaled such that its size is 1.\n",
    "- Orientation: Superimposing with rotations amounts to \"align\" the preshapes and send them into a \"shape space\" also called: Kendall shape space.\n",
    "\n",
    "$\\rightarrow$ Use the methods `projection` and `align` of the manifold `PreShapeSpace`."
   ]
  },
  {
   "cell_type": "code",
   "execution_count": 14,
   "id": "382cda1b",
   "metadata": {
    "slideshow": {
     "slide_type": "slide"
    }
   },
   "outputs": [],
   "source": [
    "from geomstats.geometry.pre_shape import PreShapeSpace\n",
    "m_ambient = 3; k_landmarks = 5\n",
    "preshape = PreShapeSpace(m_ambient=m_ambient, k_landmarks=k_landmarks)\n",
    "\n",
    "nerves_preshape = preshape.projection(nerves)\n",
    "# print(\"Check that the sets are centered:\\n\", np.mean(nerves_preshape, axis=1))\n",
    "# print(\"Check that the sets have size 1:\\n\", np.linalg.norm(nerves_preshape, axis=(1,2)))\n",
    "\n",
    "preshape.belongs(nerves_preshape)\n",
    "\n",
    "base_nerve = nerves_preshape[0]\n",
    "\n",
    "nerves_shape = preshape.align(\n",
    "    point=nerves_preshape, base_point=base_nerve)"
   ]
  },
  {
   "cell_type": "markdown",
   "id": "595086c1",
   "metadata": {
    "slideshow": {
     "slide_type": "slide"
    }
   },
   "source": [
    "### 2. Perform machine learning on superimposed objects (shapes).\n",
    "\n",
    "= amounts to perform statistics in the Kendall shape space.\n",
    "\n",
    "The Kendall shape space is a manifold equipped with a Riemannian metric called the Kendall shape metric.\n",
    "\n",
    "We can use this metric to run machine learning algorithms (see Unit 3).\n",
    "\n",
    "$\\color{#EF5645}{\\text{Remark}}$: The Kendall shape metric re-orients (superimpose) the objects before performing its computations."
   ]
  },
  {
   "cell_type": "code",
   "execution_count": 15,
   "id": "5509762c",
   "metadata": {},
   "outputs": [],
   "source": [
    "from geomstats.geometry.pre_shape import KendallShapeMetric\n",
    "\n",
    "kendall_metric = KendallShapeMetric(\n",
    "    m_ambient=m_ambient, k_landmarks=k_landmarks)"
   ]
  },
  {
   "cell_type": "markdown",
   "id": "23b0ed09",
   "metadata": {
    "slideshow": {
     "slide_type": "slide"
    }
   },
   "source": [
    "<center><img src=\"figs/01_triangles_2d.png\" width=600px alt=\"default\"/></center>"
   ]
  },
  {
   "cell_type": "markdown",
   "id": "d8ac79ee",
   "metadata": {
    "slideshow": {
     "slide_type": "slide"
    }
   },
   "source": [
    "# Theory: Kendall Shape Spaces"
   ]
  },
  {
   "cell_type": "markdown",
   "id": "7e30445b",
   "metadata": {
    "slideshow": {
     "slide_type": "slide"
    }
   },
   "source": [
    "### Mysteries of Procrustes Analysis\n",
    "\n",
    "We need theory to address the following questions:\n",
    "- What is the effect of the Procrustes preprocessing?\n",
    "- Specifically, why does it send the object data into a curved shape space?\n",
    "\n",
    "\n",
    "$\\rightarrow$ Understanding geometry provides answers.\n",
    "\n",
    "<center><img src=\"figs/02_procrustes.png\" width=600px alt=\"default\"/></center>"
   ]
  },
  {
   "cell_type": "markdown",
   "id": "c4ac47fc",
   "metadata": {
    "slideshow": {
     "slide_type": "slide"
    }
   },
   "source": [
    "### Group Action and Their Orbits\n",
    "\n",
    "$\\color{#EF5645}{\\text{Definition}}$: The _orbit_ of a set of landmarks $X \\in \\mathbb{R}^{k \\times m}$ under the action of the group $G$ as: \n",
    "$$O_X = G * X=\\{g * X \\mid g \\in G\\}.$$\n",
    "\n",
    "$\\color{#EF5645}{\\text{Explanation}}$: The orbit of the object $X$ represent all objects with the same shape as $X$.\n",
    "\n",
    "$\\color{#047C91}{\\text{Examples}}$: Consider sets of 2 landmarks in 2D under the action of $SO(2)$. The orbit of one set $x$ of two landmarks is a circle. \n",
    "\n",
    "<center><img src=\"figs/02_2landmarks.png\" width=300px alt=\"default\"/></center>"
   ]
  },
  {
   "cell_type": "markdown",
   "id": "8a16ad8b",
   "metadata": {
    "slideshow": {
     "slide_type": "slide"
    }
   },
   "source": [
    "### (Kendall) Shape Spaces\n",
    "\n",
    "$\\color{#EF5645}{\\text{Definition}}$: The _Kendall shape space_ is defined as the space of orbits of $\\mathbb{R}^{k \\times m } \\setminus 0$ under the action of $\\mathbb{R}^m$, $SO(m)$ and $\\mathbb{R}_+^*$.\n",
    "\n",
    "\n",
    "\n",
    "$\\color{#047C91}{\\text{Example}}$: What is the shape space in the example of the 2 landmarks with the action of $SO(2)$?\n",
    "\n",
    "\n",
    "<center><img src=\"figs/02_2landmarks.png\" width=500px alt=\"default\"/></center>\n"
   ]
  },
  {
   "cell_type": "markdown",
   "id": "97c01617",
   "metadata": {
    "slideshow": {
     "slide_type": "slide"
    }
   },
   "source": [
    "### Example: Kendall Shape Spaces of Triangles in 2D\n",
    "\n",
    "Schematic proof explaining why the space of triangular shapes is a sphere:\n",
    "\n",
    "- Triangle objects are described by elements $X$'s in $\\mathbb{R}^{3 \\times 2}$.\n",
    "- Centering removes 2 degrees of freedom: elements in $\\mathbb{R}^{2 \\times 2} = \\mathbb{R}^4$.\n",
    "- Forcing the scale to be 1: elements on a 3D hypersphere in $\\mathbb{R}^4$.\n",
    "- We draw its orbits by $SO(2)$ and remove them: elements on a 2D sphere.\n",
    "\n",
    "<center><img src=\"figs/02_orbits_sphere.png\" width=400px alt=\"default\"/></center>\n",
    "<center>Schematic illustration of the orbits of $SO(2)$ on the 3D hypersphere, represented as orbits of $SO(2)$ on the 2D sphere for convenience.</center>"
   ]
  },
  {
   "cell_type": "markdown",
   "id": "e0c403ab",
   "metadata": {
    "slideshow": {
     "slide_type": "slide"
    }
   },
   "source": [
    "<center><img src=\"figs/01_triangles_2d.png\" width=900px alt=\"default\"/></center>"
   ]
  },
  {
   "cell_type": "markdown",
   "id": "9f2d080f",
   "metadata": {
    "slideshow": {
     "slide_type": "slide"
    }
   },
   "source": [
    "## Application: Innovation in Pelvis Surgery"
   ]
  },
  {
   "cell_type": "markdown",
   "id": "0395491f",
   "metadata": {
    "slideshow": {
     "slide_type": "slide"
    }
   },
   "source": [
    "### Severe Pelvis Injuries\n",
    "\n",
    "\n",
    "Severe pelvic injuries include \"open book\" dislocations:\n",
    "- often come from a motor vehicle collision or fall from a significant height.\n",
    "- have a high mortality rate of 10.4%:\n",
    "\n",
    "$\\rightarrow$ complications often occur at surgery and during infections after surgery.\n",
    "\n",
    "<center><img src=\"figs/02_openbook.jpeg\" width=400px alt=\"default\"/></center>"
   ]
  },
  {
   "cell_type": "markdown",
   "id": "b1971328",
   "metadata": {
    "slideshow": {
     "slide_type": "slide"
    }
   },
   "source": [
    "### Goal: Surgical Planning of Pelvis Fracture Reduction\n",
    "\n",
    "<center><img src=\"figs/02_pelvis.png\" width=900px alt=\"default\"/></center>\n",
    "\n",
    "$\\color{#EF5645}{\\text{Questions}}$:\n",
    "- Can we speed-up the surgery process by analyzing shape of pelvis & required internal fixations (bars, screws)?\n",
    "- Can we design an internal surgery that would reduce risks of infection?\n",
    "\n"
   ]
  },
  {
   "cell_type": "markdown",
   "id": "ccfcba96",
   "metadata": {
    "slideshow": {
     "slide_type": "slide"
    }
   },
   "source": [
    "### Data: CT scans from 100 patients\n",
    "\n",
    "Data acquired with a CT scan (2014):\n",
    "- 100 patients: 52 males, 48 females and diversity of ages.\n",
    "- 100 3D images of pelvis\n",
    "  \n",
    "$\\rightarrow$ On each 3D image, 16 anatomical \"landmarks\" were recorded.\n",
    "\n",
    "<center><img src=\"figs/02_pelvis_landmarks.png\" width=900px alt=\"default\"/></center>"
   ]
  },
  {
   "cell_type": "markdown",
   "id": "e3cc019c",
   "metadata": {
    "slideshow": {
     "slide_type": "slide"
    }
   },
   "source": [
    "### Method: Apply Procrustes Analysis (no scaling)\n",
    "\n",
    "\n",
    "\n",
    "**1. Superimpose:**\n",
    "  - via translation: Center the 16 landmarks.\n",
    "  - via rotation: Align the 16 landmarks\n",
    " \n",
    "<center><img src=\"figs/02_pelvis_superimpose.png\" width=600px alt=\"default\"/></center>\n",
    "\n",
    "\n",
    "$\\color{#EF5645}{\\text{Remark}}$: We do want to take into account the scaling, as the size of the patient is important to decide which fixations to put in."
   ]
  },
  {
   "cell_type": "markdown",
   "id": "42ff7493",
   "metadata": {
    "slideshow": {
     "slide_type": "slide"
    }
   },
   "source": [
    " \n",
    "**2. Perform machine learning**\n",
    "- **[principal component analysis](https://en.wikipedia.org/wiki/Principal_component_analysis)** (PCA, see Unit 03)\n",
    "\n",
    "$\\rightarrow$ we should get several types of fixations: small/large size and small/large width, using the values given by the PCA.\n",
    "\n",
    "<center><img src=\"figs/02_pelvis_pca.png\" width=1000px alt=\"default\"/></center>\n",
    "\n",
    "\n"
   ]
  },
  {
   "cell_type": "markdown",
   "id": "3d2d2762",
   "metadata": {
    "slideshow": {
     "slide_type": "slide"
    }
   },
   "source": [
    "# Outline\n",
    "\n",
    "- **Unit 2 (Shapes): Computational Representations of Biomedical Shapes**\n",
    "  - **A) Shapes of landmarks**\n",
    "    - Motivation: Shape of Glaucoma\n",
    "    - Practice: Procrustes Analysis and Group Actions\n",
    "    - Theory: Kendall Shape Spaces\n",
    "    - Application: Innovation in Pelvis Surgery\n",
    "  - B) Shapes of curves\n",
    "  - C) Shapes of surfaces\n",
    "  - D) Deformations"
   ]
  }
 ],
 "metadata": {
  "celltoolbar": "Slideshow",
  "kernelspec": {
   "display_name": "Python 3 (ipykernel)",
   "language": "python",
   "name": "python3"
  },
  "language_info": {
   "codemirror_mode": {
    "name": "ipython",
    "version": 3
   },
   "file_extension": ".py",
   "mimetype": "text/x-python",
   "name": "python",
   "nbconvert_exporter": "python",
   "pygments_lexer": "ipython3",
   "version": "3.8.15"
  }
 },
 "nbformat": 4,
 "nbformat_minor": 5
}
