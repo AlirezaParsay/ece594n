{
 "cells": [
  {
   "cell_type": "markdown",
   "id": "83fc4529",
   "metadata": {
    "slideshow": {
     "slide_type": "slide"
    }
   },
   "source": [
    "# 02 Computational Representations of (Biomedical) Shapes\n",
    "\n",
    "## A) Shapes of Landmarks\n",
    "\n",
    "$\\color{#003660}{\\text{Nina Miolane - Assistant Professor}}$ @ BioShape Lab @ UCSB ECE\n",
    "\n",
    "<center><img src=\"figs/01_optic_nerves.png\" width=400px alt=\"default\"/></center>\n",
    "<center>Comparison of optic nerve heads in monkeys with and without glaucoma.</center>\n"
   ]
  },
  {
   "cell_type": "markdown",
   "id": "fd3c6f41",
   "metadata": {
    "slideshow": {
     "slide_type": "slide"
    }
   },
   "source": [
    "# Outline: Geometric Learning for BioShape Analysis\n",
    "\n",
    "- **Unit 1 (Geometry - Math!)**: Differential Geometry for Engineers\n",
    "- **Unit 2 (Shapes): Computational Representations of Biomedical Shapes**\n",
    "- **Unit 3 (Machine Learning)**: Geometric Machine Learning for Shape Analysis\n",
    "- **Unit 4 (Deep Learning)**: Geometric Deep Learning for Shape Analysis\n",
    "\n",
    "<center><img src=\"figs/00_bioshape.jpg\" width=500px alt=\"default\"/></center>\n",
    "\n",
    "Examples and applications will be taken from cutting-edge research in the **biomedical field**."
   ]
  },
  {
   "cell_type": "markdown",
   "id": "59605e29",
   "metadata": {
    "slideshow": {
     "slide_type": "slide"
    }
   },
   "source": [
    "# Outline\n",
    "\n",
    "- **Unit 2 (Shapes): Computational Representations of Biomedical Shapes**\n",
    "  - A) Shapes of landmarks\n",
    "  - B) Shapes of curves\n",
    "  - C) Shapes of surfaces\n",
    "  - D) Graphs\n",
    "  - E) Deformations"
   ]
  },
  {
   "cell_type": "markdown",
   "id": "d9995986",
   "metadata": {
    "slideshow": {
     "slide_type": "slide"
    }
   },
   "source": [
    "# Outline\n",
    "\n",
    "- **Unit 2 (Shapes): Computational Representations of Biomedical Shapes**\n",
    "  - **A) Shapes of landmarks**\n",
    "    - Motivation: Shape of Glaucoma\n",
    "    - Practice: Procrustes Analysis\n",
    "    - Theory: Kendall Shape Spaces\n",
    "    - Application: Innovation in Pelvis Surgery\n",
    "  - B) Shapes of curves\n",
    "  - C) Shapes of surfaces\n",
    "  - D) Graphs\n",
    "  - E) Deformations"
   ]
  },
  {
   "cell_type": "markdown",
   "id": "5c6c17ac",
   "metadata": {
    "slideshow": {
     "slide_type": "slide"
    }
   },
   "source": [
    "# Motivation: Shape of Glaucoma"
   ]
  },
  {
   "cell_type": "markdown",
   "id": "e07c209a",
   "metadata": {
    "slideshow": {
     "slide_type": "slide"
    }
   },
   "source": [
    "\n",
    "\n",
    "$\\color{#EF5645}{\\text{Question}}$: Find shape markers of glaucoma that could lead to automatic diagnosis?\n",
    "\n",
    "Data acquired with a Heidelberg Retina Tomograph - Patrangenaru and Ellingson (2015):\n",
    "- 11 Rhesus monkeys\n",
    "- 22 images of monkeys’ eyes:\n",
    "  - an experimental glaucoma was introduced in one eye, \n",
    "  - while the second eye was kept as control.\n",
    "  \n",
    "$\\rightarrow$ On each image, 5 anatomical \"landmarks\" were recorded, e.g. \"superior aspect of the retina\".\n",
    "\n",
    "<center><img src=\"figs/01_optic_nerves.png\" width=400px alt=\"default\"/></center>\n",
    "<center>Comparison of optic nerve heads in monkeys with and without glaucoma.</center>\n",
    "\n"
   ]
  },
  {
   "cell_type": "markdown",
   "id": "7abb2f20",
   "metadata": {
    "slideshow": {
     "slide_type": "skip"
    }
   },
   "source": [
    "All landmarks:\n",
    "\n",
    "  - 1st landmark: superior aspect of the retina,\n",
    "  - 2nd landmark: side of the retina closest to the temporal bone of the skull,\n",
    "  - 3rd landmark: nose side of the retina,\n",
    "  - 4th landmark: inferior point,\n",
    "  - 5th landmark: optical nerve head deepest point.\n",
    "\n",
    "\n",
    "$\\rightarrow$ Define landmarks and shapes formed by a set of landmarks."
   ]
  },
  {
   "cell_type": "markdown",
   "id": "a5daaf03",
   "metadata": {
    "slideshow": {
     "slide_type": "slide"
    }
   },
   "source": [
    "### Anatomical Landmarks\n",
    "\n",
    "$\\color{#EF5645}{\\text{Definition}}$: Anatomical landmarks are defined as biologically meaningful loci that can be unambiguously defined and repeatedly located with a high degree of accuracy and precision.\n",
    "\n",
    "$\\color{#047C91}{\\text{Examples}}$: \n",
    "- Glaucoma example: \"side of the retina closest to the temporal bone of the skull\"\n",
    "- Pelvis example: see image below.\n",
    "\n",
    "<center><img src=\"figs/02_pelvis_landmarks.jpeg\" width=400px alt=\"default\"/></center>"
   ]
  },
  {
   "cell_type": "markdown",
   "id": "adf69a5a",
   "metadata": {
    "slideshow": {
     "slide_type": "slide"
    }
   },
   "source": [
    "$\\color{#EF5645}{\\text{Definition}}$: A set $X$ of $k$ landmarks in $m$ dimensions can be described by an element in $\\mathbb{R}^{k \\times m}$, i.e. a matrix of $k$ rows and $m$ columns.\n",
    "\n",
    "$\\color{#047C91}{\\text{Example}}$: Give the elements $X_1, X_2$ representing each of the two triangles below. What is $k$? What is $m$?\n",
    "\n",
    "<center><img src=\"figs/02_triangles.png\" width=600px alt=\"default\"/></center>"
   ]
  },
  {
   "cell_type": "markdown",
   "id": "1bea1fde",
   "metadata": {
    "slideshow": {
     "slide_type": "slide"
    }
   },
   "source": [
    "$\\color{#047C91}{\\text{Example}}$: Consider the dataset of optical nerves. What is the number of landmarks $k$? What is $m$?"
   ]
  },
  {
   "cell_type": "code",
   "execution_count": 2,
   "id": "c5ba0a64",
   "metadata": {
    "scrolled": true,
    "slideshow": {
     "slide_type": "-"
    }
   },
   "outputs": [
    {
     "name": "stderr",
     "output_type": "stream",
     "text": [
      "INFO: Using numpy backend\n"
     ]
    },
    {
     "name": "stdout",
     "output_type": "stream",
     "text": [
      "(22, 5, 3)\n",
      "[0 1 0 1 0 1 0 1 0 1 0 1 0 1 0 1 0 1 0 1 0 1]\n",
      "[ 0  0  1  1  2  2  3  3  4  4  5  5  6  6  7  7  8  8  9  9 10 10]\n"
     ]
    }
   ],
   "source": [
    "import geomstats.datasets.utils as data_utils\n",
    "\n",
    "nerves, labels, monkeys = data_utils.load_optical_nerves()\n",
    "print(nerves.shape)\n",
    "print(labels)\n",
    "print(monkeys)"
   ]
  },
  {
   "cell_type": "markdown",
   "id": "6d5c19c0",
   "metadata": {
    "slideshow": {
     "slide_type": "slide"
    }
   },
   "source": [
    "### From Landmarks to Shapes of Landmarks\n",
    "\n",
    "$\\color{#EF5645}{\\text{Definition}}$: Two sets of $k$ landmarks are said to have the same shape if one set can be obtained by translating, rotating, or re-scaling the other.\n",
    "\n",
    "$\\rightarrow$ We do not want to do machine learning on the $X$ directly, but rather the shape of the $X$."
   ]
  },
  {
   "cell_type": "markdown",
   "id": "ff586483",
   "metadata": {
    "slideshow": {
     "slide_type": "slide"
    }
   },
   "source": [
    "# Practice: Procrustes Analysis"
   ]
  },
  {
   "cell_type": "markdown",
   "id": "53209768",
   "metadata": {
    "slideshow": {
     "slide_type": "slide"
    }
   },
   "source": [
    "### Procrustes in the Greek Mythology\n",
    "\n",
    "Procrustes was a robber who killed his victims in a most cruel and unusual way. \n",
    "\n",
    "He made them lie on an iron bed and would force them to fit the bed by cutting off the parts that hung off the ends or by stretching those people who were too short.\n",
    "\n",
    "<center><img src=\"figs/02_greek.png\" width=600px alt=\"default\"/></center>"
   ]
  },
  {
   "cell_type": "markdown",
   "id": "0f438340",
   "metadata": {
    "slideshow": {
     "slide_type": "slide"
    }
   },
   "source": [
    "### Procrustes in Geometric Learning\n",
    "\n",
    "$\\color{#EF5645}{\\text{Definition}}$: Procrustes Analysis is a general method to perform statistical learning on shapes defined by sets of landmarks $X_0, ..., X_n$.\n",
    "\n",
    "1. Optimally \"superimpose” objects $X_0, ..., X_n$: translate, rotate and possibly scale.\n",
    "\n",
    "$\\rightarrow$ Introduce \"group actions\".\n",
    "\n",
    "2. Perform statistical learning on superimposed objects.\n",
    "\n",
    "\n",
    "<center><img src=\"figs/02_procrustes.png\" width=900px alt=\"default\"/></center>"
   ]
  },
  {
   "cell_type": "markdown",
   "id": "28b28bcb",
   "metadata": {
    "slideshow": {
     "slide_type": "slide"
    }
   },
   "source": [
    "### Group Actions\n",
    "\n",
    "$\\color{#EF5645}{\\text{Definition}}$: A group action of a (Lie) group of transformations $G$ on $\\mathbb{R}^{k \\times m}$ is a function $*: G \\times \\mathbb{R}^{k \\times m} \\rightarrow \\mathbb{R}^{k \\times m}$, such that:\n",
    "- $\\forall g, h \\in G, \\forall X \\in \\mathbb{R}^{k \\times m}, \\quad g *(h * X)=(g h) * X$,\n",
    "- $\\forall X \\in \\mathbb{R}^{k \\times m}, \\quad e *X=X$.\n",
    "\n",
    "\n",
    "$\\color{#047C91}{\\text{Example}}$: The group of translations $\\mathbb{R}^m$, of rotations $SO(m)$ or of scalings $\\mathbb{R}_+^*$ can act on the sets of landmarks.\n",
    "\n",
    "\n",
    "\n",
    "\n",
    "$\\color{#EF5645}{\\text{Definition}}$: The definition above works when replacing $\\mathbb{R}^{k \\times m}$ by any manifold $M$."
   ]
  },
  {
   "cell_type": "markdown",
   "id": "063d58e3",
   "metadata": {
    "slideshow": {
     "slide_type": "slide"
    }
   },
   "source": [
    "### Procrustes in Geometric Learning (Continued)\n",
    "\n",
    "\n",
    "$\\color{#EF5645}{\\text{Definition}}$: Procrustes Analysis is a general method to perform statistical learning on shapes defined by sets of landmarks.\n",
    "\n",
    "1. Optimally \"superimpose” objects $X_0, ..., X_n$: translate, rotate and possibly scale.\n",
    "\n",
    "\n",
    "- Fix a $X_0$. For each $i=1, ..., n$ Find $g_i \\in G$, such that: $g_i = \\text{argmin}_{g \\in G} ||X_0 - g \\ast X_i||^2,$ where:\n",
    "  - $G$ represents the group of rotations, translations, and/or scalings.\n",
    "  - $g \\ast X$ represents the \"action\" of g on the landmark set $X$.\n",
    "\n",
    "2. Perform statistical learning on superimposed objects.\n",
    "\n",
    "\n",
    "<center><img src=\"figs/02_procrustes.png\" width=900px alt=\"default\"/></center>\n"
   ]
  },
  {
   "cell_type": "markdown",
   "id": "18e33f91",
   "metadata": {
    "slideshow": {
     "slide_type": "slide"
    }
   },
   "source": [
    "### Example: Action of translations\n",
    "\n",
    "$\\color{#EF5645}{\\text{Definition}}$: Translating one set of $k$ landmarks $X=\\begin{bmatrix} x_1 \\\\ ... \\\\ x_k \\end{bmatrix}$ by a translation of vector $t \\in \\mathbb{R}^m$ is performed through the operation:\n",
    "$$t * X = \\begin{bmatrix} x_1 + t\\\\ ... \\\\ x_k + t \\end{bmatrix}.$$\n",
    "This defines an action of the group of translations $\\mathbb{R}^m$ on the space $\\mathbb{R}^{k \\times m}$.\n",
    "\n",
    "$\\color{#047C91}{\\text{Example}}$: Consider the blue triangle below. What are the coordinates of that triangle translated by $t = [1, 2]$?\n",
    "\n",
    "<center><img src=\"figs/02_triangles.png\" width=300px alt=\"default\"/></center>"
   ]
  },
  {
   "cell_type": "code",
   "execution_count": 6,
   "id": "33e4485d",
   "metadata": {
    "slideshow": {
     "slide_type": "slide"
    }
   },
   "outputs": [
    {
     "name": "stdout",
     "output_type": "stream",
     "text": [
      "[[2580.   1060.     60.31]\n",
      " [1360.   2660.    -78.4 ]\n",
      " [3800.   2660.   -132.68]\n",
      " [2580.   4260.    126.65]\n",
      " [2180.   2820.   -542.77]]\n",
      "\n",
      "\n",
      "[[2590.   1160.   1060.31]\n",
      " [1370.   2760.    921.6 ]\n",
      " [3810.   2760.    867.32]\n",
      " [2590.   4360.   1126.65]\n",
      " [2190.   2920.    457.23]]\n"
     ]
    }
   ],
   "source": [
    "one_nerve = nerves[0]; print(one_nerve); print(\"\\n\")\n",
    "translation = [10, 100, 1000]; \n",
    "translated = one_nerve + translation; print(translated)"
   ]
  },
  {
   "cell_type": "code",
   "execution_count": 7,
   "id": "730501da",
   "metadata": {
    "slideshow": {
     "slide_type": "slide"
    }
   },
   "outputs": [],
   "source": [
    "%matplotlib inline\n",
    "import matplotlib.colors as colors\n",
    "import matplotlib.patches as mpatches\n",
    "import matplotlib.pyplot as plt\n",
    "from mpl_toolkits.mplot3d import Axes3D\n",
    "from mpl_toolkits.mplot3d.art3d import Poly3DCollection\n",
    "import matplotlib.pyplot as plt\n",
    "\n",
    "label_to_str = {0: \"Before action\", 1: \"After action\"}\n",
    "label_to_color = {\n",
    "    0: (102 / 255, 178 / 255, 255 / 255, 1.0),\n",
    "    1: (255 / 255, 178 / 255, 102 / 255, 1.0),\n",
    "}\n",
    "\n",
    "import warnings\n",
    "warnings.filterwarnings(\"ignore\")"
   ]
  },
  {
   "cell_type": "code",
   "execution_count": 8,
   "id": "1e10df15",
   "metadata": {
    "slideshow": {
     "slide_type": "slide"
    }
   },
   "outputs": [
    {
     "data": {
      "image/png": "[encoded data removed]",
      "text/plain": [
       "<Figure size 432x288 with 1 Axes>"
      ]
     },
     "metadata": {
      "needs_background": "light"
     },
     "output_type": "display_data"
    }
   ],
   "source": [
    "fig = plt.figure(); ax = Axes3D(fig)\n",
    "ax.set_xlim((2000, 4000))\n",
    "ax.set_ylim((1000, 5000))\n",
    "ax.set_zlim((-600, 2000))\n",
    "\n",
    "for label, nerve in enumerate([one_nerve, translated]):\n",
    "    x = nerve[:, 0]\n",
    "    y = nerve[:, 1]\n",
    "    z = nerve[:, 2]\n",
    "\n",
    "    verts = [list(zip(x, y, z))]\n",
    "\n",
    "    poly = Poly3DCollection(verts, alpha=0.5)\n",
    "    color = label_to_color[int(label)]\n",
    "    poly.set_color(colors.rgb2hex(color))\n",
    "    poly.set_edgecolor(\"k\")\n",
    "    ax.add_collection3d(poly)\n",
    "\n",
    "patch_0 = mpatches.Patch(color=label_to_color[0], label=label_to_str[0], alpha=0.5)\n",
    "patch_1 = mpatches.Patch(color=label_to_color[1], label=label_to_str[1], alpha=0.5)\n",
    "plt.legend(handles=[patch_0, patch_1], prop={\"size\": 14})\n",
    "plt.show()"
   ]
  },
  {
   "cell_type": "markdown",
   "id": "93199ffc",
   "metadata": {
    "slideshow": {
     "slide_type": "slide"
    }
   },
   "source": [
    "$\\color{#EF5645}{\\text{Definition}}$: We say that a set of landmarks is centered if its barycenter is at $0$.\n",
    "\n",
    "$\\color{#047C91}{\\text{Example}}$: How would you center the optical nerve `one_nerve`?"
   ]
  },
  {
   "cell_type": "code",
   "execution_count": 12,
   "id": "1dedf642",
   "metadata": {},
   "outputs": [
    {
     "name": "stdout",
     "output_type": "stream",
     "text": [
      "(5, 3)\n",
      "\n",
      "\n",
      "[0. 0. 0.]\n"
     ]
    }
   ],
   "source": [
    "import numpy as np\n",
    "one_nerve = nerves[0]; print(one_nerve.shape); print(\"\\n\")\n",
    "translation = - np.mean(centered, axis=0) ; \n",
    "centered = one_nerve + translation; \n",
    "print(np.mean(centered, axis=0))"
   ]
  },
  {
   "cell_type": "markdown",
   "id": "1f502dc2",
   "metadata": {
    "slideshow": {
     "slide_type": "slide"
    }
   },
   "source": [
    "### Example: Action of scalings\n",
    "\n",
    "$\\color{#EF5645}{\\text{Definition}}$: Scaling a centered set of $k$ landmarks $X=\\begin{bmatrix} x_1 \\\\ ... \\\\ x_k \\end{bmatrix}$ by a factor $\\alpha \\in \\mathbb{R}^*_+$ is performed through the operation:\n",
    "$$\\alpha X = \\begin{bmatrix} \\alpha x_1 \\\\ ... \\\\ \\alpha x_k\\end{bmatrix}.$$\n",
    "\n",
    "This defines an action of the group of scalings $\\mathbb{R}_+^*$ on the space $\\mathbb{R}^{k \\times m}$.\n",
    "\n",
    "<center><img src=\"figs/02_triangles.png\" width=200px alt=\"default\"/></center>"
   ]
  },
  {
   "cell_type": "markdown",
   "id": "ee769220",
   "metadata": {
    "slideshow": {
     "slide_type": "slide"
    }
   },
   "source": [
    "### Example: Action of rotations\n",
    "\n",
    "$\\color{#EF5645}{\\text{Definition}}$: Rotating a centered set of $k$ landmarks $X=\\begin{bmatrix} x_1 \\\\ ... \\\\ x_k \\end{bmatrix}$ by a rotation with matrix $R \\in SO(m)$ is performed through the operation:\n",
    "$$R \\ast X = \\begin{bmatrix} x_1.R^T \\\\ ... \\\\ x_k.R^T \\end{bmatrix},$$\n",
    "where $T$ denotes the transpose.\n",
    "This defines an action of the group of rotations $SO(m)$ on the space $\\mathbb{R}^{k \\times m}$.\n",
    "\n",
    "<center><img src=\"figs/02_triangles.png\" width=200px alt=\"default\"/></center>"
   ]
  },
  {
   "cell_type": "markdown",
   "id": "2c11b5d2",
   "metadata": {
    "slideshow": {
     "slide_type": "skip"
    }
   },
   "source": [
    "$\\color{#047C91}{\\text{Example}}$: Consider the blue triangle below. What are the coordinates of that triangle rotated by an angle of $\\pi / 3$ ? Can you write the formula that rotates any triangle in 2D by a rotation of angle $\\theta$?\n",
    "\n",
    "<center><img src=\"figs/02_triangles.png\" width=400px alt=\"default\"/></center>"
   ]
  },
  {
   "cell_type": "code",
   "execution_count": 15,
   "id": "07fa6024",
   "metadata": {
    "slideshow": {
     "slide_type": "slide"
    }
   },
   "outputs": [
    {
     "name": "stdout",
     "output_type": "stream",
     "text": [
      "(5, 3)\n",
      "(5, 3)\n"
     ]
    }
   ],
   "source": [
    "import math as m\n",
    "import numpy as np\n",
    "\n",
    "theta = np.pi / 6\n",
    "rotation = np.array([[ m.cos(theta), -m.sin(theta), 0 ],\n",
    "                     [ m.sin(theta), m.cos(theta) , 0 ],\n",
    "                     [ 0           , 0            , 1 ]])\n",
    "\n",
    "rotated = centered @ rotation.T\n",
    "print(rotated.shape); print(one_nerve.shape)"
   ]
  },
  {
   "cell_type": "code",
   "execution_count": 18,
   "id": "249c62ea",
   "metadata": {
    "slideshow": {
     "slide_type": "slide"
    }
   },
   "outputs": [
    {
     "data": {
      "image/png": "[encoded data removed]",
      "text/plain": [
       "<Figure size 432x288 with 1 Axes>"
      ]
     },
     "metadata": {
      "needs_background": "light"
     },
     "output_type": "display_data"
    }
   ],
   "source": [
    "fig = plt.figure(); ax = Axes3D(fig)\n",
    "ax.set_xlim((-1000,1000)); ax.set_ylim((-1000, 1000)); ax.set_zlim((-2000, 2000))\n",
    "\n",
    "for label, nerve in enumerate([centered, rotated]):\n",
    "    x = nerve[:, 0]; y = nerve[:, 1]; z = nerve[:, 2]\n",
    "    verts = [list(zip(x, y, z))]\n",
    "\n",
    "    poly = Poly3DCollection(verts, alpha=0.5)\n",
    "    color = label_to_color[int(label)]\n",
    "    poly.set_color(colors.rgb2hex(color))\n",
    "    poly.set_edgecolor(\"k\")\n",
    "    ax.add_collection3d(poly)\n",
    "\n",
    "patch_0 = mpatches.Patch(color=label_to_color[0], label=label_to_str[0], alpha=0.5); patch_1 = mpatches.Patch(color=label_to_color[1], label=label_to_str[1], alpha=0.5)\n",
    "plt.legend(handles=[patch_0, patch_1], prop={\"size\": 14}); plt.show()"
   ]
  },
  {
   "cell_type": "markdown",
   "id": "137fea14",
   "metadata": {
    "slideshow": {
     "slide_type": "slide"
    }
   },
   "source": [
    "### Procrustes in Geometric Learning (Continued-2)\n",
    "\n",
    "\n",
    "$\\color{#EF5645}{\\text{Definition}}$: Procrustes Analysis is a general method to perform statistical learning on shapes defined by sets of landmarks.\n",
    "\n",
    "1. **Optimally \"superimpose” objects $X_0, ..., X_n$: translate, rotate and possibly scale.**\n",
    "\n",
    "\n",
    "2. Perform statistical learning on superimposed objectus.\n",
    "\n",
    "\n",
    "<center><img src=\"figs/02_procrustes.png\" width=900px alt=\"default\"/></center>\n"
   ]
  },
  {
   "cell_type": "markdown",
   "id": "b89aa1df",
   "metadata": {
    "slideshow": {
     "slide_type": "slide"
    }
   },
   "source": [
    "$\\color{#EF5645}{\\text{Definitions}}$: \n",
    "- The barycenter of a set of landmarks is $\\bar x = \\frac{1}{k} \\sum_{l=1}^k x_l$. \n",
    "- The size $s$ of a centered set of landmarks is $s^2 = \\sum_{l=1}^k ||x_l||^2$. \n",
    "\n",
    "\n",
    "- Translating and rescaling the sets of landmarks amounts to \"project\" in a \"pre-shape space\".\n",
    "  - $X$ is translated such that its barycenter is at 0.\n",
    "  - $X$ is re-scaled such that its scale is 1."
   ]
  },
  {
   "cell_type": "code",
   "execution_count": 23,
   "id": "382cda1b",
   "metadata": {
    "slideshow": {
     "slide_type": "slide"
    }
   },
   "outputs": [
    {
     "data": {
      "text/plain": [
       "array([ True,  True,  True,  True,  True,  True,  True,  True,  True,\n",
       "        True,  True,  True,  True,  True,  True,  True,  True,  True,\n",
       "        True,  True,  True,  True])"
      ]
     },
     "execution_count": 23,
     "metadata": {},
     "output_type": "execute_result"
    }
   ],
   "source": [
    "from geomstats.geometry.pre_shape import PreShapeSpace\n",
    "m_ambient = 3; k_landmarks = 5\n",
    "preshape = PreShapeSpace(m_ambient=m_ambient, k_landmarks=k_landmarks)\n",
    "\n",
    "nerves_preshape = preshape.projection(nerves)\n",
    "#print(\"Check that the sets are centered:\\n\", np.mean(nerves_preshape, axis=1))\n",
    "#print(\"Check that the sets have size 1:\\n\", np.linalg.norm(nerves_preshape, axis=(1,2)))\n",
    "\n",
    "preshape.belongs(nerves_preshape)"
   ]
  },
  {
   "cell_type": "markdown",
   "id": "f0919dc3",
   "metadata": {
    "slideshow": {
     "slide_type": "slide"
    }
   },
   "source": [
    "- Aligning all the sets of landmarks to $X_0$ (with `align` method of the pre-shape space) amounts to \"project\" the preshapes into the \"shape space\", also called the \"Kendall shape space\"."
   ]
  },
  {
   "cell_type": "code",
   "execution_count": 24,
   "id": "9acfaef0",
   "metadata": {
    "slideshow": {
     "slide_type": "-"
    }
   },
   "outputs": [],
   "source": [
    "base_nerve = nerves_preshape[0]  # X0\n",
    "\n",
    "nerves_shape = preshape.align(\n",
    "    point=nerves_preshape, base_point=base_nerve)"
   ]
  },
  {
   "cell_type": "markdown",
   "id": "ec44a3cc",
   "metadata": {
    "slideshow": {
     "slide_type": "slide"
    }
   },
   "source": [
    "### Procrustes in Geometric Learning (Continued-3)\n",
    "\n",
    "\n",
    "$\\color{#EF5645}{\\text{Definition}}$: Procrustes Analysis is a general method to perform statistical learning on shapes defined by sets of landmarks.\n",
    "\n",
    "1. Optimally \"superimpose” objects $X_0, ..., X_n$: translate, rotate and possibly scale.\n",
    "\n",
    "\n",
    "2. **Perform statistical learning on superimposed objects.**\n",
    "\n",
    "\n",
    "<center><img src=\"figs/02_procrustes.png\" width=900px alt=\"default\"/></center>\n"
   ]
  },
  {
   "cell_type": "markdown",
   "id": "595086c1",
   "metadata": {
    "slideshow": {
     "slide_type": "slide"
    }
   },
   "source": [
    "### Statistical Learning on superimposed objects\n",
    "\n",
    "= amounts to perform statistics in the Kendall shape space.\n",
    "\n",
    "The Kendall shape space is a manifold equipped with a Riemannian metric called the Kendall shape metric."
   ]
  },
  {
   "cell_type": "code",
   "execution_count": 26,
   "id": "5509762c",
   "metadata": {},
   "outputs": [],
   "source": [
    "from geomstats.geometry.pre_shape import KendallShapeMetric\n",
    "\n",
    "kendall_metric = KendallShapeMetric(\n",
    "    m_ambient=m_ambient, k_landmarks=k_landmarks)"
   ]
  },
  {
   "cell_type": "markdown",
   "id": "23b0ed09",
   "metadata": {},
   "source": [
    "<center><img src=\"figs/01_triangles_2d.png\" width=300px alt=\"default\"/></center>"
   ]
  },
  {
   "cell_type": "markdown",
   "id": "82ea9303",
   "metadata": {
    "slideshow": {
     "slide_type": "slide"
    }
   },
   "source": [
    "### Example: PCA in the shape space"
   ]
  },
  {
   "cell_type": "markdown",
   "id": "67ba67d8",
   "metadata": {
    "slideshow": {
     "slide_type": "-"
    }
   },
   "source": [
    "$\\color{#047C91}{\\text{Example}}$: We use the Kendall shape metric to perform a (tangent) Principal Component Analysis (PCA) in the Kendall shape space, and determine if we see a difference in the shapes of the optical nerves."
   ]
  },
  {
   "cell_type": "code",
   "execution_count": 31,
   "id": "06065684",
   "metadata": {},
   "outputs": [
    {
     "data": {
      "image/png": "[encoded data removed]",
      "text/plain": [
       "<Figure size 432x288 with 1 Axes>"
      ]
     },
     "metadata": {
      "needs_background": "light"
     },
     "output_type": "display_data"
    }
   ],
   "source": [
    "from geomstats.learning.pca import TangentPCA\n",
    "\n",
    "tpca = TangentPCA(kendall_metric)\n",
    "tpca.fit(nerves_shape)\n",
    "\n",
    "plt.plot(tpca.explained_variance_ratio_)\n",
    "plt.xlabel(\"Number of principal tangent components\", size=14)\n",
    "plt.ylabel(\"Fraction of explained variance\", size=14);"
   ]
  },
  {
   "cell_type": "markdown",
   "id": "5c070f14",
   "metadata": {
    "slideshow": {
     "slide_type": "slide"
    }
   },
   "source": [
    "Two principal components already describe around 60% of the variance. We plot the data projected in the tangent space defined by these two principal components."
   ]
  },
  {
   "cell_type": "code",
   "execution_count": 32,
   "id": "f7bd926b",
   "metadata": {},
   "outputs": [],
   "source": [
    "label_to_str = {0: \"Normal\", 1: \"Glaucoma\"}\n",
    "label_to_color = {\n",
    "    0: (102 / 255, 178 / 255, 255 / 255, 1.0),\n",
    "    1: (255 / 255, 178 / 255, 102 / 255, 1.0),\n",
    "}"
   ]
  },
  {
   "cell_type": "code",
   "execution_count": 34,
   "id": "5939ccfb",
   "metadata": {
    "slideshow": {
     "slide_type": "slide"
    }
   },
   "outputs": [
    {
     "data": {
      "image/png": "[encoded data removed]",
      "text/plain": [
       "<Figure size 792x792 with 1 Axes>"
      ]
     },
     "metadata": {
      "needs_background": "light"
     },
     "output_type": "display_data"
    }
   ],
   "source": [
    "X = tpca.transform(nerves_shape); plt.figure(figsize=(11, 11))\n",
    "for label, col in label_to_color.items():\n",
    "    mask = labels == label; plt.scatter(X[mask, 0], X[mask, 1], color=col, s=100, label=label_to_str[label])\n",
    "plt.legend(fontsize=14)\n",
    "for label, x, y in zip(monkeys, X[:, 0], X[:, 1]):\n",
    "    plt.annotate(\n",
    "        label,xy=(x, y),xytext=(-20, 20),textcoords=\"offset points\",ha=\"right\",va=\"bottom\",\n",
    "        bbox=dict(boxstyle=\"round,pad=0.5\", fc=\"white\", alpha=0.5),arrowprops=dict(arrowstyle=\"->\", connectionstyle=\"arc3,rad=0\"),\n",
    "    )\n",
    "plt.show()"
   ]
  },
  {
   "cell_type": "markdown",
   "id": "8d2cb69a",
   "metadata": {
    "slideshow": {
     "slide_type": "slide"
    }
   },
   "source": [
    "Visual inspection:\n",
    "- does not reveal any clusters between the glaucoma and normal optical nerves' shapes. \n",
    "- does not reveal any obvious pattern between the two optical nerves of the same monkey.\n",
    "\n",
    "$\\rightarrow$ Advise the clinician to select another set of landmarks to see a difference.\n",
    "\n",
    "\n",
    "<center><img src=\"figs/01_optic_nerves.png\" width=400px alt=\"default\"/></center>\n",
    "<center>Comparison of optic nerve heads in monkeys with and without glaucoma.</center>"
   ]
  },
  {
   "cell_type": "markdown",
   "id": "d8ac79ee",
   "metadata": {
    "slideshow": {
     "slide_type": "slide"
    }
   },
   "source": [
    "# Theory: Kendall Shape Spaces"
   ]
  },
  {
   "cell_type": "markdown",
   "id": "7e30445b",
   "metadata": {
    "slideshow": {
     "slide_type": "slide"
    }
   },
   "source": [
    "### Mysteries of Procrustes Analysis\n",
    "\n",
    "We need some theory to address the following questions:\n",
    "- What is the effect of the Procrustes preprocessing?\n",
    "- ...We actually know that it projects the data into a curved shape space: Why?\n",
    "\n",
    "\n",
    "$\\rightarrow$ Understanding the geometry provides answers.\n",
    "\n",
    "<center><img src=\"figs/02_procrustes.png\" width=600px alt=\"default\"/></center>"
   ]
  },
  {
   "cell_type": "markdown",
   "id": "c4ac47fc",
   "metadata": {
    "slideshow": {
     "slide_type": "slide"
    }
   },
   "source": [
    "### Group Action and Their Orbits\n",
    "\n",
    "$\\color{#EF5645}{\\text{Definition}}$: We define the orbit of a set of landmarks $X \\in \\mathbb{R}^{k \\times m}$ under the action of the group $G$ as: \n",
    "$$O_X = G * X=\\{g * X \\mid g \\in G\\}.$$\n",
    "\n",
    "- The orbit of $X$ represent all objects with the same shape as $X$.\n",
    "\n",
    "$\\color{#047C91}{\\text{Examples}}$: \n",
    "- Consider sets of 2 landmarks in 2D under the action of $SO(2)$. The orbit of one set $x$ of two landmarks is a circle. \n",
    "\n",
    "<center><img src=\"figs/02_2landmarks.png\" width=300px alt=\"default\"/></center>"
   ]
  },
  {
   "cell_type": "markdown",
   "id": "8a16ad8b",
   "metadata": {
    "slideshow": {
     "slide_type": "slide"
    }
   },
   "source": [
    "### (Kendall) Shape Spaces\n",
    "\n",
    "$\\color{#EF5645}{\\text{Definition}}$: \n",
    "\n",
    "- A shape space is defined as the space of the orbits under the action of some group $G$.\n",
    "- The Kendall shape space is defined as the space of orbits of $\\mathbb{R}^{k \\times m } \\setminus 0$ under the action of $\\mathbb{R}^m$, $SO(m)$ and $\\mathbb{R}_+^*$.\n",
    "\n",
    "\n",
    "\n",
    "$\\color{#047C91}{\\text{Example}}$: What is the shape space in the example of the 2 landmarks with the action of $SO(2)$?\n",
    "\n",
    "\n",
    "<center><img src=\"figs/02_2landmarks.png\" width=500px alt=\"default\"/></center>\n"
   ]
  },
  {
   "cell_type": "markdown",
   "id": "97c01617",
   "metadata": {
    "slideshow": {
     "slide_type": "slide"
    }
   },
   "source": [
    "### Example: Kendall Shape Spaces of Triangles in 2D\n",
    "\n",
    "Schematic proof explaining why the space of triangular shapes is a sphere:\n",
    "\n",
    "- Triangle object are described by elements $X$ in $\\mathbb{R}^{3 \\times 2}$.\n",
    "- Centering removes 2 degrees of freedom: elements in $\\mathbb{R}^{2 \\times 2} = \\mathbb{R}^4$.\n",
    "- Forcing the scale to be 1: elements on a 3D hypersphere in $\\mathbb{R}^4$.\n",
    "- We draw its orbits by $SO(2)$ and remove them: elements on a 2D sphere.\n",
    "\n",
    "<center><img src=\"figs/02_orbits_sphere.png\" width=400px alt=\"default\"/></center>\n",
    "<center>Schematic illustration of the orbits of $SO(2)$ on the 3D hypersphere, represented as orbits of $SO(2)$ on the 2D sphere for convenience.</center>"
   ]
  },
  {
   "cell_type": "markdown",
   "id": "e0c403ab",
   "metadata": {
    "slideshow": {
     "slide_type": "slide"
    }
   },
   "source": [
    "<center><img src=\"figs/01_triangles_2d.png\" width=900px alt=\"default\"/></center>"
   ]
  },
  {
   "cell_type": "markdown",
   "id": "8e951975",
   "metadata": {
    "slideshow": {
     "slide_type": "slide"
    }
   },
   "source": [
    "### Example: Size-and-Shape Space of Triangles in 2D\n",
    "\n",
    "What happens if we do not rescale? \n",
    "\n",
    "$\\color{#EF5645}{\\text{Definition}}$: The corresponding space is called \"size-and-shape\" space, or \"form space\".\n",
    "\n",
    "Imagine several copies of this sphere, one for each size!\n",
    "\n",
    "<center><img src=\"figs/01_triangles_2d.png\" width=300px alt=\"default\"/></center>"
   ]
  },
  {
   "cell_type": "markdown",
   "id": "9f2d080f",
   "metadata": {
    "slideshow": {
     "slide_type": "slide"
    }
   },
   "source": [
    "## Application: Innovation in Pelvis Surgery"
   ]
  },
  {
   "cell_type": "markdown",
   "id": "0395491f",
   "metadata": {
    "slideshow": {
     "slide_type": "slide"
    }
   },
   "source": [
    "### Severe Pelvis Injuries: \"Open-Book\"\n",
    "\n",
    "\n",
    "Severe pelvic injuries, including open book dislocations:\n",
    "- often come from a motor vehicle collision or fall from a significant height.\n",
    "- have a high mortality rate of 10.4%, complications often occur at surgery and during infections after surgery.\n",
    "\n",
    "<center><img src=\"figs/02_openbook.jpeg\" width=400px alt=\"default\"/></center>"
   ]
  },
  {
   "cell_type": "markdown",
   "id": "b1971328",
   "metadata": {
    "slideshow": {
     "slide_type": "slide"
    }
   },
   "source": [
    "### Goal: Surgical Planning of Pelvis Fracture Reduction\n",
    "\n",
    "$\\color{#EF5645}{\\text{Questions}}$:\n",
    "- Can we speed-up the surgery process by analyzing shape of pelvis & required internal fixations (bars, screws)?\n",
    "- Can we design an internal surgery that would reduce risks of infection?\n",
    "\n",
    "<center><img src=\"figs/02_pelvis.png\" width=900px alt=\"default\"/></center>"
   ]
  },
  {
   "cell_type": "markdown",
   "id": "ccfcba96",
   "metadata": {
    "slideshow": {
     "slide_type": "slide"
    }
   },
   "source": [
    "### Data: CT scans from 100 patients\n",
    "\n",
    "Data acquired with a CT scan (2014):\n",
    "- 100 patients: 52 males, 48 females and diversity of ages.\n",
    "- 100 3D images of pelvis\n",
    "  \n",
    "$\\rightarrow$ On each 3D image, 16 anatomical \"landmarks\" were recorded.\n",
    "\n",
    "<center><img src=\"figs/02_pelvis_landmarks.png\" width=900px alt=\"default\"/></center>"
   ]
  },
  {
   "cell_type": "markdown",
   "id": "e3cc019c",
   "metadata": {
    "slideshow": {
     "slide_type": "slide"
    }
   },
   "source": [
    "### Method: Apply Procrustes Analysis (no scaling)\n",
    "\n",
    "\n",
    "\n",
    "**1. Superimpose:**\n",
    "  - via translation: Center the 16 landmarks.\n",
    "  - via rotation: Align the 16 landmarks\n",
    " \n",
    "2. Compute the mean shape and perform statistical analysis\n",
    "\n",
    "<center><img src=\"figs/02_pelvis_superimpose.png\" width=600px alt=\"default\"/></center>\n",
    "\n",
    "\n",
    "$\\color{#EF5645}{\\text{Remark}}$: We do want to take into account the scaling, as the size of the patient is important to decide which fixations to put in."
   ]
  },
  {
   "cell_type": "markdown",
   "id": "42ff7493",
   "metadata": {
    "slideshow": {
     "slide_type": "slide"
    }
   },
   "source": [
    "### Method: Apply Procrustes Analysis (no scaling)\n",
    "\n",
    "\n",
    "\n",
    "1. Superimpose\n",
    " \n",
    "**2. Compute the mean shape and perform statistical analysis**\n",
    "- **[principal component analysis](https://en.wikipedia.org/wiki/Principal_component_analysis)** (see Unit 03)\n",
    "- hypothesis testing: should we get two sets of fixations for males and females?\n",
    "\n",
    "<center><img src=\"figs/02_pelvis_pca.png\" width=1000px alt=\"default\"/></center>\n",
    "\n",
    "\n"
   ]
  },
  {
   "cell_type": "markdown",
   "id": "0839dcf5",
   "metadata": {
    "slideshow": {
     "slide_type": "slide"
    }
   },
   "source": [
    "### Method: Apply Procrustes Analysis (no scaling)\n",
    "\n",
    "\n",
    "\n",
    "1. Superimpose\n",
    " \n",
    "**2. Compute the mean shape and perform statistical analysis**\n",
    "- [principal component analysis](https://en.wikipedia.org/wiki/Principal_component_analysis) (see Unit 03)\n",
    "- **hypothesis testing: should we get two sets of fixations for males and females?**\n",
    "\n",
    "<center><img src=\"figs/02_pelvis_ttest.png\" width=900px alt=\"default\"/></center>\n",
    "\n",
    "\n"
   ]
  },
  {
   "cell_type": "markdown",
   "id": "3d2d2762",
   "metadata": {
    "slideshow": {
     "slide_type": "slide"
    }
   },
   "source": [
    "# Outline\n",
    "\n",
    "- **Unit 2 (Shapes): Computational Representations of Biomedical Shapes**\n",
    "  - **A) Shapes of landmarks**\n",
    "    - Motivation: Shape of Glaucoma\n",
    "    - Practice: Procrustes Analysis\n",
    "    - Theory: Kendall Shape Spaces\n",
    "    - Application: Innovation in Pelvis Surgery\n",
    "  - B) Shapes of curves\n",
    "  - C) Shapes of surfaces\n",
    "  - D) Graphs\n",
    "  - E) Deformations\n",
    "  \n",
    "Questions?\n",
    "\n",
    "- Guigui, Miolane, Pennec (2022). Introduction to Riemannian Geometry and Geometric Statistics.\n",
    "- Miolane, Devilliers, Pennec (2020). Bias on estimation in quotient space and correction methods: Applications to statistics on organ shapes."
   ]
  }
 ],
 "metadata": {
  "celltoolbar": "Slideshow",
  "kernelspec": {
   "display_name": "Python 3 (ipykernel)",
   "language": "python",
   "name": "python3"
  },
  "language_info": {
   "codemirror_mode": {
    "name": "ipython",
    "version": 3
   },
   "file_extension": ".py",
   "mimetype": "text/x-python",
   "name": "python",
   "nbconvert_exporter": "python",
   "pygments_lexer": "ipython3",
   "version": "3.9.9"
  }
 },
 "nbformat": 4,
 "nbformat_minor": 5
}
