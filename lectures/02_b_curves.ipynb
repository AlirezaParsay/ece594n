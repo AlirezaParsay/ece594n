{
 "cells": [
  {
   "cell_type": "markdown",
   "id": "83fc4529",
   "metadata": {
    "slideshow": {
     "slide_type": "slide"
    }
   },
   "source": [
    "# 02 Computational Representations of Biomedical Shapes\n",
    "\n",
    "## B) Shapes of Curves\n",
    "\n",
    "$\\color{#003660}{\\text{Nina Miolane - Assistant Professor}}$ @ BioShape Lab @ UCSB ECE\n",
    "\n",
    "<center><img src=\"figs/02_cells.png\" width=800px alt=\"default\"/></center>\n",
    "<center>Cell images obtained by fluorescence microscopy. </center>\n"
   ]
  },
  {
   "cell_type": "markdown",
   "id": "d9995986",
   "metadata": {
    "slideshow": {
     "slide_type": "slide"
    }
   },
   "source": [
    "# Outline\n",
    "\n",
    "- **Unit 2 (Shapes): Computational Representations of Biomedical Shapes**\n",
    "  - A) Shapes of landmarks\n",
    "  - **B) Shapes of curves**\n",
    "    - Motivation: Shape of Cancer Treatments\n",
    "    - Practice: SRV Quotient Analysis\n",
    "    - Theory: Geometry of SRV manifolds\n",
    "    - Application: Osteoscarcoma cells\n",
    "  - C) Shapes of surfaces\n",
    "  - D) Deformations\n"
   ]
  },
  {
   "cell_type": "markdown",
   "id": "5c6c17ac",
   "metadata": {
    "slideshow": {
     "slide_type": "slide"
    }
   },
   "source": [
    "## Motivation: Shape of Cancer Treatments"
   ]
  },
  {
   "cell_type": "markdown",
   "id": "38fc775c",
   "metadata": {
    "slideshow": {
     "slide_type": "slide"
    }
   },
   "source": [
    "### Cell Shapes and Cell Functions\n",
    "\n",
    "Each cell type has evolved in a **shape** that is best related to its function.\n",
    "\n",
    "$\\color{#047C91}{\\text{Examples}}$:\n",
    "- Neurons: axons and dendrites to _reach out_ to other nerve cells and help pass messages quickly. \n",
    "- Red blood cells: round shape to _move quickly_ through capillaries. \n",
    "\n",
    "<center><img src=\"figs/02_from_stem.png\" width=600px alt=\"default\"/></center>"
   ]
  },
  {
   "cell_type": "markdown",
   "id": "0683fef0",
   "metadata": {
    "slideshow": {
     "slide_type": "slide"
    }
   },
   "source": [
    "### Cell Shapes and Cell Health\n",
    "\n",
    "Within a given cell type, cell **shape** is related to \"cell health\".\n",
    "\n",
    "$\\color{#047C91}{\\text{Example}}$: Irregular shapes of cancer cells.\n",
    "\n",
    "<center><img src=\"figs/02_cancer_cells22.jpg\" width=1000px alt=\"default\"/></center>"
   ]
  },
  {
   "cell_type": "markdown",
   "id": "d9b934ad",
   "metadata": {
    "cell_style": "center",
    "slideshow": {
     "slide_type": "slide"
    }
   },
   "source": [
    "### An Insider Look\n",
    "\n",
    "$\\color{#EF5645}{\\text{Definition}}$: Actin is a family of proteins that form microfilaments in the cytoskeleton, and:\n",
    "- play a significant role in determining a cell shape.\n",
    "- participate in important cellular processes: muscle contraction, cell division, cell signaling, etc.\n",
    "\n",
    "$\\rightarrow$ cell shapes gives us insights on actin's behavior in the cell.\n",
    "\n",
    "\n",
    "<center><img src=\"figs/02_actin.jpeg\" width=400px alt=\"default\"/></center>\n",
    "<center>Human Lung Carcinoma Cells (A-549) - https://tinyurl.com/2p8axfxe</center>\n",
    "<center> Cells nuclei (blue), actin cytoskeleton (green) and lipid membrane (red). </center>"
   ]
  },
  {
   "cell_type": "markdown",
   "id": "61e829bc",
   "metadata": {
    "slideshow": {
     "slide_type": "slide"
    }
   },
   "source": [
    "### Cell Shapes and Cancer Treatments\n",
    "\n",
    "New large-scale cell live imaging raises interest for morphological studies.\n",
    "\n",
    "$\\color{#EF5645}{\\text{Question}}$: Which cancer treatments affect the actin and cytoskeleton?\n",
    "\n",
    "<center><img src=\"figs/02_cells.png\" width=1300px alt=\"default\"/></center>\n",
    "\n",
    "<center> Cells nuclei (blue), actin cytoskeleton (green) and lipid membrane (red). </center>"
   ]
  },
  {
   "cell_type": "markdown",
   "id": "e07c209a",
   "metadata": {
    "slideshow": {
     "slide_type": "slide"
    }
   },
   "source": [
    "### Data\n",
    "\n",
    "\n",
    "- **Raw:** Images of mouse osteosarcoma (bone cancer) cells from fluorescence microscopy\n",
    "- **Preprocessed:** Segmentation and contour extraction\n",
    "- 2 cell lines (i.e. cultures of cells): DUNN, DLM8 (more aggressive cancer)\n",
    "- 3 states: 1 control group, 2 cancer treatments: Jasplakinolide (jasp) and cytochalasin D (cytd).\n",
    "\n",
    "$\\rightarrow$ $\\color{#EF5645}{\\text{Question}}$: Which cancer treatments lead to irregular cell shapes?\n",
    "\n",
    "<center><img src=\"figs/02_curves_blueorange.png\" width=700px alt=\"default\"/></center>"
   ]
  },
  {
   "cell_type": "markdown",
   "id": "c8355b23",
   "metadata": {
    "slideshow": {
     "slide_type": "slide"
    }
   },
   "source": [
    " Load the Dataset."
   ]
  },
  {
   "cell_type": "code",
   "execution_count": 1,
   "id": "541153d6",
   "metadata": {},
   "outputs": [
    {
     "name": "stderr",
     "output_type": "stream",
     "text": [
      "INFO: Using numpy backend\n"
     ]
    },
    {
     "name": "stdout",
     "output_type": "stream",
     "text": [
      "Total number of cells : 650\n",
      "The array contained the 0th cell has shape (210, 2).\n"
     ]
    }
   ],
   "source": [
    "import geomstats.datasets.utils as data_utils\n",
    "\n",
    "cells, lines, treatments = data_utils.load_cells()\n",
    "print(f\"Total number of cells : {len(cells)}\")\n",
    "print(f\"The array contained the 0th cell has shape {cells[0].shape}.\")"
   ]
  },
  {
   "cell_type": "code",
   "execution_count": 3,
   "id": "36c0746a",
   "metadata": {},
   "outputs": [
    {
     "name": "stdout",
     "output_type": "stream",
     "text": [
      "['control' 'cytd' 'jasp']\n",
      "['dlm8' 'dunn']\n"
     ]
    }
   ],
   "source": [
    "import numpy as np\n",
    "import pandas as pd\n",
    "\n",
    "TREATMENTS = np.unique(treatments); print(TREATMENTS)\n",
    "LINES = np.unique(lines); print(LINES)"
   ]
  },
  {
   "cell_type": "markdown",
   "id": "cdf8d4fb",
   "metadata": {
    "slideshow": {
     "slide_type": "slide"
    }
   },
   "source": [
    "Count how many cells are available in each cell line and each treatment group."
   ]
  },
  {
   "cell_type": "code",
   "execution_count": 5,
   "id": "28f65411",
   "metadata": {
    "slideshow": {
     "slide_type": "-"
    }
   },
   "outputs": [
    {
     "data": {
      "text/html": [
       "<div>\n",
       "<style scoped>\n",
       "    .dataframe tbody tr th:only-of-type {\n",
       "        vertical-align: middle;\n",
       "    }\n",
       "\n",
       "    .dataframe tbody tr th {\n",
       "        vertical-align: top;\n",
       "    }\n",
       "\n",
       "    .dataframe thead th {\n",
       "        text-align: right;\n",
       "    }\n",
       "</style>\n",
       "<table border=\"1\" class=\"dataframe\">\n",
       "  <thead>\n",
       "    <tr style=\"text-align: right;\">\n",
       "      <th></th>\n",
       "      <th>dlm8</th>\n",
       "      <th>dunn</th>\n",
       "    </tr>\n",
       "  </thead>\n",
       "  <tbody>\n",
       "    <tr>\n",
       "      <th>control</th>\n",
       "      <td>114.0</td>\n",
       "      <td>204.0</td>\n",
       "    </tr>\n",
       "    <tr>\n",
       "      <th>cytd</th>\n",
       "      <td>82.0</td>\n",
       "      <td>93.0</td>\n",
       "    </tr>\n",
       "    <tr>\n",
       "      <th>jasp</th>\n",
       "      <td>62.0</td>\n",
       "      <td>95.0</td>\n",
       "    </tr>\n",
       "  </tbody>\n",
       "</table>\n",
       "</div>"
      ],
      "text/plain": [
       "          dlm8   dunn\n",
       "control  114.0  204.0\n",
       "cytd      82.0   93.0\n",
       "jasp      62.0   95.0"
      ]
     },
     "metadata": {},
     "output_type": "display_data"
    }
   ],
   "source": [
    "ds = {}; n_cells_arr = np.zeros((3, 2))\n",
    "for i, treatment in enumerate(TREATMENTS):\n",
    "    ds[treatment] = {}\n",
    "    for j, line in enumerate(LINES):\n",
    "        to_keep = np.array(\n",
    "            [\n",
    "                one_treatment == treatment and one_line == line\n",
    "                for one_treatment, one_line in zip(treatments, lines)\n",
    "            ]\n",
    "        )\n",
    "        ds[treatment][line] = [\n",
    "            cell_i for cell_i, to_keep_i in zip(cells, to_keep) if to_keep_i\n",
    "        ]\n",
    "        nb = len(ds[treatment][line])\n",
    "        n_cells_arr[i, j] = nb\n",
    "\n",
    "n_cells_df = pd.DataFrame({\"dlm8\": n_cells_arr[:, 0], \"dunn\": n_cells_arr[:, 1]}); n_cells_df = n_cells_df.set_index(TREATMENTS)\n",
    "display(n_cells_df)"
   ]
  },
  {
   "cell_type": "markdown",
   "id": "9c32273e",
   "metadata": {
    "slideshow": {
     "slide_type": "slide"
    }
   },
   "source": [
    "Plot one cell."
   ]
  },
  {
   "cell_type": "code",
   "execution_count": 6,
   "id": "7aa5f4b0",
   "metadata": {},
   "outputs": [
    {
     "data": {
      "image/png": "[encoded data removed]",
      "text/plain": [
       "<Figure size 800x600 with 1 Axes>"
      ]
     },
     "metadata": {},
     "output_type": "display_data"
    }
   ],
   "source": [
    "import matplotlib.pyplot as plt\n",
    "plt.figure(figsize=(8, 6))\n",
    "plt.plot(cells[1][:, 0], cells[1][:, 1], \"C0\", marker=\"o\");"
   ]
  },
  {
   "cell_type": "markdown",
   "id": "ad9e0c9e",
   "metadata": {
    "slideshow": {
     "slide_type": "slide"
    }
   },
   "source": [
    "### From Shapes of Landmarks to Shapes of Curves\n",
    "\n",
    "$\\color{#EF5645}{\\text{Question}}$: Which cancer treatments lead to irregular cell shapes (_curve shapes_)?\n",
    "\n",
    "$\\rightarrow$ Difference between shapes of landmarks and shapes of curves?"
   ]
  },
  {
   "cell_type": "markdown",
   "id": "a5daaf03",
   "metadata": {
    "slideshow": {
     "slide_type": "-"
    }
   },
   "source": [
    "- Landmarks are \"biologically meaningful\" points: \n",
    "  - Their index is biologically relevant.\n",
    "\n",
    "- Curves are made of sampling points that discretize a continuous curve: \n",
    "  - Their position along the curve is not biologically relevant.\n",
    "\n",
    "$\\color{#EF5645}{\\text{Definition}}$: The position of the sampling points along a curve is called the _parameterization_ of the curve."
   ]
  },
  {
   "cell_type": "markdown",
   "id": "7fcce6fb",
   "metadata": {
    "slideshow": {
     "slide_type": "slide"
    }
   },
   "source": [
    "### From Curves to Shapes of Curves\n",
    "\n",
    "$\\color{#EF5645}{\\text{Definition}}$: Two curves are said to _have the same shape_ if one curve can be obtained by translating, rotating, re-scaling, or _reparameterizing_ the other.\n",
    "\n",
    "$\\rightarrow$ We do not want to do ML on the _curve objects_ directly, because:\n",
    "- rotation, parameterization, etc, do not contain biological information.\n",
    "\n",
    "$\\rightarrow$ We want to do ML on the _shapes of these curves_."
   ]
  },
  {
   "cell_type": "code",
   "execution_count": 8,
   "id": "5329cc42",
   "metadata": {},
   "outputs": [
    {
     "data": {
      "image/png": "[encoded data removed]",
      "text/plain": [
       "<Figure size 400x200 with 2 Axes>"
      ]
     },
     "metadata": {},
     "output_type": "display_data"
    }
   ],
   "source": [
    "import matplotlib.pyplot as plt\n",
    "fig, axes = plt.subplots(1, 2, figsize=(4, 2))\n",
    "axes[0].plot(cells[2][:, 0], cells[2][:, 1], \"C0\", marker=\"o\"); axes[1].plot(cells[3][:, 0], cells[3][:, 1], \"C1\", marker=\"o\");"
   ]
  },
  {
   "cell_type": "markdown",
   "id": "ff586483",
   "metadata": {
    "slideshow": {
     "slide_type": "slide"
    }
   },
   "source": [
    "## Practice: SRV Quotient Analysis"
   ]
  },
  {
   "cell_type": "markdown",
   "id": "ffe2878d",
   "metadata": {
    "slideshow": {
     "slide_type": "slide"
    }
   },
   "source": [
    "### Recall: Procrustes Analysis\n",
    "\n",
    "$\\color{#EF5645}{\\text{Definition}}$: _Procrustes Analysis_ is a general method to perform machine learning on shapes of objects defined by sets of landmarks $X_0, ..., X_n$.\n",
    "\n",
    "1. Superimpose objects $X_0, ..., X_n$: translate, rotate, possibly scale.\n",
    "\n",
    "- This step sends the objects in a _Kendall shape space_, where we have the `KendallShapeMetric`.\n",
    "\n",
    "<center><img src=\"figs/02_procrustes.png\" width=900px alt=\"default\"/></center>\n",
    "\n",
    "2. Perform machine learning on superimposed objects (shapes).\n",
    "\n",
    "\n",
    "$\\rightarrow$ Quotient SRV Analysis is an equivalent of Procrustes analysis for curves."
   ]
  },
  {
   "cell_type": "markdown",
   "id": "e2c8a8b4",
   "metadata": {
    "slideshow": {
     "slide_type": "slide"
    }
   },
   "source": [
    "### Difference between size of landmarks and length of curves\n",
    "\n",
    "Take $X^{(l)}$ the $l$-th landmark in set $X$, or the $l$-th sampling point in curve $X$.\n",
    "\n",
    "The definition of barycenter is the same for a set of landmarks and for a curve.\n",
    "\n",
    "$\\color{#EF5645}{\\text{Definition}}$: The _barycenter $\\bar X$_ of $X$ is $\\bar X = \\frac{1}{k} \\sum_{l=1}^k X^{(l)}$. We say that $X$ is centered if its barycenter is at $0$.\n",
    "\n",
    "The definition of size differs for a set of landmarks and for a curve.\n",
    "\n",
    "$\\color{#EF5645}{\\text{Definitions}}$:\n",
    "- The _size $s$_ of a *centered* set of landmarks is $s = \\sqrt{\\sum_{l=1}^k ||X^{(l)}||^2}$. \n",
    "- The _size $s$_ of a *centered* curve is its length $s = \\sum_{l=1}^{k-1} ||X^{(l+1)} - X^{(l)}||$. "
   ]
  },
  {
   "cell_type": "markdown",
   "id": "4c29fff2",
   "metadata": {
    "slideshow": {
     "slide_type": "slide"
    }
   },
   "source": [
    "### Today: SRV Quotient Analysis\n",
    "\n",
    "$\\color{#EF5645}{\\text{Definition}}$: _SRV Quotient Analysis_ is a general method to perform machine learning on shapes of objects defined by discrete curves $X_0, ..., X_n$.\n",
    "\n",
    "1. Superimpose objects $X_0, ..., X_n$: translate, rotate, possibly scale, and reparameterize.\n",
    "\n",
    "- This step sends the objects in a _SRV quotient space_, where we have the `SRVQuotientMetric`.\n",
    "\n",
    "\n",
    "<center><img src=\"figs/02_procrustes.png\" width=900px alt=\"default\"/></center>\n",
    "\n",
    "2. Perform machine learning on superimposed objects (shapes)."
   ]
  },
  {
   "cell_type": "markdown",
   "id": "c94081ba",
   "metadata": {
    "slideshow": {
     "slide_type": "slide"
    }
   },
   "source": [
    "### 1. Superimpose objects $X_0, ..., X_n$: translate, rotate, possibly scale, and reparameterize.\n",
    "\n",
    "$\\color{#EF5645}{\\text{Theory}}$: Fix a $X_0$. For each $i=1, ..., n$: \n",
    "- Find $g_i \\in G$, such that: $g_i = \\text{argmin}_{g \\in G} ||X_0 - g \\ast X_i||^2,$ where:\n",
    "  - $G$ represents the group of rotations, translations, possibly scalings, and reparameterizations.\n",
    "  - $g \\ast X$ represents the \"action\" of $g$ on the curve $X$.\n",
    "- Use this $g_i$ to superimpose $X_i$ onto $X_0$ by computing $g_i \\ast X_i$."
   ]
  },
  {
   "cell_type": "markdown",
   "id": "231dc3a5",
   "metadata": {
    "slideshow": {
     "slide_type": "slide"
    }
   },
   "source": [
    "$\\color{#EF5645}{\\text{Practice}}$:\n",
    "- Projection: Superimposing with translations and rescalings amounts to \"project\" the $X$'s in a \"preshape space\".\n",
    "  - $X$ is translated such that its barycenter is at 0.\n",
    "  - $X$ is re-scaled such that its length is 1.\n",
    "- Orientation: Superimposing with rotations amounts to \"align\" the preshapes and send them into a \"shape bundle\".\n",
    "- Parameterization: Superimposing with paramterizations amounts to \"align\" and send the data into a \"SRV quotient space\".\n",
    "\n",
    "$\\rightarrow$ Use methods `projection`, rescale manually for the length, `align` of the manifold `PreShapeSpace`, `align` of the manifold `SRVShapeBundle`."
   ]
  },
  {
   "cell_type": "markdown",
   "id": "cf512f6d",
   "metadata": {
    "slideshow": {
     "slide_type": "slide"
    }
   },
   "source": [
    "$\\color{#EF5645}{\\text{Python}}$:\n",
    "\n",
    "Create two parameterized curves in the 2D Euclidean plane $\\mathbb{R}^2$."
   ]
  },
  {
   "cell_type": "code",
   "execution_count": 34,
   "id": "c07325dd",
   "metadata": {},
   "outputs": [],
   "source": [
    "from geomstats.geometry.euclidean import Euclidean\n",
    "from geomstats.geometry.discrete_curves import DiscreteCurves\n",
    "\n",
    "r2 = Euclidean(dim=2); curves_r2 = DiscreteCurves(ambient_manifold=r2)\n",
    "\n",
    "parametrized_curve_a = lambda x: np.transpose(\n",
    "    np.array([1 + 2 * np.sin(np.pi * x), 3 + 2 * np.cos(np.pi * x)]) / (2*np.pi))\n",
    "parametrized_curve_b = lambda x: np.transpose(\n",
    "    np.array([5 * np.ones(len(x)), 4 * (1 - x) + 1]) / 4)\n",
    "k_sampling_points = 41; sampling_points = np.linspace(0.0, 1.0, k_sampling_points)\n",
    "curve_a = parametrized_curve_a(sampling_points)\n",
    "curve_b = parametrized_curve_b(sampling_points)"
   ]
  },
  {
   "cell_type": "markdown",
   "id": "affc9280",
   "metadata": {
    "slideshow": {
     "slide_type": "slide"
    }
   },
   "source": [
    "Visualize the curves."
   ]
  },
  {
   "cell_type": "code",
   "execution_count": 37,
   "id": "58e4f7da",
   "metadata": {},
   "outputs": [
    {
     "data": {
      "image/png": "[encoded data removed]",
      "text/plain": [
       "<Figure size 500x500 with 1 Axes>"
      ]
     },
     "metadata": {},
     "output_type": "display_data"
    }
   ],
   "source": [
    "fig, ax = plt.subplots(1, 1, figsize=(5, 5))\n",
    "ax.plot(curve_a[:, 0], curve_a[:, 1], \"o-b\")\n",
    "ax.plot(curve_b[:, 0], curve_b[:, 1], \"o-r\")\n",
    "ax.set_aspect('equal');"
   ]
  },
  {
   "cell_type": "markdown",
   "id": "590d23da",
   "metadata": {
    "slideshow": {
     "slide_type": "slide"
    }
   },
   "source": [
    "Get the manifolds required to perform the superimposition.\n",
    "\n",
    "Get the function computing a length."
   ]
  },
  {
   "cell_type": "code",
   "execution_count": 55,
   "id": "883c57da",
   "metadata": {},
   "outputs": [],
   "source": [
    "import numpy as np\n",
    "import matplotlib.pyplot as plt\n",
    "from geomstats.geometry.pre_shape import PreShapeSpace\n",
    "from geomstats.geometry.discrete_curves import SRVShapeBundle\n",
    "\n",
    "preshape = PreShapeSpace(m_ambient=2, k_landmarks=k_sampling_points)\n",
    "shape_bundle = SRVShapeBundle(ambient_manifold=r2, k_sampling_points=k_sampling_points)\n",
    "\n",
    "def curve_length(curve):\n",
    "    return sum([\n",
    "        np.linalg.norm(curve[l+1] - curve[l]) \n",
    "        for l in range(0, k_sampling_points-1)\n",
    "               ])"
   ]
  },
  {
   "cell_type": "markdown",
   "id": "1d81bd13",
   "metadata": {
    "slideshow": {
     "slide_type": "slide"
    }
   },
   "source": [
    "Superimpose the curves in translation, scaling, rotation and parameterization."
   ]
  },
  {
   "cell_type": "code",
   "execution_count": 56,
   "id": "b83968da",
   "metadata": {
    "slideshow": {
     "slide_type": "-"
    }
   },
   "outputs": [
    {
     "name": "stdout",
     "output_type": "stream",
     "text": [
      "Barycenters: [3.38482629e-19 6.76965259e-19] [-1.50316483e-34  1.35393052e-17]\n",
      "Lengths: 1.0000000000000004 0.9999999999999997\n"
     ]
    }
   ],
   "source": [
    "# Translation\n",
    "curve_a = preshape.projection(curve_a); curve_b = preshape.projection(curve_b)\n",
    "print(\"Barycenters:\", np.mean(curve_a, axis=0), np.mean(curve_b, axis=0))\n",
    "# Scaling\n",
    "curve_a = 1 / curve_length(curve_a) * curve_a; curve_b = 1 / curve_length(curve_b) * preshape.projection(curve_b)\n",
    "print(\"Lengths:\", curve_length(curve_a), curve_length(curve_b))\n",
    "# Rotation\n",
    "curve_b = preshape.align(curve_b, base_point=curve_a)\n",
    "# Parameterization\n",
    "# curve_b = shape_bundle.align(curve_b, base_point=curve_a)"
   ]
  },
  {
   "cell_type": "markdown",
   "id": "240b02c8",
   "metadata": {
    "slideshow": {
     "slide_type": "slide"
    }
   },
   "source": [
    "Visualize the curves after superimposition."
   ]
  },
  {
   "cell_type": "code",
   "execution_count": 57,
   "id": "289c24ae",
   "metadata": {},
   "outputs": [
    {
     "data": {
      "image/png": "[encoded data removed]",
      "text/plain": [
       "<Figure size 500x500 with 1 Axes>"
      ]
     },
     "metadata": {},
     "output_type": "display_data"
    }
   ],
   "source": [
    "fig, ax = plt.subplots(1, 1, figsize=(5, 5))\n",
    "ax.plot(curve_a[:, 0], curve_a[:, 1], \"o-b\")\n",
    "ax.plot(curve_b[:, 0], curve_b[:, 1], \"o-r\")\n",
    "ax.set_aspect('equal'); ax.set_ylim((-0.6, 0.6)); ax.set_xlim((-0.6, 0.6));"
   ]
  },
  {
   "cell_type": "markdown",
   "id": "a67f94bb",
   "metadata": {
    "slideshow": {
     "slide_type": "slide"
    }
   },
   "source": [
    "### 2. Perform machine learning on superimposed objects (shapes).\n",
    "\n",
    "= amounts to perform statistics in the \"SRV Quotient space\".\n",
    "\n",
    "The SRV Quotient space is a manifold equipped with a Riemannian metric called the SRV Quotient metric.\n",
    "\n",
    "We can use this metric to run machine learning algorithms (see Unit 3).\n",
    "\n",
    "$\\color{#EF5645}{\\text{Remark}}$: The SRV quotient metric re-orient and re-parameterizes its curves before performing its computations."
   ]
  },
  {
   "cell_type": "code",
   "execution_count": 58,
   "id": "982d2f85",
   "metadata": {
    "slideshow": {
     "slide_type": "slide"
    }
   },
   "outputs": [],
   "source": [
    "from geomstats.geometry.discrete_curves import SRVQuotientMetric\n",
    "\n",
    "srv_quotient_metric = SRVQuotientMetric(\n",
    "    ambient_manifold=r2, \n",
    "    k_sampling_points=k_sampling_points)"
   ]
  },
  {
   "cell_type": "markdown",
   "id": "d8ac79ee",
   "metadata": {
    "slideshow": {
     "slide_type": "slide"
    }
   },
   "source": [
    "## Theory: SRV Quotient Space"
   ]
  },
  {
   "cell_type": "markdown",
   "id": "7ceef6ba",
   "metadata": {
    "slideshow": {
     "slide_type": "slide"
    }
   },
   "source": [
    "### SRV Transform\n",
    "\n",
    "We will present the theory for continuous curves.\n",
    "\n",
    "$\\color{#EF5645}{\\text{Definition}}$: Let $s$ be a parameterized surface $s: D\\rightarrow \\mathbb{R}^{3}$.\n",
    "\n",
    "- Consider the mapping $F: \\mathbb{R}^{3} \\rightarrow \\mathbb{R}^{3}$ such that: $F(v) \\equiv v / \\sqrt{\\|v\\|}$, if $\\|v\\| \\neq 0$ and 0 otherwise. \n",
    "\n",
    "The Square-Root Velocity transform of a curve $\\beta$ is defined as $q: [0, 1] \\rightarrow \\mathbb{R}^{m}$, where\n",
    "$$\n",
    "q(t) \\equiv F(\\dot{\\beta}(t))=\\dot{\\beta}(t) / \\sqrt{\\|\\beta(\\dot{t})\\|}\n",
    "$$\n"
   ]
  },
  {
   "cell_type": "markdown",
   "id": "e2359723",
   "metadata": {
    "slideshow": {
     "slide_type": "slide"
    }
   },
   "source": [
    "### SRV Transform and Translations\n",
    "\n",
    "_What happened when we removed the translation?_\n",
    "\n",
    "$\\color{#6D7D33}{\\text{Property}}$: The SRV transform $q$ is independent of the position of the curve $\\beta$, i.e. it naturally removes the translation (we did not have to do it manually).\n",
    "\n",
    "<center><img src=\"figs/02_srv2.svg\" width=800px alt=\"default\"/></center>\n"
   ]
  },
  {
   "cell_type": "markdown",
   "id": "0cbc991c",
   "metadata": {
    "slideshow": {
     "slide_type": "skip"
    }
   },
   "source": [
    "### Insights on Translations\n",
    "\n",
    "$\\color{#EF5645}{\\text{Proposition}}$: For every $q \\in \\mathbb{L}^{2}\\left([0, 1], \\mathbb{R}^{m}\\right)$, there exists a curve $\\beta$ (unique up to a translation) such that the given $q$ is the SRV function of that $\\beta$. \n",
    "\n",
    "This curve is obtained as: $\\beta(t)=\\int_{0}^{t} q(s)\\|q(s)\\| d s$.\n",
    "\n",
    "<center><img src=\"figs/02_srv_inverse2.svg\" width=600px alt=\"default\"/></center>"
   ]
  },
  {
   "cell_type": "markdown",
   "id": "d59690ce",
   "metadata": {
    "slideshow": {
     "slide_type": "slide"
    }
   },
   "source": [
    "### SRV Transform and Scaling\n",
    "\n",
    "_What happened when we removed the scaling, i.e. when we rescale the curves to be of unit length?_\n",
    "\n",
    "$\\color{#6D7D33}{\\text{Property}}$: The restriction that $\\beta$ is of unit length: $L(\\beta)=\\int_{[0, 1]}\\|\\dot{\\beta}\\| d t=1$ translates into a restriction on its SRV transform $q$: $\\int_{[0, 1]}\\|q(t)\\|^{2} d t=1.$\n",
    "\n",
    "\n",
    "<center><img src=\"figs/02_srv_spaces.svg\" width=900px alt=\"default\"/></center>"
   ]
  },
  {
   "cell_type": "markdown",
   "id": "15285dac",
   "metadata": {
    "slideshow": {
     "slide_type": "slide"
    }
   },
   "source": [
    "### PreShape space\n",
    "\n",
    "Rescaling the curve $\\beta$ assigns its SRV $q$ to an hypersphere in $L([0, 1], \\mathbb{R}^2)$.\n",
    "\n",
    "- Similar to what happened in Kendall shape spaces, even though the notion of \"size\" is different.\n",
    "- Except that the hypersphere is within a infinite dimensional space: $L([0, 1], \\mathbb{R}^2)$, which makes sense since a continuous curve has an infinite number of landmarks.\n",
    "\n",
    "$\\color{#EF5645}{\\text{Definition}}$: The hypersphere $S$ in $L([0, 1], \\mathbb{R}^2)$ defined by $\\int_{[0, 1]}\\|q(t)\\|^{2} d t=1$ is called the preshape space for continuous (open) curves."
   ]
  },
  {
   "cell_type": "markdown",
   "id": "250f44b5",
   "metadata": {
    "slideshow": {
     "slide_type": "slide"
    }
   },
   "source": [
    "### SRV Transform and Rotations\n",
    "\n",
    "_What happened when we removed the rotation?_\n",
    "\n",
    "$\\color{#6D7D33}{\\text{Property}}$: Finding the optimal rotation aligning curves $\\beta_a, \\beta_b$ is equivalent to finding the optimal rotation aligning their SRV transforms $q_a, q_b$.\n",
    "\n",
    "$\\color{#047C91}{\\text{Exercise}}$: Prove the above by showing that a 2D rotation $R \\in SO(2)$ rotating a curve $\\beta$ is equivalently rotating its SRV: $q(R.\\beta) = R. q(\\beta).$\n",
    "\n",
    "\n",
    "<center><img src=\"figs/02_orbits_sphere.png\" width=300px alt=\"default\"/></center>\n",
    "<center>Schematic illustration of the orbits of $SO(2)$ on the preshape (infinite dimensional) hypersphere, represented as orbits of $SO(2)$ on the 2D sphere for convenience.</center>"
   ]
  },
  {
   "cell_type": "markdown",
   "id": "de2e4fd4",
   "metadata": {
    "slideshow": {
     "slide_type": "slide"
    }
   },
   "source": [
    "### SRV Transform and Reparameterization\n",
    "\n",
    "_How do we remove the reparameterization?_\n",
    "\n",
    "$\\color{#6D7D33}{\\text{Property}}$: Denote $\\Gamma$ the (infinite dimensional) Lie group of reparameterization of $[0, 1]$. Changing the parameterization of the curve $\\beta$ by applying $\\beta \\circ \\gamma$ for $\\gamma \\in \\Gamma$ is equivalent to changing its SRV as $(q \\circ \\gamma) \\sqrt{\\dot{\\gamma}}$.\n",
    "\n",
    "\n",
    "$\\color{#EF5645}{\\text{Remark}}$: This is harder to visualize, because $\\Gamma$ is infinite dimensional.\n",
    "\n",
    "<center><img src=\"figs/02_orbits_sphere.png\" width=300px alt=\"default\"/></center>\n",
    "<center>Schematic illustration of the orbits of $\\Gamma$ on the preshape (infinite dimensional) hypersphere, represented as orbits of $SO(2)$ on the 2D sphere for convenience.</center>"
   ]
  },
  {
   "cell_type": "markdown",
   "id": "5340ca75",
   "metadata": {
    "slideshow": {
     "slide_type": "slide"
    }
   },
   "source": [
    "### What is the \"SRV Quotient \"?\n",
    "\n",
    "\n",
    "$\\color{#EF5645}{\\text{Definition}}$: The SRV quotient space $\\mathcal{Q}$ is the preshape space of curves $S$ for which the action of the rotations and the reparameterization have been removed together. \n",
    "\n",
    "The geodesic distance between any two elements $\\tilde q_a, \\tilde q_b$ in the quotient SRV space $\\mathcal{Q}$ is given by the distance between the optimally aligned elements $q_a, q_b$ of the preshape space $S$.\n",
    "$$\n",
    "d_{Q}\\left(\\tilde q_a,\\tilde q_b\\right)=\\inf _{(\\gamma, R) \\in \\Gamma \\times SO(2)} d_{S}\\left(q_{a}, R\\left(q_{b} \\circ \\gamma\\right) \\sqrt{\\dot{\\gamma}}\\right)\n",
    "$$\n",
    "\n",
    "$\\color{#EF5645}{\\text{Remark}}$: Using the quotient SRV metric actually removes rotation and reparameterization at once!"
   ]
  },
  {
   "cell_type": "markdown",
   "id": "9f2d080f",
   "metadata": {
    "slideshow": {
     "slide_type": "slide"
    }
   },
   "source": [
    "## Application: Understanding Cancer Treatments"
   ]
  },
  {
   "cell_type": "code",
   "execution_count": 32,
   "id": "d76f08eb",
   "metadata": {
    "slideshow": {
     "slide_type": "slide"
    }
   },
   "outputs": [],
   "source": [
    "def apply_func_to_ds(input_ds, func):\n",
    "    \"\"\"Apply the input function func to the input dictionnary input_ds.\n",
    "\n",
    "    This function goes through the dictionnary structure and applies\n",
    "    func to every cell in input_ds[treatment][line].\n",
    "\n",
    "    It stores the result in a dictionnary output_ds that is returned\n",
    "    to the user.\n",
    "\n",
    "    Parameters\n",
    "    ----------\n",
    "    input_ds : dict\n",
    "        Input dictionnary, with keys treatment-line.\n",
    "    func : callable\n",
    "        Function to be applied to the values of the dictionnary, i.e.\n",
    "        the cells.\n",
    "\n",
    "    Returns\n",
    "    -------\n",
    "    output_ds : dict\n",
    "        Output dictionnary, with the same keys as input_ds.\n",
    "    \"\"\"\n",
    "    output_ds = {}\n",
    "    for treatment in TREATMENTS:\n",
    "        output_ds[treatment] = {}\n",
    "        for line in LINES:\n",
    "            output_list = []\n",
    "            for one_cell in input_ds[treatment][line]:\n",
    "                output_list.append(func(one_cell))\n",
    "            output_ds[treatment][line] = np.array(output_list)\n",
    "    return output_ds"
   ]
  },
  {
   "cell_type": "code",
   "execution_count": 33,
   "id": "8f58af44",
   "metadata": {
    "slideshow": {
     "slide_type": "slide"
    }
   },
   "outputs": [],
   "source": [
    "def interpolate(curve, nb_points):\n",
    "    \"\"\"Interpolate a discrete curve with nb_points from a discrete curve.\n",
    "\n",
    "    Returns\n",
    "    -------\n",
    "    interpolation : discrete curve with nb_points points\n",
    "    \"\"\"\n",
    "    old_length = curve.shape[0]\n",
    "    interpolation = np.zeros((nb_points, 2))\n",
    "    incr = old_length / nb_points\n",
    "    pos = 0\n",
    "    for i in range(nb_points):\n",
    "        index = int(np.floor(pos))\n",
    "        interpolation[i] = curve[index] + (pos - index) * (\n",
    "            curve[(index + 1) % old_length] - curve[index]\n",
    "        )\n",
    "        pos += incr\n",
    "    return interpolation\n",
    "\n",
    "\n",
    "N_SAMPLING_POINTS = 200"
   ]
  },
  {
   "cell_type": "code",
   "execution_count": 35,
   "id": "a15a9ec8",
   "metadata": {
    "slideshow": {
     "slide_type": "slide"
    }
   },
   "outputs": [],
   "source": [
    "from geomstats.geometry.pre_shape import PreShapeSpace\n",
    "\n",
    "M_AMBIENT = 2\n",
    "\n",
    "PRESHAPE_SPACE = PreShapeSpace(m_ambient=M_AMBIENT, k_landmarks=N_SAMPLING_POINTS)\n",
    "PRESHAPE_METRIC = PRESHAPE_SPACE.embedding_metric\n",
    "\n",
    "\n",
    "def exhaustive_align(curve, base_curve):\n",
    "    \"\"\"Align curve to base_curve to minimize the L² distance.\n",
    "\n",
    "    Returns\n",
    "    -------\n",
    "    aligned_curve : discrete curve\n",
    "    \"\"\"\n",
    "    nb_sampling = len(curve)\n",
    "    distances = np.zeros(nb_sampling)\n",
    "    for shift in range(nb_sampling):\n",
    "        reparametrized = [curve[(i + shift) % nb_sampling] for i in range(nb_sampling)]\n",
    "        aligned = PRESHAPE_SPACE.align(point=reparametrized, base_point=base_curve)\n",
    "        distances[shift] = PRESHAPE_METRIC.norm(\n",
    "            np.array(aligned) - np.array(base_curve)\n",
    "        )\n",
    "    shift_min = np.argmin(distances)\n",
    "    reparametrized_min = [\n",
    "        curve[(i + shift_min) % nb_sampling] for i in range(nb_sampling)\n",
    "    ]\n",
    "    aligned_curve = PRESHAPE_SPACE.align(\n",
    "        point=reparametrized_min, base_point=base_curve\n",
    "    )\n",
    "    return aligned_curve"
   ]
  },
  {
   "cell_type": "markdown",
   "id": "e356e422",
   "metadata": {
    "slideshow": {
     "slide_type": "slide"
    }
   },
   "source": [
    "1. Perform an equivalent of Procrustes Analysis."
   ]
  },
  {
   "cell_type": "code",
   "execution_count": 36,
   "id": "06ef6b7b",
   "metadata": {
    "slideshow": {
     "slide_type": "-"
    }
   },
   "outputs": [
    {
     "name": "stdout",
     "output_type": "stream",
     "text": [
      "(114, 200, 2)\n"
     ]
    }
   ],
   "source": [
    "ds_interp = apply_func_to_ds(\n",
    "    input_ds=ds, func=lambda x: interpolate(x, N_SAMPLING_POINTS)\n",
    ")\n",
    "BASE_CURVE = ds_interp[\"control\"][\"dlm8\"][0]\n",
    "ds_proj = apply_func_to_ds(ds_interp, func=PRESHAPE_SPACE.projection)\n",
    "ds_align = apply_func_to_ds(ds_proj, func=lambda x: exhaustive_align(x, BASE_CURVE))\n",
    "ds_oriented = apply_func_to_ds(ds_align, func=lambda x: PRESHAPE_SPACE.align(x, BASE_CURVE))\n",
    "\n",
    "print(ds_oriented[\"control\"][\"dlm8\"].shape)"
   ]
  },
  {
   "cell_type": "markdown",
   "id": "e76a8305",
   "metadata": {
    "slideshow": {
     "slide_type": "slide"
    }
   },
   "source": [
    "2. Perform statistical analysis."
   ]
  },
  {
   "cell_type": "code",
   "execution_count": 41,
   "id": "edb427fb",
   "metadata": {},
   "outputs": [
    {
     "data": {
      "image/png": "[encoded data removed]",
      "text/plain": [
       "<Figure size 432x288 with 1 Axes>"
      ]
     },
     "metadata": {
      "needs_background": "light"
     },
     "output_type": "display_data"
    }
   ],
   "source": [
    "from geomstats.learning.frechet_mean import FrechetMean\n",
    "\n",
    "mean = FrechetMean(metric=metric, point_type=\"matrix\", method=\"default\")\n",
    "mean.fit(ds_oriented[\"cytd\"][\"dunn\"])\n",
    "\n",
    "mean_estimate = mean.estimate_\n",
    "plt.plot(mean_estimate[:, 0], mean_estimate[:, 1], \"black\");"
   ]
  },
  {
   "cell_type": "markdown",
   "id": "6932e8d4",
   "metadata": {
    "slideshow": {
     "slide_type": "slide"
    }
   },
   "source": [
    "<center><img src=\"figs/02_cells_quantiles.png\" width=1200px alt=\"default\"/></center>"
   ]
  },
  {
   "cell_type": "markdown",
   "id": "3d2d2762",
   "metadata": {
    "slideshow": {
     "slide_type": "slide"
    }
   },
   "source": [
    "# Outline\n",
    "\n",
    "- **Unit 2 (Shapes): Computational Representations of Biomedical Shapes**\n",
    "  - A) Shapes of landmarks\n",
    "  - **B) Shapes of curves**\n",
    "    - Motivation: Shape of Cancer Treatments\n",
    "    - Practice: SRV Quotient Analysis\n",
    "    - Theory: Geometry of SRV manifolds\n",
    "    - Application: Osteoscarcoma cells\n",
    "  - C) Shapes of surfaces\n",
    "  - D) Deformations"
   ]
  }
 ],
 "metadata": {
  "celltoolbar": "Slideshow",
  "kernelspec": {
   "display_name": "Python 3 (ipykernel)",
   "language": "python",
   "name": "python3"
  },
  "language_info": {
   "codemirror_mode": {
    "name": "ipython",
    "version": 3
   },
   "file_extension": ".py",
   "mimetype": "text/x-python",
   "name": "python",
   "nbconvert_exporter": "python",
   "pygments_lexer": "ipython3",
   "version": "3.8.15"
  }
 },
 "nbformat": 4,
 "nbformat_minor": 5
}
