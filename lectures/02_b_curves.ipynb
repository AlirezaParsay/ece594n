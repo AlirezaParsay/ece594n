{
 "cells": [
  {
   "cell_type": "markdown",
   "id": "83fc4529",
   "metadata": {
    "slideshow": {
     "slide_type": "slide"
    }
   },
   "source": [
    "# 02 Computational Representations of (Biomedical) Shapes\n",
    "\n",
    "## A) Shapes of Curves\n",
    "\n",
    "$\\color{#003660}{\\text{Nina Miolane - Assistant Professor}}$ @ BioShape Lab @ UCSB ECE\n",
    "\n",
    "<center><img src=\"figs/02_cells.png\" width=800px alt=\"default\"/></center>\n",
    "<center>Cell images obtained by fluorescence microscopy. </center>\n"
   ]
  },
  {
   "cell_type": "markdown",
   "id": "fd3c6f41",
   "metadata": {
    "slideshow": {
     "slide_type": "slide"
    }
   },
   "source": [
    "# Outline: Geometric Learning for BioShape Analysis\n",
    "\n",
    "- **Unit 1 (Geometry - Math!)**: Differential Geometry for Engineers\n",
    "- **Unit 2 (Shapes): Computational Representations of Biomedical Shapes**\n",
    "- **Unit 3 (Machine Learning)**: Geometric Machine Learning for Shape Analysis\n",
    "- **Unit 4 (Deep Learning)**: Geometric Deep Learning for Shape Analysis\n",
    "\n",
    "<center><img src=\"figs/00_bioshape.jpg\" width=500px alt=\"default\"/></center>\n",
    "\n",
    "Examples and applications will be taken from cutting-edge research in the **biomedical field**."
   ]
  },
  {
   "cell_type": "markdown",
   "id": "59605e29",
   "metadata": {
    "slideshow": {
     "slide_type": "slide"
    }
   },
   "source": [
    "# Outline\n",
    "\n",
    "- **Unit 2 (Shapes): Computational Representations of Biomedical Shapes**\n",
    "  - A) Shapes of landmarks\n",
    "  - B) Shapes of curves\n",
    "  - C) Shapes of surfaces\n",
    "  - D) Graphs\n",
    "  - E) Deformations"
   ]
  },
  {
   "cell_type": "markdown",
   "id": "d9995986",
   "metadata": {
    "slideshow": {
     "slide_type": "slide"
    }
   },
   "source": [
    "# Outline\n",
    "\n",
    "- **Unit 2 (Shapes): Computational Representations of Biomedical Shapes**\n",
    "  - A) Shapes of landmarks\n",
    "  - **B) Shapes of curves**\n",
    "    - Motivation: Shape of Cancer Treatments\n",
    "    - Practice: Analysis with SRV\n",
    "    - Theory: Geometry of SRV manifolds\n",
    "    - Application: Osteoscarcoma cells\n",
    "  - C) Shapes of surfaces\n",
    "  - D) Graphs\n",
    "  - E) Deformations"
   ]
  },
  {
   "cell_type": "markdown",
   "id": "5c6c17ac",
   "metadata": {
    "slideshow": {
     "slide_type": "slide"
    }
   },
   "source": [
    "## Motivation: Shape of Cancer Treatments"
   ]
  },
  {
   "cell_type": "markdown",
   "id": "ddaa13d2",
   "metadata": {
    "slideshow": {
     "slide_type": "slide"
    }
   },
   "source": [
    "### Cell Shapes, aka Cell Morphologies\n",
    "\n",
    "- Biological cells adopt a variety of shapes, via processes and biophysical forces under the control of the cell. \n",
    "- The emergence of large-scale biological cell image data raises interest for morphological studies, i.e. studies of cell shapes.\n",
    "\n",
    "$\\color{#047C91}{\\text{Example}}$: Irregular cell shapes discriminates between cancer cells treated with different drugs.\n",
    "\n",
    "<center><img src=\"figs/02_cells.png\" width=700px alt=\"default\"/></center>\n",
    "<center>Cell images obtained by fluorescence microscopy, provided by A. Prasad, Colorado State University. </center>\n",
    "<center> The cells nuclei (blue), the actin cytoskeleton (green) and the lipid membrane (red) of each cell are stained and colored. </center>"
   ]
  },
  {
   "cell_type": "markdown",
   "id": "d9b934ad",
   "metadata": {
    "cell_style": "center",
    "slideshow": {
     "slide_type": "slide"
    }
   },
   "source": [
    "### A Closer Look: Actin\n",
    "\n",
    "\n",
    "$\\color{#EF5645}{\\text{Definition}}$: Actin is a family of globular multi-functional proteins that form microfilaments in the cytoskeleton. They participate in important cellular processes, including:\n",
    "- muscle contraction, cell motility, cell division and cytokinesis, cell signaling, \n",
    "- and the establishment and maintenance of cell junctions and **cell shape**.\n",
    "\n",
    "$\\rightarrow$ \"Actin\" plays a crucial role in determining a cell shape. \n",
    "\n",
    "$\\rightarrow$ Conversely, cell shapes can give us insights about the function of actin in the cell.\n",
    "\n",
    "<center><img src=\"figs/02_actin.jpeg\" width=300px alt=\"default\"/></center>\n",
    "<center>Human Lung Carcinoma Cells (A-549) - https://tinyurl.com/2p8axfxe</center>\n"
   ]
  },
  {
   "cell_type": "markdown",
   "id": "e07c209a",
   "metadata": {
    "slideshow": {
     "slide_type": "slide"
    }
   },
   "source": [
    "### Question and Data\n",
    "\n",
    "$\\color{#EF5645}{\\text{Question}}$: Which cancer treatments affect cells' actin and cytoskeleton?\n",
    "\n",
    "\n",
    "$\\color{#EF5645}{\\text{Data}}$: Images of mouse osteosarcoma (bone cancer) cells from fluorescence microscopy\n",
    "- 2 cell lines (i.e. cultures of cells): \n",
    "  - DUNN and DLM8 (more aggressive cancer)\n",
    "- 3 states: \n",
    "  - 1 control group, 2 cancer treatments: Jasplakinolide (jasp) and cytochalasin D (cytd).\n",
    "\n",
    "$\\rightarrow$ On each image, segment the cell boundary (ECE 278a) to form a discrete closed curve.\n",
    "\n",
    "\n",
    "<center><img src=\"figs/02_binarized_cells.png\" width=400px alt=\"default\"/></center>\n",
    "<center>Segmented cell images from which the boundary can be extracted.</center>\n",
    "\n"
   ]
  },
  {
   "cell_type": "markdown",
   "id": "c8355b23",
   "metadata": {
    "slideshow": {
     "slide_type": "slide"
    }
   },
   "source": [
    "### Load the Dataset"
   ]
  },
  {
   "cell_type": "code",
   "execution_count": 117,
   "id": "541153d6",
   "metadata": {},
   "outputs": [
    {
     "name": "stdout",
     "output_type": "stream",
     "text": [
      "Total number of cells : 650\n",
      "The array contained the 0th cell has shape (210, 2).\n"
     ]
    }
   ],
   "source": [
    "import geomstats.datasets.utils as data_utils\n",
    "\n",
    "cells, lines, treatments = data_utils.load_cells()\n",
    "print(f\"Total number of cells : {len(cells)}\")\n",
    "print(f\"The array contained the 0th cell has shape {cells[0].shape}.\")"
   ]
  },
  {
   "cell_type": "code",
   "execution_count": 119,
   "id": "36c0746a",
   "metadata": {},
   "outputs": [
    {
     "name": "stdout",
     "output_type": "stream",
     "text": [
      "['control' 'cytd' 'jasp']\n",
      "['dlm8' 'dunn']\n"
     ]
    }
   ],
   "source": [
    "import numpy as np\n",
    "import pandas as pd\n",
    "\n",
    "TREATMENTS = np.unique(treatments); print(TREATMENTS)\n",
    "LINES = np.unique(lines); print(LINES)"
   ]
  },
  {
   "cell_type": "code",
   "execution_count": 120,
   "id": "28f65411",
   "metadata": {
    "slideshow": {
     "slide_type": "slide"
    }
   },
   "outputs": [
    {
     "data": {
      "text/html": [
       "<div>\n",
       "<style scoped>\n",
       "    .dataframe tbody tr th:only-of-type {\n",
       "        vertical-align: middle;\n",
       "    }\n",
       "\n",
       "    .dataframe tbody tr th {\n",
       "        vertical-align: top;\n",
       "    }\n",
       "\n",
       "    .dataframe thead th {\n",
       "        text-align: right;\n",
       "    }\n",
       "</style>\n",
       "<table border=\"1\" class=\"dataframe\">\n",
       "  <thead>\n",
       "    <tr style=\"text-align: right;\">\n",
       "      <th></th>\n",
       "      <th>dlm8</th>\n",
       "      <th>dunn</th>\n",
       "    </tr>\n",
       "  </thead>\n",
       "  <tbody>\n",
       "    <tr>\n",
       "      <th>control</th>\n",
       "      <td>114.0</td>\n",
       "      <td>204.0</td>\n",
       "    </tr>\n",
       "    <tr>\n",
       "      <th>cytd</th>\n",
       "      <td>82.0</td>\n",
       "      <td>93.0</td>\n",
       "    </tr>\n",
       "    <tr>\n",
       "      <th>jasp</th>\n",
       "      <td>62.0</td>\n",
       "      <td>95.0</td>\n",
       "    </tr>\n",
       "  </tbody>\n",
       "</table>\n",
       "</div>"
      ],
      "text/plain": [
       "          dlm8   dunn\n",
       "control  114.0  204.0\n",
       "cytd      82.0   93.0\n",
       "jasp      62.0   95.0"
      ]
     },
     "metadata": {},
     "output_type": "display_data"
    }
   ],
   "source": [
    "ds = {}; n_cells_arr = np.zeros((3, 2))\n",
    "for i, treatment in enumerate(TREATMENTS):\n",
    "    ds[treatment] = {}\n",
    "    for j, line in enumerate(LINES):\n",
    "        to_keep = np.array(\n",
    "            [\n",
    "                one_treatment == treatment and one_line == line\n",
    "                for one_treatment, one_line in zip(treatments, lines)\n",
    "            ]\n",
    "        )\n",
    "        ds[treatment][line] = [\n",
    "            cell_i for cell_i, to_keep_i in zip(cells, to_keep) if to_keep_i\n",
    "        ]\n",
    "        nb = len(ds[treatment][line])\n",
    "        n_cells_arr[i, j] = nb\n",
    "\n",
    "n_cells_df = pd.DataFrame({\"dlm8\": n_cells_arr[:, 0], \"dunn\": n_cells_arr[:, 1]}); n_cells_df = n_cells_df.set_index(TREATMENTS)\n",
    "display(n_cells_df)"
   ]
  },
  {
   "cell_type": "markdown",
   "id": "a5daaf03",
   "metadata": {
    "slideshow": {
     "slide_type": "slide"
    }
   },
   "source": [
    "### Difference: Landmarks and Curves\n",
    "\n",
    "Landmarks are \"biologically meaningful\" points: \n",
    "  - Their index is biologically relevant.\n",
    "\n",
    "Curves are made of sampling points that are discretizing a continuous curve: \n",
    "  - Their position along the curve is not biologically relevant."
   ]
  },
  {
   "cell_type": "code",
   "execution_count": 27,
   "id": "8e9bc7e7",
   "metadata": {},
   "outputs": [
    {
     "data": {
      "image/png": "[encoded data removed]",
      "text/plain": [
       "<Figure size 432x288 with 1 Axes>"
      ]
     },
     "metadata": {
      "needs_background": "light"
     },
     "output_type": "display_data"
    }
   ],
   "source": [
    "import matplotlib.pyplot as plt\n",
    "plt.plot(cells[1][:, 0], cells[1][:, 1], \"C0\", marker=\"o\");"
   ]
  },
  {
   "cell_type": "markdown",
   "id": "7fcce6fb",
   "metadata": {
    "slideshow": {
     "slide_type": "slide"
    }
   },
   "source": [
    "### From Curves to Shapes of Curves\n",
    "\n",
    "$\\color{#EF5645}{\\text{Definition}}$: Two curves are said to have the same shape if one set can be obtained by translating, rotating, re-scaling, or reparameterizing the other.\n",
    "\n",
    "$\\rightarrow$ We do not want to do machine learning on the curves directly...\n",
    "\n",
    "...but rather on the shapes of these curves."
   ]
  },
  {
   "cell_type": "code",
   "execution_count": 25,
   "id": "5329cc42",
   "metadata": {},
   "outputs": [
    {
     "data": {
      "image/png": "[encoded data removed]",
      "text/plain": [
       "<Figure size 576x288 with 2 Axes>"
      ]
     },
     "metadata": {
      "needs_background": "light"
     },
     "output_type": "display_data"
    }
   ],
   "source": [
    "import matplotlib.pyplot as plt\n",
    "fig, axes = plt.subplots(1, 2, figsize=(8, 4))\n",
    "axes[0].plot(cells[2][:, 0], cells[2][:, 1], \"C0\", marker=\"o\"); axes[1].plot(cells[3][:, 0], cells[3][:, 1], \"C1\", marker=\"o\");"
   ]
  },
  {
   "cell_type": "markdown",
   "id": "ff586483",
   "metadata": {
    "slideshow": {
     "slide_type": "slide"
    }
   },
   "source": [
    "## Practice: Analysis in Quotient SRV space"
   ]
  },
  {
   "cell_type": "markdown",
   "id": "a8097518",
   "metadata": {
    "slideshow": {
     "slide_type": "slide"
    }
   },
   "source": [
    "1. Perform an equivalent of Procrustes Analysis:\n",
    "- Remove translation, scaling, and rotation:\n",
    "  - as in Procrustes analysis, by optimally superimposing the curves.\n",
    "  - (In what follows, we will make sure that this has already been done).\n",
    "- Remove reparameterization:\n",
    "  - by computing in a \"Quotient SRV\" space.\n",
    "  \n",
    "2. Perform statistical analysis of superimposed objects in Quotient SRV space.\n",
    "\n",
    "<center><img src=\"figs/02_procrustes.png\" width=900px alt=\"default\"/></center>\n"
   ]
  },
  {
   "cell_type": "markdown",
   "id": "cf512f6d",
   "metadata": {
    "slideshow": {
     "slide_type": "slide"
    }
   },
   "source": [
    "### Make toy dataset of 2 curves.\n",
    "\n",
    "Create two parameterized curves in the 2D Euclidean plane $\\mathbb{R}^2$."
   ]
  },
  {
   "cell_type": "code",
   "execution_count": 122,
   "id": "07582718",
   "metadata": {},
   "outputs": [],
   "source": [
    "from geomstats.geometry.euclidean import Euclidean\n",
    "from geomstats.geometry.discrete_curves import DiscreteCurves\n",
    "\n",
    "r2 = Euclidean(dim=2)\n",
    "curves_r2 = DiscreteCurves(ambient_manifold=r2)\n",
    "\n",
    "parametrized_curve_a = lambda x: np.transpose(\n",
    "    np.array([1 + 2 * np.sin(np.pi * x), 3 + 2 * np.cos(np.pi * x)]) / (2*np.pi)\n",
    ")\n",
    "parametrized_curve_b = lambda x: np.transpose(\n",
    "    np.array([5 * np.ones(len(x)), 4 * (1 - x) + 1]) / 4\n",
    ")"
   ]
  },
  {
   "cell_type": "markdown",
   "id": "590d23da",
   "metadata": {
    "slideshow": {
     "slide_type": "slide"
    }
   },
   "source": [
    "Sample points along these curves to turn them into discrete curves.\n",
    "- We have made sure that the curves have same length and are centered already."
   ]
  },
  {
   "cell_type": "code",
   "execution_count": 123,
   "id": "883c57da",
   "metadata": {},
   "outputs": [
    {
     "name": "stdout",
     "output_type": "stream",
     "text": [
      "(41, 2) (41, 2)\n",
      "Lengths of the two curves: 0.9747494238975263 0.9750000000000001\n"
     ]
    }
   ],
   "source": [
    "import numpy as np\n",
    "import matplotlib.pyplot as plt\n",
    "\n",
    "n_sampling_points = 40\n",
    "sampling_points = np.linspace(0.0, 1.0, n_sampling_points + 1)\n",
    "curve_a = parametrized_curve_a(sampling_points); curve_a -= np.mean(curve_a, axis=0)\n",
    "curve_b = parametrized_curve_b(sampling_points); curve_b -= np.mean(curve_b, axis=0)\n",
    "print(curve_a.shape, curve_b.shape)\n",
    "\n",
    "len_a = sum([np.linalg.norm(curve_a[i] - curve_a[i-1]) for i in range(1, n_sampling_points)])\n",
    "len_b = sum([np.linalg.norm(curve_b[i] - curve_b[i-1]) for i in range(1, n_sampling_points)])\n",
    "\n",
    "print(\"Lengths of the two curves:\", len_a, len_b)"
   ]
  },
  {
   "cell_type": "markdown",
   "id": "da3a559a",
   "metadata": {
    "slideshow": {
     "slide_type": "slide"
    }
   },
   "source": [
    "Visualize the curves.\n",
    "\n",
    "- We have made sure that the curves are optimally oriented already."
   ]
  },
  {
   "cell_type": "code",
   "execution_count": 124,
   "id": "e8ac50d6",
   "metadata": {},
   "outputs": [
    {
     "data": {
      "image/png": "[encoded data removed]",
      "text/plain": [
       "<Figure size 504x504 with 1 Axes>"
      ]
     },
     "metadata": {
      "needs_background": "light"
     },
     "output_type": "display_data"
    }
   ],
   "source": [
    "fig, ax = plt.subplots(1, 1, figsize=(7, 7))\n",
    "ax.plot(curve_a[:, 0], curve_a[:, 1], \"o-b\")\n",
    "ax.plot(curve_b[:, 0], curve_b[:, 1], \"o-r\")\n",
    "ax.set_aspect('equal'); ax.set_ylim((-0.6, 0.6)); ax.set_xlim((-0.6, 0.6));"
   ]
  },
  {
   "cell_type": "markdown",
   "id": "a67f94bb",
   "metadata": {
    "slideshow": {
     "slide_type": "slide"
    }
   },
   "source": [
    "Get our main tool: the `metric` of the Quotient SRV space.\n",
    "\n",
    "$\\rightarrow$ computes between curve shapes, independently of their parameterization."
   ]
  },
  {
   "cell_type": "code",
   "execution_count": 125,
   "id": "ee509595",
   "metadata": {},
   "outputs": [
    {
     "name": "stdout",
     "output_type": "stream",
     "text": [
      "The distance between the two curves shapes is: 0.7382956522859976\n"
     ]
    }
   ],
   "source": [
    "metric = curves_r2.quotient_square_root_velocity_metric\n",
    "\n",
    "dist_ab = metric.dist(curve_a, curve_b)\n",
    "print(f\"The distance between the two curves shapes is: {dist_ab}\")"
   ]
  },
  {
   "cell_type": "markdown",
   "id": "b1dd9f4a",
   "metadata": {
    "slideshow": {
     "slide_type": "slide"
    }
   },
   "source": [
    "Visualize the geodesic."
   ]
  },
  {
   "cell_type": "code",
   "execution_count": 127,
   "id": "4637cec1",
   "metadata": {
    "slideshow": {
     "slide_type": "-"
    }
   },
   "outputs": [
    {
     "data": {
      "image/png": "[encoded data removed]",
      "text/plain": [
       "<Figure size 576x576 with 1 Axes>"
      ]
     },
     "metadata": {
      "needs_background": "light"
     },
     "output_type": "display_data"
    }
   ],
   "source": [
    "geod_fun = metric.geodesic(initial_curve=curve_a, end_curve=curve_b)\n",
    "n_times = 20; times = np.linspace(0.0, 1.0, n_times); geod = geod_fun(times)\n",
    "\n",
    "fig, ax = plt.subplots(1, 1, figsize=(8, 8))\n",
    "ax.plot(geod[0, :, 0], geod[0, :, 1], \"o-b\")\n",
    "for i in range(1, n_times - 1):\n",
    "    ax.plot(geod[i, :, 0], geod[i, :, 1], \"o-k\")\n",
    "ax.plot(geod[-1, :, 0], geod[-1, :, 1], \"o-r\"); ax.set_aspect('equal'); ax.set_ylim((-0.6, 0.6)); ax.set_xlim((-0.6, 0.6));"
   ]
  },
  {
   "cell_type": "markdown",
   "id": "80985d64",
   "metadata": {
    "slideshow": {
     "slide_type": "slide"
    }
   },
   "source": [
    "Change visualization to better observe the same geodesic."
   ]
  },
  {
   "cell_type": "code",
   "execution_count": 128,
   "id": "7de31a87",
   "metadata": {},
   "outputs": [
    {
     "data": {
      "text/plain": [
       "(-0.3, 1.2)"
      ]
     },
     "execution_count": 128,
     "metadata": {},
     "output_type": "execute_result"
    },
    {
     "data": {
      "image/png": "[encoded data removed]",
      "text/plain": [
       "<Figure size 576x576 with 1 Axes>"
      ]
     },
     "metadata": {
      "needs_background": "light"
     },
     "output_type": "display_data"
    }
   ],
   "source": [
    "fig, ax = plt.subplots(1, 1, figsize=(8, 8))\n",
    "ax.plot(geod[0, :, 0], geod[0, :, 1], \"o-b\")\n",
    "for i in range(1, n_times - 1):\n",
    "    ax.plot(geod[i, :, 0]+i/n_times, geod[i, :, 1], \"o-k\")\n",
    "ax.plot(geod[-1, :, 0]+1, geod[-1, :, 1], \"o-r\")\n",
    "ax.set_aspect('equal'); ax.set_ylim((-0.6, 0.6)); ax.set_xlim((-0.3, 1.2));"
   ]
  },
  {
   "cell_type": "markdown",
   "id": "c5d64022",
   "metadata": {
    "slideshow": {
     "slide_type": "slide"
    }
   },
   "source": [
    "Effect of reparameterization?"
   ]
  },
  {
   "cell_type": "code",
   "execution_count": 131,
   "id": "b82b693e",
   "metadata": {},
   "outputs": [],
   "source": [
    "reparam_curve_a = parametrized_curve_a(sampling_points ** 2)\n",
    "reparam_curve_a -= np.mean(reparam_curve_a, axis=0)\n",
    "reparam_curve_b = parametrized_curve_b(sampling_points ** 2)\n",
    "reparam_curve_b -= np.mean(reparam_curve_b, axis=0)"
   ]
  },
  {
   "cell_type": "markdown",
   "id": "a6e35308",
   "metadata": {
    "slideshow": {
     "slide_type": "slide"
    }
   },
   "source": [
    "Visualize reparameterized curves."
   ]
  },
  {
   "cell_type": "code",
   "execution_count": 134,
   "id": "79743d92",
   "metadata": {},
   "outputs": [
    {
     "data": {
      "image/png": "[encoded data removed]",
      "text/plain": [
       "<Figure size 504x504 with 1 Axes>"
      ]
     },
     "metadata": {
      "needs_background": "light"
     },
     "output_type": "display_data"
    }
   ],
   "source": [
    "fig, ax = plt.subplots(1, 1, figsize=(7, 7))\n",
    "ax.plot(reparam_curve_a[:, 0], reparam_curve_a[:, 1], \"o-b\")\n",
    "ax.plot(reparam_curve_b[:, 0], reparam_curve_b[:, 1], \"o-r\")\n",
    "ax.set_aspect('equal'); ax.set_ylim((-0.75, 0.45)); ax.set_xlim((-0.6, 0.6));"
   ]
  },
  {
   "cell_type": "markdown",
   "id": "a997abfb",
   "metadata": {
    "slideshow": {
     "slide_type": "slide"
    }
   },
   "source": [
    "Check that the distance between shapes does not change."
   ]
  },
  {
   "cell_type": "code",
   "execution_count": 140,
   "id": "8b06e0f8",
   "metadata": {},
   "outputs": [
    {
     "name": "stdout",
     "output_type": "stream",
     "text": [
      "The distance between the two curves shapes is: 0.738\n",
      "The distance between the two curves shapes is: 0.738\n",
      "The distance between the two curves shapes is: 0.738\n",
      "The distance between the two curves shapes is: 0.738\n"
     ]
    }
   ],
   "source": [
    "dist_ab = metric.dist(curve_a, curve_b)\n",
    "print(f\"The distance between the two curves shapes is: {dist_ab:.3f}\")\n",
    "\n",
    "dist_ab = metric.dist(reparam_curve_a, curve_b)\n",
    "print(f\"The distance between the two curves shapes is: {dist_ab:.3f}\")\n",
    "\n",
    "dist_ab = metric.dist(curve_a, reparam_curve_b)\n",
    "print(f\"The distance between the two curves shapes is: {dist_ab:.3f}\")\n",
    "\n",
    "dist_ab = metric.dist(reparam_curve_a, reparam_curve_b)\n",
    "print(f\"The distance between the two curves shapes is: {dist_ab:.3f}\")"
   ]
  },
  {
   "cell_type": "markdown",
   "id": "655d0ffa",
   "metadata": {
    "slideshow": {
     "slide_type": "slide"
    }
   },
   "source": [
    "Compute new geodesic between a reparameterized curve and an original curve."
   ]
  },
  {
   "cell_type": "code",
   "execution_count": 141,
   "id": "b3ff3759",
   "metadata": {},
   "outputs": [],
   "source": [
    "geod_fun = metric.geodesic(\n",
    "    initial_curve=curve_a, end_curve=reparam_curve_b\n",
    ")\n",
    "\n",
    "n_times = 20\n",
    "times = np.linspace(0.0, 1.0, n_times)\n",
    "geod = geod_fun(times)"
   ]
  },
  {
   "cell_type": "code",
   "execution_count": 142,
   "id": "8eaa9805",
   "metadata": {
    "slideshow": {
     "slide_type": "slide"
    }
   },
   "outputs": [
    {
     "data": {
      "text/plain": [
       "(-0.3, 1.2)"
      ]
     },
     "execution_count": 142,
     "metadata": {},
     "output_type": "execute_result"
    },
    {
     "data": {
      "image/png": "[encoded data removed]",
      "text/plain": [
       "<Figure size 576x576 with 1 Axes>"
      ]
     },
     "metadata": {
      "needs_background": "light"
     },
     "output_type": "display_data"
    }
   ],
   "source": [
    "fig, ax = plt.subplots(1, 1, figsize=(8, 8))\n",
    "ax.plot(geod[0, :, 0], geod[0, :, 1], \"o-b\")\n",
    "for i in range(1, n_times - 1):\n",
    "    ax.plot(geod[i, :, 0]+i/n_times, geod[i, :, 1], \"o-k\")\n",
    "ax.plot(geod[-1, :, 0]+1, geod[-1, :, 1], \"o-r\"); ax.set_aspect('equal'); ax.set_ylim((-0.6, 0.6)); ax.set_xlim((-0.3, 1.2))"
   ]
  },
  {
   "cell_type": "markdown",
   "id": "d8ac79ee",
   "metadata": {
    "slideshow": {
     "slide_type": "slide"
    }
   },
   "source": [
    "## Theory: SRV Manifolds"
   ]
  },
  {
   "cell_type": "markdown",
   "id": "9f2d080f",
   "metadata": {
    "slideshow": {
     "slide_type": "slide"
    }
   },
   "source": [
    "## Application: Understanding Cancer Treatments"
   ]
  },
  {
   "cell_type": "markdown",
   "id": "3d2d2762",
   "metadata": {
    "slideshow": {
     "slide_type": "slide"
    }
   },
   "source": [
    "# Outline\n",
    "\n",
    "- **Unit 2 (Shapes): Computational Representations of Biomedical Shapes**\n",
    "  - **A) Shapes of landmarks**\n",
    "    - Motivation: Shape of Glaucoma\n",
    "    - Practice: Procrustes Analysis\n",
    "    - Theory: Kendall Shape Spaces\n",
    "    - Application: Innovation in Pelvis Surgery\n",
    "  - B) Shapes of curves\n",
    "  - C) Shapes of surfaces\n",
    "  - D) Graphs\n",
    "  - E) Deformations\n",
    "  \n",
    "Questions?"
   ]
  }
 ],
 "metadata": {
  "celltoolbar": "Slideshow",
  "kernelspec": {
   "display_name": "Python 3 (ipykernel)",
   "language": "python",
   "name": "python3"
  },
  "language_info": {
   "codemirror_mode": {
    "name": "ipython",
    "version": 3
   },
   "file_extension": ".py",
   "mimetype": "text/x-python",
   "name": "python",
   "nbconvert_exporter": "python",
   "pygments_lexer": "ipython3",
   "version": "3.9.9"
  }
 },
 "nbformat": 4,
 "nbformat_minor": 5
}
