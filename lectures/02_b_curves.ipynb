{
 "cells": [
  {
   "cell_type": "markdown",
   "id": "83fc4529",
   "metadata": {
    "slideshow": {
     "slide_type": "slide"
    }
   },
   "source": [
    "# 02 Computational Representations of (Biomedical) Shapes\n",
    "\n",
    "## A) Shapes of Curves\n",
    "\n",
    "$\\color{#003660}{\\text{Nina Miolane - Assistant Professor}}$ @ BioShape Lab @ UCSB ECE\n",
    "\n",
    "<center><img src=\"figs/01_optic_nerves.png\" width=400px alt=\"default\"/></center>\n",
    "<center>Comparison of optic nerve heads in monkeys with and without glaucoma.</center>\n"
   ]
  },
  {
   "cell_type": "markdown",
   "id": "fd3c6f41",
   "metadata": {
    "slideshow": {
     "slide_type": "slide"
    }
   },
   "source": [
    "# Outline: Geometric Learning for BioShape Analysis\n",
    "\n",
    "- **Unit 1 (Geometry - Math!)**: Differential Geometry for Engineers\n",
    "- **Unit 2 (Shapes): Computational Representations of Biomedical Shapes**\n",
    "- **Unit 3 (Machine Learning)**: Geometric Machine Learning for Shape Analysis\n",
    "- **Unit 4 (Deep Learning)**: Geometric Deep Learning for Shape Analysis\n",
    "\n",
    "<center><img src=\"figs/00_bioshape.jpg\" width=500px alt=\"default\"/></center>\n",
    "\n",
    "Examples and applications will be taken from cutting-edge research in the **biomedical field**."
   ]
  },
  {
   "cell_type": "markdown",
   "id": "59605e29",
   "metadata": {
    "slideshow": {
     "slide_type": "slide"
    }
   },
   "source": [
    "# Outline\n",
    "\n",
    "- **Unit 2 (Shapes): Computational Representations of Biomedical Shapes**\n",
    "  - A) Shapes of landmarks\n",
    "  - B) Shapes of curves\n",
    "  - C) Shapes of surfaces\n",
    "  - D) Graphs\n",
    "  - E) Deformations"
   ]
  },
  {
   "cell_type": "markdown",
   "id": "d9995986",
   "metadata": {
    "slideshow": {
     "slide_type": "slide"
    }
   },
   "source": [
    "# Outline\n",
    "\n",
    "- **Unit 2 (Shapes): Computational Representations of Biomedical Shapes**\n",
    "  - A) Shapes of landmarks\n",
    "  - **B) Shapes of curves**\n",
    "    - Motivation: Shape of Cancer Treatments\n",
    "    - Practice: Analysis with SRV\n",
    "    - Theory: Geometry of SRV manifolds\n",
    "    - Application: Osteoscarcoma cells\n",
    "  - C) Shapes of surfaces\n",
    "  - D) Graphs\n",
    "  - E) Deformations"
   ]
  },
  {
   "cell_type": "markdown",
   "id": "5c6c17ac",
   "metadata": {
    "slideshow": {
     "slide_type": "slide"
    }
   },
   "source": [
    "## Motivation: Shape of Cancer Treatments"
   ]
  },
  {
   "cell_type": "markdown",
   "id": "ddaa13d2",
   "metadata": {
    "slideshow": {
     "slide_type": "slide"
    }
   },
   "source": [
    "### Cell Shapes, aka Cell Morphologies\n",
    "\n",
    "Biological cells adopt a variety of shapes, determined by multiple processes and biophysical forces under the control of the cell. With the emergence of large-scale biological cell image data, morphological studies, i.e. studies of cell shapes, have many applications. \n",
    "\n",
    "$\\color{#047C91}{\\text{Example}}$: Measures of irregularity of cells can discriminate between cancer cell lines treated with different drugs.\n",
    "\n",
    "<center><img src=\"figs/02_cells.png\" width=400px alt=\"default\"/></center>\n",
    "<center>Cell images obtained by fluorescence microscopy, provided by A. Prasad, Colorado State University. </center>\n",
    "<center> The cells nuclei (blue), the actin cytoskeleton (green) and the lipid membrane (red) of each cell are stained and colored. </center>"
   ]
  },
  {
   "cell_type": "markdown",
   "id": "d9b934ad",
   "metadata": {
    "slideshow": {
     "slide_type": "slide"
    }
   },
   "source": [
    "### A Closer Look: Actin\n",
    "\n",
    "$\\color{#EF5645}{\\text{Remark}}$: \"Actin\" plays a crucial role in determining the shape of a cell. Conversely, shapes of cell can give us insights about the function of actin in the cell.\n",
    "\n",
    "$\\color{#EF5645}{\\text{Definition}}$: Actin is a family of globular multi-functional proteins that form microfilaments in the cytoskeleton. They participate in important cellular processes, including muscle contraction, cell motility, cell division and cytokinesis, vesicle and organelle movement, cell signaling, and the establishment and maintenance of cell junctions and **cell shape**.\n",
    "\n",
    "<center><img src=\"figs/02_actin.jpeg\" width=300px alt=\"default\"/></center>\n",
    "<center>Human Lung Carcinoma Cells (A-549) - https://tinyurl.com/2p8axfxe</center>\n"
   ]
  },
  {
   "cell_type": "markdown",
   "id": "e07c209a",
   "metadata": {
    "slideshow": {
     "slide_type": "slide"
    }
   },
   "source": [
    "### Question\n",
    "\n",
    "$\\color{#EF5645}{\\text{Question}}$: Do specific cancer treatments affect the inner health of the cell, and specifically its actin and cytoskeleton?\n",
    "\n",
    "\n",
    "Images of mouse osteosarcoma cells (bone cancer cells) acquired by fluorescence microscopy\n",
    "- 2 cell lines (i.e. cultures of cells): DUNN and DLM8 (more aggressive)\n",
    "- 3 states: 1 control group, and 2 cancer treatments: Jasplakinolide (jasp) and cytochalasin D (cytd).\n",
    "\n",
    "$\\rightarrow$ On each image, the boundary of the cell was segmented (ECE 278a) to form a discrete closed curve.\n",
    "\n",
    "\n",
    "<center><img src=\"figs/02_binarized_cells.png\" width=400px alt=\"default\"/></center>\n",
    "<center>Segmented cell images from which the boundary can be extracted.</center>\n",
    "\n"
   ]
  },
  {
   "cell_type": "markdown",
   "id": "c8355b23",
   "metadata": {
    "slideshow": {
     "slide_type": "slide"
    }
   },
   "source": [
    "### Load the Dataset"
   ]
  },
  {
   "cell_type": "code",
   "execution_count": 11,
   "id": "541153d6",
   "metadata": {},
   "outputs": [
    {
     "name": "stdout",
     "output_type": "stream",
     "text": [
      "Total number of cells : 650\n",
      "The array contained the 0th cell has shape (210, 2).\n"
     ]
    }
   ],
   "source": [
    "import geomstats.datasets.utils as data_utils\n",
    "\n",
    "cells, lines, treatments = data_utils.load_cells()\n",
    "print(f\"Total number of cells : {len(cells)}\")\n",
    "print(f\"The array contained the 0th cell has shape {cells[0].shape}.\")"
   ]
  },
  {
   "cell_type": "code",
   "execution_count": 4,
   "id": "36c0746a",
   "metadata": {},
   "outputs": [
    {
     "name": "stdout",
     "output_type": "stream",
     "text": [
      "['control' 'cytd' 'jasp']\n",
      "['dlm8' 'dunn']\n"
     ]
    }
   ],
   "source": [
    "import numpy as np\n",
    "import pandas as pd\n",
    "\n",
    "TREATMENTS = np.unique(treatments); print(TREATMENTS)\n",
    "LINES = np.unique(lines); print(LINES)\n"
   ]
  },
  {
   "cell_type": "code",
   "execution_count": 8,
   "id": "28f65411",
   "metadata": {
    "slideshow": {
     "slide_type": "slide"
    }
   },
   "outputs": [
    {
     "data": {
      "text/html": [
       "<div>\n",
       "<style scoped>\n",
       "    .dataframe tbody tr th:only-of-type {\n",
       "        vertical-align: middle;\n",
       "    }\n",
       "\n",
       "    .dataframe tbody tr th {\n",
       "        vertical-align: top;\n",
       "    }\n",
       "\n",
       "    .dataframe thead th {\n",
       "        text-align: right;\n",
       "    }\n",
       "</style>\n",
       "<table border=\"1\" class=\"dataframe\">\n",
       "  <thead>\n",
       "    <tr style=\"text-align: right;\">\n",
       "      <th></th>\n",
       "      <th>dlm8</th>\n",
       "      <th>dunn</th>\n",
       "    </tr>\n",
       "  </thead>\n",
       "  <tbody>\n",
       "    <tr>\n",
       "      <th>control</th>\n",
       "      <td>114.0</td>\n",
       "      <td>204.0</td>\n",
       "    </tr>\n",
       "    <tr>\n",
       "      <th>cytd</th>\n",
       "      <td>82.0</td>\n",
       "      <td>93.0</td>\n",
       "    </tr>\n",
       "    <tr>\n",
       "      <th>jasp</th>\n",
       "      <td>62.0</td>\n",
       "      <td>95.0</td>\n",
       "    </tr>\n",
       "  </tbody>\n",
       "</table>\n",
       "</div>"
      ],
      "text/plain": [
       "          dlm8   dunn\n",
       "control  114.0  204.0\n",
       "cytd      82.0   93.0\n",
       "jasp      62.0   95.0"
      ]
     },
     "metadata": {},
     "output_type": "display_data"
    }
   ],
   "source": [
    "ds = {}; n_cells_arr = np.zeros((3, 2))\n",
    "for i, treatment in enumerate(TREATMENTS):\n",
    "    ds[treatment] = {}\n",
    "    for j, line in enumerate(LINES):\n",
    "        to_keep = np.array(\n",
    "            [\n",
    "                one_treatment == treatment and one_line == line\n",
    "                for one_treatment, one_line in zip(treatments, lines)\n",
    "            ]\n",
    "        )\n",
    "        ds[treatment][line] = [\n",
    "            cell_i for cell_i, to_keep_i in zip(cells, to_keep) if to_keep_i\n",
    "        ]\n",
    "        nb = len(ds[treatment][line])\n",
    "        n_cells_arr[i, j] = nb\n",
    "\n",
    "n_cells_df = pd.DataFrame({\"dlm8\": n_cells_arr[:, 0], \"dunn\": n_cells_arr[:, 1]}); n_cells_df = n_cells_df.set_index(TREATMENTS)\n",
    "display(n_cells_df)"
   ]
  },
  {
   "cell_type": "markdown",
   "id": "a5daaf03",
   "metadata": {
    "slideshow": {
     "slide_type": "slide"
    }
   },
   "source": [
    "### Difference: Landmarks and Curves\n",
    "\n",
    "Landmarks:\n",
    "- are \"biologically meaningful loci\": cannot be permuted.\n",
    "\n",
    "Curves:\n",
    "- are made of points that are discretizing a continuous curve: the discretization is not biologically meaningful."
   ]
  },
  {
   "cell_type": "code",
   "execution_count": 27,
   "id": "8e9bc7e7",
   "metadata": {},
   "outputs": [
    {
     "data": {
      "image/png": "[encoded data removed]",
      "text/plain": [
       "<Figure size 432x288 with 1 Axes>"
      ]
     },
     "metadata": {
      "needs_background": "light"
     },
     "output_type": "display_data"
    }
   ],
   "source": [
    "import matplotlib.pyplot as plt\n",
    "plt.plot(cells[1][:, 0], cells[1][:, 1], \"C0\", marker=\"o\");"
   ]
  },
  {
   "cell_type": "markdown",
   "id": "7fcce6fb",
   "metadata": {
    "slideshow": {
     "slide_type": "slide"
    }
   },
   "source": [
    "### From Curves to Shapes of Curves\n",
    "\n",
    "$\\color{#EF5645}{\\text{Definition}}$: Two curves are said to have the same shape if one set can be obtained by translating, rotating, re-scaling, or reparameterizing the other.\n",
    "\n",
    "$\\rightarrow$ We do not want to do machine learning on the curves directly, but rather on the shapes of these curves."
   ]
  },
  {
   "cell_type": "code",
   "execution_count": 25,
   "id": "5329cc42",
   "metadata": {},
   "outputs": [
    {
     "data": {
      "image/png": "[encoded data removed]",
      "text/plain": [
       "<Figure size 576x288 with 2 Axes>"
      ]
     },
     "metadata": {
      "needs_background": "light"
     },
     "output_type": "display_data"
    }
   ],
   "source": [
    "import matplotlib.pyplot as plt\n",
    "fig, axes = plt.subplots(1, 2, figsize=(8, 4))\n",
    "axes[0].plot(cells[2][:, 0], cells[2][:, 1], \"C0\", marker=\"o\"); axes[1].plot(cells[3][:, 0], cells[3][:, 1], \"C1\", marker=\"o\");"
   ]
  },
  {
   "cell_type": "markdown",
   "id": "ff586483",
   "metadata": {
    "slideshow": {
     "slide_type": "slide"
    }
   },
   "source": [
    "## Practice: Analysis in SRV space"
   ]
  },
  {
   "cell_type": "markdown",
   "id": "d8ac79ee",
   "metadata": {
    "slideshow": {
     "slide_type": "slide"
    }
   },
   "source": [
    "## Theory: SRV Manifolds"
   ]
  },
  {
   "cell_type": "markdown",
   "id": "9f2d080f",
   "metadata": {
    "slideshow": {
     "slide_type": "slide"
    }
   },
   "source": [
    "## Application: Understanding Cancer Treatments"
   ]
  },
  {
   "cell_type": "markdown",
   "id": "3d2d2762",
   "metadata": {
    "slideshow": {
     "slide_type": "slide"
    }
   },
   "source": [
    "# Outline\n",
    "\n",
    "- **Unit 2 (Shapes): Computational Representations of Biomedical Shapes**\n",
    "  - **A) Shapes of landmarks**\n",
    "    - Motivation: Shape of Glaucoma\n",
    "    - Practice: Procrustes Analysis\n",
    "    - Theory: Kendall Shape Spaces\n",
    "    - Application: Innovation in Pelvis Surgery\n",
    "  - B) Shapes of curves\n",
    "  - C) Shapes of surfaces\n",
    "  - D) Graphs\n",
    "  - E) Deformations\n",
    "  \n",
    "Questions?"
   ]
  }
 ],
 "metadata": {
  "celltoolbar": "Slideshow",
  "kernelspec": {
   "display_name": "Python 3 (ipykernel)",
   "language": "python",
   "name": "python3"
  },
  "language_info": {
   "codemirror_mode": {
    "name": "ipython",
    "version": 3
   },
   "file_extension": ".py",
   "mimetype": "text/x-python",
   "name": "python",
   "nbconvert_exporter": "python",
   "pygments_lexer": "ipython3",
   "version": "3.9.9"
  }
 },
 "nbformat": 4,
 "nbformat_minor": 5
}
