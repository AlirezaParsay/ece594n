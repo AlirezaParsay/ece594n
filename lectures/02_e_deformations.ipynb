{
 "cells": [
  {
   "cell_type": "markdown",
   "id": "83fc4529",
   "metadata": {
    "slideshow": {
     "slide_type": "slide"
    }
   },
   "source": [
    "# 02 Computational Representations of (Biomedical) Shapes\n",
    "\n",
    "## E) Deformations\n",
    "\n",
    "$\\color{#003660}{\\text{Nina Miolane - Assistant Professor}}$ @ BioShape Lab @ UCSB ECE\n",
    "\n",
    "![SegmentLocal](figs/02_alz.gif \"segment\")"
   ]
  },
  {
   "cell_type": "markdown",
   "id": "a72714d4",
   "metadata": {
    "slideshow": {
     "slide_type": "slide"
    }
   },
   "source": [
    "# Fill out the anonymous survey!\n",
    "\n",
    "Link also posted on Slack:\n",
    "\n",
    "https://docs.google.com/forms/d/1RQtMCXdpz-cnNwDIsc1P4l5-JrY6cR6uzQ6Wxn4W4Ww/prefill"
   ]
  },
  {
   "cell_type": "markdown",
   "id": "fd3c6f41",
   "metadata": {
    "slideshow": {
     "slide_type": "slide"
    }
   },
   "source": [
    "# Outline: Geometric Learning for BioShape Analysis\n",
    "\n",
    "- **Unit 1 (Geometry - Math!)**: Differential Geometry for Engineers\n",
    "- **Unit 2 (Shapes): Computational Representations of Biomedical Shapes**\n",
    "- **Unit 3 (Machine Learning)**: Geometric Machine Learning for Shape Analysis\n",
    "- **Unit 4 (Deep Learning)**: Geometric Deep Learning for Shape Analysis\n",
    "\n",
    "<center><img src=\"figs/00_bioshape.jpg\" width=500px alt=\"default\"/></center>\n",
    "\n",
    "Examples and applications will be taken from cutting-edge research in the **biomedical field**."
   ]
  },
  {
   "cell_type": "markdown",
   "id": "d9995986",
   "metadata": {
    "slideshow": {
     "slide_type": "slide"
    }
   },
   "source": [
    "# Outline\n",
    "\n",
    "- **Unit 2 (Shapes): Computational Representations of Biomedical Shapes**\n",
    "  - A) Shapes of landmarks\n",
    "  - B) Shapes of curves\n",
    "  - C) Shapes of surfaces\n",
    "  - D) Graphs as Articulated Models\n",
    "  - E) Deformations\n",
    "    - Motivation: Shape of Alzheimer's disease\n",
    "    - Theory: Deformation of images\n",
    "    - Application: Modeling the evolution of Alzheimer's disease"
   ]
  },
  {
   "cell_type": "markdown",
   "id": "e8724a68",
   "metadata": {
    "slideshow": {
     "slide_type": "slide"
    }
   },
   "source": [
    "# Motivation: Shape of Alzheimer's Disease"
   ]
  },
  {
   "cell_type": "markdown",
   "id": "436da062",
   "metadata": {
    "slideshow": {
     "slide_type": "slide"
    }
   },
   "source": [
    "## Alzheimer's Disease: Figures\n",
    "\n",
    "Alzheimer's disease is the most common type of dementia. \n",
    "\n",
    "Due (partly) to an aging population, cases of Alzheimer's disease are increasing. [Source](https://www.alz.org/alzheimers-dementia/facts-figures).\n",
    "\n",
    "- In 2019:\n",
    "    - 5.8M people = ~2% of US population\n",
    "\n",
    "- In 2050:\n",
    "    - Expected 14M = ~4.2\\% of US population\n",
    "    \n",
    "- Between 2000-2017:\n",
    "    - Death from heart disease have dicreased by 9%.\n",
    "    - Deaths from Alzheimer's disease have increased by 145%."
   ]
  },
  {
   "cell_type": "markdown",
   "id": "11863cb1",
   "metadata": {
    "slideshow": {
     "slide_type": "slide"
    }
   },
   "source": [
    "## Alzheimer's Disease on Images\n",
    "\n",
    "Alzheimer's symptoms include memory losses, among others.\n",
    "\n",
    "On images, Alzheimer's disease is characterized by:\n",
    "- an accelerated aging of the brain\n",
    "- which corresponds to an accelerated atropy of its grey matter.\n",
    "\n",
    "\n",
    "![SegmentLocal](figs/02_alz.gif \"segment\")"
   ]
  },
  {
   "cell_type": "markdown",
   "id": "0d811c50",
   "metadata": {
    "slideshow": {
     "slide_type": "slide"
    }
   },
   "source": [
    "## Motivation: Shape of Alzheimer's Disease?\n",
    "\n",
    "There is no \"cure\" to Alzheimer's disease, even though there exists one treatment and daily exercises that help slowing down the progression of the disease.\n",
    "\n",
    "However, the accelerated atrophy can be seen on images, before the subject develops Alzheimer's symptoms.\n",
    "\n",
    "$\\color{#EF5645}{\\text{Question for today}}$: Can we predict if a subject will develop Alzheimer's symptoms?\n",
    "\n",
    "If we can, the subject can start the treatment before they develop the symptoms."
   ]
  },
  {
   "cell_type": "markdown",
   "id": "27fb8228",
   "metadata": {
    "slideshow": {
     "slide_type": "slide"
    }
   },
   "source": [
    "$\\color{#EF5645}{\\text{Question for today}}$: Can we predict if a subject will develop Alzheimer's symptoms?\n",
    "We can:\n",
    "- **Compute the average evolution of Alzheimer's disease**\n",
    "- Get an MRI from a new patient, predict how their brain will evolve if they do have the disease.\n",
    "- Compare it to a second MRI of the patient a few months after."
   ]
  },
  {
   "cell_type": "markdown",
   "id": "fad37782",
   "metadata": {
    "slideshow": {
     "slide_type": "slide"
    }
   },
   "source": [
    "## Data: Structural MRIs of Brains\n",
    "\n",
    "\n",
    "<center><img src=\"figs/02_adni.png\" width=800px alt=\"default\"/></center>"
   ]
  },
  {
   "cell_type": "markdown",
   "id": "6f736754",
   "metadata": {
    "cell_style": "split",
    "slideshow": {
     "slide_type": "slide"
    }
   },
   "source": [
    "Data (ADNI database):\n",
    "- 98 patients \n",
    "- 4-5 structural MRIs per patient."
   ]
  },
  {
   "cell_type": "markdown",
   "id": "ccc2133f",
   "metadata": {
    "cell_style": "split"
   },
   "source": [
    "<center><img src=\"figs/02_brain_mri.png\" width=250px alt=\"default\"/></center>\n"
   ]
  },
  {
   "cell_type": "markdown",
   "id": "a6f32ffe",
   "metadata": {
    "slideshow": {
     "slide_type": "-"
    }
   },
   "source": [
    "$\\rightarrow$ what is the best way to represent the brain shapes?\n",
    "- Landmarks or curves: too restrictive\n",
    "- Surfaces: we would need several surfaces\n",
    "- Articulated model: does not apply"
   ]
  },
  {
   "cell_type": "markdown",
   "id": "8ed74da8",
   "metadata": {
    "slideshow": {
     "slide_type": "slide"
    }
   },
   "source": [
    "# Theory: Deformations"
   ]
  },
  {
   "cell_type": "markdown",
   "id": "ed120792",
   "metadata": {
    "slideshow": {
     "slide_type": "slide"
    }
   },
   "source": [
    "### From Geodesics of Landmarks/Curves/Surfaces/Articulations to Deformations\n",
    "\n",
    "$\\color{#EF5645}{\\text{Recall}}$: we already computed \"deformations\" of landmarks, curves, surfaces and articulations:\n",
    "- by computing \"geodesics\" on these shapes spaces.\n",
    "\n",
    "$\\color{#047C91}{\\text{Example}}$: A geodesic in the space of curve shapes between two curves."
   ]
  },
  {
   "cell_type": "markdown",
   "id": "c7b9b613",
   "metadata": {},
   "source": [
    "<center><img src=\"figs/02_geod_curve.png\" width=400px alt=\"default\"/></center>"
   ]
  },
  {
   "cell_type": "markdown",
   "id": "4de9ff88",
   "metadata": {
    "slideshow": {
     "slide_type": "slide"
    }
   },
   "source": [
    "$\\color{#047C91}{\\text{Example}}$: A geodesic in the space of curve shapes between two cancer cells.\n",
    "\n",
    "<center><img src=\"figs/02_geod_cell.png\" width=400px alt=\"default\"/></center>"
   ]
  },
  {
   "cell_type": "markdown",
   "id": "360198de",
   "metadata": {
    "slideshow": {
     "slide_type": "slide"
    }
   },
   "source": [
    "$\\color{#047C91}{\\text{Example}}$: The same geodesic, turned into a movie: it looks like a shape \"deformation\".\n",
    "\n",
    "![SegmentLocal](figs/02_cell_deformation.gif \"segment\")"
   ]
  },
  {
   "cell_type": "markdown",
   "id": "73fd9b05",
   "metadata": {
    "slideshow": {
     "slide_type": "slide"
    }
   },
   "source": [
    "## Deformation as a Shape Representation\n",
    "\n",
    "However, we will reserve the word \"deformation\" to describe the model of shape that we introduce today.\n",
    "\n",
    "$\\color{#EF5645}{\\text{Intuition}}$: We represent one (brain) shape as a deformation $\\phi$ from a template. The deformation itself is the shape!\n",
    "\n",
    "$\\color{#047C91}{\\text{Example}}$: \n",
    "- The template is in orange, fixed for the whole brain MRI dataset.\n",
    "- Each brain shape is represented as a deformation $\\phi$ from the template.\n",
    "\n",
    "<center><img src=\"figs/02_def.png\" width=400px alt=\"default\"/></center>\n"
   ]
  },
  {
   "cell_type": "markdown",
   "id": "7b253116",
   "metadata": {
    "slideshow": {
     "slide_type": "slide"
    }
   },
   "source": [
    "## Diffeomorphic Deformation of a Domain\n",
    "\n",
    "Consider a domain $D$, for example $D$ is the square.\n",
    "\n",
    "$\\color{#EF5645}{\\text{Mathematical Definition}}$: A diffeomorphic deformation (or diffeomorphism) $\\phi$ of $D$ is a differentiable map $\\phi : D \\rightarrow D$ which is a bijection whose inverse $\\phi^{-1}$ is also differentiable. \n",
    "\n",
    "$\\color{#EF5645}{\\text{Explanation}}$: A diffeomorphism $\\phi$ of $D$ is a very smooth deformation of the domain $D$ that has an inverse.\n",
    "\n",
    "<center><img src=\"figs/02_diffeo.png\" width=400px alt=\"default\"/></center>\n",
    "\n"
   ]
  },
  {
   "cell_type": "markdown",
   "id": "9bf0cd12",
   "metadata": {
    "slideshow": {
     "slide_type": "slide"
    }
   },
   "source": [
    "## Lie Group and Lie Algebra\n",
    "\n",
    "$\\color{#EF5645}{\\text{Definition}}$:\n",
    "- Diff$(D)$: The set of all diffeomorphisms of a domain $D$ form an (infinite dimensional) Lie group denoted Diff$(D)$. \n",
    "- $T_e \\text{Diff}(D)$: Its tangent space at the identity $e$ written $T_e \\text{Diff}(D)$ is its Lie algebra: it is the space of infinitesimal deformation, or rate of deformation.\n",
    "\n",
    "\n",
    "\n",
    "<center><img src=\"figs/02_svf_png.png\" width=400px alt=\"default\"/></center>"
   ]
  },
  {
   "cell_type": "markdown",
   "id": "349a362a",
   "metadata": {
    "slideshow": {
     "slide_type": "slide"
    }
   },
   "source": [
    "<center><img src=\"figs/02_v_phi_crop.jpg\" width=400px alt=\"default\"/></center>"
   ]
  },
  {
   "cell_type": "markdown",
   "id": "adfb7ab8",
   "metadata": {
    "cell_style": "split",
    "slideshow": {
     "slide_type": "slide"
    }
   },
   "source": [
    "<center><img src=\"figs/02_v_brain.jpg\" width=200px alt=\"default\"/></center>"
   ]
  },
  {
   "cell_type": "markdown",
   "id": "579e2bc5",
   "metadata": {
    "cell_style": "split"
   },
   "source": [
    "![SegmentLocal](figs/02_phi_brain.gif \"segment\")"
   ]
  },
  {
   "cell_type": "markdown",
   "id": "5486b43d",
   "metadata": {
    "slideshow": {
     "slide_type": "slide"
    }
   },
   "source": [
    "## Diffeomorphic Deformation of an Image\n",
    "\n",
    "$\\color{#EF5645}{\\text{Definition}}$:\n",
    "The Lie group of diffeomorphisms $\\text{Diff}(D)$ acts\n",
    "on the space of images $\\text{Img}(D)$:\n",
    "$$ \\rho : \\text{Diff}(D) \\times \\text{Img}(D) \\rightarrow \\text{Img}(D),\\\\\n",
    "(\\phi , I) \\mapsto \\rightarrow \\phi \\cdot I = I \\circ \\phi^{-1}.$$\n",
    "\n",
    "$\\color{#EF5645}{\\text{Explanation}}$: We deform an image by deforming the domain (e.g. the square $D$) on which it is defined.\n",
    "\n",
    "<center><img src=\"figs/02_diffeo_img2.jpg\" width=800px alt=\"default\"/></center>"
   ]
  },
  {
   "cell_type": "markdown",
   "id": "238c4022",
   "metadata": {
    "slideshow": {
     "slide_type": "slide"
    }
   },
   "source": [
    "<center><img src=\"figs/02_action_diffeo.png\" width=800px alt=\"default\"/></center>\n"
   ]
  },
  {
   "cell_type": "markdown",
   "id": "fc10555b",
   "metadata": {
    "slideshow": {
     "slide_type": "slide"
    }
   },
   "source": [
    "## Deformation as a Shape Representation\n",
    "\n",
    "Now we give the mathematical definition of shape representation as a deformation.\n",
    "\n",
    "$\\color{#EF5645}{\\text{Definition}}$: Given a template image $T$, we will represent the shape in image $I_i$ as the deformation $\\phi_i$ such that:\n",
    "$$\\phi_i = \\text{argmin}_{\\phi} ||\\phi \\cdot T -  I_i||^2 + \\text{regularization}(\\phi),$$\n",
    "i. e. as the deformation that allows optimally aligning $T$ to the image $I_i$, where $|| ||^2$ is the sum of square of image intensities, and a regularization term is added.\n",
    "\n",
    "<center><img src=\"figs/02_def.png\" width=400px alt=\"default\"/></center>"
   ]
  },
  {
   "cell_type": "markdown",
   "id": "77f80b88",
   "metadata": {
    "slideshow": {
     "slide_type": "slide"
    }
   },
   "source": [
    "## Riemannian Metric to Compute on the Deformations\n",
    "\n",
    "$\\color{#6D7D33}{\\text{Property}}$: The Lie group Diff$(D)$ comes with a canonical Riemannian metric, called the right-invariant canonical metric.\n",
    "\n",
    "We are equipped with a Riemannian metric on the space of deformations. \n",
    "\n",
    "This tool gives us all the elementary operations we need: exp, log, geodesics, distance. \n",
    "\n",
    "We can use it to perform statistics and learning!\n",
    "\n",
    "<center><img src=\"figs/01_tools.jpeg\" width=400px alt=\"default\"/></center>"
   ]
  },
  {
   "cell_type": "markdown",
   "id": "d79b3f53",
   "metadata": {
    "slideshow": {
     "slide_type": "slide"
    }
   },
   "source": [
    "# Application: Modeling the evolution of Alzheimer's disease"
   ]
  },
  {
   "cell_type": "markdown",
   "id": "cf57d4cb",
   "metadata": {
    "slideshow": {
     "slide_type": "slide"
    }
   },
   "source": [
    "$\\color{#EF5645}{\\text{Question for today}}$: Can we predict if a subject will develop Alzheimer's symptoms?\n",
    "We can:\n",
    "- **Compute the average evolution of Alzheimer's disease**\n",
    "- Get an MRI from a new patient, predict how their brain will evolve if they do have the disease.\n",
    "- Compare it to a second MRI of the patient a few months after.\n",
    "\n",
    "![SegmentLocal](figs/02_alz.gif \"segment\")"
   ]
  },
  {
   "cell_type": "markdown",
   "id": "a46b2440",
   "metadata": {
    "slideshow": {
     "slide_type": "slide"
    }
   },
   "source": [
    "$\\color{#047C91}{\\text{Example}}$: Assume we have:\n",
    "- two subject\n",
    "- 3 MRIs per subject, i.e. 3 deformations per subject.\n",
    "\n",
    "Method:\n",
    "\n",
    "- Fit a geodesic to Subject 1 (purple) - save initial tangent vector\n",
    "- Fit a geodesic to Subject 2 (purple) - save initial tangent vector\n",
    "- Compute mean of brain anatomies of Subject 1 and Subject 2 (orange dot)\n",
    "- Parallel transport initial tangent vectors to tangent space of the mean.\n",
    "- Take mean of transported vectors\n",
    "- Compute the geodesic from the mean anatomy shooting with this tangent vector\n",
    "\n",
    "<center><img src=\"figs/02_pt_brain.svg\" width=500px alt=\"default\"/></center>\n"
   ]
  },
  {
   "cell_type": "markdown",
   "id": "761a1704",
   "metadata": {
    "slideshow": {
     "slide_type": "slide"
    }
   },
   "source": [
    "<center><img src=\"figs/02_pt_fig.png\" width=500px alt=\"default\"/></center>\n"
   ]
  },
  {
   "cell_type": "markdown",
   "id": "3d2d2762",
   "metadata": {
    "slideshow": {
     "slide_type": "slide"
    }
   },
   "source": [
    "# Outline\n",
    "\n",
    "- **Unit 2 (Shapes): Computational Representations of Biomedical Shapes**\n",
    "  - A) Shapes of landmarks\n",
    "  - B) Shapes of curves\n",
    "  - C) Shapes of surfaces\n",
    "  - D) Graphs as Articulated Models\n",
    "  - **E) Deformations**\n",
    "    - Motivation: Shape of Alzheimer's disease\n",
    "    - Theory: Deformation of images\n",
    "    - Application: Modeling the evolution of Alzheimer's disease\n",
    "  \n",
    "References:\n",
    "- Lorenzi, Ayache, Frisoni, Pennec. Mapping the effects of 𝐴𝛽_(1−42)  levels on the longitudinal changes in healthy aging. (2011)"
   ]
  }
 ],
 "metadata": {
  "celltoolbar": "Slideshow",
  "kernelspec": {
   "display_name": "Python 3 (ipykernel)",
   "language": "python",
   "name": "python3"
  },
  "language_info": {
   "codemirror_mode": {
    "name": "ipython",
    "version": 3
   },
   "file_extension": ".py",
   "mimetype": "text/x-python",
   "name": "python",
   "nbconvert_exporter": "python",
   "pygments_lexer": "ipython3",
   "version": "3.9.9"
  }
 },
 "nbformat": 4,
 "nbformat_minor": 5
}
