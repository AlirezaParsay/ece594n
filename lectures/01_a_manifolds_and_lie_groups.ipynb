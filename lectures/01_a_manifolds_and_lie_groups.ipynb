{
 "cells": [
  {
   "cell_type": "markdown",
   "id": "83fc4529",
   "metadata": {
    "slideshow": {
     "slide_type": "slide"
    }
   },
   "source": [
    "# 01 Differential Geometry for Engineers\n",
    "\n",
    "## A) Manifolds and Lie groups\n",
    "\n",
    "$\\color{#003660}{\\text{Nina Miolane - Assistant Professor}}$ @ BioShape Lab @ UCSB ECE\n",
    "- Texts and illustrations by Adele Myers @ BioShape Lab.\n",
    "- Textbook: Guigui, Miolane, Pennec, 2022. Introduction to Riemannian Geometry and Geometric Statistics.\n",
    "\n",
    "<center><img src=\"figs/01_manifold_definitions1.png\" width=1000px alt=\"default\"/></center>\n"
   ]
  },
  {
   "cell_type": "raw",
   "id": "1e3814f9",
   "metadata": {
    "slideshow": {
     "slide_type": "notes"
    }
   },
   "source": [
    "In this course, we will discuss manifolds and the `Manifold` class in Geomstats. Geomstats is a software which analyzes data on manifolds, so naturally the `Manifold` class is quite important."
   ]
  },
  {
   "cell_type": "markdown",
   "id": "1f4b7295",
   "metadata": {
    "slideshow": {
     "slide_type": "slide"
    }
   },
   "source": [
    "# Outline\n",
    "\n",
    "You will learn:\n",
    "\n",
    "1. What is a manifold? What are tangent spaces?\n",
    "2. Why do we care about manifolds?\n",
    "3. How can we implement manifolds?\n",
    "4. What is a Lie group?\n",
    "5. Why do we care about Lie groups?\n",
    "6. How can we implement Lie groups?"
   ]
  },
  {
   "cell_type": "markdown",
   "id": "4083a61a",
   "metadata": {
    "slideshow": {
     "slide_type": "slide"
    }
   },
   "source": [
    "# 1. What is a manifold?"
   ]
  },
  {
   "cell_type": "markdown",
   "id": "ddbbb1f9",
   "metadata": {
    "slideshow": {
     "slide_type": "-"
    }
   },
   "source": [
    "$\\textbf{Intuition:}$ A manifold can be seen as a surface  with:\n",
    "- any dimension and any shape\n",
    "- but it should be smooth (in the sense of being differentiable). \n",
    "\n",
    "$\\color{#047C91}{\\text{Example}}$: A hypersphere is a two dimensional manifold.\n",
    "\n",
    "<center><img src=\"figs/00_intro_sphere_manifold.png\" width=400px alt=\"default\"/></center>"
   ]
  },
  {
   "cell_type": "markdown",
   "id": "bb67b827",
   "metadata": {
    "slideshow": {
     "slide_type": "notes"
    }
   },
   "source": [
    "$\\textbf{Intuition:}$ When you are first learning, it can be a helpful starting point to think of a manifold as a surface. This surface can have any dimension and any shape as long as it is smooth (in the sense of being continuous and differentiable). \n",
    "\n",
    "For example, a hypersphere is a two dimensional manifold, and we will often use this manifold in examples. This is not a particularly precise definition, but it can be helpful starting point for building intuition. "
   ]
  },
  {
   "cell_type": "markdown",
   "id": "a5af7df5",
   "metadata": {
    "slideshow": {
     "slide_type": "slide"
    }
   },
   "source": [
    "## 1.1 Precise Mathematical Definition(s)"
   ]
  },
  {
   "cell_type": "markdown",
   "id": "2736aab6",
   "metadata": {},
   "source": [
    "$\\color{#EF5645}{\\text{Definition}}$: A (topological) manifold is a second countable Hausdorff space that is locally homeomorphic to Euclidean space.\n",
    "\n",
    "$\\color{#EF5645}{\\text{Remarks}}$: Since this definition does not tell us how to implement a manifold, we will not delve into it."
   ]
  },
  {
   "cell_type": "markdown",
   "id": "486860d6",
   "metadata": {
    "slideshow": {
     "slide_type": "slide"
    }
   },
   "source": [
    "$\\color{#EF5645}{\\text{Definitions}}$: A manifold is a set of points that satisfy a specific set of constraints.\n",
    "\n",
    "More specifically, a nonempty subset M $\\subseteq \\mathbb{R}^{N}$ is a d-dimensional manifold if and only if ANY of the following conditions hold:\n",
    "\n",
    "(1) (Local parametrization) For every $p \\in M$, there are two open subsets $ V \\subseteq \\mathbb{R}^{d}$ and $ U \\subseteq \\mathbb{R}^{N}$ with $p \\in U$ and $0 \\in V$. There is also a smooth function $f: V \\to \\mathbb{R}^{N}$ such that $f(0) = p$, where $f$ is a homeomorphism between V and $U \\cap M$, and $f$ is an immersion at 0.\n",
    "\n",
    "(2) (Local implicit function) For every $p \\in M$, there exists an open set $U \\in \\mathbb{R}^{N}$ and a smooth map $f: U \\to \\mathbb{R}^{N-d}$ that is a submersion at p, such that $U \\cap M = f^{-1}$({0}).\n",
    "\n",
    "(3) (Local Graph) For every $x \\in M$, there exists an open neighborhood $U \\subseteq \\mathbb{R}^{N}$ of $x$, a neighborhood $V \\subseteq \\mathbb{R}^{d}$ of 0 and a smooth map $f: V \\to \\mathbb{R}^{N-d}$ such that $U \\cap M = graph(f)^{2}$.\n",
    "\n",
    "$\\rightarrow$ Translate the above mathematical conditions/constraints into three different ways of describing manifolds."
   ]
  },
  {
   "cell_type": "markdown",
   "id": "09f06979",
   "metadata": {
    "slideshow": {
     "slide_type": "slide"
    }
   },
   "source": [
    "## 1.2 \"Layman's terms\" Definition"
   ]
  },
  {
   "cell_type": "markdown",
   "id": "aa47546e",
   "metadata": {},
   "source": [
    "(1) (Local parametrization) For every $p \\in M$, there are two open subsets $ V \\subseteq \\mathbb{R}^{d}$ and $ U \\subseteq \\mathbb{R}^{N}$ with $p \\in U$ and $0 \\in V$. There is also a smooth function $f: V \\to \\mathbb{R}^{N}$ such that $f(0) = p$, where $f$ is a homeomorphism between V and $U \\cap M$, and $f$ is an immersion at 0.\n",
    "\n",
    "$\\rightarrow$ (Local Parametrization) a manifold is a topological space that locally resembles Euclidean space near each point. For example, consider a two dimensional grid. We would not be able to deform this grid to have the shape of a sphere under any circumstance, but at each $\\textbf{local}$ point on the manifold, we can approximate the space around the point with a Euclidean grid.\n",
    "\n",
    "<center><img src=\"figs/01_manifold_definitions1.png\" width=800px alt=\"default\"/></center>"
   ]
  },
  {
   "cell_type": "markdown",
   "id": "ed1fa9f0",
   "metadata": {
    "slideshow": {
     "slide_type": "slide"
    }
   },
   "source": [
    "(2) (Local implicit function) For every $p \\in M$, there exists an open set $U \\in \\mathbb{R}^{N}$ and a smooth map $f: U \\to \\mathbb{R}^{N-d}$ that is a submersion at p, such that $U \\cap M = f^{-1}$({0}).\n",
    "\n",
    "\n",
    "$\\rightarrow$ (Local Implicit Function) a manifold can be understood as the set of points that verify a constraint defined by an implicit equation, given by the function $f$. (see hypersphere example).\n",
    "\n",
    "<center><img src=\"figs/01_manifold_definitions1.png\" width=1000px alt=\"default\"/></center>\n"
   ]
  },
  {
   "cell_type": "markdown",
   "id": "6a0d787d",
   "metadata": {
    "slideshow": {
     "slide_type": "slide"
    }
   },
   "source": [
    "\n",
    "3) (Local Graph) a manifold can be understood as a d-dimensional surface described by d variables, i.e. by the \"graph\" of a smooth function $f: (x_1,...,x_d) \\to f(x,y)$. This local graph cannot be applied globally (to the whole manifold) becauuse a function $f$ must have only one output per set of inputs, and if we were to try to describe the whole manifold with such a graph, then many manifolds would have more than one output for one set of inputs.\n",
    "\n",
    "$\\rightarrow$  (Local Graph) For every $x \\in M$, there exists an open neighborhood $U \\subseteq \\mathbb{R}^{N}$ of $x$, a neighborhood $V \\subseteq \\mathbb{R}^{d}$ of 0 and a smooth map $f: V \\to \\mathbb{R}^{N-d}$ such that $U \\cap M = graph(f)^{2}$"
   ]
  },
  {
   "cell_type": "markdown",
   "id": "bf243b6d",
   "metadata": {},
   "source": [
    "\n",
    "<center><img src=\"figs/01_manifold_definitions2.png\" width=900px alt=\"default\"/></center>"
   ]
  },
  {
   "cell_type": "markdown",
   "id": "73978259",
   "metadata": {
    "slideshow": {
     "slide_type": "slide"
    }
   },
   "source": [
    "# Why 3 definitions?\n",
    "\n",
    "If each of the definitions $\\textit{alone}$ can define a manifold, you may ask why we need all three. The answer is that it is $\\textit{useful}$ to have three different definitions of a manifold because some manifolds are better described and implemented with definition (1), some with (2), and some with (3). \n",
    "\n",
    "For example, any three of these definitions can be used to describe a hypersphere, but a hypersphere is most easily implemented using definition (2)."
   ]
  },
  {
   "cell_type": "markdown",
   "id": "d1a6966f",
   "metadata": {
    "slideshow": {
     "slide_type": "slide"
    }
   },
   "source": [
    "## 1.3 Hypersphere example:"
   ]
  },
  {
   "cell_type": "markdown",
   "id": "e3a40d00",
   "metadata": {},
   "source": [
    "Here, we will consider how to prove that a hypersphere is a manifold using the second condition in the definition of a manifold above (2)."
   ]
  },
  {
   "cell_type": "markdown",
   "id": "c61b4485",
   "metadata": {
    "slideshow": {
     "slide_type": "-"
    }
   },
   "source": [
    "A $\\textbf{hypersphere}$ is any of a set of objects resulting from the generalization of a one-dimensional circle and a two-dimensional sphere to n dimensions. In n-dimensional space, a hypersphere is the set of all points that are a given distance, called the radius, from a given point, called the center. \n",
    "\n",
    "$\\color{#047C91}{\\text{Example}}$: A hypersphere in 3-dimensions describes all the points that lie on the surface of a sphere.\n",
    "\n",
    "<center><img src=\"figs/00_intro_sphere_manifold.png\" width=400px alt=\"default\"/></center>"
   ]
  },
  {
   "cell_type": "markdown",
   "id": "ab26c3ae",
   "metadata": {
    "slideshow": {
     "slide_type": "slide"
    }
   },
   "source": [
    "$\\textbf{How do we know that a hypersphere is a manifold?}$ Well, we know from the definition of a hypersphere that a hypersphere is the set of all points that are a given distance from the center of your coordinate system. For example in 3-dimensions, the surface $S$ of a sphere with radius 1 can be described by: \n",
    "\n",
    "$|x|^{2} = 1$\n",
    "\n",
    "This simply says that all the points must be a distance of 1 away from the center. We can now define a function \n",
    "\n",
    "$f(x) = |x|^{2} - 1$\n",
    "\n",
    "We know that this function $f$ will always equal zero for all points that lie on the surface $S$ because in order for a point to fall on the surface $S$ the condition $|x|^{2} = 1$ must be true. In other words,\n",
    "\n",
    "$x \\in S \\iff f(x) = 0$\n",
    "\n",
    "which tells us that \n",
    "\n",
    "$x \\in S \\iff x \\in f^{-1}$({0})\n",
    "\n",
    "This last line matches the definition of a manifold: $M = f^{-1}$({0}) where $M$ is the set of points $x$ that satisfy the condition $|x|^{2} = 1$. Therefore, the set of points that satisfy the condition $|x|^{2} = 1$ form a manifold."
   ]
  },
  {
   "cell_type": "markdown",
   "id": "6427ab8a",
   "metadata": {
    "slideshow": {
     "slide_type": "slide"
    }
   },
   "source": [
    "## 1.4 Hypersphere as a Shape Space:"
   ]
  },
  {
   "cell_type": "markdown",
   "id": "deb3926b",
   "metadata": {},
   "source": [
    "The hypersphere is particularly interesting because it represents the shape space of triangles.\n",
    "\n",
    "<center><img src=\"figs/01_intro_sphere_triangles.png\" width=400px alt=\"default\"/></center>\n",
    "\n",
    "$\\color{#047C91}{\\text{Example}}$: Does the shapes of optical nerve heads differ under glaucoma?\n",
    "\n",
    "- [Glaucoma dataset](https://github.com/geomstats/geomstats/blob/master/notebooks/01_data_on_manifolds.ipynb)\n",
    "- [Visualization of glaucoma dataset](https://github.com/geomstats/geomstats/blob/master/notebooks/usecase_visualizations_in_kendall_shape_spaces.ipynb)"
   ]
  },
  {
   "cell_type": "markdown",
   "id": "9c983b5f",
   "metadata": {
    "slideshow": {
     "slide_type": "slide"
    }
   },
   "source": [
    "# What are Tangent Spaces?\n",
    "\n",
    "The tangent space at a certain point on a manifold is comprised of all of the possible tangent vectors that exist at that point. \n",
    "\n",
    "$\\color{#047C91}{\\text{Example}}$: if you are considering the tangent space on a curve, then the only possible tangent vectors are tangent vectors that point forward and backward along the line (a). However, if you are considering the tangent space at a point on a surface, then the tangent vectors can point forward, backward, left, right, and everywhere in between, and the set of all tangent vectors forms a plane (b).\n",
    "\n",
    "\n",
    "(show two images. first image is of the line (curve with two tangent vectors). second image is tangent plane on a surface. show tangent vectors on that plane.)"
   ]
  },
  {
   "cell_type": "markdown",
   "id": "a7e76325",
   "metadata": {
    "slideshow": {
     "slide_type": "slide"
    }
   },
   "source": [
    "Thus, the tangent space of a 1-dimensional manifold (curve) is also one dimensional, and the tangent space of a 2-dimensional manifold (a 2-dimensional surface) is also 2-dimensional.\n",
    "\n",
    "\n",
    "Similarly, for every n-dimensional manifold, there exists an n-dimensional tangent space at each point on the manifold, and the tangent space is comprised of all possible tangent vectors on that manifold."
   ]
  },
  {
   "cell_type": "markdown",
   "id": "95fe974f",
   "metadata": {
    "slideshow": {
     "slide_type": "slide"
    }
   },
   "source": [
    "## Tangent Space to the Hypersphere\n",
    "\n",
    "Recall that the hypersphere is the embedded manifold defined by $S^{d}=f^{-1}(0)$ where $f: x \\mapsto\\|x\\|^{2}-1$. \n",
    "\n",
    "For any $x \\in S^{d}$:\n",
    "$$\n",
    "T_{x} S^{d}=\\left\\{v \\in \\mathbb{R}^{d+1} \\mid\\langle x, v\\rangle=0\\right\\} .\n",
    "$$\n"
   ]
  },
  {
   "cell_type": "markdown",
   "id": "1252dfcb",
   "metadata": {
    "slideshow": {
     "slide_type": "slide"
    }
   },
   "source": [
    "# 2. Why do we care about manifolds?"
   ]
  },
  {
   "cell_type": "markdown",
   "id": "b70fa3dc",
   "metadata": {},
   "source": [
    "$\\textbf{Manifolds are important because data in nature \"naturally falls on manifolds\"}$: data are often subject to constraints, and these constraints force the data to lie on manifolds. \n",
    "\n",
    "<center><img src=\"figs/01_manifold_cities_on_earth.png\" width=200px alt=\"default\"/></center>\n",
    "\n",
    "$\\color{#047C91}{\\text{Example}}$: Consider the position of cities on the earth. The cities are subject to the following constraints:\n",
    "-  1) they cannot fly above the surface of the earth because gravity holds them down\n",
    "- 2) they cannot sink down into the earth because the surface of the earth holds them up. \n",
    "\n",
    "Therefore, they are constrained to move (or not move) on the surface of a 2-dimensional sphere, i.e. a 2-dimensional hypersphere!"
   ]
  },
  {
   "cell_type": "markdown",
   "id": "5ec06e21",
   "metadata": {
    "slideshow": {
     "slide_type": "slide"
    }
   },
   "source": [
    "$\\textbf{Manifolds are important because shapes \"naturally falls on manifolds\"}$: shapes are subject to constraints, and these constraints force them to lie on manifolds. \n",
    "\n",
    "$\\color{#047C91}{\\text{Example}}$: Consider the shape of a triangle:\n",
    "- 1) the shape of a triangle does not change if we translate or rotate the triangle,\n",
    "- 2) the shape of a triangle does not change if we rescale it.\n",
    "\n",
    "<center><img src=\"figs/01_intro_sphere_triangles.png\" width=300px alt=\"default\"/></center>\n",
    "\n",
    "\n",
    "We will see that these constraints force triangles to belong to a sphere."
   ]
  },
  {
   "cell_type": "markdown",
   "id": "f24a46e2",
   "metadata": {
    "slideshow": {
     "slide_type": "slide"
    }
   },
   "source": [
    "# What is the motivation for analyzing data on manifolds?\n",
    "\n",
    "See: [Adele Myer's tutorial on manifold data analysis](https://github.com/geomstats/geomstats/pull/1304)."
   ]
  },
  {
   "cell_type": "markdown",
   "id": "13e555d6",
   "metadata": {
    "slideshow": {
     "slide_type": "slide"
    }
   },
   "source": [
    "# 3. How can we implement manifolds?\n",
    "\n",
    "In Geomstats, the `Manifold` class describes different types of manifolds. The `Manifold` class and its subclasses implement methods that:\n",
    "- establish the properties of different types of manifolds, \n",
    "- and the manifolds that exist under these subclasses inherit the properties implemented in their respective sublclasses."
   ]
  },
  {
   "cell_type": "markdown",
   "id": "0981e6e3",
   "metadata": {
    "slideshow": {
     "slide_type": "slide"
    }
   },
   "source": [
    "The hierarchical structure of the classes inheriting from the `Manifold` parent class is as follows (this Figure is a courtesy of Nicolas Guigui):"
   ]
  },
  {
   "cell_type": "markdown",
   "id": "348717a4",
   "metadata": {},
   "source": [
    "<center><img src=\"figs/01_manifold_hierarchy.jpeg\" width=400px alt=\"default\"/></center>\n"
   ]
  },
  {
   "cell_type": "markdown",
   "id": "815af4cb",
   "metadata": {
    "slideshow": {
     "slide_type": "slide"
    }
   },
   "source": [
    "The primary purpose of the `Manifold` class is to hold information about various types of manifolds. Rules that are universally true for all manifolds are implemented in methods in the parent class `Manifold`. \n",
    "- Rules that are true for some types of manifolds are implemented in the subclasses of `Manifold`: \n",
    "  - `LevelSet`, `OpenSet`, `FiberBundle`, `ProductManifold`, `VectorSpace`, `MatrixLieAlgebra`, and `MatrixLieGroup`. \n",
    "- Specific types of manifolds are described in methods within these subclasses.\n",
    "\n",
    "Now, we will focus on describing the subclasses pertenant to the geometry module of geomstats: `LevelSet`, `OpenSet`, `ProductManifold` and `VectorSpace`."
   ]
  },
  {
   "cell_type": "markdown",
   "id": "36dc5f07",
   "metadata": {
    "slideshow": {
     "slide_type": "slide"
    }
   },
   "source": [
    "## 3.1 The Parent Class: `Manifold`"
   ]
  },
  {
   "cell_type": "markdown",
   "id": "578faea8",
   "metadata": {},
   "source": [
    "The Manifold parent class is an abstract base class which provides the minimal skeleton of attributes and methods expected in its subclasses. Note that the methods of the abstract parent class are declared, but they contain no implementation, and they are overridden by the subclasses. The properties that are declared in the `Manifold` class are properties that all types of manifold must posess. For example, the following methods are implemented in `Manifold`:\n",
    "\n",
    "1. (dim): Stands for dimension. How many coordinates are necessary to fully describe the manifold?\n",
    "2. (belongs): a method that evaluates whether a given element belongs to that manifold\n",
    "3. (random_point): generates a random point that lies on the manifold"
   ]
  },
  {
   "cell_type": "markdown",
   "id": "2fde983a",
   "metadata": {
    "slideshow": {
     "slide_type": "slide"
    }
   },
   "source": [
    "You can see all of the methods in the `Manifold` parent class by running the following code:"
   ]
  },
  {
   "cell_type": "code",
   "execution_count": 27,
   "id": "5a27e4f9",
   "metadata": {},
   "outputs": [
    {
     "name": "stdout",
     "output_type": "stream",
     "text": [
      "class Manifold(abc.ABC):\n",
      "    r\"\"\"Class for manifolds.\n",
      "\n",
      "    Parameters\n",
      "    ----------\n",
      "    dim : int\n",
      "        Dimension of the manifold.\n",
      "    shape : tuple of int\n",
      "        Shape of one element of the manifold.\n",
      "        Optional, default : None.\n",
      "    metric : RiemannianMetric\n",
      "        Metric object to use on the manifold.\n",
      "    default_point_type : str, {\\'vector\\', \\'matrix\\'}\n",
      "        Point type.\n",
      "        Optional, default: 'vector'.\n",
      "    default_coords_type : str, {\\'intrinsic\\', \\'extrinsic\\', etc}\n",
      "        Coordinate type.\n",
      "        Optional, default: 'intrinsic'.\n",
      "    \"\"\"\n",
      "\n",
      "    def __init__(\n",
      "        self,\n",
      "        dim,\n",
      "        shape,\n",
      "        metric=None,\n",
      "        default_point_type=None,\n",
      "        default_coords_type=\"intrinsic\",\n",
      "        **kwargs\n",
      "    ):\n",
      "        super(Manifold, self).__init__(**kwargs)\n",
      "        geomstats.errors.check_integer(dim, \"dim\")\n",
      "\n",
      "        if not isinstance(shape, tuple):\n",
      "            raise ValueError(\"Expected a tuple for the shape argument.\")\n",
      "        if default_point_type is None:\n",
      "            default_point_type = POINT_TYPES[len(shape)]\n",
      "\n",
      "        geomstats.errors.check_parameter_accepted_values(\n",
      "            default_point_type, \"default_point_type\", [\"vector\", \"matrix\"]\n",
      "        )\n",
      "\n",
      "        self.dim = dim\n",
      "        self.shape = shape\n",
      "        self.default_point_type = default_point_type\n",
      "        self.default_coords_type = default_coords_type\n",
      "        self.metric = metric\n",
      "\n",
      "    @abc.abstractmethod\n",
      "    def belongs(self, point, atol=gs.atol):\n",
      "        \"\"\"Evaluate if a point belongs to the manifold.\n",
      "\n",
      "        Parameters\n",
      "        ----------\n",
      "        point : array-like, shape=[..., dim]\n",
      "            Point to evaluate.\n",
      "        atol : float\n",
      "            Absolute tolerance.\n",
      "            Optional, default: backend atol.\n",
      "\n",
      "        Returns\n",
      "        -------\n",
      "        belongs : array-like, shape=[...,]\n",
      "            Boolean evaluating if point belongs to the manifold.\n",
      "        \"\"\"\n",
      "\n",
      "    @abc.abstractmethod\n",
      "    def is_tangent(self, vector, base_point, atol=gs.atol):\n",
      "        \"\"\"Check whether the vector is tangent at base_point.\n",
      "\n",
      "        Parameters\n",
      "        ----------\n",
      "        vector : array-like, shape=[..., dim]\n",
      "            Vector.\n",
      "        base_point : array-like, shape=[..., dim]\n",
      "            Point on the manifold.\n",
      "        atol : float\n",
      "            Absolute tolerance.\n",
      "            Optional, default: backend atol.\n",
      "\n",
      "        Returns\n",
      "        -------\n",
      "        is_tangent : bool\n",
      "            Boolean denoting if vector is a tangent vector at the base point.\n",
      "        \"\"\"\n",
      "\n",
      "    @abc.abstractmethod\n",
      "    def to_tangent(self, vector, base_point):\n",
      "        \"\"\"Project a vector to a tangent space of the manifold.\n",
      "\n",
      "        Parameters\n",
      "        ----------\n",
      "        vector : array-like, shape=[..., dim]\n",
      "            Vector.\n",
      "        base_point : array-like, shape=[..., dim]\n",
      "            Point on the manifold.\n",
      "\n",
      "        Returns\n",
      "        -------\n",
      "        tangent_vec : array-like, shape=[..., dim]\n",
      "            Tangent vector at base point.\n",
      "        \"\"\"\n",
      "\n",
      "    @abc.abstractmethod\n",
      "    def random_point(self, n_samples=1, bound=1.0):\n",
      "        \"\"\"Sample random points on the manifold.\n",
      "\n",
      "        If the manifold is compact, a uniform distribution is used.\n",
      "\n",
      "        Parameters\n",
      "        ----------\n",
      "        n_samples : int\n",
      "            Number of samples.\n",
      "            Optional, default: 1.\n",
      "        bound : float\n",
      "            Bound of the interval in which to sample for non compact manifolds.\n",
      "            Optional, default: 1.\n",
      "\n",
      "        Returns\n",
      "        -------\n",
      "        samples : array-like, shape=[..., {dim, [n, n]}]\n",
      "            Points sampled on the hypersphere.\n",
      "        \"\"\"\n",
      "\n",
      "    def regularize(self, point):\n",
      "        \"\"\"Regularize a point to the canonical representation for the manifold.\n",
      "\n",
      "        Parameters\n",
      "        ----------\n",
      "        point : array-like, shape=[..., dim]\n",
      "            Point.\n",
      "\n",
      "        Returns\n",
      "        -------\n",
      "        regularized_point : array-like, shape=[..., dim]\n",
      "            Regularized point.\n",
      "        \"\"\"\n",
      "        regularized_point = point\n",
      "        return regularized_point\n",
      "\n",
      "    @property\n",
      "    def metric(self):\n",
      "        \"\"\"Riemannian Metric associated to the Manifold.\"\"\"\n",
      "        return self._metric\n",
      "\n",
      "    @metric.setter\n",
      "    def metric(self, metric):\n",
      "        if metric is not None:\n",
      "            if not isinstance(metric, RiemannianMetric):\n",
      "                raise ValueError(\"The argument must be a RiemannianMetric object\")\n",
      "            if metric.dim != self.dim:\n",
      "                metric.dim = self.dim\n",
      "        self._metric = metric\n"
     ]
    }
   ],
   "source": [
    "import inspect\n",
    "\n",
    "from geomstats.geometry.manifold import Manifold\n",
    "\n",
    "for line in inspect.getsourcelines(Manifold)[0]:\n",
    "    line = line.replace('\\n','')\n",
    "    print(line)"
   ]
  },
  {
   "cell_type": "markdown",
   "id": "7ce847b2",
   "metadata": {
    "slideshow": {
     "slide_type": "slide"
    }
   },
   "source": [
    "## 3.2 `OpenSet`"
   ]
  },
  {
   "cell_type": "markdown",
   "id": "3bb824a3",
   "metadata": {},
   "source": [
    "Earlier in the notebook, we were able to say that a set of points is a manifold if it satisfied one of three constraints, which shows that manifolds can be defined in many different ways. Similarly, geomstats has several subclasses that define several elementary classes of manifolds. Each one of these classes just represents another way to describe a manifold. \n",
    "\n",
    "One such way to describe a manifold is with the concept of an $\\textbf{Open Set}$: a $d$-dimensional manifold can be defined as the open sets of a d-dimensional vector space, called $\\textbf{ambient space}$.\n",
    "\n",
    "$\\color{#EF5645}{\\text{Remark}}$: an open set naturally verifies the definition (1) Local parameterization of a manifold. Thus, an open set is an implementation of a manifold. However, there are manifolds verifying (1) that are not open sets."
   ]
  },
  {
   "cell_type": "markdown",
   "id": "eefc6a1d",
   "metadata": {
    "slideshow": {
     "slide_type": "slide"
    }
   },
   "source": [
    "In mathematics, an open set is a group of numbers that does not include points on the boundary of whatever they are describing. \n",
    "\n",
    "$\\color{#047C91}{\\text{Example}}$: \n",
    "- If you were to take the set of all points between a and b but $\\textbf{not}$ include the values a and b, this would be an open set (shown in figure a). \n",
    "- If you were to take the set of all points between a and b and include the values a and b, this wouuld be a closed set (shown in figure b)"
   ]
  },
  {
   "cell_type": "markdown",
   "id": "38f8dc93",
   "metadata": {},
   "source": [
    "<center><img src=\"figs/01_manifold_openSet_lines.png\" width=800px alt=\"default\"/></center>"
   ]
  },
  {
   "cell_type": "markdown",
   "id": "822181bc",
   "metadata": {
    "slideshow": {
     "slide_type": "slide"
    }
   },
   "source": [
    "Similarly, an open set 2-dimensional manifold is a manifold that is not defined at the boundary. \n",
    "\n",
    "$\\color{#047C91}{\\text{Example}}$: The image below shows the difference between a surface with a closed boundary (a) and an open boundary (b)."
   ]
  },
  {
   "cell_type": "markdown",
   "id": "2991834b",
   "metadata": {},
   "source": [
    "<img src=\"figs/01_manifold_openSurfaces.png\" />"
   ]
  },
  {
   "cell_type": "markdown",
   "id": "a478da3c",
   "metadata": {
    "slideshow": {
     "slide_type": "slide"
    }
   },
   "source": [
    "Similarly, an open set 3-dimensional manifold is a manifold that is not defined at the boundary. \n",
    "\n",
    "$\\color{#047C91}{\\text{Example}}$: The cone without boundary is an open-set manifold.\n",
    "\n",
    "<center><img src=\"figs/01_cone.png\" width=400px alt=\"default\"/></center>"
   ]
  },
  {
   "cell_type": "markdown",
   "id": "3856ff6b",
   "metadata": {
    "slideshow": {
     "slide_type": "slide"
    }
   },
   "source": [
    "## The Cone as a Shape Space\n",
    "\n",
    "The cone represents the space of graphs, which itself can represent brain connectomes.\n",
    "\n",
    "<center><img src=\"figs/01_dti.jpeg\" width=400px alt=\"default\"/></center>"
   ]
  },
  {
   "cell_type": "markdown",
   "id": "0d1ab534",
   "metadata": {
    "cell_style": "split",
    "slideshow": {
     "slide_type": "slide"
    }
   },
   "source": [
    "<center><img src=\"figs/01_cone.png\" width=400px alt=\"default\"/></center>"
   ]
  },
  {
   "cell_type": "markdown",
   "id": "7b1e4836",
   "metadata": {
    "cell_style": "split"
   },
   "source": [
    "<center><img src=\"figs/01_connectome.png\" width=400px alt=\"default\"/></center>"
   ]
  },
  {
   "cell_type": "markdown",
   "id": "151d22b8",
   "metadata": {
    "slideshow": {
     "slide_type": "slide"
    }
   },
   "source": [
    "## Implementation of the OpenSet class\n",
    "\n",
    "Example of some of the methods that the `OpenSet` class implements are:\n",
    "\n",
    "1) projection: a method to project any d-dimensional vector to the manifold."
   ]
  },
  {
   "cell_type": "markdown",
   "id": "40c86d59",
   "metadata": {},
   "source": [
    "Run the code below to see the contents of the `OpenSet` class."
   ]
  },
  {
   "cell_type": "code",
   "execution_count": 26,
   "id": "cd5f0071",
   "metadata": {
    "scrolled": true
   },
   "outputs": [
    {
     "name": "stdout",
     "output_type": "stream",
     "text": [
      "class OpenSet(Manifold, abc.ABC):\n",
      "    \"\"\"Class for manifolds that are open sets of a vector space.\n",
      "\n",
      "    In this case, tangent vectors are identified with vectors of the ambient\n",
      "    space.\n",
      "\n",
      "    Parameters\n",
      "    ----------\n",
      "    dim: int\n",
      "        Dimension of the manifold. It is often the same as the ambient space\n",
      "        dimension but may differ in some cases.\n",
      "    ambient_space: VectorSpace\n",
      "        Ambient space that contains the manifold.\n",
      "    \"\"\"\n",
      "\n",
      "    def __init__(self, dim, ambient_space, **kwargs):\n",
      "        if \"default_point_type\" not in kwargs:\n",
      "            kwargs[\"default_point_type\"] = ambient_space.default_point_type\n",
      "        if \"shape\" not in kwargs:\n",
      "            kwargs[\"shape\"] = ambient_space.shape\n",
      "        super().__init__(dim=dim, **kwargs)\n",
      "        self.ambient_space = ambient_space\n",
      "\n",
      "    def is_tangent(self, vector, base_point=None, atol=gs.atol):\n",
      "        \"\"\"Check whether the vector is tangent at base_point.\n",
      "\n",
      "        Parameters\n",
      "        ----------\n",
      "        vector : array-like, shape=[..., dim]\n",
      "            Vector.\n",
      "        base_point : array-like, shape=[..., dim]\n",
      "            Point on the manifold.\n",
      "        atol : float\n",
      "            Absolute tolerance.\n",
      "            Optional, default: backend atol.\n",
      "\n",
      "        Returns\n",
      "        -------\n",
      "        is_tangent : bool\n",
      "            Boolean denoting if vector is a tangent vector at the base point.\n",
      "        \"\"\"\n",
      "        return self.ambient_space.belongs(vector, atol)\n",
      "\n",
      "    def to_tangent(self, vector, base_point=None):\n",
      "        \"\"\"Project a vector to a tangent space of the manifold.\n",
      "\n",
      "        Parameters\n",
      "        ----------\n",
      "        vector : array-like, shape=[..., dim]\n",
      "            Vector.\n",
      "        base_point : array-like, shape=[..., dim]\n",
      "            Point on the manifold.\n",
      "\n",
      "        Returns\n",
      "        -------\n",
      "        tangent_vec : array-like, shape=[..., dim]\n",
      "            Tangent vector at base point.\n",
      "        \"\"\"\n",
      "        return self.ambient_space.projection(vector)\n",
      "\n",
      "    def random_point(self, n_samples=1, bound=1.0):\n",
      "        \"\"\"Sample random points on the manifold.\n",
      "\n",
      "        If the manifold is compact, a uniform distribution is used.\n",
      "\n",
      "        Parameters\n",
      "        ----------\n",
      "        n_samples : int\n",
      "            Number of samples.\n",
      "            Optional, default: 1.\n",
      "        bound : float\n",
      "            Bound of the interval in which to sample for non compact manifolds.\n",
      "            Optional, default: 1.\n",
      "\n",
      "        Returns\n",
      "        -------\n",
      "        samples : array-like, shape=[..., {dim, [n, n]}]\n",
      "            Points sampled on the hypersphere.\n",
      "        \"\"\"\n",
      "        sample = self.ambient_space.random_point(n_samples, bound)\n",
      "        return self.projection(sample)\n",
      "\n",
      "    @abc.abstractmethod\n",
      "    def projection(self, point):\n",
      "        \"\"\"Project a point in ambient manifold on manifold.\n",
      "\n",
      "        Parameters\n",
      "        ----------\n",
      "        point : array-like, shape=[..., dim]\n",
      "            Point in ambient manifold.\n",
      "\n",
      "        Returns\n",
      "        -------\n",
      "        projected : array-like, shape=[..., dim]\n",
      "            Projected point.\n",
      "        \"\"\"\n"
     ]
    }
   ],
   "source": [
    "import inspect\n",
    "\n",
    "from geomstats.geometry.base import OpenSet\n",
    "\n",
    "for line in inspect.getsourcelines(OpenSet)[0]:\n",
    "    line = line.replace('\\n','')\n",
    "    print(line)"
   ]
  },
  {
   "cell_type": "markdown",
   "id": "8b35c4d4",
   "metadata": {
    "slideshow": {
     "slide_type": "slide"
    }
   },
   "source": [
    "## 3.3 `LevelSet`"
   ]
  },
  {
   "cell_type": "markdown",
   "id": "f2b6b387",
   "metadata": {},
   "source": [
    "Another elementary class of manifolds are $\\textbf{Level Sets}$. \n",
    "\n",
    "A level set is the set of values $x$ for which a real-valued function f(x) is equal to a given constant. In other words, a level set is a set of curves for which the fucntion describing a manifold is constant along that curve. A manifold can be defined as the pre-image of the submersion $f: \\mathbb{R}^{N} \\to \\mathbb{R}^{N-d}$.\n",
    "\n",
    "\n",
    "$\\color{#EF5645}{\\text{Remark}}$: an level set implementation is equivalent to the definition (2) Local implicit function of a manifold. Thus, an open set is an implementation of a manifold."
   ]
  },
  {
   "cell_type": "markdown",
   "id": "16bd9d4d",
   "metadata": {
    "slideshow": {
     "slide_type": "slide"
    }
   },
   "source": [
    "<center><img src=\"figs/01_manifold_levelset.png\" width=400px alt=\"default\"/></center>"
   ]
  },
  {
   "cell_type": "markdown",
   "id": "b4c2afa0",
   "metadata": {
    "slideshow": {
     "slide_type": "slide"
    }
   },
   "source": [
    "## Implementation of the LevelSet class\n",
    "\n",
    "The methods of `LevelSet` are similar to the methods of `OpenSet`. You can run the code below to see the contents of the `LevelSet` class."
   ]
  },
  {
   "cell_type": "code",
   "execution_count": 25,
   "id": "48c28386",
   "metadata": {},
   "outputs": [
    {
     "name": "stdout",
     "output_type": "stream",
     "text": [
      "class LevelSet(Manifold, abc.ABC):\n",
      "    \"\"\"Class for manifolds embedded in a vector space by a submersion.\n",
      "\n",
      "    Parameters\n",
      "    ----------\n",
      "    dim : int\n",
      "        Dimension of the embedded manifold.\n",
      "    embedding_space : VectorSpace\n",
      "        Embedding space.\n",
      "    default_coords_type : str, {'intrinsic', 'extrinsic', etc}\n",
      "        Coordinate type.\n",
      "        Optional, default: 'intrinsic'.\n",
      "    \"\"\"\n",
      "\n",
      "    def __init__(\n",
      "        self,\n",
      "        dim,\n",
      "        embedding_space,\n",
      "        submersion,\n",
      "        value,\n",
      "        tangent_submersion,\n",
      "        default_coords_type=\"intrinsic\",\n",
      "        **kwargs\n",
      "    ):\n",
      "        if \"shape\" not in kwargs:\n",
      "            kwargs[\"shape\"] = embedding_space.shape\n",
      "        super(LevelSet, self).__init__(\n",
      "            dim=dim,\n",
      "            default_point_type=embedding_space.default_point_type,\n",
      "            default_coords_type=default_coords_type,\n",
      "            **kwargs\n",
      "        )\n",
      "        self.embedding_space = embedding_space\n",
      "        self.embedding_metric = embedding_space.metric\n",
      "        self.submersion = submersion\n",
      "        if isinstance(value, float):\n",
      "            value = gs.array(value)\n",
      "        self.value = value\n",
      "        self.tangent_submersion = tangent_submersion\n",
      "\n",
      "    def belongs(self, point, atol=gs.atol):\n",
      "        \"\"\"Evaluate if a point belongs to the manifold.\n",
      "\n",
      "        Parameters\n",
      "        ----------\n",
      "        point : array-like, shape=[..., dim]\n",
      "            Point to evaluate.\n",
      "        atol : float\n",
      "            Absolute tolerance.\n",
      "            Optional, default: backend atol.\n",
      "\n",
      "        Returns\n",
      "        -------\n",
      "        belongs : array-like, shape=[...,]\n",
      "            Boolean evaluating if point belongs to the manifold.\n",
      "        \"\"\"\n",
      "        belongs = self.embedding_space.belongs(point, atol)\n",
      "        if not gs.any(belongs):\n",
      "            return belongs\n",
      "        value = self.value\n",
      "        constraint = gs.isclose(self.submersion(point), value, atol=atol)\n",
      "        if value.ndim == 2:\n",
      "            constraint = gs.all(constraint, axis=(-2, -1))\n",
      "        elif value.ndim == 1:\n",
      "            constraint = gs.all(constraint, axis=-1)\n",
      "        return gs.logical_and(belongs, constraint)\n",
      "\n",
      "    def is_tangent(self, vector, base_point, atol=gs.atol):\n",
      "        \"\"\"Check whether the vector is tangent at base_point.\n",
      "\n",
      "        Parameters\n",
      "        ----------\n",
      "        vector : array-like, shape=[..., dim]\n",
      "            Vector.\n",
      "        base_point : array-like, shape=[..., dim]\n",
      "            Point on the manifold.\n",
      "        atol : float\n",
      "            Absolute tolerance.\n",
      "            Optional, default: backend atol.\n",
      "\n",
      "        Returns\n",
      "        -------\n",
      "        is_tangent : bool\n",
      "            Boolean denoting if vector is a tangent vector at the base point.\n",
      "        \"\"\"\n",
      "        belongs = self.embedding_space.is_tangent(vector, base_point, atol)\n",
      "        tangent_sub_applied = self.tangent_submersion(vector, base_point)\n",
      "        constraint = gs.isclose(tangent_sub_applied, 0.0, atol=atol)\n",
      "        value = self.value\n",
      "        if value.ndim == 2:\n",
      "            constraint = gs.all(constraint, axis=(-2, -1))\n",
      "        elif value.ndim == 1:\n",
      "            constraint = gs.all(constraint, axis=-1)\n",
      "        return gs.logical_and(belongs, constraint)\n",
      "\n",
      "    def intrinsic_to_extrinsic_coords(self, point_intrinsic):\n",
      "        \"\"\"Convert from intrinsic to extrinsic coordinates.\n",
      "\n",
      "        Parameters\n",
      "        ----------\n",
      "        point_intrinsic : array-like, shape=[..., dim]\n",
      "            Point in the embedded manifold in intrinsic coordinates.\n",
      "\n",
      "        Returns\n",
      "        -------\n",
      "        point_extrinsic : array-like, shape=[..., dim_embedding]\n",
      "            Point in the embedded manifold in extrinsic coordinates.\n",
      "        \"\"\"\n",
      "        raise NotImplementedError(\"intrinsic_to_extrinsic_coords is not implemented.\")\n",
      "\n",
      "    def extrinsic_to_intrinsic_coords(self, point_extrinsic):\n",
      "        \"\"\"Convert from extrinsic to intrinsic coordinates.\n",
      "\n",
      "        Parameters\n",
      "        ----------\n",
      "        point_extrinsic : array-like, shape=[..., dim_embedding]\n",
      "            Point in the embedded manifold in extrinsic coordinates,\n",
      "            i. e. in the coordinates of the embedding manifold.\n",
      "\n",
      "        Returns\n",
      "        -------\n",
      "        point_intrinsic : array-lie, shape=[..., dim]\n",
      "            Point in the embedded manifold in intrinsic coordinates.\n",
      "        \"\"\"\n",
      "        raise NotImplementedError(\"extrinsic_to_intrinsic_coords is not implemented.\")\n",
      "\n",
      "    @abc.abstractmethod\n",
      "    def projection(self, point):\n",
      "        \"\"\"Project a point in embedding manifold on embedded manifold.\n",
      "\n",
      "        Parameters\n",
      "        ----------\n",
      "        point : array-like, shape=[..., dim_embedding]\n",
      "            Point in embedding manifold.\n",
      "\n",
      "        Returns\n",
      "        -------\n",
      "        projected : array-like, shape=[..., dim_embedding]\n",
      "            Projected point.\n",
      "        \"\"\"\n",
      "\n",
      "    @abc.abstractmethod\n",
      "    def to_tangent(self, vector, base_point):\n",
      "        \"\"\"Project a vector to a tangent space of the manifold.\n",
      "\n",
      "        Parameters\n",
      "        ----------\n",
      "        vector : array-like, shape=[..., dim]\n",
      "            Vector.\n",
      "        base_point : array-like, shape=[..., dim]\n",
      "            Point on the manifold.\n",
      "\n",
      "        Returns\n",
      "        -------\n",
      "        tangent_vec : array-like, shape=[..., dim]\n",
      "            Tangent vector at base point.\n",
      "        \"\"\"\n"
     ]
    }
   ],
   "source": [
    "import inspect\n",
    "\n",
    "from geomstats.geometry.base import LevelSet\n",
    "\n",
    "for line in inspect.getsourcelines(LevelSet)[0]:\n",
    "    line = line.replace('\\n','')\n",
    "    print(line)"
   ]
  },
  {
   "cell_type": "markdown",
   "id": "14edde0c",
   "metadata": {
    "slideshow": {
     "slide_type": "slide"
    }
   },
   "source": [
    "## 3.4 `VectorSpace`"
   ]
  },
  {
   "cell_type": "markdown",
   "id": "962d4ac2",
   "metadata": {},
   "source": [
    "This class does not provide another way of describing a manifold. This class is an abstract class that makes sure that the the ambient/embedding vector space is compatible with the methods that are called in `OpenSet` and `LevelSet`.\n",
    "\n",
    "Actual manifolds are implemented as subclasses of this abstract method and must implement all the abstract methods defined in this class."
   ]
  },
  {
   "cell_type": "markdown",
   "id": "963954ba",
   "metadata": {
    "slideshow": {
     "slide_type": "slide"
    }
   },
   "source": [
    "You can run the code below to see the contents of the `VectorSpace` class."
   ]
  },
  {
   "cell_type": "code",
   "execution_count": 24,
   "id": "237b9252",
   "metadata": {},
   "outputs": [
    {
     "name": "stdout",
     "output_type": "stream",
     "text": [
      "class VectorSpace(Manifold, abc.ABC):\n",
      "    \"\"\"Abstract class for vector spaces.\n",
      "\n",
      "    Parameters\n",
      "    ----------\n",
      "    shape : tuple\n",
      "        Shape of the elements of the vector space. The dimension is the\n",
      "        product of these values by default.\n",
      "    default_point_type : str, {'vector', 'matrix'}\n",
      "        Point type.\n",
      "        Optional, default: 'vector'.\n",
      "    \"\"\"\n",
      "\n",
      "    def __init__(self, shape, **kwargs):\n",
      "        if \"dim\" not in kwargs.keys():\n",
      "            kwargs[\"dim\"] = int(gs.prod(gs.array(shape)))\n",
      "        super(VectorSpace, self).__init__(shape=shape, **kwargs)\n",
      "        self.shape = shape\n",
      "        self._basis = None\n",
      "\n",
      "    def belongs(self, point, atol=gs.atol):\n",
      "        \"\"\"Evaluate if the point belongs to the vector space.\n",
      "\n",
      "        This method checks the shape of the input point.\n",
      "\n",
      "        Parameters\n",
      "        ----------\n",
      "        point : array-like, shape=[.., {dim, [n, n]}]\n",
      "            Point to test.\n",
      "        atol : float\n",
      "            Unused here.\n",
      "\n",
      "        Returns\n",
      "        -------\n",
      "        belongs : array-like, shape=[...,]\n",
      "            Boolean evaluating if point belongs to the space.\n",
      "        \"\"\"\n",
      "        minimal_ndim = len(self.shape)\n",
      "        belongs = point.shape[-minimal_ndim:] == self.shape\n",
      "        if point.ndim <= minimal_ndim:\n",
      "            return belongs\n",
      "        return gs.tile(gs.array([belongs]), [point.shape[0]])\n",
      "\n",
      "    @staticmethod\n",
      "    def projection(point):\n",
      "        \"\"\"Project a point to the vector space.\n",
      "\n",
      "        This method is for compatibility and returns `point`. `point` should\n",
      "        have the right shape,\n",
      "\n",
      "        Parameters\n",
      "        ----------\n",
      "        point: array-like, shape[..., {dim, [n, n]}]\n",
      "            Point.\n",
      "\n",
      "        Returns\n",
      "        -------\n",
      "        point: array-like, shape[..., {dim, [n, n]}]\n",
      "            Point.\n",
      "        \"\"\"\n",
      "        return point\n",
      "\n",
      "    def is_tangent(self, vector, base_point=None, atol=gs.atol):\n",
      "        \"\"\"Check whether the vector is tangent at base_point.\n",
      "\n",
      "        Tangent vectors are identified with points of the vector space so\n",
      "        this checks the shape of the input vector.\n",
      "\n",
      "        Parameters\n",
      "        ----------\n",
      "        vector : array-like, shape=[..., {dim, [n, n]}]\n",
      "            Vector.\n",
      "        base_point : array-like, shape=[..., {dim, [n, n]}]\n",
      "            Point in the vector space.\n",
      "        atol : float\n",
      "            Absolute tolerance.\n",
      "            Optional, default: backend atol.\n",
      "\n",
      "        Returns\n",
      "        -------\n",
      "        is_tangent : bool\n",
      "            Boolean denoting if vector is a tangent vector at the base point.\n",
      "        \"\"\"\n",
      "        return self.belongs(vector, atol)\n",
      "\n",
      "    def to_tangent(self, vector, base_point=None):\n",
      "        \"\"\"Project a vector to a tangent space of the vector space.\n",
      "\n",
      "        This method is for compatibility and returns vector.\n",
      "\n",
      "        Parameters\n",
      "        ----------\n",
      "        vector : array-like, shape=[..., {dim, [n, n]}]\n",
      "            Vector.\n",
      "        base_point : array-like, shape=[..., {dim, [n, n]}]\n",
      "            Point in the vector space\n",
      "\n",
      "        Returns\n",
      "        -------\n",
      "        tangent_vec : array-like, shape=[..., {dim, [n, n]}]\n",
      "            Tangent vector at base point.\n",
      "        \"\"\"\n",
      "        return self.projection(vector)\n",
      "\n",
      "    def random_point(self, n_samples=1, bound=1.0):\n",
      "        \"\"\"Sample in the vector space with a uniform distribution in a box.\n",
      "\n",
      "        Parameters\n",
      "        ----------\n",
      "        n_samples : int\n",
      "            Number of samples.\n",
      "            Optional, default: 1.\n",
      "        bound : float\n",
      "            Side of hypercube support of the uniform distribution.\n",
      "            Optional, default: 1.0\n",
      "\n",
      "        Returns\n",
      "        -------\n",
      "        point : array-like, shape=[..., dim]\n",
      "           Sample.\n",
      "        \"\"\"\n",
      "        size = self.shape\n",
      "        if n_samples != 1:\n",
      "            size = (n_samples,) + self.shape\n",
      "        point = bound * (gs.random.rand(*size) - 0.5) * 2\n",
      "        return point\n",
      "\n",
      "    @property\n",
      "    def basis(self):\n",
      "        \"\"\"Basis of the vector space.\"\"\"\n",
      "        if self._basis is None:\n",
      "            self._basis = self._create_basis()\n",
      "\n",
      "        return self._basis\n",
      "\n",
      "    @basis.setter\n",
      "    def basis(self, basis):\n",
      "        if len(basis) < self.dim:\n",
      "            raise ValueError(\n",
      "                \"The basis should have length equal to the \" \"dimension of the space.\"\n",
      "            )\n",
      "        self._basis = basis\n",
      "\n",
      "    @abc.abstractmethod\n",
      "    def _create_basis(self):\n",
      "        \"\"\"Create a canonical basis.\"\"\"\n"
     ]
    }
   ],
   "source": [
    "import inspect\n",
    "\n",
    "from geomstats.geometry.base import VectorSpace\n",
    "\n",
    "for line in inspect.getsourcelines(VectorSpace)[0]:\n",
    "    line = line.replace('\\n','')\n",
    "    print(line)"
   ]
  },
  {
   "cell_type": "markdown",
   "id": "79923105",
   "metadata": {
    "slideshow": {
     "slide_type": "slide"
    }
   },
   "source": [
    "## 3.5 `ProductManifold`"
   ]
  },
  {
   "cell_type": "markdown",
   "id": "addb9c36",
   "metadata": {},
   "source": [
    "A product manifold simply defines a new manifold as the product manifold of n copies of a given base (input) manifold M."
   ]
  },
  {
   "cell_type": "markdown",
   "id": "8e7557bb",
   "metadata": {
    "slideshow": {
     "slide_type": "slide"
    }
   },
   "source": [
    "### Implementation of `ProductManifold`\n",
    "\n",
    "You can run the code below to see the contents of the `ProductManifold` class."
   ]
  },
  {
   "cell_type": "code",
   "execution_count": 23,
   "id": "f5009680",
   "metadata": {},
   "outputs": [
    {
     "name": "stdout",
     "output_type": "stream",
     "text": [
      "class ProductManifold(Manifold):\n",
      "    \"\"\"Class for a product of manifolds M_1 x ... x M_n.\n",
      "\n",
      "    In contrast to the classes NFoldManifold, Landmarks, or DiscretizedCurves,\n",
      "    the manifolds M_1, ..., M_n need not be the same, nor of\n",
      "    same dimension, but the list of manifolds needs to be provided.\n",
      "\n",
      "    By default, a point is represented by an array of shape:\n",
      "    [..., dim_1 + ... + dim_n_manifolds]\n",
      "    where n_manifolds is the number of manifolds in the product.\n",
      "    This type of representation is called 'vector'.\n",
      "\n",
      "    Alternatively, a point can be represented by an array of shape:\n",
      "    [..., n_manifolds, dim] if the n_manifolds have same dimension dim.\n",
      "    This type of representation is called `matrix`.\n",
      "\n",
      "    Parameters\n",
      "    ----------\n",
      "    manifolds : list\n",
      "        List of manifolds in the product.\n",
      "    default_point_type : str, {'vector', 'matrix'}\n",
      "        Default representation of points.\n",
      "        Optional, default: 'vector'.\n",
      "    n_jobs : int\n",
      "        Number of jobs for parallel computing.\n",
      "        Optional, default: 1.\n",
      "    \"\"\"\n",
      "\n",
      "    # FIXME (nguigs): This only works for 1d points\n",
      "\n",
      "    def __init__(\n",
      "        self, manifolds, metrics=None, default_point_type=\"vector\", n_jobs=1, **kwargs\n",
      "    ):\n",
      "        geomstats.errors.check_parameter_accepted_values(\n",
      "            default_point_type, \"default_point_type\", [\"vector\", \"matrix\"]\n",
      "        )\n",
      "\n",
      "        self.dims = [manifold.dim for manifold in manifolds]\n",
      "        if metrics is None:\n",
      "            metrics = [manifold.metric for manifold in manifolds]\n",
      "        metric = ProductRiemannianMetric(\n",
      "            metrics, default_point_type=default_point_type, n_jobs=n_jobs\n",
      "        )\n",
      "        dim = sum(self.dims)\n",
      "        shape = (\n",
      "            (dim,) if default_point_type == \"vector\" else (len(manifolds), self.dims[0])\n",
      "        )\n",
      "\n",
      "        super(ProductManifold, self).__init__(\n",
      "            dim=dim,\n",
      "            shape=shape,\n",
      "            metric=metric,\n",
      "            default_point_type=default_point_type,\n",
      "            **kwargs,\n",
      "        )\n",
      "        self.manifolds = manifolds\n",
      "        self.n_jobs = n_jobs\n",
      "\n",
      "    @staticmethod\n",
      "    def _get_method(manifold, method_name, metric_args):\n",
      "        return getattr(manifold, method_name)(**metric_args)\n",
      "\n",
      "    def _iterate_over_manifolds(self, func, args, intrinsic=False):\n",
      "\n",
      "        cum_index = (\n",
      "            gs.cumsum(self.dims)[:-1]\n",
      "            if intrinsic\n",
      "            else gs.cumsum([k + 1 for k in self.dims])\n",
      "        )\n",
      "        arguments = {}\n",
      "        float_args = {}\n",
      "        for key, value in args.items():\n",
      "            if not isinstance(value, float):\n",
      "                arguments[key] = gs.split(value, cum_index, axis=-1)\n",
      "            else:\n",
      "                float_args[key] = value\n",
      "        args_list = [\n",
      "            {key: arguments[key][j] for key in arguments}\n",
      "            for j in range(len(self.manifolds))\n",
      "        ]\n",
      "        pool = joblib.Parallel(n_jobs=self.n_jobs)\n",
      "        out = pool(\n",
      "            joblib.delayed(self._get_method)(\n",
      "                self.manifolds[i], func, {**args_list[i], **float_args}\n",
      "            )\n",
      "            for i in range(len(self.manifolds))\n",
      "        )\n",
      "        return out\n",
      "\n",
      "    def belongs(self, point, atol=gs.atol):\n",
      "        \"\"\"Test if a point belongs to the manifold.\n",
      "\n",
      "        Parameters\n",
      "        ----------\n",
      "        point : array-like, shape=[..., {dim, [n_manifolds, dim_each]}]\n",
      "            Point.\n",
      "        atol : float,\n",
      "            Tolerance.\n",
      "\n",
      "        Returns\n",
      "        -------\n",
      "        belongs : array-like, shape=[...,]\n",
      "            Boolean evaluating if the point belongs to the manifold.\n",
      "        \"\"\"\n",
      "        point_type = self.default_point_type\n",
      "\n",
      "        if point_type == \"vector\":\n",
      "            intrinsic = self.metric.is_intrinsic(point)\n",
      "            belongs = self._iterate_over_manifolds(\n",
      "                \"belongs\", {\"point\": point, \"atol\": atol}, intrinsic\n",
      "            )\n",
      "            belongs = gs.stack(belongs, axis=-1)\n",
      "\n",
      "        else:\n",
      "            belongs = gs.stack(\n",
      "                [\n",
      "                    space.belongs(point[..., i, :], atol)\n",
      "                    for i, space in enumerate(self.manifolds)\n",
      "                ],\n",
      "                axis=-1,\n",
      "            )\n",
      "\n",
      "        belongs = gs.all(belongs, axis=-1)\n",
      "        return belongs\n",
      "\n",
      "    def regularize(self, point):\n",
      "        \"\"\"Regularize the point into the manifold's canonical representation.\n",
      "\n",
      "        Parameters\n",
      "        ----------\n",
      "        point : array-like, shape=[..., {dim, [n_manifolds, dim_each]}]\n",
      "            Point to be regularized.\n",
      "        point_type : str, {'vector', 'matrix'}\n",
      "            Representation of point.\n",
      "            Optional, default: None.\n",
      "\n",
      "        Returns\n",
      "        -------\n",
      "        regularized_point : array-like,\n",
      "            shape=[..., {dim, [n_manifolds, dim_each]}]\n",
      "            Point in the manifold's canonical representation.\n",
      "        \"\"\"\n",
      "        point_type = self.default_point_type\n",
      "\n",
      "        if point_type == \"vector\":\n",
      "            intrinsic = self.metric.is_intrinsic(point)\n",
      "            regularized_point = self._iterate_over_manifolds(\n",
      "                \"regularize\", {\"point\": point}, intrinsic\n",
      "            )\n",
      "            regularized_point = gs.concatenate(regularized_point, axis=-1)\n",
      "        elif point_type == \"matrix\":\n",
      "            regularized_point = [\n",
      "                manifold_i.regularize(point[..., i, :])\n",
      "                for i, manifold_i in enumerate(self.manifolds)\n",
      "            ]\n",
      "            regularized_point = gs.stack(regularized_point, axis=1)\n",
      "        return regularized_point\n",
      "\n",
      "    def random_point(self, n_samples=1, bound=1.0):\n",
      "        \"\"\"Sample in the product space from the uniform distribution.\n",
      "\n",
      "        Parameters\n",
      "        ----------\n",
      "        n_samples : int, optional\n",
      "            Number of samples.\n",
      "        bound : float\n",
      "            Bound of the interval in which to sample for non compact manifolds.\n",
      "            Optional, default: 1.\n",
      "\n",
      "        Returns\n",
      "        -------\n",
      "        samples : array-like, shape=[..., {dim, [n_manifolds, dim_each]}]\n",
      "            Points sampled on the hypersphere.\n",
      "        \"\"\"\n",
      "        point_type = self.default_point_type\n",
      "        geomstats.errors.check_parameter_accepted_values(\n",
      "            point_type, \"point_type\", [\"vector\", \"matrix\"]\n",
      "        )\n",
      "\n",
      "        if point_type == \"vector\":\n",
      "            data = self.manifolds[0].random_point(n_samples, bound)\n",
      "            if len(self.manifolds) > 1:\n",
      "                for space in self.manifolds[1:]:\n",
      "                    samples = space.random_point(n_samples, bound)\n",
      "                    data = gs.concatenate([data, samples], axis=-1)\n",
      "            return data\n",
      "\n",
      "        point = [space.random_point(n_samples, bound) for space in self.manifolds]\n",
      "        samples = gs.stack(point, axis=-2)\n",
      "        return samples\n",
      "\n",
      "    def projection(self, point):\n",
      "        \"\"\"Project a point in product embedding manifold on each manifold.\n",
      "\n",
      "        Parameters\n",
      "        ----------\n",
      "        point : array-like, shape=[..., {dim, [n_manifolds, dim_each]}]\n",
      "            Point in embedding manifold.\n",
      "\n",
      "        Returns\n",
      "        -------\n",
      "        projected : array-like, shape=[..., {dim, [n_manifolds, dim_each]}]\n",
      "            Projected point.\n",
      "        \"\"\"\n",
      "        point_type = self.default_point_type\n",
      "        geomstats.errors.check_parameter_accepted_values(\n",
      "            point_type, \"point_type\", [\"vector\", \"matrix\"]\n",
      "        )\n",
      "\n",
      "        if point_type == \"vector\":\n",
      "            intrinsic = self.metric.is_intrinsic(point)\n",
      "            projected_point = self._iterate_over_manifolds(\n",
      "                \"projection\", {\"point\": point}, intrinsic\n",
      "            )\n",
      "            projected_point = gs.concatenate(projected_point, axis=-1)\n",
      "        elif point_type == \"matrix\":\n",
      "            projected_point = [\n",
      "                manifold_i.projection(point[..., i, :])\n",
      "                for i, manifold_i in enumerate(self.manifolds)\n",
      "            ]\n",
      "            projected_point = gs.stack(projected_point, axis=-2)\n",
      "        return projected_point\n",
      "\n",
      "    def to_tangent(self, vector, base_point):\n",
      "        \"\"\"Project a vector to a tangent space of the manifold.\n",
      "\n",
      "        The tangent space of the product manifold is the direct sum of\n",
      "        tangent spaces.\n",
      "\n",
      "        Parameters\n",
      "        ----------\n",
      "        vector : array-like, shape=[..., dim]\n",
      "            Vector.\n",
      "        base_point : array-like, shape=[..., dim]\n",
      "            Point on the manifold.\n",
      "\n",
      "        Returns\n",
      "        -------\n",
      "        tangent_vec : array-like, shape=[..., dim]\n",
      "            Tangent vector at base point.\n",
      "        \"\"\"\n",
      "        point_type = self.default_point_type\n",
      "        geomstats.errors.check_parameter_accepted_values(\n",
      "            point_type, \"point_type\", [\"vector\", \"matrix\"]\n",
      "        )\n",
      "\n",
      "        if point_type == \"vector\":\n",
      "            intrinsic = self.metric.is_intrinsic(base_point)\n",
      "            tangent_vec = self._iterate_over_manifolds(\n",
      "                \"to_tangent\", {\"base_point\": base_point, \"vector\": vector}, intrinsic\n",
      "            )\n",
      "            tangent_vec = gs.concatenate(tangent_vec, axis=-1)\n",
      "        elif point_type == \"matrix\":\n",
      "            tangent_vec = [\n",
      "                manifold_i.to_tangent(vector[..., i, :], base_point[..., i, :])\n",
      "                for i, manifold_i in enumerate(self.manifolds)\n",
      "            ]\n",
      "            tangent_vec = gs.stack(tangent_vec, axis=-2)\n",
      "        return tangent_vec\n",
      "\n",
      "    def is_tangent(self, vector, base_point, atol=gs.atol):\n",
      "        \"\"\"Check whether the vector is tangent at base_point.\n",
      "\n",
      "        The tangent space of the product manifold is the direct sum of\n",
      "        tangent spaces.\n",
      "\n",
      "        Parameters\n",
      "        ----------\n",
      "        vector : array-like, shape=[..., dim]\n",
      "            Vector.\n",
      "        base_point : array-like, shape=[..., dim]\n",
      "            Point on the manifold.\n",
      "        atol : float\n",
      "            Absolute tolerance.\n",
      "            Optional, default: backend atol.\n",
      "\n",
      "        Returns\n",
      "        -------\n",
      "        is_tangent : bool\n",
      "            Boolean denoting if vector is a tangent vector at the base point.\n",
      "        \"\"\"\n",
      "        point_type = self.default_point_type\n",
      "        geomstats.errors.check_parameter_accepted_values(\n",
      "            point_type, \"point_type\", [\"vector\", \"matrix\"]\n",
      "        )\n",
      "\n",
      "        if point_type == \"vector\":\n",
      "            intrinsic = self.metric.is_intrinsic(base_point)\n",
      "            is_tangent = self._iterate_over_manifolds(\n",
      "                \"is_tangent\",\n",
      "                {\"base_point\": base_point, \"vector\": vector, \"atol\": atol},\n",
      "                intrinsic,\n",
      "            )\n",
      "            is_tangent = gs.stack(is_tangent, axis=-1)\n",
      "\n",
      "        else:\n",
      "            is_tangent = gs.stack(\n",
      "                [\n",
      "                    space.is_tangent(\n",
      "                        vector[..., i, :], base_point[..., i, :], atol=atol\n",
      "                    )\n",
      "                    for i, space in enumerate(self.manifolds)\n",
      "                ],\n",
      "                axis=-1,\n",
      "            )\n",
      "\n",
      "        is_tangent = gs.all(is_tangent, axis=-1)\n",
      "        return is_tangent\n"
     ]
    }
   ],
   "source": [
    "import inspect\n",
    "\n",
    "from geomstats.geometry.product_manifold import ProductManifold\n",
    "\n",
    "for line in inspect.getsourcelines(ProductManifold)[0]:\n",
    "    line = line.replace('\\n','')\n",
    "    print(line)"
   ]
  },
  {
   "cell_type": "markdown",
   "id": "b8bcd7fc",
   "metadata": {
    "slideshow": {
     "slide_type": "slide"
    }
   },
   "source": [
    "# 4. What is a Lie group?"
   ]
  },
  {
   "cell_type": "markdown",
   "id": "e9c6de26",
   "metadata": {},
   "source": [
    "$\\textbf{Intuition:}$ Lie groups are abstract mathematical structures, that become tangible when we consider the way they can transform raw data. In particular, we will be interested on how Lie groups can transform shape data.\n",
    "\n",
    "$\\color{#047C91}{\\text{Example}}$: The Lie group of 3D rotations, denoted $SO(3)$, can act on molecular volumes by effectively rotating these volumes in 3D space. This specific transformation does not change the actual shape of the molecule."
   ]
  },
  {
   "cell_type": "markdown",
   "id": "36720972",
   "metadata": {
    "slideshow": {
     "slide_type": "slide"
    }
   },
   "source": [
    "## 4.1 Precise Mathematical Definition\n",
    "\n",
    "In mathematics, a Lie group is a group that is also a differentiable manifold.\n",
    "\n",
    "$\\color{#EF5645}{\\text{Definition}}$: A group is a set $G$ together with a binary operation on $G$, here denoted \".\", that combines any two elements $a$ and $b$ to form an element of $G$, denoted $a \\cdot b$, such that the following three requirements, known as group axioms, are satisfied:\n",
    "- Associativity: For all $a, b, c$ in $G$, one has $(a \\cdot b) \\cdot c=a \\cdot(b \\cdot c)$.\n",
    "- Identity element: There exists an element $e$ in $G$ such that, for every $a$ in $G$, one has $e \\cdot a=a$ and $a \\cdot e=a$. Such an element is unique. It is called the identity element of the group.\n",
    "- Inverse element: For each $a$ in $G$, there exists an element $b$ in $G$ such that $a \\cdot b=e$ and $b \\cdot a=e$, where $e$ is the identity element. For each $a$, the element $b$ is unique (see below); it is called the inverse of $a$ and is commonly denoted $a^{-1}$."
   ]
  },
  {
   "cell_type": "markdown",
   "id": "689d45ce",
   "metadata": {
    "slideshow": {
     "slide_type": "slide"
    }
   },
   "source": [
    "## 4.2 Imprecise \"layman's terms\" Definition:\n",
    "\n",
    "TBD."
   ]
  },
  {
   "cell_type": "markdown",
   "id": "a7cf4a76",
   "metadata": {
    "slideshow": {
     "slide_type": "slide"
    }
   },
   "source": [
    "## 4.3 Rotation Example:\n",
    "\n",
    "TBD."
   ]
  },
  {
   "cell_type": "markdown",
   "id": "fbcfce6d",
   "metadata": {
    "slideshow": {
     "slide_type": "slide"
    }
   },
   "source": [
    "## Lie Algebra\n",
    "\n",
    "The Lie algebra of a Lie group is its tangent space at identity $T_eG$.\n",
    "\n",
    "It represents infinitesimal transformations."
   ]
  },
  {
   "cell_type": "markdown",
   "id": "fbfb5966",
   "metadata": {
    "slideshow": {
     "slide_type": "slide"
    }
   },
   "source": [
    "## Show that the Rotation is a group using Geomstats.\n",
    "\n",
    "TBD."
   ]
  },
  {
   "cell_type": "markdown",
   "id": "408517e3",
   "metadata": {
    "slideshow": {
     "slide_type": "slide"
    }
   },
   "source": [
    "# 5. Why do we care about Lie groups?"
   ]
  },
  {
   "cell_type": "markdown",
   "id": "c0dfb239",
   "metadata": {},
   "source": [
    "$\\textbf{Lie groups are important because transformations in nature \"naturally form Lie groups\"}$.\n",
    "\n",
    "- Lie groups can express transformations.\n",
    "- Lie groups can express symmetries.\n",
    "- Even abstract symmetries, like symmetries in particle physics."
   ]
  },
  {
   "cell_type": "markdown",
   "id": "fa077a6c",
   "metadata": {
    "slideshow": {
     "slide_type": "slide"
    }
   },
   "source": [
    "# 6. How can we implement Lie groups?\n",
    "\n",
    "Example of some of the methods that the `LieGroup` class implements are:\n",
    "\n",
    "1) get_identity: a method to get the identity element of the LieGroup.\n",
    "2) compose: composing two elements, i.e. using the binary operation.\n",
    "3) inverse: inverting an element."
   ]
  },
  {
   "cell_type": "markdown",
   "id": "4e1fcf0d",
   "metadata": {
    "slideshow": {
     "slide_type": "slide"
    }
   },
   "source": [
    "You can run the code below to see the contents of the `LieGroup` class, or go to [the source code](https://github.com/geomstats/geomstats/blob/8701fa58e8bb18b4df1e3bbffa019ad2b10b182f/geomstats/geometry/lie_group.py#L267)."
   ]
  },
  {
   "cell_type": "code",
   "execution_count": null,
   "id": "84460270",
   "metadata": {},
   "outputs": [],
   "source": [
    "import inspect\n",
    "from geomstats.geometry.lie_group import LieGroup\n",
    "for line in inspect.getsourcelines(LieGroup)[0]:\n",
    "    line = line.replace('\\n',''); print(line)"
   ]
  },
  {
   "cell_type": "markdown",
   "id": "dcc300b2",
   "metadata": {
    "slideshow": {
     "slide_type": "slide"
    }
   },
   "source": [
    "# 7. Lie group actions\n",
    "\n",
    "Lie groups are object that become tangible when we consider the way they act on data.\n",
    "\n",
    "Def of Lie group action.\n",
    "\n"
   ]
  },
  {
   "cell_type": "markdown",
   "id": "a72f0df3",
   "metadata": {
    "slideshow": {
     "slide_type": "slide"
    }
   },
   "source": [
    "## 7.1 Orbit and Stabilizer"
   ]
  },
  {
   "cell_type": "markdown",
   "id": "83fe3ac3",
   "metadata": {
    "slideshow": {
     "slide_type": "slide"
    }
   },
   "source": [
    "# Outline\n",
    "\n",
    "\n",
    "1. What is a manifold? What are tangent spaces?\n",
    "2. Why do we care about manifolds?\n",
    "3. How can we implement manifolds?\n",
    "4. What is a Lie group?\n",
    "5. Why do we care about Lie groups?\n",
    "6. How can we implement Lie groups?\n",
    "7. Lie group actions and quotient spaces\n",
    "\n",
    "Questions?"
   ]
  },
  {
   "cell_type": "code",
   "execution_count": null,
   "id": "28c6ab98",
   "metadata": {},
   "outputs": [],
   "source": []
  }
 ],
 "metadata": {
  "celltoolbar": "Slideshow",
  "kernelspec": {
   "display_name": "Python 3 (ipykernel)",
   "language": "python",
   "name": "python3"
  },
  "language_info": {
   "codemirror_mode": {
    "name": "ipython",
    "version": 3
   },
   "file_extension": ".py",
   "mimetype": "text/x-python",
   "name": "python",
   "nbconvert_exporter": "python",
   "pygments_lexer": "ipython3",
   "version": "3.9.9"
  }
 },
 "nbformat": 4,
 "nbformat_minor": 5
}
